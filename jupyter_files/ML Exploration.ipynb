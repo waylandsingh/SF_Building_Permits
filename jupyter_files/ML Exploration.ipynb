{
 "cells": [
  {
   "cell_type": "code",
   "execution_count": 2,
   "metadata": {},
   "outputs": [],
   "source": [
    "import numpy as np\n",
    "import pandas as pd\n",
    "from sklearn.linear_model import LinearRegression, Ridge\n",
    "from sklearn.preprocessing import StandardScaler\n",
    "from sklearn.pipeline import Pipeline\n",
    "from sklearn.model_selection import train_test_split, GridSearchCV\n",
    "from sklearn.ensemble import RandomForestRegressor\n",
    "import matplotlib.pyplot as plt\n",
    "import seaborn as sns\n",
    "sns.set()\n",
    "pd.set_option(\"display.max_columns\",None)"
   ]
  },
  {
   "cell_type": "code",
   "execution_count": 3,
   "metadata": {},
   "outputs": [],
   "source": [
    "path_pickle = './Pickled/ml_ready.pkl'\n",
    "# permit_assess.to_pickle(path_pickle)\n",
    "ml_ready = pd.read_pickle(path_pickle)"
   ]
  },
  {
   "cell_type": "code",
   "execution_count": 4,
   "metadata": {
    "scrolled": true
   },
   "outputs": [],
   "source": [
    "numeric_cols = ['SingleLine','Estimated Cost', 'Revised Cost', 'Existing Units', 'Proposed Units', \n",
    "                'Number of Bathrooms','Number of Bedrooms','Number of Rooms','Number of Stories',\n",
    "                'Number of Units', 'Lot Depth', 'Lot Frontage', 'Property Area', 'Basement Area', \n",
    "                'Percent of Ownership', 'Misc Exemption Value', 'Homeowner Exemption Value',\n",
    "                'Assessed Fixtures Value', 'Assessed Improvement Value', 'Assessed Land Value',\n",
    "                'Assessed Personal Property Value', 'delta_stories', 'delta_units', 'approve_days'    \n",
    "]"
   ]
  },
  {
   "cell_type": "code",
   "execution_count": 5,
   "metadata": {},
   "outputs": [],
   "source": [
    "features_labels = ml_ready[numeric_cols].dropna()\n",
    "features = features_labels[numeric_cols[1:-1]]\n",
    "labels = features_labels[numeric_cols[-1]]"
   ]
  },
  {
   "cell_type": "code",
   "execution_count": 6,
   "metadata": {},
   "outputs": [
    {
     "data": {
      "text/plain": [
       "array(['Oceanview/Merced/Ingleside', 'Russian Hill',\n",
       "       'Bayview Hunters Point', 'Excelsior', 'Inner Sunset', 'Mission',\n",
       "       'Outer Mission', 'Sunset/Parkside', 'Haight Ashbury', 'Glen Park',\n",
       "       'West of Twin Peaks', 'Potrero Hill', 'Portola', 'Pacific Heights',\n",
       "       'Inner Richmond', 'Outer Richmond', 'Bernal Heights',\n",
       "       'Castro/Upper Market', 'North Beach', 'Noe Valley',\n",
       "       'Visitacion Valley', 'Twin Peaks', 'Marina', 'Seacliff',\n",
       "       'Lone Mountain/USF', 'Presidio Heights', 'Hayes Valley',\n",
       "       'Nob Hill', 'Presidio', 'Western Addition', nan, 'McLaren Park',\n",
       "       'South of Market', 'Japantown', 'Lakeshore', 'Chinatown',\n",
       "       'Financial District/South Beach', 'Lincoln Park', 'Tenderloin',\n",
       "       'Mission Bay'], dtype=object)"
      ]
     },
     "execution_count": 6,
     "metadata": {},
     "output_type": "execute_result"
    }
   ],
   "source": [
    "(ml_ready['Neighborhoods - Analysis Boundaries'].unique())"
   ]
  },
  {
   "cell_type": "code",
   "execution_count": 7,
   "metadata": {},
   "outputs": [
    {
     "data": {
      "text/plain": [
       "(5821, 68)"
      ]
     },
     "execution_count": 7,
     "metadata": {},
     "output_type": "execute_result"
    }
   ],
   "source": [
    "ml_ready[ml_ready['approve_days']>180].shape"
   ]
  },
  {
   "cell_type": "code",
   "execution_count": 12,
   "metadata": {},
   "outputs": [
    {
     "data": {
      "image/png": "[encoded data removed]",
      "text/plain": [
       "<Figure size 720x360 with 1 Axes>"
      ]
     },
     "metadata": {},
     "output_type": "display_data"
    }
   ],
   "source": [
    "non_zero = ml_ready[ml_ready['approve_days']>0]\n",
    "plt.figure(figsize=(10,5))\n",
    "ax = non_zero['approve_days'].hist(\n",
    "    bins=[x*10 for x in range(30)]\n",
    ")\n",
    "ax.set_title('Days for Permit Approval (2006-2018)')\n",
    "ax.set(xlabel='Days', ylabel='# Permits')\n",
    "figure = ax.get_figure()\n",
    "figure.savefig(\"Approval_Distributions.png\")"
   ]
  },
  {
   "cell_type": "code",
   "execution_count": 390,
   "metadata": {},
   "outputs": [
    {
     "data": {
      "text/plain": [
       "<matplotlib.axes._subplots.AxesSubplot at 0x7fe8513f7910>"
      ]
     },
     "execution_count": 390,
     "metadata": {},
     "output_type": "execute_result"
    },
    {
     "data": {
      "image/png": "[encoded data removed]",
      "text/plain": [
       "<Figure size 720x576 with 1 Axes>"
      ]
     },
     "metadata": {
      "needs_background": "light"
     },
     "output_type": "display_data"
    }
   ],
   "source": [
    "plt.figure(figsize=(10,8))\n",
    "sns.violinplot(y='Estimated Cost', x = 'Permit Type Definition',data=ml_ready, color='orange')\n"
   ]
  },
  {
   "cell_type": "markdown",
   "metadata": {
    "heading_collapsed": true
   },
   "source": [
    "### With all data in the distribution of days for approval"
   ]
  },
  {
   "cell_type": "code",
   "execution_count": 8,
   "metadata": {
    "hidden": true
   },
   "outputs": [
    {
     "data": {
      "text/plain": [
       "(array([103473.,   4707.,   2506.,   1327.,   1019.,   1069.,    738.,\n",
       "           517.,    475.,    436.,    320.,    498.,    277.,    271.,\n",
       "           266.,    238.,    288.,    232.,    248.,    219.,    194.,\n",
       "           212.,    193.,    222.,    166.,    187.,    167.,    150.,\n",
       "           170.,    159.]),\n",
       " array([  0,  10,  20,  30,  40,  50,  60,  70,  80,  90, 100, 110, 120,\n",
       "        130, 140, 150, 160, 170, 180, 190, 200, 210, 220, 230, 240, 250,\n",
       "        260, 270, 280, 290, 300]),\n",
       " <a list of 30 Patch objects>)"
      ]
     },
     "execution_count": 8,
     "metadata": {},
     "output_type": "execute_result"
    },
    {
     "data": {
      "image/png": "[encoded data removed]",
      "text/plain": [
       "<Figure size 432x288 with 1 Axes>"
      ]
     },
     "metadata": {},
     "output_type": "display_data"
    }
   ],
   "source": [
    "plt.hist(ml_ready['approve_days'], bins=[x*10 for x in range(0,31)])\n",
    "# sns.distplot(ml_ready['approve_days'],bins=[x for x in range(0,31)])"
   ]
  },
  {
   "cell_type": "code",
   "execution_count": 9,
   "metadata": {
    "hidden": true
   },
   "outputs": [
    {
     "data": {
      "text/plain": [
       "6.1145956798585805"
      ]
     },
     "execution_count": 9,
     "metadata": {},
     "output_type": "execute_result"
    }
   ],
   "source": [
    "# skew looks quite high from the plot, and the check below.\n",
    "ml_ready['approve_days'].skew()"
   ]
  },
  {
   "cell_type": "code",
   "execution_count": 10,
   "metadata": {
    "hidden": true
   },
   "outputs": [
    {
     "data": {
      "text/plain": [
       "(array([90546.,  4867.,  6480.,  5760.,  4132.,  3534.,  2915.,  3233.,\n",
       "         2193.,   842.]),\n",
       " array([0.        , 0.72841348, 1.45682696, 2.18524044, 2.91365392,\n",
       "        3.6420674 , 4.37048088, 5.09889436, 5.82730784, 6.55572133,\n",
       "        7.28413481]),\n",
       " <a list of 10 Patch objects>)"
      ]
     },
     "execution_count": 10,
     "metadata": {},
     "output_type": "execute_result"
    },
    {
     "data": {
      "image/png": "[encoded data removed]",
      "text/plain": [
       "<Figure size 432x288 with 1 Axes>"
      ]
     },
     "metadata": {},
     "output_type": "display_data"
    }
   ],
   "source": [
    "plt.hist(np.log(ml_ready['approve_days']+1))\n"
   ]
  },
  {
   "cell_type": "code",
   "execution_count": 11,
   "metadata": {
    "hidden": true,
    "scrolled": true
   },
   "outputs": [
    {
     "data": {
      "text/html": [
       "<div>\n",
       "<style scoped>\n",
       "    .dataframe tbody tr th:only-of-type {\n",
       "        vertical-align: middle;\n",
       "    }\n",
       "\n",
       "    .dataframe tbody tr th {\n",
       "        vertical-align: top;\n",
       "    }\n",
       "\n",
       "    .dataframe thead th {\n",
       "        text-align: right;\n",
       "    }\n",
       "</style>\n",
       "<table border=\"1\" class=\"dataframe\">\n",
       "  <thead>\n",
       "    <tr style=\"text-align: right;\">\n",
       "      <th></th>\n",
       "      <th>Permit Number</th>\n",
       "      <th>Permit Type</th>\n",
       "      <th>Permit Type Definition</th>\n",
       "      <th>Description</th>\n",
       "      <th>Current Status</th>\n",
       "      <th>Current Status Date</th>\n",
       "      <th>Filed Date</th>\n",
       "      <th>Issued Date</th>\n",
       "      <th>Completed Date</th>\n",
       "      <th>Number of Existing Stories</th>\n",
       "      <th>Number of Proposed Stories</th>\n",
       "      <th>Permit Expiration Date</th>\n",
       "      <th>Estimated Cost</th>\n",
       "      <th>Revised Cost</th>\n",
       "      <th>Existing Use</th>\n",
       "      <th>Existing Units</th>\n",
       "      <th>Proposed Use</th>\n",
       "      <th>Proposed Units</th>\n",
       "      <th>Plansets</th>\n",
       "      <th>Existing Construction Type</th>\n",
       "      <th>Existing Construction Type Description</th>\n",
       "      <th>Proposed Construction Type</th>\n",
       "      <th>Proposed Construction Type Description</th>\n",
       "      <th>Supervisor District</th>\n",
       "      <th>Neighborhoods - Analysis Boundaries</th>\n",
       "      <th>Zipcode</th>\n",
       "      <th>Location</th>\n",
       "      <th>Record ID</th>\n",
       "      <th>SF Find Neighborhoods</th>\n",
       "      <th>Current Police Districts</th>\n",
       "      <th>Current Supervisor Districts</th>\n",
       "      <th>Analysis Neighborhoods</th>\n",
       "      <th>approval_in_days</th>\n",
       "      <th>Address</th>\n",
       "      <th>SingleLine</th>\n",
       "      <th>Year</th>\n",
       "      <th>assess_id</th>\n",
       "      <th>Volume Number</th>\n",
       "      <th>Use Code</th>\n",
       "      <th>Use Definition</th>\n",
       "      <th>Property Class Code</th>\n",
       "      <th>Property Class Code Definition</th>\n",
       "      <th>Number of Bathrooms</th>\n",
       "      <th>Number of Bedrooms</th>\n",
       "      <th>Number of Rooms</th>\n",
       "      <th>Number of Stories</th>\n",
       "      <th>Number of Units</th>\n",
       "      <th>Zoning Code</th>\n",
       "      <th>Construction Type</th>\n",
       "      <th>Lot Depth</th>\n",
       "      <th>Lot Frontage</th>\n",
       "      <th>Property Area</th>\n",
       "      <th>Basement Area</th>\n",
       "      <th>Lot Area</th>\n",
       "      <th>Tax Rate Area Code</th>\n",
       "      <th>Percent of Ownership</th>\n",
       "      <th>Misc Exemption Value</th>\n",
       "      <th>Homeowner Exemption Value</th>\n",
       "      <th>Assessed Fixtures Value</th>\n",
       "      <th>Assessed Improvement Value</th>\n",
       "      <th>Assessed Land Value</th>\n",
       "      <th>Assessed Personal Property Value</th>\n",
       "      <th>Assessor Neighborhood District</th>\n",
       "      <th>Assessor Neighborhood Code</th>\n",
       "      <th>Assessor Neighborhood</th>\n",
       "      <th>delta_stories</th>\n",
       "      <th>delta_units</th>\n",
       "      <th>approve_days</th>\n",
       "    </tr>\n",
       "  </thead>\n",
       "  <tbody>\n",
       "    <tr>\n",
       "      <th>0</th>\n",
       "      <td>object</td>\n",
       "      <td>int64</td>\n",
       "      <td>object</td>\n",
       "      <td>object</td>\n",
       "      <td>object</td>\n",
       "      <td>object</td>\n",
       "      <td>datetime64[ns]</td>\n",
       "      <td>datetime64[ns]</td>\n",
       "      <td>object</td>\n",
       "      <td>float64</td>\n",
       "      <td>float64</td>\n",
       "      <td>object</td>\n",
       "      <td>float64</td>\n",
       "      <td>float64</td>\n",
       "      <td>object</td>\n",
       "      <td>float64</td>\n",
       "      <td>object</td>\n",
       "      <td>float64</td>\n",
       "      <td>float64</td>\n",
       "      <td>float64</td>\n",
       "      <td>object</td>\n",
       "      <td>object</td>\n",
       "      <td>object</td>\n",
       "      <td>float64</td>\n",
       "      <td>object</td>\n",
       "      <td>float64</td>\n",
       "      <td>object</td>\n",
       "      <td>int64</td>\n",
       "      <td>float64</td>\n",
       "      <td>float64</td>\n",
       "      <td>float64</td>\n",
       "      <td>float64</td>\n",
       "      <td>object</td>\n",
       "      <td>object</td>\n",
       "      <td>object</td>\n",
       "      <td>int64</td>\n",
       "      <td>int64</td>\n",
       "      <td>int64</td>\n",
       "      <td>object</td>\n",
       "      <td>object</td>\n",
       "      <td>object</td>\n",
       "      <td>object</td>\n",
       "      <td>float64</td>\n",
       "      <td>int64</td>\n",
       "      <td>int64</td>\n",
       "      <td>int64</td>\n",
       "      <td>int64</td>\n",
       "      <td>object</td>\n",
       "      <td>object</td>\n",
       "      <td>float64</td>\n",
       "      <td>float64</td>\n",
       "      <td>int64</td>\n",
       "      <td>int64</td>\n",
       "      <td>float64</td>\n",
       "      <td>float64</td>\n",
       "      <td>float64</td>\n",
       "      <td>int64</td>\n",
       "      <td>int64</td>\n",
       "      <td>int64</td>\n",
       "      <td>int64</td>\n",
       "      <td>int64</td>\n",
       "      <td>int64</td>\n",
       "      <td>float64</td>\n",
       "      <td>object</td>\n",
       "      <td>object</td>\n",
       "      <td>float64</td>\n",
       "      <td>float64</td>\n",
       "      <td>int64</td>\n",
       "    </tr>\n",
       "  </tbody>\n",
       "</table>\n",
       "</div>"
      ],
      "text/plain": [
       "  Permit Number Permit Type Permit Type Definition Description Current Status  \\\n",
       "0        object       int64                 object      object         object   \n",
       "\n",
       "  Current Status Date      Filed Date     Issued Date Completed Date  \\\n",
       "0              object  datetime64[ns]  datetime64[ns]         object   \n",
       "\n",
       "  Number of Existing Stories Number of Proposed Stories  \\\n",
       "0                    float64                    float64   \n",
       "\n",
       "  Permit Expiration Date Estimated Cost Revised Cost Existing Use  \\\n",
       "0                 object        float64      float64       object   \n",
       "\n",
       "  Existing Units Proposed Use Proposed Units Plansets  \\\n",
       "0        float64       object        float64  float64   \n",
       "\n",
       "  Existing Construction Type Existing Construction Type Description  \\\n",
       "0                    float64                                 object   \n",
       "\n",
       "  Proposed Construction Type Proposed Construction Type Description  \\\n",
       "0                     object                                 object   \n",
       "\n",
       "  Supervisor District Neighborhoods - Analysis Boundaries  Zipcode Location  \\\n",
       "0             float64                              object  float64   object   \n",
       "\n",
       "  Record ID SF Find Neighborhoods Current Police Districts  \\\n",
       "0     int64               float64                  float64   \n",
       "\n",
       "  Current Supervisor Districts Analysis Neighborhoods approval_in_days  \\\n",
       "0                      float64                float64           object   \n",
       "\n",
       "  Address SingleLine   Year assess_id Volume Number Use Code Use Definition  \\\n",
       "0  object     object  int64     int64         int64   object         object   \n",
       "\n",
       "  Property Class Code Property Class Code Definition Number of Bathrooms  \\\n",
       "0              object                         object             float64   \n",
       "\n",
       "  Number of Bedrooms Number of Rooms Number of Stories Number of Units  \\\n",
       "0              int64           int64             int64           int64   \n",
       "\n",
       "  Zoning Code Construction Type Lot Depth Lot Frontage Property Area  \\\n",
       "0      object            object   float64      float64         int64   \n",
       "\n",
       "  Basement Area Lot Area Tax Rate Area Code Percent of Ownership  \\\n",
       "0         int64  float64            float64              float64   \n",
       "\n",
       "  Misc Exemption Value Homeowner Exemption Value Assessed Fixtures Value  \\\n",
       "0                int64                     int64                   int64   \n",
       "\n",
       "  Assessed Improvement Value Assessed Land Value  \\\n",
       "0                      int64               int64   \n",
       "\n",
       "  Assessed Personal Property Value Assessor Neighborhood District  \\\n",
       "0                            int64                        float64   \n",
       "\n",
       "  Assessor Neighborhood Code Assessor Neighborhood delta_stories delta_units  \\\n",
       "0                     object                object       float64     float64   \n",
       "\n",
       "  approve_days  \n",
       "0        int64  "
      ]
     },
     "execution_count": 11,
     "metadata": {},
     "output_type": "execute_result"
    }
   ],
   "source": [
    "\n",
    "ml_ready.dtypes.to_frame().transpose()"
   ]
  },
  {
   "cell_type": "markdown",
   "metadata": {
    "heading_collapsed": true
   },
   "source": [
    "### LinearRegression"
   ]
  },
  {
   "cell_type": "code",
   "execution_count": 311,
   "metadata": {
    "hidden": true
   },
   "outputs": [
    {
     "data": {
      "image/png": "[encoded data removed]",
      "text/plain": [
       "<Figure size 720x720 with 25 Axes>"
      ]
     },
     "metadata": {
      "needs_background": "light"
     },
     "output_type": "display_data"
    }
   ],
   "source": [
    "pd.plotting.scatter_matrix(features[numeric_cols[1:6]], figsize=(10,10))\n",
    "plt.show()"
   ]
  },
  {
   "cell_type": "code",
   "execution_count": 10,
   "metadata": {
    "hidden": true,
    "scrolled": true
   },
   "outputs": [
    {
     "data": {
      "text/plain": [
       "Estimated Cost                      0\n",
       "Revised Cost                        0\n",
       "Existing Units                      0\n",
       "Proposed Units                      0\n",
       "Number of Bathrooms                 0\n",
       "Number of Bedrooms                  0\n",
       "Number of Rooms                     0\n",
       "Number of Stories                   0\n",
       "Number of Units                     0\n",
       "Lot Depth                           0\n",
       "Lot Frontage                        0\n",
       "Property Area                       0\n",
       "Basement Area                       0\n",
       "Percent of Ownership                0\n",
       "Misc Exemption Value                0\n",
       "Homeowner Exemption Value           0\n",
       "Assessed Fixtures Value             0\n",
       "Assessed Improvement Value          0\n",
       "Assessed Land Value                 0\n",
       "Assessed Personal Property Value    0\n",
       "delta_stories                       0\n",
       "delta_units                         0\n",
       "dtype: int64"
      ]
     },
     "execution_count": 10,
     "metadata": {},
     "output_type": "execute_result"
    }
   ],
   "source": [
    "features.isna().sum()"
   ]
  },
  {
   "cell_type": "code",
   "execution_count": 11,
   "metadata": {
    "hidden": true
   },
   "outputs": [
    {
     "data": {
      "text/plain": [
       "True"
      ]
     },
     "execution_count": 11,
     "metadata": {},
     "output_type": "execute_result"
    }
   ],
   "source": [
    "labels.shape[0] == features.shape[0]"
   ]
  },
  {
   "cell_type": "code",
   "execution_count": 12,
   "metadata": {
    "hidden": true,
    "scrolled": true
   },
   "outputs": [],
   "source": [
    "X_train, X_test, y_train, y_test = train_test_split(\n",
    "    features, labels, test_size=0.33, random_state=41)"
   ]
  },
  {
   "cell_type": "code",
   "execution_count": 13,
   "metadata": {
    "hidden": true,
    "scrolled": true
   },
   "outputs": [
    {
     "data": {
      "text/plain": [
       "Pipeline(memory=None,\n",
       "         steps=[('scale',\n",
       "                 StandardScaler(copy=True, with_mean=True, with_std=True)),\n",
       "                ('lin',\n",
       "                 LinearRegression(copy_X=True, fit_intercept=True, n_jobs=None,\n",
       "                                  normalize=False))],\n",
       "         verbose=False)"
      ]
     },
     "execution_count": 13,
     "metadata": {},
     "output_type": "execute_result"
    }
   ],
   "source": [
    "lr_pipe = Pipeline([\n",
    "    ('scale', StandardScaler()),\n",
    "    ('lin', LinearRegression())\n",
    "])\n",
    "lr_pipe.fit(X_train, y_train)"
   ]
  },
  {
   "cell_type": "code",
   "execution_count": 14,
   "metadata": {
    "hidden": true,
    "scrolled": true
   },
   "outputs": [
    {
     "data": {
      "text/plain": [
       "(array([4.000e+00, 5.800e+01, 1.800e+01, 8.500e+01, 2.200e+01, 1.800e+01,\n",
       "        6.300e+01, 2.200e+01, 2.200e+01, 1.900e+01, 3.500e+01, 2.500e+01,\n",
       "        5.600e+01, 7.300e+01, 1.470e+02, 2.400e+02, 4.350e+02, 8.020e+02,\n",
       "        3.090e+03, 3.622e+03, 4.750e+03, 4.546e+03, 3.767e+03, 2.995e+03,\n",
       "        2.226e+03, 1.658e+03, 1.293e+03, 9.160e+02, 7.220e+02, 6.050e+02]),\n",
       " array([ 0,  1,  2,  3,  4,  5,  6,  7,  8,  9, 10, 11, 12, 13, 14, 15, 16,\n",
       "        17, 18, 19, 20, 21, 22, 23, 24, 25, 26, 27, 28, 29, 30]),\n",
       " <a list of 30 Patch objects>)"
      ]
     },
     "execution_count": 14,
     "metadata": {},
     "output_type": "execute_result"
    },
    {
     "data": {
      "image/png": "[encoded data removed]",
      "text/plain": [
       "<Figure size 432x288 with 1 Axes>"
      ]
     },
     "metadata": {
      "needs_background": "light"
     },
     "output_type": "display_data"
    }
   ],
   "source": [
    "plt.hist((lr_pipe.predict(X_test)), bins=[x*1 for x in range(0,31)])"
   ]
  },
  {
   "cell_type": "code",
   "execution_count": 15,
   "metadata": {
    "hidden": true
   },
   "outputs": [],
   "source": [
    "# looks like just predicting the mean so far."
   ]
  },
  {
   "cell_type": "code",
   "execution_count": 16,
   "metadata": {
    "hidden": true
   },
   "outputs": [
    {
     "data": {
      "text/plain": [
       "<matplotlib.axes._subplots.AxesSubplot at 0x7fe8ab1bbd50>"
      ]
     },
     "execution_count": 16,
     "metadata": {},
     "output_type": "execute_result"
    },
    {
     "data": {
      "image/png": "[encoded data removed]",
      "text/plain": [
       "<Figure size 432x288 with 1 Axes>"
      ]
     },
     "metadata": {
      "needs_background": "light"
     },
     "output_type": "display_data"
    }
   ],
   "source": [
    "#plot the residuals?\n",
    "resids = lr_pipe.predict(X_test) - y_test\n",
    "sns.distplot(resids)"
   ]
  },
  {
   "cell_type": "code",
   "execution_count": 17,
   "metadata": {
    "hidden": true
   },
   "outputs": [
    {
     "data": {
      "text/plain": [
       "0.12642419920925918"
      ]
     },
     "execution_count": 17,
     "metadata": {},
     "output_type": "execute_result"
    }
   ],
   "source": [
    "lr_pipe.score(X_train, y_train)"
   ]
  },
  {
   "cell_type": "markdown",
   "metadata": {},
   "source": [
    "### Remove 0-day approvals ?"
   ]
  },
  {
   "cell_type": "code",
   "execution_count": 16,
   "metadata": {
    "scrolled": true
   },
   "outputs": [],
   "source": [
    "fl_nonzero = features_labels[features_labels['approve_days']!=0]\n",
    "features_nz = fl_nonzero[numeric_cols[1:-1]]\n",
    "labels_nz = fl_nonzero[numeric_cols[-1]]"
   ]
  },
  {
   "cell_type": "code",
   "execution_count": 17,
   "metadata": {},
   "outputs": [
    {
     "data": {
      "text/plain": [
       "80.57561671462653"
      ]
     },
     "execution_count": 17,
     "metadata": {},
     "output_type": "execute_result"
    }
   ],
   "source": [
    "np.mean(labels_nz)"
   ]
  },
  {
   "cell_type": "code",
   "execution_count": 64,
   "metadata": {},
   "outputs": [
    {
     "data": {
      "text/plain": [
       "(array([9587., 4045., 5471., 5117., 3961., 3440., 2893., 3205., 2141.,\n",
       "         799.]),\n",
       " array([0.        , 0.72834482, 1.45668965, 2.18503447, 2.91337929,\n",
       "        3.64172411, 4.37006894, 5.09841376, 5.82675858, 6.55510341,\n",
       "        7.28344823]),\n",
       " <a list of 10 Patch objects>)"
      ]
     },
     "execution_count": 64,
     "metadata": {},
     "output_type": "execute_result"
    },
    {
     "data": {
      "image/png": "[encoded data removed]",
      "text/plain": [
       "<Figure size 720x360 with 2 Axes>"
      ]
     },
     "metadata": {},
     "output_type": "display_data"
    }
   ],
   "source": [
    "#Rough distribution of the data before linear fit and predict and a log transformation\n",
    "labels_nz_logx = np.log(labels_nz)\n",
    "figure = plt.figure(figsize=(10,5))\n",
    "plt.subplot(1,2,1)\n",
    "plt.hist(labels_nz, bins=[x*10 for x in range(0,14)])\n",
    "plt.subplot(1,2,2)\n",
    "plt.hist(labels_nz_logx)"
   ]
  },
  {
   "cell_type": "markdown",
   "metadata": {},
   "source": [
    "#### DecisionTree / Random Forest"
   ]
  },
  {
   "cell_type": "code",
   "execution_count": 19,
   "metadata": {},
   "outputs": [],
   "source": [
    "X_train_nz, X_test_nz, y_train_nz, y_test_nz = train_test_split(\n",
    "    features_nz, labels_nz, test_size=0.33, random_state=41)"
   ]
  },
  {
   "cell_type": "code",
   "execution_count": 89,
   "metadata": {},
   "outputs": [],
   "source": []
  },
  {
   "cell_type": "code",
   "execution_count": 102,
   "metadata": {},
   "outputs": [
    {
     "data": {
      "text/plain": [
       "Pipeline(memory=None,\n",
       "         steps=[('scale',\n",
       "                 StandardScaler(copy=True, with_mean=True, with_std=True)),\n",
       "                ('dt',\n",
       "                 RandomForestRegressor(bootstrap=True, ccp_alpha=0.0,\n",
       "                                       criterion='mse', max_depth=10,\n",
       "                                       max_features='auto', max_leaf_nodes=None,\n",
       "                                       max_samples=None,\n",
       "                                       min_impurity_decrease=0.0,\n",
       "                                       min_impurity_split=None,\n",
       "                                       min_samples_leaf=100,\n",
       "                                       min_samples_split=600,\n",
       "                                       min_weight_fraction_leaf=0.0,\n",
       "                                       n_estimators=100, n_jobs=None,\n",
       "                                       oob_score=False, random_state=None,\n",
       "                                       verbose=0, warm_start=False))],\n",
       "         verbose=False)"
      ]
     },
     "execution_count": 102,
     "metadata": {},
     "output_type": "execute_result"
    }
   ],
   "source": [
    "rf_params = {'max_depth':10, 'min_samples_split':600, 'min_samples_leaf':100}\n",
    "\n",
    "lr_pipe_nz = Pipeline([\n",
    "    ('scale', StandardScaler()),\n",
    "#     ('lin', LinearRegression())\n",
    "    ('dt', RandomForestRegressor(**rf_params))\n",
    "])\n",
    "lr_pipe_nz.fit(X_train_nz, y_train_nz)"
   ]
  },
  {
   "cell_type": "code",
   "execution_count": 103,
   "metadata": {},
   "outputs": [
    {
     "data": {
      "text/plain": [
       "(array([8.186e+03, 2.387e+03, 8.440e+02, 7.020e+02, 7.450e+02, 8.300e+01,\n",
       "        1.200e+01, 3.500e+01, 7.000e+00, 4.170e+02]),\n",
       " array([  7.44204532,  54.76072795, 102.07941058, 149.39809321,\n",
       "        196.71677585, 244.03545848, 291.35414111, 338.67282374,\n",
       "        385.99150637, 433.310189  , 480.62887164]),\n",
       " <a list of 10 Patch objects>)"
      ]
     },
     "execution_count": 103,
     "metadata": {},
     "output_type": "execute_result"
    },
    {
     "data": {
      "image/png": "[encoded data removed]",
      "text/plain": [
       "<Figure size 432x288 with 1 Axes>"
      ]
     },
     "metadata": {},
     "output_type": "display_data"
    }
   ],
   "source": [
    "# Rough distribution of the predicted values. Not very close...\n",
    "plt.hist((lr_pipe_nz.predict(X_test_nz)))"
   ]
  },
  {
   "cell_type": "code",
   "execution_count": 104,
   "metadata": {},
   "outputs": [
    {
     "data": {
      "text/plain": [
       "0.3054331573305401"
      ]
     },
     "execution_count": 104,
     "metadata": {},
     "output_type": "execute_result"
    }
   ],
   "source": [
    "lr_pipe_nz.score(X_train_nz, y_train_nz)"
   ]
  },
  {
   "cell_type": "code",
   "execution_count": 105,
   "metadata": {},
   "outputs": [
    {
     "data": {
      "text/plain": [
       "0.2884416378346638"
      ]
     },
     "execution_count": 105,
     "metadata": {},
     "output_type": "execute_result"
    }
   ],
   "source": [
    "lr_pipe_nz.score(X_test_nz, y_test_nz)"
   ]
  },
  {
   "cell_type": "markdown",
   "metadata": {
    "heading_collapsed": true
   },
   "source": [
    "#### log transform the labels prior to fitting?"
   ]
  },
  {
   "cell_type": "code",
   "execution_count": 29,
   "metadata": {
    "hidden": true
   },
   "outputs": [],
   "source": [
    "X_train_nz_logx, X_test_nz_logx, y_train_nz_logx, y_test_nz_logx = train_test_split(\n",
    "    features_nz, labels_nz_logx, test_size=0.33, random_state=41)"
   ]
  },
  {
   "cell_type": "code",
   "execution_count": 364,
   "metadata": {
    "hidden": true
   },
   "outputs": [
    {
     "name": "stderr",
     "output_type": "stream",
     "text": [
      "/opt/conda/envs/data3/lib/python3.7/site-packages/ipykernel_launcher.py:1: SettingWithCopyWarning: \n",
      "A value is trying to be set on a copy of a slice from a DataFrame.\n",
      "Try using .loc[row_indexer,col_indexer] = value instead\n",
      "\n",
      "See the caveats in the documentation: https://pandas.pydata.org/pandas-docs/stable/user_guide/indexing.html#returning-a-view-versus-a-copy\n",
      "  \"\"\"Entry point for launching an IPython kernel.\n"
     ]
    }
   ],
   "source": [
    "X_train_nz_logx['Estimated Cost'] = np.log(X_train_nz_logx['Estimated Cost'])"
   ]
  },
  {
   "cell_type": "code",
   "execution_count": 365,
   "metadata": {
    "hidden": true
   },
   "outputs": [
    {
     "data": {
      "text/html": [
       "<div>\n",
       "<style scoped>\n",
       "    .dataframe tbody tr th:only-of-type {\n",
       "        vertical-align: middle;\n",
       "    }\n",
       "\n",
       "    .dataframe tbody tr th {\n",
       "        vertical-align: top;\n",
       "    }\n",
       "\n",
       "    .dataframe thead th {\n",
       "        text-align: right;\n",
       "    }\n",
       "</style>\n",
       "<table border=\"1\" class=\"dataframe\">\n",
       "  <thead>\n",
       "    <tr style=\"text-align: right;\">\n",
       "      <th></th>\n",
       "      <th>Estimated Cost</th>\n",
       "      <th>Revised Cost</th>\n",
       "      <th>Existing Units</th>\n",
       "      <th>Proposed Units</th>\n",
       "      <th>Number of Bathrooms</th>\n",
       "      <th>Number of Bedrooms</th>\n",
       "      <th>Number of Rooms</th>\n",
       "      <th>Number of Stories</th>\n",
       "      <th>Number of Units</th>\n",
       "      <th>Lot Depth</th>\n",
       "      <th>Lot Frontage</th>\n",
       "      <th>Property Area</th>\n",
       "      <th>Basement Area</th>\n",
       "      <th>Percent of Ownership</th>\n",
       "      <th>Misc Exemption Value</th>\n",
       "      <th>Homeowner Exemption Value</th>\n",
       "      <th>Assessed Fixtures Value</th>\n",
       "      <th>Assessed Improvement Value</th>\n",
       "      <th>Assessed Land Value</th>\n",
       "      <th>Assessed Personal Property Value</th>\n",
       "      <th>delta_stories</th>\n",
       "      <th>delta_units</th>\n",
       "    </tr>\n",
       "  </thead>\n",
       "  <tbody>\n",
       "    <tr>\n",
       "      <th>53284</th>\n",
       "      <td>10.596635</td>\n",
       "      <td>40000.0</td>\n",
       "      <td>1.0</td>\n",
       "      <td>1.0</td>\n",
       "      <td>2.0</td>\n",
       "      <td>0</td>\n",
       "      <td>6</td>\n",
       "      <td>1</td>\n",
       "      <td>1</td>\n",
       "      <td>0.00</td>\n",
       "      <td>0.0</td>\n",
       "      <td>1696</td>\n",
       "      <td>0</td>\n",
       "      <td>1.00000</td>\n",
       "      <td>0</td>\n",
       "      <td>0</td>\n",
       "      <td>0</td>\n",
       "      <td>488945</td>\n",
       "      <td>733421</td>\n",
       "      <td>0</td>\n",
       "      <td>0.0</td>\n",
       "      <td>0.0</td>\n",
       "    </tr>\n",
       "    <tr>\n",
       "      <th>57223</th>\n",
       "      <td>8.294050</td>\n",
       "      <td>4000.0</td>\n",
       "      <td>1.0</td>\n",
       "      <td>1.0</td>\n",
       "      <td>3.0</td>\n",
       "      <td>3</td>\n",
       "      <td>7</td>\n",
       "      <td>2</td>\n",
       "      <td>1</td>\n",
       "      <td>20.00</td>\n",
       "      <td>0.0</td>\n",
       "      <td>2000</td>\n",
       "      <td>300</td>\n",
       "      <td>1.00000</td>\n",
       "      <td>0</td>\n",
       "      <td>7000</td>\n",
       "      <td>0</td>\n",
       "      <td>135197</td>\n",
       "      <td>219708</td>\n",
       "      <td>0</td>\n",
       "      <td>0.0</td>\n",
       "      <td>0.0</td>\n",
       "    </tr>\n",
       "    <tr>\n",
       "      <th>42365</th>\n",
       "      <td>9.472705</td>\n",
       "      <td>13000.0</td>\n",
       "      <td>1.0</td>\n",
       "      <td>1.0</td>\n",
       "      <td>3.0</td>\n",
       "      <td>3</td>\n",
       "      <td>10</td>\n",
       "      <td>2</td>\n",
       "      <td>1</td>\n",
       "      <td>20.00</td>\n",
       "      <td>0.0</td>\n",
       "      <td>3600</td>\n",
       "      <td>540</td>\n",
       "      <td>1.00000</td>\n",
       "      <td>0</td>\n",
       "      <td>7000</td>\n",
       "      <td>0</td>\n",
       "      <td>238348</td>\n",
       "      <td>214428</td>\n",
       "      <td>0</td>\n",
       "      <td>0.0</td>\n",
       "      <td>0.0</td>\n",
       "    </tr>\n",
       "    <tr>\n",
       "      <th>122466</th>\n",
       "      <td>9.210340</td>\n",
       "      <td>10000.0</td>\n",
       "      <td>2.0</td>\n",
       "      <td>2.0</td>\n",
       "      <td>0.0</td>\n",
       "      <td>0</td>\n",
       "      <td>12</td>\n",
       "      <td>0</td>\n",
       "      <td>2</td>\n",
       "      <td>17.00</td>\n",
       "      <td>0.0</td>\n",
       "      <td>3740</td>\n",
       "      <td>0</td>\n",
       "      <td>1.00000</td>\n",
       "      <td>0</td>\n",
       "      <td>7000</td>\n",
       "      <td>0</td>\n",
       "      <td>1117599</td>\n",
       "      <td>318643</td>\n",
       "      <td>0</td>\n",
       "      <td>0.0</td>\n",
       "      <td>0.0</td>\n",
       "    </tr>\n",
       "    <tr>\n",
       "      <th>60110</th>\n",
       "      <td>9.903488</td>\n",
       "      <td>39000.0</td>\n",
       "      <td>1.0</td>\n",
       "      <td>1.0</td>\n",
       "      <td>1.0</td>\n",
       "      <td>0</td>\n",
       "      <td>4</td>\n",
       "      <td>1</td>\n",
       "      <td>1</td>\n",
       "      <td>0.00</td>\n",
       "      <td>0.0</td>\n",
       "      <td>1019</td>\n",
       "      <td>0</td>\n",
       "      <td>0.66666</td>\n",
       "      <td>0</td>\n",
       "      <td>7000</td>\n",
       "      <td>0</td>\n",
       "      <td>31454</td>\n",
       "      <td>30321</td>\n",
       "      <td>0</td>\n",
       "      <td>0.0</td>\n",
       "      <td>0.0</td>\n",
       "    </tr>\n",
       "    <tr>\n",
       "      <th>...</th>\n",
       "      <td>...</td>\n",
       "      <td>...</td>\n",
       "      <td>...</td>\n",
       "      <td>...</td>\n",
       "      <td>...</td>\n",
       "      <td>...</td>\n",
       "      <td>...</td>\n",
       "      <td>...</td>\n",
       "      <td>...</td>\n",
       "      <td>...</td>\n",
       "      <td>...</td>\n",
       "      <td>...</td>\n",
       "      <td>...</td>\n",
       "      <td>...</td>\n",
       "      <td>...</td>\n",
       "      <td>...</td>\n",
       "      <td>...</td>\n",
       "      <td>...</td>\n",
       "      <td>...</td>\n",
       "      <td>...</td>\n",
       "      <td>...</td>\n",
       "      <td>...</td>\n",
       "    </tr>\n",
       "    <tr>\n",
       "      <th>88840</th>\n",
       "      <td>8.922658</td>\n",
       "      <td>9200.0</td>\n",
       "      <td>6.0</td>\n",
       "      <td>6.0</td>\n",
       "      <td>0.0</td>\n",
       "      <td>0</td>\n",
       "      <td>0</td>\n",
       "      <td>0</td>\n",
       "      <td>0</td>\n",
       "      <td>0.00</td>\n",
       "      <td>0.0</td>\n",
       "      <td>0</td>\n",
       "      <td>0</td>\n",
       "      <td>0.33333</td>\n",
       "      <td>0</td>\n",
       "      <td>0</td>\n",
       "      <td>0</td>\n",
       "      <td>0</td>\n",
       "      <td>0</td>\n",
       "      <td>0</td>\n",
       "      <td>0.0</td>\n",
       "      <td>0.0</td>\n",
       "    </tr>\n",
       "    <tr>\n",
       "      <th>102596</th>\n",
       "      <td>11.002100</td>\n",
       "      <td>60000.0</td>\n",
       "      <td>5.0</td>\n",
       "      <td>5.0</td>\n",
       "      <td>6.0</td>\n",
       "      <td>6</td>\n",
       "      <td>24</td>\n",
       "      <td>3</td>\n",
       "      <td>5</td>\n",
       "      <td>91.67</td>\n",
       "      <td>0.0</td>\n",
       "      <td>6600</td>\n",
       "      <td>0</td>\n",
       "      <td>1.00000</td>\n",
       "      <td>0</td>\n",
       "      <td>7000</td>\n",
       "      <td>0</td>\n",
       "      <td>687147</td>\n",
       "      <td>926163</td>\n",
       "      <td>1564</td>\n",
       "      <td>0.0</td>\n",
       "      <td>0.0</td>\n",
       "    </tr>\n",
       "    <tr>\n",
       "      <th>69086</th>\n",
       "      <td>10.819778</td>\n",
       "      <td>50000.0</td>\n",
       "      <td>1.0</td>\n",
       "      <td>1.0</td>\n",
       "      <td>2.0</td>\n",
       "      <td>0</td>\n",
       "      <td>7</td>\n",
       "      <td>2</td>\n",
       "      <td>1</td>\n",
       "      <td>37.50</td>\n",
       "      <td>0.0</td>\n",
       "      <td>2246</td>\n",
       "      <td>0</td>\n",
       "      <td>0.50000</td>\n",
       "      <td>0</td>\n",
       "      <td>0</td>\n",
       "      <td>0</td>\n",
       "      <td>374760</td>\n",
       "      <td>673588</td>\n",
       "      <td>0</td>\n",
       "      <td>0.0</td>\n",
       "      <td>0.0</td>\n",
       "    </tr>\n",
       "    <tr>\n",
       "      <th>4697</th>\n",
       "      <td>6.725034</td>\n",
       "      <td>1000.0</td>\n",
       "      <td>1.0</td>\n",
       "      <td>1.0</td>\n",
       "      <td>1.0</td>\n",
       "      <td>0</td>\n",
       "      <td>6</td>\n",
       "      <td>1</td>\n",
       "      <td>1</td>\n",
       "      <td>0.00</td>\n",
       "      <td>0.0</td>\n",
       "      <td>1640</td>\n",
       "      <td>0</td>\n",
       "      <td>0.50000</td>\n",
       "      <td>0</td>\n",
       "      <td>0</td>\n",
       "      <td>0</td>\n",
       "      <td>59296</td>\n",
       "      <td>52744</td>\n",
       "      <td>0</td>\n",
       "      <td>0.0</td>\n",
       "      <td>0.0</td>\n",
       "    </tr>\n",
       "    <tr>\n",
       "      <th>109546</th>\n",
       "      <td>7.600902</td>\n",
       "      <td>2000.0</td>\n",
       "      <td>2.0</td>\n",
       "      <td>2.0</td>\n",
       "      <td>2.0</td>\n",
       "      <td>0</td>\n",
       "      <td>9</td>\n",
       "      <td>2</td>\n",
       "      <td>2</td>\n",
       "      <td>0.00</td>\n",
       "      <td>0.0</td>\n",
       "      <td>2519</td>\n",
       "      <td>0</td>\n",
       "      <td>0.50000</td>\n",
       "      <td>0</td>\n",
       "      <td>0</td>\n",
       "      <td>0</td>\n",
       "      <td>295015</td>\n",
       "      <td>442522</td>\n",
       "      <td>0</td>\n",
       "      <td>0.0</td>\n",
       "      <td>0.0</td>\n",
       "    </tr>\n",
       "  </tbody>\n",
       "</table>\n",
       "<p>27241 rows × 22 columns</p>\n",
       "</div>"
      ],
      "text/plain": [
       "        Estimated Cost  Revised Cost  Existing Units  Proposed Units  \\\n",
       "53284        10.596635       40000.0             1.0             1.0   \n",
       "57223         8.294050        4000.0             1.0             1.0   \n",
       "42365         9.472705       13000.0             1.0             1.0   \n",
       "122466        9.210340       10000.0             2.0             2.0   \n",
       "60110         9.903488       39000.0             1.0             1.0   \n",
       "...                ...           ...             ...             ...   \n",
       "88840         8.922658        9200.0             6.0             6.0   \n",
       "102596       11.002100       60000.0             5.0             5.0   \n",
       "69086        10.819778       50000.0             1.0             1.0   \n",
       "4697          6.725034        1000.0             1.0             1.0   \n",
       "109546        7.600902        2000.0             2.0             2.0   \n",
       "\n",
       "        Number of Bathrooms  Number of Bedrooms  Number of Rooms  \\\n",
       "53284                   2.0                   0                6   \n",
       "57223                   3.0                   3                7   \n",
       "42365                   3.0                   3               10   \n",
       "122466                  0.0                   0               12   \n",
       "60110                   1.0                   0                4   \n",
       "...                     ...                 ...              ...   \n",
       "88840                   0.0                   0                0   \n",
       "102596                  6.0                   6               24   \n",
       "69086                   2.0                   0                7   \n",
       "4697                    1.0                   0                6   \n",
       "109546                  2.0                   0                9   \n",
       "\n",
       "        Number of Stories  Number of Units  Lot Depth  Lot Frontage  \\\n",
       "53284                   1                1       0.00           0.0   \n",
       "57223                   2                1      20.00           0.0   \n",
       "42365                   2                1      20.00           0.0   \n",
       "122466                  0                2      17.00           0.0   \n",
       "60110                   1                1       0.00           0.0   \n",
       "...                   ...              ...        ...           ...   \n",
       "88840                   0                0       0.00           0.0   \n",
       "102596                  3                5      91.67           0.0   \n",
       "69086                   2                1      37.50           0.0   \n",
       "4697                    1                1       0.00           0.0   \n",
       "109546                  2                2       0.00           0.0   \n",
       "\n",
       "        Property Area  Basement Area  Percent of Ownership  \\\n",
       "53284            1696              0               1.00000   \n",
       "57223            2000            300               1.00000   \n",
       "42365            3600            540               1.00000   \n",
       "122466           3740              0               1.00000   \n",
       "60110            1019              0               0.66666   \n",
       "...               ...            ...                   ...   \n",
       "88840               0              0               0.33333   \n",
       "102596           6600              0               1.00000   \n",
       "69086            2246              0               0.50000   \n",
       "4697             1640              0               0.50000   \n",
       "109546           2519              0               0.50000   \n",
       "\n",
       "        Misc Exemption Value  Homeowner Exemption Value  \\\n",
       "53284                      0                          0   \n",
       "57223                      0                       7000   \n",
       "42365                      0                       7000   \n",
       "122466                     0                       7000   \n",
       "60110                      0                       7000   \n",
       "...                      ...                        ...   \n",
       "88840                      0                          0   \n",
       "102596                     0                       7000   \n",
       "69086                      0                          0   \n",
       "4697                       0                          0   \n",
       "109546                     0                          0   \n",
       "\n",
       "        Assessed Fixtures Value  Assessed Improvement Value  \\\n",
       "53284                         0                      488945   \n",
       "57223                         0                      135197   \n",
       "42365                         0                      238348   \n",
       "122466                        0                     1117599   \n",
       "60110                         0                       31454   \n",
       "...                         ...                         ...   \n",
       "88840                         0                           0   \n",
       "102596                        0                      687147   \n",
       "69086                         0                      374760   \n",
       "4697                          0                       59296   \n",
       "109546                        0                      295015   \n",
       "\n",
       "        Assessed Land Value  Assessed Personal Property Value  delta_stories  \\\n",
       "53284                733421                                 0            0.0   \n",
       "57223                219708                                 0            0.0   \n",
       "42365                214428                                 0            0.0   \n",
       "122466               318643                                 0            0.0   \n",
       "60110                 30321                                 0            0.0   \n",
       "...                     ...                               ...            ...   \n",
       "88840                     0                                 0            0.0   \n",
       "102596               926163                              1564            0.0   \n",
       "69086                673588                                 0            0.0   \n",
       "4697                  52744                                 0            0.0   \n",
       "109546               442522                                 0            0.0   \n",
       "\n",
       "        delta_units  \n",
       "53284           0.0  \n",
       "57223           0.0  \n",
       "42365           0.0  \n",
       "122466          0.0  \n",
       "60110           0.0  \n",
       "...             ...  \n",
       "88840           0.0  \n",
       "102596          0.0  \n",
       "69086           0.0  \n",
       "4697            0.0  \n",
       "109546          0.0  \n",
       "\n",
       "[27241 rows x 22 columns]"
      ]
     },
     "execution_count": 365,
     "metadata": {},
     "output_type": "execute_result"
    }
   ],
   "source": [
    "X_train_nz_logx"
   ]
  },
  {
   "cell_type": "code",
   "execution_count": 366,
   "metadata": {
    "hidden": true
   },
   "outputs": [
    {
     "data": {
      "text/plain": [
       "Pipeline(memory=None,\n",
       "         steps=[('scale',\n",
       "                 StandardScaler(copy=True, with_mean=True, with_std=True)),\n",
       "                ('lin',\n",
       "                 LinearRegression(copy_X=True, fit_intercept=True, n_jobs=None,\n",
       "                                  normalize=False))],\n",
       "         verbose=False)"
      ]
     },
     "execution_count": 366,
     "metadata": {},
     "output_type": "execute_result"
    }
   ],
   "source": [
    "lr_pipe.fit(X_train_nz_logx, y_train_nz_logx)"
   ]
  },
  {
   "cell_type": "code",
   "execution_count": 367,
   "metadata": {
    "hidden": true
   },
   "outputs": [
    {
     "data": {
      "text/plain": [
       "0.1535818143516624"
      ]
     },
     "execution_count": 367,
     "metadata": {},
     "output_type": "execute_result"
    }
   ],
   "source": [
    "lr_pipe.score(X_train_nz_logx, y_train_nz_logx)"
   ]
  },
  {
   "cell_type": "code",
   "execution_count": 368,
   "metadata": {
    "hidden": true
   },
   "outputs": [
    {
     "data": {
      "text/plain": [
       "-239646049.03250784"
      ]
     },
     "execution_count": 368,
     "metadata": {},
     "output_type": "execute_result"
    }
   ],
   "source": [
    "lr_pipe.score(X_test_nz_logx, y_test_nz_logx)"
   ]
  },
  {
   "cell_type": "markdown",
   "metadata": {},
   "source": [
    "### Tree  :\n",
    "explicability is good, but watch out for overfitting stil questions about whether or not to treat the 0-day approvals separately. My instinct is that yes, they should be "
   ]
  },
  {
   "cell_type": "code",
   "execution_count": null,
   "metadata": {},
   "outputs": [],
   "source": []
  },
  {
   "cell_type": "code",
   "execution_count": 2,
   "metadata": {},
   "outputs": [],
   "source": [
    "from sklearn.ensemble import RandomForestRegressor\n",
    "from sklearn.tree import DecisionTreeRegressor\n",
    "rf_params = {'max_depth':10, 'min_samples_split':600, 'min_samples_leaf':100}\n",
    "rf = DecisionTreeRegressor(**rf_params)\n",
    "# rf = RandomForestRegressor(max_depth=4,n_jobs=8)"
   ]
  },
  {
   "cell_type": "code",
   "execution_count": 3,
   "metadata": {},
   "outputs": [
    {
     "ename": "NameError",
     "evalue": "name 'X_train_nz' is not defined",
     "output_type": "error",
     "traceback": [
      "\u001b[0;31m---------------------------------------------------------------------------\u001b[0m",
      "\u001b[0;31mNameError\u001b[0m                                 Traceback (most recent call last)",
      "\u001b[0;32m<ipython-input-3-95e6a7765f6d>\u001b[0m in \u001b[0;36m<module>\u001b[0;34m\u001b[0m\n\u001b[0;32m----> 1\u001b[0;31m \u001b[0mrf\u001b[0m\u001b[0;34m.\u001b[0m\u001b[0mfit\u001b[0m\u001b[0;34m(\u001b[0m\u001b[0mX_train_nz\u001b[0m\u001b[0;34m,\u001b[0m\u001b[0my_train_nz\u001b[0m\u001b[0;34m)\u001b[0m\u001b[0;34m\u001b[0m\u001b[0;34m\u001b[0m\u001b[0m\n\u001b[0m",
      "\u001b[0;31mNameError\u001b[0m: name 'X_train_nz' is not defined"
     ]
    }
   ],
   "source": [
    "rf.fit(X_train_nz,y_train_nz)"
   ]
  },
  {
   "cell_type": "code",
   "execution_count": 335,
   "metadata": {},
   "outputs": [
    {
     "data": {
      "text/html": [
       "<div>\n",
       "<style scoped>\n",
       "    .dataframe tbody tr th:only-of-type {\n",
       "        vertical-align: middle;\n",
       "    }\n",
       "\n",
       "    .dataframe tbody tr th {\n",
       "        vertical-align: top;\n",
       "    }\n",
       "\n",
       "    .dataframe thead th {\n",
       "        text-align: right;\n",
       "    }\n",
       "</style>\n",
       "<table border=\"1\" class=\"dataframe\">\n",
       "  <thead>\n",
       "    <tr style=\"text-align: right;\">\n",
       "      <th></th>\n",
       "      <th>Estimated Cost</th>\n",
       "      <th>Revised Cost</th>\n",
       "      <th>Existing Units</th>\n",
       "      <th>Proposed Units</th>\n",
       "      <th>Number of Bathrooms</th>\n",
       "      <th>Number of Bedrooms</th>\n",
       "      <th>Number of Rooms</th>\n",
       "      <th>Number of Stories</th>\n",
       "      <th>Number of Units</th>\n",
       "      <th>Lot Depth</th>\n",
       "      <th>Lot Frontage</th>\n",
       "      <th>Property Area</th>\n",
       "      <th>Basement Area</th>\n",
       "      <th>Percent of Ownership</th>\n",
       "      <th>Misc Exemption Value</th>\n",
       "      <th>Homeowner Exemption Value</th>\n",
       "      <th>Assessed Fixtures Value</th>\n",
       "      <th>Assessed Improvement Value</th>\n",
       "      <th>Assessed Land Value</th>\n",
       "      <th>Assessed Personal Property Value</th>\n",
       "      <th>delta_stories</th>\n",
       "      <th>delta_units</th>\n",
       "    </tr>\n",
       "  </thead>\n",
       "  <tbody>\n",
       "    <tr>\n",
       "      <th>11238</th>\n",
       "      <td>80000.0</td>\n",
       "      <td>80000.0</td>\n",
       "      <td>1.0</td>\n",
       "      <td>1.0</td>\n",
       "      <td>1.0</td>\n",
       "      <td>2</td>\n",
       "      <td>7</td>\n",
       "      <td>1</td>\n",
       "      <td>1</td>\n",
       "      <td>0.0</td>\n",
       "      <td>0.0</td>\n",
       "      <td>1748</td>\n",
       "      <td>0</td>\n",
       "      <td>1.00000</td>\n",
       "      <td>0</td>\n",
       "      <td>7000</td>\n",
       "      <td>0</td>\n",
       "      <td>374606</td>\n",
       "      <td>561908</td>\n",
       "      <td>0</td>\n",
       "      <td>0.0</td>\n",
       "      <td>0.0</td>\n",
       "    </tr>\n",
       "    <tr>\n",
       "      <th>1407</th>\n",
       "      <td>1.0</td>\n",
       "      <td>1.0</td>\n",
       "      <td>1.0</td>\n",
       "      <td>1.0</td>\n",
       "      <td>2.0</td>\n",
       "      <td>0</td>\n",
       "      <td>7</td>\n",
       "      <td>1</td>\n",
       "      <td>1</td>\n",
       "      <td>0.0</td>\n",
       "      <td>0.0</td>\n",
       "      <td>1492</td>\n",
       "      <td>0</td>\n",
       "      <td>1.00000</td>\n",
       "      <td>0</td>\n",
       "      <td>7000</td>\n",
       "      <td>0</td>\n",
       "      <td>395890</td>\n",
       "      <td>593836</td>\n",
       "      <td>0</td>\n",
       "      <td>0.0</td>\n",
       "      <td>0.0</td>\n",
       "    </tr>\n",
       "    <tr>\n",
       "      <th>75505</th>\n",
       "      <td>8000.0</td>\n",
       "      <td>8000.0</td>\n",
       "      <td>1.0</td>\n",
       "      <td>1.0</td>\n",
       "      <td>2.0</td>\n",
       "      <td>3</td>\n",
       "      <td>8</td>\n",
       "      <td>0</td>\n",
       "      <td>1</td>\n",
       "      <td>20.0</td>\n",
       "      <td>0.0</td>\n",
       "      <td>1770</td>\n",
       "      <td>615</td>\n",
       "      <td>0.50000</td>\n",
       "      <td>0</td>\n",
       "      <td>7000</td>\n",
       "      <td>0</td>\n",
       "      <td>355546</td>\n",
       "      <td>533330</td>\n",
       "      <td>0</td>\n",
       "      <td>0.0</td>\n",
       "      <td>0.0</td>\n",
       "    </tr>\n",
       "    <tr>\n",
       "      <th>19113</th>\n",
       "      <td>10000.0</td>\n",
       "      <td>14000.0</td>\n",
       "      <td>1.0</td>\n",
       "      <td>1.0</td>\n",
       "      <td>1.0</td>\n",
       "      <td>0</td>\n",
       "      <td>6</td>\n",
       "      <td>2</td>\n",
       "      <td>1</td>\n",
       "      <td>0.0</td>\n",
       "      <td>0.0</td>\n",
       "      <td>1854</td>\n",
       "      <td>0</td>\n",
       "      <td>1.00000</td>\n",
       "      <td>0</td>\n",
       "      <td>7000</td>\n",
       "      <td>0</td>\n",
       "      <td>335093</td>\n",
       "      <td>478287</td>\n",
       "      <td>0</td>\n",
       "      <td>0.0</td>\n",
       "      <td>0.0</td>\n",
       "    </tr>\n",
       "    <tr>\n",
       "      <th>52165</th>\n",
       "      <td>1500.0</td>\n",
       "      <td>1500.0</td>\n",
       "      <td>27.0</td>\n",
       "      <td>27.0</td>\n",
       "      <td>27.0</td>\n",
       "      <td>0</td>\n",
       "      <td>56</td>\n",
       "      <td>4</td>\n",
       "      <td>27</td>\n",
       "      <td>0.0</td>\n",
       "      <td>0.0</td>\n",
       "      <td>11800</td>\n",
       "      <td>0</td>\n",
       "      <td>1.00000</td>\n",
       "      <td>0</td>\n",
       "      <td>0</td>\n",
       "      <td>0</td>\n",
       "      <td>943500</td>\n",
       "      <td>1415250</td>\n",
       "      <td>25369</td>\n",
       "      <td>0.0</td>\n",
       "      <td>0.0</td>\n",
       "    </tr>\n",
       "    <tr>\n",
       "      <th>...</th>\n",
       "      <td>...</td>\n",
       "      <td>...</td>\n",
       "      <td>...</td>\n",
       "      <td>...</td>\n",
       "      <td>...</td>\n",
       "      <td>...</td>\n",
       "      <td>...</td>\n",
       "      <td>...</td>\n",
       "      <td>...</td>\n",
       "      <td>...</td>\n",
       "      <td>...</td>\n",
       "      <td>...</td>\n",
       "      <td>...</td>\n",
       "      <td>...</td>\n",
       "      <td>...</td>\n",
       "      <td>...</td>\n",
       "      <td>...</td>\n",
       "      <td>...</td>\n",
       "      <td>...</td>\n",
       "      <td>...</td>\n",
       "      <td>...</td>\n",
       "      <td>...</td>\n",
       "    </tr>\n",
       "    <tr>\n",
       "      <th>67621</th>\n",
       "      <td>50000.0</td>\n",
       "      <td>80000.0</td>\n",
       "      <td>1.0</td>\n",
       "      <td>1.0</td>\n",
       "      <td>1.0</td>\n",
       "      <td>0</td>\n",
       "      <td>7</td>\n",
       "      <td>2</td>\n",
       "      <td>1</td>\n",
       "      <td>14.0</td>\n",
       "      <td>0.0</td>\n",
       "      <td>1658</td>\n",
       "      <td>0</td>\n",
       "      <td>0.50000</td>\n",
       "      <td>0</td>\n",
       "      <td>0</td>\n",
       "      <td>0</td>\n",
       "      <td>329547</td>\n",
       "      <td>768945</td>\n",
       "      <td>0</td>\n",
       "      <td>0.0</td>\n",
       "      <td>0.0</td>\n",
       "    </tr>\n",
       "    <tr>\n",
       "      <th>44727</th>\n",
       "      <td>800.0</td>\n",
       "      <td>1500.0</td>\n",
       "      <td>1.0</td>\n",
       "      <td>1.0</td>\n",
       "      <td>2.0</td>\n",
       "      <td>4</td>\n",
       "      <td>8</td>\n",
       "      <td>1</td>\n",
       "      <td>1</td>\n",
       "      <td>0.0</td>\n",
       "      <td>0.0</td>\n",
       "      <td>1520</td>\n",
       "      <td>508</td>\n",
       "      <td>0.50000</td>\n",
       "      <td>0</td>\n",
       "      <td>0</td>\n",
       "      <td>0</td>\n",
       "      <td>169940</td>\n",
       "      <td>349860</td>\n",
       "      <td>0</td>\n",
       "      <td>0.0</td>\n",
       "      <td>0.0</td>\n",
       "    </tr>\n",
       "    <tr>\n",
       "      <th>52985</th>\n",
       "      <td>3000.0</td>\n",
       "      <td>6000.0</td>\n",
       "      <td>1.0</td>\n",
       "      <td>1.0</td>\n",
       "      <td>1.0</td>\n",
       "      <td>0</td>\n",
       "      <td>5</td>\n",
       "      <td>1</td>\n",
       "      <td>1</td>\n",
       "      <td>0.0</td>\n",
       "      <td>0.0</td>\n",
       "      <td>1257</td>\n",
       "      <td>0</td>\n",
       "      <td>0.50000</td>\n",
       "      <td>0</td>\n",
       "      <td>0</td>\n",
       "      <td>0</td>\n",
       "      <td>580790</td>\n",
       "      <td>443050</td>\n",
       "      <td>0</td>\n",
       "      <td>0.0</td>\n",
       "      <td>0.0</td>\n",
       "    </tr>\n",
       "    <tr>\n",
       "      <th>92378</th>\n",
       "      <td>5700.0</td>\n",
       "      <td>5700.0</td>\n",
       "      <td>4.0</td>\n",
       "      <td>4.0</td>\n",
       "      <td>4.0</td>\n",
       "      <td>0</td>\n",
       "      <td>18</td>\n",
       "      <td>2</td>\n",
       "      <td>4</td>\n",
       "      <td>0.0</td>\n",
       "      <td>0.0</td>\n",
       "      <td>4570</td>\n",
       "      <td>0</td>\n",
       "      <td>1.00000</td>\n",
       "      <td>0</td>\n",
       "      <td>0</td>\n",
       "      <td>0</td>\n",
       "      <td>311911</td>\n",
       "      <td>179946</td>\n",
       "      <td>0</td>\n",
       "      <td>0.0</td>\n",
       "      <td>0.0</td>\n",
       "    </tr>\n",
       "    <tr>\n",
       "      <th>18520</th>\n",
       "      <td>1500.0</td>\n",
       "      <td>1500.0</td>\n",
       "      <td>1.0</td>\n",
       "      <td>1.0</td>\n",
       "      <td>1.0</td>\n",
       "      <td>0</td>\n",
       "      <td>5</td>\n",
       "      <td>1</td>\n",
       "      <td>1</td>\n",
       "      <td>0.0</td>\n",
       "      <td>0.0</td>\n",
       "      <td>1325</td>\n",
       "      <td>0</td>\n",
       "      <td>0.33333</td>\n",
       "      <td>0</td>\n",
       "      <td>7000</td>\n",
       "      <td>0</td>\n",
       "      <td>185883</td>\n",
       "      <td>126441</td>\n",
       "      <td>0</td>\n",
       "      <td>0.0</td>\n",
       "      <td>0.0</td>\n",
       "    </tr>\n",
       "  </tbody>\n",
       "</table>\n",
       "<p>39167 rows × 22 columns</p>\n",
       "</div>"
      ],
      "text/plain": [
       "       Estimated Cost  Revised Cost  Existing Units  Proposed Units  \\\n",
       "11238         80000.0       80000.0             1.0             1.0   \n",
       "1407              1.0           1.0             1.0             1.0   \n",
       "75505          8000.0        8000.0             1.0             1.0   \n",
       "19113         10000.0       14000.0             1.0             1.0   \n",
       "52165          1500.0        1500.0            27.0            27.0   \n",
       "...               ...           ...             ...             ...   \n",
       "67621         50000.0       80000.0             1.0             1.0   \n",
       "44727           800.0        1500.0             1.0             1.0   \n",
       "52985          3000.0        6000.0             1.0             1.0   \n",
       "92378          5700.0        5700.0             4.0             4.0   \n",
       "18520          1500.0        1500.0             1.0             1.0   \n",
       "\n",
       "       Number of Bathrooms  Number of Bedrooms  Number of Rooms  \\\n",
       "11238                  1.0                   2                7   \n",
       "1407                   2.0                   0                7   \n",
       "75505                  2.0                   3                8   \n",
       "19113                  1.0                   0                6   \n",
       "52165                 27.0                   0               56   \n",
       "...                    ...                 ...              ...   \n",
       "67621                  1.0                   0                7   \n",
       "44727                  2.0                   4                8   \n",
       "52985                  1.0                   0                5   \n",
       "92378                  4.0                   0               18   \n",
       "18520                  1.0                   0                5   \n",
       "\n",
       "       Number of Stories  Number of Units  Lot Depth  Lot Frontage  \\\n",
       "11238                  1                1        0.0           0.0   \n",
       "1407                   1                1        0.0           0.0   \n",
       "75505                  0                1       20.0           0.0   \n",
       "19113                  2                1        0.0           0.0   \n",
       "52165                  4               27        0.0           0.0   \n",
       "...                  ...              ...        ...           ...   \n",
       "67621                  2                1       14.0           0.0   \n",
       "44727                  1                1        0.0           0.0   \n",
       "52985                  1                1        0.0           0.0   \n",
       "92378                  2                4        0.0           0.0   \n",
       "18520                  1                1        0.0           0.0   \n",
       "\n",
       "       Property Area  Basement Area  Percent of Ownership  \\\n",
       "11238           1748              0               1.00000   \n",
       "1407            1492              0               1.00000   \n",
       "75505           1770            615               0.50000   \n",
       "19113           1854              0               1.00000   \n",
       "52165          11800              0               1.00000   \n",
       "...              ...            ...                   ...   \n",
       "67621           1658              0               0.50000   \n",
       "44727           1520            508               0.50000   \n",
       "52985           1257              0               0.50000   \n",
       "92378           4570              0               1.00000   \n",
       "18520           1325              0               0.33333   \n",
       "\n",
       "       Misc Exemption Value  Homeowner Exemption Value  \\\n",
       "11238                     0                       7000   \n",
       "1407                      0                       7000   \n",
       "75505                     0                       7000   \n",
       "19113                     0                       7000   \n",
       "52165                     0                          0   \n",
       "...                     ...                        ...   \n",
       "67621                     0                          0   \n",
       "44727                     0                          0   \n",
       "52985                     0                          0   \n",
       "92378                     0                          0   \n",
       "18520                     0                       7000   \n",
       "\n",
       "       Assessed Fixtures Value  Assessed Improvement Value  \\\n",
       "11238                        0                      374606   \n",
       "1407                         0                      395890   \n",
       "75505                        0                      355546   \n",
       "19113                        0                      335093   \n",
       "52165                        0                      943500   \n",
       "...                        ...                         ...   \n",
       "67621                        0                      329547   \n",
       "44727                        0                      169940   \n",
       "52985                        0                      580790   \n",
       "92378                        0                      311911   \n",
       "18520                        0                      185883   \n",
       "\n",
       "       Assessed Land Value  Assessed Personal Property Value  delta_stories  \\\n",
       "11238               561908                                 0            0.0   \n",
       "1407                593836                                 0            0.0   \n",
       "75505               533330                                 0            0.0   \n",
       "19113               478287                                 0            0.0   \n",
       "52165              1415250                             25369            0.0   \n",
       "...                    ...                               ...            ...   \n",
       "67621               768945                                 0            0.0   \n",
       "44727               349860                                 0            0.0   \n",
       "52985               443050                                 0            0.0   \n",
       "92378               179946                                 0            0.0   \n",
       "18520               126441                                 0            0.0   \n",
       "\n",
       "       delta_units  \n",
       "11238          0.0  \n",
       "1407           0.0  \n",
       "75505          0.0  \n",
       "19113          0.0  \n",
       "52165          0.0  \n",
       "...            ...  \n",
       "67621          0.0  \n",
       "44727          0.0  \n",
       "52985          0.0  \n",
       "92378          0.0  \n",
       "18520          0.0  \n",
       "\n",
       "[39167 rows x 22 columns]"
      ]
     },
     "execution_count": 335,
     "metadata": {},
     "output_type": "execute_result"
    }
   ],
   "source": [
    "X_test"
   ]
  },
  {
   "cell_type": "code",
   "execution_count": 336,
   "metadata": {},
   "outputs": [
    {
     "data": {
      "text/plain": [
       "Text(0.5, 1.0, 'hist of # permits vs approve_days (decisiontree predictor)')"
      ]
     },
     "execution_count": 336,
     "metadata": {},
     "output_type": "execute_result"
    },
    {
     "data": {
      "image/png": "[encoded data removed]",
      "text/plain": [
       "<Figure size 432x288 with 1 Axes>"
      ]
     },
     "metadata": {
      "needs_background": "light"
     },
     "output_type": "display_data"
    }
   ],
   "source": [
    "plt.hist(rf.predict(X_test), bins=[x*10 for x in range(0,30)])\n",
    "plt.title('hist of # permits vs approve_days (decisiontree predictor)')"
   ]
  },
  {
   "cell_type": "code",
   "execution_count": 337,
   "metadata": {},
   "outputs": [
    {
     "data": {
      "text/plain": [
       "0.34469751441141827"
      ]
     },
     "execution_count": 337,
     "metadata": {},
     "output_type": "execute_result"
    }
   ],
   "source": [
    "rf.score(X_train,y_train)"
   ]
  },
  {
   "cell_type": "code",
   "execution_count": 338,
   "metadata": {},
   "outputs": [
    {
     "data": {
      "text/plain": [
       "0.33878957022392286"
      ]
     },
     "execution_count": 338,
     "metadata": {},
     "output_type": "execute_result"
    }
   ],
   "source": [
    "rf.score(X_test, y_test)"
   ]
  },
  {
   "cell_type": "code",
   "execution_count": 226,
   "metadata": {},
   "outputs": [],
   "source": [
    "# OVERFIT on defaults, and using score indicates 6 max depth is best for even score, \n",
    "# but even that doesn't look like a similar distribution"
   ]
  },
  {
   "cell_type": "code",
   "execution_count": 227,
   "metadata": {},
   "outputs": [
    {
     "data": {
      "text/plain": [
       "array([1.10291817e-02, 5.42325961e-01, 1.09292545e-03, 5.71836289e-02,\n",
       "       0.00000000e+00, 7.41170570e-05, 5.86837291e-04, 0.00000000e+00,\n",
       "       2.67872938e-02, 6.67024475e-04, 0.00000000e+00, 1.34425718e-02,\n",
       "       1.23109625e-04, 4.04647378e-05, 0.00000000e+00, 0.00000000e+00,\n",
       "       0.00000000e+00, 6.97114316e-04, 4.84345476e-03, 2.18502495e-04,\n",
       "       1.90678702e-01, 1.50209111e-01])"
      ]
     },
     "execution_count": 227,
     "metadata": {},
     "output_type": "execute_result"
    }
   ],
   "source": [
    "rf.feature_importances_"
   ]
  },
  {
   "cell_type": "code",
   "execution_count": 332,
   "metadata": {},
   "outputs": [
    {
     "data": {
      "text/plain": [
       "array(['Estimated Cost', 'Revised Cost', 'Existing Units',\n",
       "       'Proposed Units', 'Number of Units', 'Property Area',\n",
       "       'Assessed Land Value', 'delta_stories', 'delta_units'],\n",
       "      dtype=object)"
      ]
     },
     "execution_count": 332,
     "metadata": {},
     "output_type": "execute_result"
    }
   ],
   "source": [
    "imp_cols = X_train.columns.values[rf.feature_importances_>0.001]\n",
    "imp_cols"
   ]
  },
  {
   "cell_type": "code",
   "execution_count": 353,
   "metadata": {},
   "outputs": [
    {
     "data": {
      "text/plain": [
       "<matplotlib.axes._subplots.AxesSubplot at 0x7fe852775890>"
      ]
     },
     "execution_count": 353,
     "metadata": {},
     "output_type": "execute_result"
    },
    {
     "data": {
      "image/png": "[encoded data removed]",
      "text/plain": [
       "<Figure size 432x288 with 1 Axes>"
      ]
     },
     "metadata": {
      "needs_background": "light"
     },
     "output_type": "display_data"
    }
   ],
   "source": [
    "# revised cost was (so far) the most significant feature in the decisiontree, \n",
    "# but that's not something that people will have  access to beforehand?\n",
    "X_train['delta_units'].hist(bins=[x for x in range(-10,11)])"
   ]
  },
  {
   "cell_type": "code",
   "execution_count": 214,
   "metadata": {},
   "outputs": [],
   "source": [
    "import graphviz \n",
    "from sklearn import tree"
   ]
  },
  {
   "cell_type": "code",
   "execution_count": 215,
   "metadata": {},
   "outputs": [
    {
     "data": {
      "image/svg+xml": [
       "<?xml version=\"1.0\" encoding=\"UTF-8\" standalone=\"no\"?>\n",
       "<!DOCTYPE svg PUBLIC \"-//W3C//DTD SVG 1.1//EN\"\n",
       " \"http://www.w3.org/Graphics/SVG/1.1/DTD/svg11.dtd\">\n",
       "<!-- Generated by graphviz version 2.40.1 (20161225.0304)\n",
       " -->\n",
       "<!-- Title: Tree Pages: 1 -->\n",
       "<svg width=\"2221pt\" height=\"685pt\"\n",
       " viewBox=\"0.00 0.00 2220.50 685.00\" xmlns=\"http://www.w3.org/2000/svg\" xmlns:xlink=\"http://www.w3.org/1999/xlink\">\n",
       "<g id=\"graph0\" class=\"graph\" transform=\"scale(1 1) rotate(0) translate(4 681)\">\n",
       "<title>Tree</title>\n",
       "<polygon fill=\"#ffffff\" stroke=\"transparent\" points=\"-4,4 -4,-681 2216.5,-681 2216.5,4 -4,4\"/>\n",
       "<!-- 0 -->\n",
       "<g id=\"node1\" class=\"node\">\n",
       "<title>0</title>\n",
       "<polygon fill=\"none\" stroke=\"#000000\" points=\"1425,-677 1282,-677 1282,-609 1425,-609 1425,-677\"/>\n",
       "<text text-anchor=\"middle\" x=\"1353.5\" y=\"-661.8\" font-family=\"Times,serif\" font-size=\"14.00\" fill=\"#000000\">X[1] &lt;= 71315.0</text>\n",
       "<text text-anchor=\"middle\" x=\"1353.5\" y=\"-646.8\" font-family=\"Times,serif\" font-size=\"14.00\" fill=\"#000000\">mse = 11410.802</text>\n",
       "<text text-anchor=\"middle\" x=\"1353.5\" y=\"-631.8\" font-family=\"Times,serif\" font-size=\"14.00\" fill=\"#000000\">samples = 79518</text>\n",
       "<text text-anchor=\"middle\" x=\"1353.5\" y=\"-616.8\" font-family=\"Times,serif\" font-size=\"14.00\" fill=\"#000000\">value = 27.659</text>\n",
       "</g>\n",
       "<!-- 1 -->\n",
       "<g id=\"node2\" class=\"node\">\n",
       "<title>1</title>\n",
       "<polygon fill=\"none\" stroke=\"#000000\" points=\"1263,-573 1122,-573 1122,-505 1263,-505 1263,-573\"/>\n",
       "<text text-anchor=\"middle\" x=\"1192.5\" y=\"-557.8\" font-family=\"Times,serif\" font-size=\"14.00\" fill=\"#000000\">X[1] &lt;= 39866.0</text>\n",
       "<text text-anchor=\"middle\" x=\"1192.5\" y=\"-542.8\" font-family=\"Times,serif\" font-size=\"14.00\" fill=\"#000000\">mse = 4611.664</text>\n",
       "<text text-anchor=\"middle\" x=\"1192.5\" y=\"-527.8\" font-family=\"Times,serif\" font-size=\"14.00\" fill=\"#000000\">samples = 71327</text>\n",
       "<text text-anchor=\"middle\" x=\"1192.5\" y=\"-512.8\" font-family=\"Times,serif\" font-size=\"14.00\" fill=\"#000000\">value = 13.557</text>\n",
       "</g>\n",
       "<!-- 0&#45;&gt;1 -->\n",
       "<g id=\"edge1\" class=\"edge\">\n",
       "<title>0&#45;&gt;1</title>\n",
       "<path fill=\"none\" stroke=\"#000000\" d=\"M1300.7826,-608.9465C1285.7712,-599.2497 1269.2906,-588.6039 1253.8146,-578.6069\"/>\n",
       "<polygon fill=\"#000000\" stroke=\"#000000\" points=\"1255.6349,-575.6161 1245.3359,-573.13 1251.8367,-581.496 1255.6349,-575.6161\"/>\n",
       "<text text-anchor=\"middle\" x=\"1250.593\" y=\"-593.871\" font-family=\"Times,serif\" font-size=\"14.00\" fill=\"#000000\">True</text>\n",
       "</g>\n",
       "<!-- 28 -->\n",
       "<g id=\"node29\" class=\"node\">\n",
       "<title>28</title>\n",
       "<polygon fill=\"none\" stroke=\"#000000\" points=\"1746,-573 1603,-573 1603,-505 1746,-505 1746,-573\"/>\n",
       "<text text-anchor=\"middle\" x=\"1674.5\" y=\"-557.8\" font-family=\"Times,serif\" font-size=\"14.00\" fill=\"#000000\">X[20] &lt;= 0.5</text>\n",
       "<text text-anchor=\"middle\" x=\"1674.5\" y=\"-542.8\" font-family=\"Times,serif\" font-size=\"14.00\" fill=\"#000000\">mse = 53805.555</text>\n",
       "<text text-anchor=\"middle\" x=\"1674.5\" y=\"-527.8\" font-family=\"Times,serif\" font-size=\"14.00\" fill=\"#000000\">samples = 8191</text>\n",
       "<text text-anchor=\"middle\" x=\"1674.5\" y=\"-512.8\" font-family=\"Times,serif\" font-size=\"14.00\" fill=\"#000000\">value = 150.46</text>\n",
       "</g>\n",
       "<!-- 0&#45;&gt;28 -->\n",
       "<g id=\"edge28\" class=\"edge\">\n",
       "<title>0&#45;&gt;28</title>\n",
       "<path fill=\"none\" stroke=\"#000000\" d=\"M1425.1391,-619.7898C1474.8726,-603.6768 1541.2281,-582.1784 1592.9858,-565.4096\"/>\n",
       "<polygon fill=\"#000000\" stroke=\"#000000\" points=\"1594.3684,-568.6408 1602.8028,-562.229 1592.2108,-561.9816 1594.3684,-568.6408\"/>\n",
       "<text text-anchor=\"middle\" x=\"1591.4342\" y=\"-580.7946\" font-family=\"Times,serif\" font-size=\"14.00\" fill=\"#000000\">False</text>\n",
       "</g>\n",
       "<!-- 2 -->\n",
       "<g id=\"node3\" class=\"node\">\n",
       "<title>2</title>\n",
       "<polygon fill=\"none\" stroke=\"#000000\" points=\"861,-469 720,-469 720,-401 861,-401 861,-469\"/>\n",
       "<text text-anchor=\"middle\" x=\"790.5\" y=\"-453.8\" font-family=\"Times,serif\" font-size=\"14.00\" fill=\"#000000\">X[21] &lt;= 0.5</text>\n",
       "<text text-anchor=\"middle\" x=\"790.5\" y=\"-438.8\" font-family=\"Times,serif\" font-size=\"14.00\" fill=\"#000000\">mse = 3023.001</text>\n",
       "<text text-anchor=\"middle\" x=\"790.5\" y=\"-423.8\" font-family=\"Times,serif\" font-size=\"14.00\" fill=\"#000000\">samples = 64606</text>\n",
       "<text text-anchor=\"middle\" x=\"790.5\" y=\"-408.8\" font-family=\"Times,serif\" font-size=\"14.00\" fill=\"#000000\">value = 9.671</text>\n",
       "</g>\n",
       "<!-- 1&#45;&gt;2 -->\n",
       "<g id=\"edge2\" class=\"edge\">\n",
       "<title>1&#45;&gt;2</title>\n",
       "<path fill=\"none\" stroke=\"#000000\" d=\"M1121.5558,-520.6463C1051.4831,-502.518 944.4534,-474.8287 871.18,-455.8724\"/>\n",
       "<polygon fill=\"#000000\" stroke=\"#000000\" points=\"871.6301,-452.3737 861.0721,-453.2575 869.8768,-459.1506 871.6301,-452.3737\"/>\n",
       "</g>\n",
       "<!-- 17 -->\n",
       "<g id=\"node18\" class=\"node\">\n",
       "<title>17</title>\n",
       "<polygon fill=\"none\" stroke=\"#000000\" points=\"1264,-469 1121,-469 1121,-401 1264,-401 1264,-469\"/>\n",
       "<text text-anchor=\"middle\" x=\"1192.5\" y=\"-453.8\" font-family=\"Times,serif\" font-size=\"14.00\" fill=\"#000000\">X[21] &lt;= 0.5</text>\n",
       "<text text-anchor=\"middle\" x=\"1192.5\" y=\"-438.8\" font-family=\"Times,serif\" font-size=\"14.00\" fill=\"#000000\">mse = 18342.838</text>\n",
       "<text text-anchor=\"middle\" x=\"1192.5\" y=\"-423.8\" font-family=\"Times,serif\" font-size=\"14.00\" fill=\"#000000\">samples = 6721</text>\n",
       "<text text-anchor=\"middle\" x=\"1192.5\" y=\"-408.8\" font-family=\"Times,serif\" font-size=\"14.00\" fill=\"#000000\">value = 50.904</text>\n",
       "</g>\n",
       "<!-- 1&#45;&gt;17 -->\n",
       "<g id=\"edge17\" class=\"edge\">\n",
       "<title>1&#45;&gt;17</title>\n",
       "<path fill=\"none\" stroke=\"#000000\" d=\"M1192.5,-504.9465C1192.5,-496.776 1192.5,-487.9318 1192.5,-479.3697\"/>\n",
       "<polygon fill=\"#000000\" stroke=\"#000000\" points=\"1196.0001,-479.13 1192.5,-469.13 1189.0001,-479.13 1196.0001,-479.13\"/>\n",
       "</g>\n",
       "<!-- 3 -->\n",
       "<g id=\"node4\" class=\"node\">\n",
       "<title>3</title>\n",
       "<polygon fill=\"none\" stroke=\"#000000\" points=\"660,-365 519,-365 519,-297 660,-297 660,-365\"/>\n",
       "<text text-anchor=\"middle\" x=\"589.5\" y=\"-349.8\" font-family=\"Times,serif\" font-size=\"14.00\" fill=\"#000000\">X[1] &lt;= 19999.0</text>\n",
       "<text text-anchor=\"middle\" x=\"589.5\" y=\"-334.8\" font-family=\"Times,serif\" font-size=\"14.00\" fill=\"#000000\">mse = 2813.882</text>\n",
       "<text text-anchor=\"middle\" x=\"589.5\" y=\"-319.8\" font-family=\"Times,serif\" font-size=\"14.00\" fill=\"#000000\">samples = 64171</text>\n",
       "<text text-anchor=\"middle\" x=\"589.5\" y=\"-304.8\" font-family=\"Times,serif\" font-size=\"14.00\" fill=\"#000000\">value = 9.189</text>\n",
       "</g>\n",
       "<!-- 2&#45;&gt;3 -->\n",
       "<g id=\"edge3\" class=\"edge\">\n",
       "<title>2&#45;&gt;3</title>\n",
       "<path fill=\"none\" stroke=\"#000000\" d=\"M724.6851,-400.9465C705.4235,-390.9803 684.2245,-380.0117 664.4409,-369.7754\"/>\n",
       "<polygon fill=\"#000000\" stroke=\"#000000\" points=\"665.9528,-366.6169 655.4628,-365.13 662.7359,-372.834 665.9528,-366.6169\"/>\n",
       "</g>\n",
       "<!-- 16 -->\n",
       "<g id=\"node17\" class=\"node\">\n",
       "<title>16</title>\n",
       "<polygon fill=\"none\" stroke=\"#000000\" points=\"862,-357.5 719,-357.5 719,-304.5 862,-304.5 862,-357.5\"/>\n",
       "<text text-anchor=\"middle\" x=\"790.5\" y=\"-342.3\" font-family=\"Times,serif\" font-size=\"14.00\" fill=\"#000000\">mse = 28763.414</text>\n",
       "<text text-anchor=\"middle\" x=\"790.5\" y=\"-327.3\" font-family=\"Times,serif\" font-size=\"14.00\" fill=\"#000000\">samples = 435</text>\n",
       "<text text-anchor=\"middle\" x=\"790.5\" y=\"-312.3\" font-family=\"Times,serif\" font-size=\"14.00\" fill=\"#000000\">value = 80.906</text>\n",
       "</g>\n",
       "<!-- 2&#45;&gt;16 -->\n",
       "<g id=\"edge16\" class=\"edge\">\n",
       "<title>2&#45;&gt;16</title>\n",
       "<path fill=\"none\" stroke=\"#000000\" d=\"M790.5,-400.9465C790.5,-390.2621 790.5,-378.4254 790.5,-367.5742\"/>\n",
       "<polygon fill=\"#000000\" stroke=\"#000000\" points=\"794.0001,-367.5421 790.5,-357.5422 787.0001,-367.5422 794.0001,-367.5421\"/>\n",
       "</g>\n",
       "<!-- 4 -->\n",
       "<g id=\"node5\" class=\"node\">\n",
       "<title>4</title>\n",
       "<polygon fill=\"none\" stroke=\"#000000\" points=\"459,-261 318,-261 318,-193 459,-193 459,-261\"/>\n",
       "<text text-anchor=\"middle\" x=\"388.5\" y=\"-245.8\" font-family=\"Times,serif\" font-size=\"14.00\" fill=\"#000000\">X[0] &lt;= 26500.0</text>\n",
       "<text text-anchor=\"middle\" x=\"388.5\" y=\"-230.8\" font-family=\"Times,serif\" font-size=\"14.00\" fill=\"#000000\">mse = 2248.504</text>\n",
       "<text text-anchor=\"middle\" x=\"388.5\" y=\"-215.8\" font-family=\"Times,serif\" font-size=\"14.00\" fill=\"#000000\">samples = 53599</text>\n",
       "<text text-anchor=\"middle\" x=\"388.5\" y=\"-200.8\" font-family=\"Times,serif\" font-size=\"14.00\" fill=\"#000000\">value = 7.267</text>\n",
       "</g>\n",
       "<!-- 3&#45;&gt;4 -->\n",
       "<g id=\"edge4\" class=\"edge\">\n",
       "<title>3&#45;&gt;4</title>\n",
       "<path fill=\"none\" stroke=\"#000000\" d=\"M523.6851,-296.9465C504.4235,-286.9803 483.2245,-276.0117 463.4409,-265.7754\"/>\n",
       "<polygon fill=\"#000000\" stroke=\"#000000\" points=\"464.9528,-262.6169 454.4628,-261.13 461.7359,-268.834 464.9528,-262.6169\"/>\n",
       "</g>\n",
       "<!-- 9 -->\n",
       "<g id=\"node10\" class=\"node\">\n",
       "<title>9</title>\n",
       "<polygon fill=\"none\" stroke=\"#000000\" points=\"660,-261 519,-261 519,-193 660,-193 660,-261\"/>\n",
       "<text text-anchor=\"middle\" x=\"589.5\" y=\"-245.8\" font-family=\"Times,serif\" font-size=\"14.00\" fill=\"#000000\">X[0] &lt;= 17900.0</text>\n",
       "<text text-anchor=\"middle\" x=\"589.5\" y=\"-230.8\" font-family=\"Times,serif\" font-size=\"14.00\" fill=\"#000000\">mse = 5566.655</text>\n",
       "<text text-anchor=\"middle\" x=\"589.5\" y=\"-215.8\" font-family=\"Times,serif\" font-size=\"14.00\" fill=\"#000000\">samples = 10572</text>\n",
       "<text text-anchor=\"middle\" x=\"589.5\" y=\"-200.8\" font-family=\"Times,serif\" font-size=\"14.00\" fill=\"#000000\">value = 18.931</text>\n",
       "</g>\n",
       "<!-- 3&#45;&gt;9 -->\n",
       "<g id=\"edge9\" class=\"edge\">\n",
       "<title>3&#45;&gt;9</title>\n",
       "<path fill=\"none\" stroke=\"#000000\" d=\"M589.5,-296.9465C589.5,-288.776 589.5,-279.9318 589.5,-271.3697\"/>\n",
       "<polygon fill=\"#000000\" stroke=\"#000000\" points=\"593.0001,-271.13 589.5,-261.13 586.0001,-271.13 593.0001,-271.13\"/>\n",
       "</g>\n",
       "<!-- 5 -->\n",
       "<g id=\"node6\" class=\"node\">\n",
       "<title>5</title>\n",
       "<polygon fill=\"none\" stroke=\"#000000\" points=\"298.5,-157 142.5,-157 142.5,-89 298.5,-89 298.5,-157\"/>\n",
       "<text text-anchor=\"middle\" x=\"220.5\" y=\"-141.8\" font-family=\"Times,serif\" font-size=\"14.00\" fill=\"#000000\">X[18] &lt;= 935700.5</text>\n",
       "<text text-anchor=\"middle\" x=\"220.5\" y=\"-126.8\" font-family=\"Times,serif\" font-size=\"14.00\" fill=\"#000000\">mse = 2204.272</text>\n",
       "<text text-anchor=\"middle\" x=\"220.5\" y=\"-111.8\" font-family=\"Times,serif\" font-size=\"14.00\" fill=\"#000000\">samples = 53520</text>\n",
       "<text text-anchor=\"middle\" x=\"220.5\" y=\"-96.8\" font-family=\"Times,serif\" font-size=\"14.00\" fill=\"#000000\">value = 7.187</text>\n",
       "</g>\n",
       "<!-- 4&#45;&gt;5 -->\n",
       "<g id=\"edge5\" class=\"edge\">\n",
       "<title>4&#45;&gt;5</title>\n",
       "<path fill=\"none\" stroke=\"#000000\" d=\"M333.4905,-192.9465C317.8264,-183.2497 300.6293,-172.6039 284.4804,-162.6069\"/>\n",
       "<polygon fill=\"#000000\" stroke=\"#000000\" points=\"285.978,-159.4177 275.6331,-157.13 282.2935,-165.3695 285.978,-159.4177\"/>\n",
       "</g>\n",
       "<!-- 8 -->\n",
       "<g id=\"node9\" class=\"node\">\n",
       "<title>8</title>\n",
       "<polygon fill=\"none\" stroke=\"#000000\" points=\"460,-149.5 317,-149.5 317,-96.5 460,-96.5 460,-149.5\"/>\n",
       "<text text-anchor=\"middle\" x=\"388.5\" y=\"-134.3\" font-family=\"Times,serif\" font-size=\"14.00\" fill=\"#000000\">mse = 29299.536</text>\n",
       "<text text-anchor=\"middle\" x=\"388.5\" y=\"-119.3\" font-family=\"Times,serif\" font-size=\"14.00\" fill=\"#000000\">samples = 79</text>\n",
       "<text text-anchor=\"middle\" x=\"388.5\" y=\"-104.3\" font-family=\"Times,serif\" font-size=\"14.00\" fill=\"#000000\">value = 61.215</text>\n",
       "</g>\n",
       "<!-- 4&#45;&gt;8 -->\n",
       "<g id=\"edge8\" class=\"edge\">\n",
       "<title>4&#45;&gt;8</title>\n",
       "<path fill=\"none\" stroke=\"#000000\" d=\"M388.5,-192.9465C388.5,-182.2621 388.5,-170.4254 388.5,-159.5742\"/>\n",
       "<polygon fill=\"#000000\" stroke=\"#000000\" points=\"392.0001,-159.5421 388.5,-149.5422 385.0001,-159.5422 392.0001,-159.5421\"/>\n",
       "</g>\n",
       "<!-- 6 -->\n",
       "<g id=\"node7\" class=\"node\">\n",
       "<title>6</title>\n",
       "<polygon fill=\"none\" stroke=\"#000000\" points=\"141,-53 0,-53 0,0 141,0 141,-53\"/>\n",
       "<text text-anchor=\"middle\" x=\"70.5\" y=\"-37.8\" font-family=\"Times,serif\" font-size=\"14.00\" fill=\"#000000\">mse = 1901.701</text>\n",
       "<text text-anchor=\"middle\" x=\"70.5\" y=\"-22.8\" font-family=\"Times,serif\" font-size=\"14.00\" fill=\"#000000\">samples = 46404</text>\n",
       "<text text-anchor=\"middle\" x=\"70.5\" y=\"-7.8\" font-family=\"Times,serif\" font-size=\"14.00\" fill=\"#000000\">value = 6.414</text>\n",
       "</g>\n",
       "<!-- 5&#45;&gt;6 -->\n",
       "<g id=\"edge6\" class=\"edge\">\n",
       "<title>5&#45;&gt;6</title>\n",
       "<path fill=\"none\" stroke=\"#000000\" d=\"M167.6156,-88.9777C152.3856,-79.1798 135.8194,-68.5222 120.7536,-58.8298\"/>\n",
       "<polygon fill=\"#000000\" stroke=\"#000000\" points=\"122.3816,-55.7154 112.0779,-53.2485 118.5943,-61.6024 122.3816,-55.7154\"/>\n",
       "</g>\n",
       "<!-- 7 -->\n",
       "<g id=\"node8\" class=\"node\">\n",
       "<title>7</title>\n",
       "<polygon fill=\"none\" stroke=\"#000000\" points=\"293.5,-53 159.5,-53 159.5,0 293.5,0 293.5,-53\"/>\n",
       "<text text-anchor=\"middle\" x=\"226.5\" y=\"-37.8\" font-family=\"Times,serif\" font-size=\"14.00\" fill=\"#000000\">mse = 4148.017</text>\n",
       "<text text-anchor=\"middle\" x=\"226.5\" y=\"-22.8\" font-family=\"Times,serif\" font-size=\"14.00\" fill=\"#000000\">samples = 7116</text>\n",
       "<text text-anchor=\"middle\" x=\"226.5\" y=\"-7.8\" font-family=\"Times,serif\" font-size=\"14.00\" fill=\"#000000\">value = 12.231</text>\n",
       "</g>\n",
       "<!-- 5&#45;&gt;7 -->\n",
       "<g id=\"edge7\" class=\"edge\">\n",
       "<title>5&#45;&gt;7</title>\n",
       "<path fill=\"none\" stroke=\"#000000\" d=\"M222.6154,-88.9777C223.1335,-80.6449 223.6902,-71.6903 224.2159,-63.2364\"/>\n",
       "<polygon fill=\"#000000\" stroke=\"#000000\" points=\"227.7095,-63.4464 224.8369,-53.2485 220.723,-63.012 227.7095,-63.4464\"/>\n",
       "</g>\n",
       "<!-- 10 -->\n",
       "<g id=\"node11\" class=\"node\">\n",
       "<title>10</title>\n",
       "<polygon fill=\"none\" stroke=\"#000000\" points=\"621,-157 478,-157 478,-89 621,-89 621,-157\"/>\n",
       "<text text-anchor=\"middle\" x=\"549.5\" y=\"-141.8\" font-family=\"Times,serif\" font-size=\"14.00\" fill=\"#000000\">X[0] &lt;= 7800.0</text>\n",
       "<text text-anchor=\"middle\" x=\"549.5\" y=\"-126.8\" font-family=\"Times,serif\" font-size=\"14.00\" fill=\"#000000\">mse = 10922.069</text>\n",
       "<text text-anchor=\"middle\" x=\"549.5\" y=\"-111.8\" font-family=\"Times,serif\" font-size=\"14.00\" fill=\"#000000\">samples = 1468</text>\n",
       "<text text-anchor=\"middle\" x=\"549.5\" y=\"-96.8\" font-family=\"Times,serif\" font-size=\"14.00\" fill=\"#000000\">value = 34.55</text>\n",
       "</g>\n",
       "<!-- 9&#45;&gt;10 -->\n",
       "<g id=\"edge10\" class=\"edge\">\n",
       "<title>9&#45;&gt;10</title>\n",
       "<path fill=\"none\" stroke=\"#000000\" d=\"M576.4025,-192.9465C573.1564,-184.5067 569.6338,-175.3479 566.2399,-166.5239\"/>\n",
       "<polygon fill=\"#000000\" stroke=\"#000000\" points=\"569.4835,-165.207 562.6269,-157.13 562.9501,-167.7199 569.4835,-165.207\"/>\n",
       "</g>\n",
       "<!-- 13 -->\n",
       "<g id=\"node14\" class=\"node\">\n",
       "<title>13</title>\n",
       "<polygon fill=\"none\" stroke=\"#000000\" points=\"777.5,-157 639.5,-157 639.5,-89 777.5,-89 777.5,-157\"/>\n",
       "<text text-anchor=\"middle\" x=\"708.5\" y=\"-141.8\" font-family=\"Times,serif\" font-size=\"14.00\" fill=\"#000000\">X[0] &lt;= 69975.0</text>\n",
       "<text text-anchor=\"middle\" x=\"708.5\" y=\"-126.8\" font-family=\"Times,serif\" font-size=\"14.00\" fill=\"#000000\">mse = 4657.429</text>\n",
       "<text text-anchor=\"middle\" x=\"708.5\" y=\"-111.8\" font-family=\"Times,serif\" font-size=\"14.00\" fill=\"#000000\">samples = 9104</text>\n",
       "<text text-anchor=\"middle\" x=\"708.5\" y=\"-96.8\" font-family=\"Times,serif\" font-size=\"14.00\" fill=\"#000000\">value = 16.413</text>\n",
       "</g>\n",
       "<!-- 9&#45;&gt;13 -->\n",
       "<g id=\"edge13\" class=\"edge\">\n",
       "<title>9&#45;&gt;13</title>\n",
       "<path fill=\"none\" stroke=\"#000000\" d=\"M628.4651,-192.9465C639.1495,-183.6088 650.8409,-173.3911 661.9066,-163.7203\"/>\n",
       "<polygon fill=\"#000000\" stroke=\"#000000\" points=\"664.2209,-166.346 669.4474,-157.13 659.6145,-161.0752 664.2209,-166.346\"/>\n",
       "</g>\n",
       "<!-- 11 -->\n",
       "<g id=\"node12\" class=\"node\">\n",
       "<title>11</title>\n",
       "<polygon fill=\"none\" stroke=\"#000000\" points=\"466,-53 323,-53 323,0 466,0 466,-53\"/>\n",
       "<text text-anchor=\"middle\" x=\"394.5\" y=\"-37.8\" font-family=\"Times,serif\" font-size=\"14.00\" fill=\"#000000\">mse = 21415.877</text>\n",
       "<text text-anchor=\"middle\" x=\"394.5\" y=\"-22.8\" font-family=\"Times,serif\" font-size=\"14.00\" fill=\"#000000\">samples = 329</text>\n",
       "<text text-anchor=\"middle\" x=\"394.5\" y=\"-7.8\" font-family=\"Times,serif\" font-size=\"14.00\" fill=\"#000000\">value = 49.356</text>\n",
       "</g>\n",
       "<!-- 10&#45;&gt;11 -->\n",
       "<g id=\"edge11\" class=\"edge\">\n",
       "<title>10&#45;&gt;11</title>\n",
       "<path fill=\"none\" stroke=\"#000000\" d=\"M494.8528,-88.9777C478.9681,-79.0882 461.6767,-68.3229 445.9927,-58.5583\"/>\n",
       "<polygon fill=\"#000000\" stroke=\"#000000\" points=\"447.8029,-55.5625 437.4639,-53.2485 444.1033,-61.505 447.8029,-55.5625\"/>\n",
       "</g>\n",
       "<!-- 12 -->\n",
       "<g id=\"node13\" class=\"node\">\n",
       "<title>12</title>\n",
       "<polygon fill=\"none\" stroke=\"#000000\" points=\"618.5,-53 484.5,-53 484.5,0 618.5,0 618.5,-53\"/>\n",
       "<text text-anchor=\"middle\" x=\"551.5\" y=\"-37.8\" font-family=\"Times,serif\" font-size=\"14.00\" fill=\"#000000\">mse = 7809.324</text>\n",
       "<text text-anchor=\"middle\" x=\"551.5\" y=\"-22.8\" font-family=\"Times,serif\" font-size=\"14.00\" fill=\"#000000\">samples = 1139</text>\n",
       "<text text-anchor=\"middle\" x=\"551.5\" y=\"-7.8\" font-family=\"Times,serif\" font-size=\"14.00\" fill=\"#000000\">value = 30.273</text>\n",
       "</g>\n",
       "<!-- 10&#45;&gt;12 -->\n",
       "<g id=\"edge12\" class=\"edge\">\n",
       "<title>10&#45;&gt;12</title>\n",
       "<path fill=\"none\" stroke=\"#000000\" d=\"M550.2051,-88.9777C550.3759,-80.7364 550.5593,-71.887 550.7328,-63.5153\"/>\n",
       "<polygon fill=\"#000000\" stroke=\"#000000\" points=\"554.2376,-63.3189 550.9456,-53.2485 547.2391,-63.1738 554.2376,-63.3189\"/>\n",
       "</g>\n",
       "<!-- 14 -->\n",
       "<g id=\"node15\" class=\"node\">\n",
       "<title>14</title>\n",
       "<polygon fill=\"none\" stroke=\"#000000\" points=\"773.5,-53 639.5,-53 639.5,0 773.5,0 773.5,-53\"/>\n",
       "<text text-anchor=\"middle\" x=\"706.5\" y=\"-37.8\" font-family=\"Times,serif\" font-size=\"14.00\" fill=\"#000000\">mse = 4553.298</text>\n",
       "<text text-anchor=\"middle\" x=\"706.5\" y=\"-22.8\" font-family=\"Times,serif\" font-size=\"14.00\" fill=\"#000000\">samples = 9094</text>\n",
       "<text text-anchor=\"middle\" x=\"706.5\" y=\"-7.8\" font-family=\"Times,serif\" font-size=\"14.00\" fill=\"#000000\">value = 16.246</text>\n",
       "</g>\n",
       "<!-- 13&#45;&gt;14 -->\n",
       "<g id=\"edge14\" class=\"edge\">\n",
       "<title>13&#45;&gt;14</title>\n",
       "<path fill=\"none\" stroke=\"#000000\" d=\"M707.7949,-88.9777C707.6241,-80.7364 707.4407,-71.887 707.2672,-63.5153\"/>\n",
       "<polygon fill=\"#000000\" stroke=\"#000000\" points=\"710.7609,-63.1738 707.0544,-53.2485 703.7624,-63.3189 710.7609,-63.1738\"/>\n",
       "</g>\n",
       "<!-- 15 -->\n",
       "<g id=\"node16\" class=\"node\">\n",
       "<title>15</title>\n",
       "<polygon fill=\"none\" stroke=\"#000000\" points=\"925.5,-53 791.5,-53 791.5,0 925.5,0 925.5,-53\"/>\n",
       "<text text-anchor=\"middle\" x=\"858.5\" y=\"-37.8\" font-family=\"Times,serif\" font-size=\"14.00\" fill=\"#000000\">mse = 76228.44</text>\n",
       "<text text-anchor=\"middle\" x=\"858.5\" y=\"-22.8\" font-family=\"Times,serif\" font-size=\"14.00\" fill=\"#000000\">samples = 10</text>\n",
       "<text text-anchor=\"middle\" x=\"858.5\" y=\"-7.8\" font-family=\"Times,serif\" font-size=\"14.00\" fill=\"#000000\">value = 168.4</text>\n",
       "</g>\n",
       "<!-- 13&#45;&gt;15 -->\n",
       "<g id=\"edge15\" class=\"edge\">\n",
       "<title>13&#45;&gt;15</title>\n",
       "<path fill=\"none\" stroke=\"#000000\" d=\"M761.3844,-88.9777C776.6144,-79.1798 793.1806,-68.5222 808.2464,-58.8298\"/>\n",
       "<polygon fill=\"#000000\" stroke=\"#000000\" points=\"810.4057,-61.6024 816.9221,-53.2485 806.6184,-55.7154 810.4057,-61.6024\"/>\n",
       "</g>\n",
       "<!-- 18 -->\n",
       "<g id=\"node19\" class=\"node\">\n",
       "<title>18</title>\n",
       "<polygon fill=\"none\" stroke=\"#000000\" points=\"1184,-365 1041,-365 1041,-297 1184,-297 1184,-365\"/>\n",
       "<text text-anchor=\"middle\" x=\"1112.5\" y=\"-349.8\" font-family=\"Times,serif\" font-size=\"14.00\" fill=\"#000000\">X[8] &lt;= 4.5</text>\n",
       "<text text-anchor=\"middle\" x=\"1112.5\" y=\"-334.8\" font-family=\"Times,serif\" font-size=\"14.00\" fill=\"#000000\">mse = 16128.932</text>\n",
       "<text text-anchor=\"middle\" x=\"1112.5\" y=\"-319.8\" font-family=\"Times,serif\" font-size=\"14.00\" fill=\"#000000\">samples = 6618</text>\n",
       "<text text-anchor=\"middle\" x=\"1112.5\" y=\"-304.8\" font-family=\"Times,serif\" font-size=\"14.00\" fill=\"#000000\">value = 46.762</text>\n",
       "</g>\n",
       "<!-- 17&#45;&gt;18 -->\n",
       "<g id=\"edge18\" class=\"edge\">\n",
       "<title>17&#45;&gt;18</title>\n",
       "<path fill=\"none\" stroke=\"#000000\" d=\"M1166.305,-400.9465C1159.4675,-392.0578 1152.0166,-382.3716 1144.899,-373.1188\"/>\n",
       "<polygon fill=\"#000000\" stroke=\"#000000\" points=\"1147.6252,-370.9223 1138.7538,-365.13 1142.0768,-375.1903 1147.6252,-370.9223\"/>\n",
       "</g>\n",
       "<!-- 27 -->\n",
       "<g id=\"node28\" class=\"node\">\n",
       "<title>27</title>\n",
       "<polygon fill=\"none\" stroke=\"#000000\" points=\"1345,-357.5 1202,-357.5 1202,-304.5 1345,-304.5 1345,-357.5\"/>\n",
       "<text text-anchor=\"middle\" x=\"1273.5\" y=\"-342.3\" font-family=\"Times,serif\" font-size=\"14.00\" fill=\"#000000\">mse = 88656.415</text>\n",
       "<text text-anchor=\"middle\" x=\"1273.5\" y=\"-327.3\" font-family=\"Times,serif\" font-size=\"14.00\" fill=\"#000000\">samples = 103</text>\n",
       "<text text-anchor=\"middle\" x=\"1273.5\" y=\"-312.3\" font-family=\"Times,serif\" font-size=\"14.00\" fill=\"#000000\">value = 317.049</text>\n",
       "</g>\n",
       "<!-- 17&#45;&gt;27 -->\n",
       "<g id=\"edge27\" class=\"edge\">\n",
       "<title>17&#45;&gt;27</title>\n",
       "<path fill=\"none\" stroke=\"#000000\" d=\"M1219.0224,-400.9465C1227.8587,-389.6012 1237.7068,-376.9567 1246.5734,-365.5724\"/>\n",
       "<polygon fill=\"#000000\" stroke=\"#000000\" points=\"1249.4444,-367.5823 1252.8277,-357.5422 1243.9217,-363.281 1249.4444,-367.5823\"/>\n",
       "</g>\n",
       "<!-- 19 -->\n",
       "<g id=\"node20\" class=\"node\">\n",
       "<title>19</title>\n",
       "<polygon fill=\"none\" stroke=\"#000000\" points=\"1102,-261 959,-261 959,-193 1102,-193 1102,-261\"/>\n",
       "<text text-anchor=\"middle\" x=\"1030.5\" y=\"-245.8\" font-family=\"Times,serif\" font-size=\"14.00\" fill=\"#000000\">X[0] &lt;= 10500.0</text>\n",
       "<text text-anchor=\"middle\" x=\"1030.5\" y=\"-230.8\" font-family=\"Times,serif\" font-size=\"14.00\" fill=\"#000000\">mse = 11008.068</text>\n",
       "<text text-anchor=\"middle\" x=\"1030.5\" y=\"-215.8\" font-family=\"Times,serif\" font-size=\"14.00\" fill=\"#000000\">samples = 5634</text>\n",
       "<text text-anchor=\"middle\" x=\"1030.5\" y=\"-200.8\" font-family=\"Times,serif\" font-size=\"14.00\" fill=\"#000000\">value = 35.7</text>\n",
       "</g>\n",
       "<!-- 18&#45;&gt;19 -->\n",
       "<g id=\"edge19\" class=\"edge\">\n",
       "<title>18&#45;&gt;19</title>\n",
       "<path fill=\"none\" stroke=\"#000000\" d=\"M1085.6501,-296.9465C1078.6417,-288.0578 1071.0045,-278.3716 1063.709,-269.1188\"/>\n",
       "<polygon fill=\"#000000\" stroke=\"#000000\" points=\"1066.3502,-266.8157 1057.4102,-261.13 1060.8533,-271.1498 1066.3502,-266.8157\"/>\n",
       "</g>\n",
       "<!-- 24 -->\n",
       "<g id=\"node25\" class=\"node\">\n",
       "<title>24</title>\n",
       "<polygon fill=\"none\" stroke=\"#000000\" points=\"1260.5,-261 1126.5,-261 1126.5,-193 1260.5,-193 1260.5,-261\"/>\n",
       "<text text-anchor=\"middle\" x=\"1193.5\" y=\"-245.8\" font-family=\"Times,serif\" font-size=\"14.00\" fill=\"#000000\">X[8] &lt;= 9.5</text>\n",
       "<text text-anchor=\"middle\" x=\"1193.5\" y=\"-230.8\" font-family=\"Times,serif\" font-size=\"14.00\" fill=\"#000000\">mse = 40736.4</text>\n",
       "<text text-anchor=\"middle\" x=\"1193.5\" y=\"-215.8\" font-family=\"Times,serif\" font-size=\"14.00\" fill=\"#000000\">samples = 984</text>\n",
       "<text text-anchor=\"middle\" x=\"1193.5\" y=\"-200.8\" font-family=\"Times,serif\" font-size=\"14.00\" fill=\"#000000\">value = 110.102</text>\n",
       "</g>\n",
       "<!-- 18&#45;&gt;24 -->\n",
       "<g id=\"edge24\" class=\"edge\">\n",
       "<title>18&#45;&gt;24</title>\n",
       "<path fill=\"none\" stroke=\"#000000\" d=\"M1139.0224,-296.9465C1145.9454,-288.0578 1153.4894,-278.3716 1160.696,-269.1188\"/>\n",
       "<polygon fill=\"#000000\" stroke=\"#000000\" points=\"1163.5346,-271.1701 1166.918,-261.13 1158.012,-266.8688 1163.5346,-271.1701\"/>\n",
       "</g>\n",
       "<!-- 20 -->\n",
       "<g id=\"node21\" class=\"node\">\n",
       "<title>20</title>\n",
       "<polygon fill=\"none\" stroke=\"#000000\" points=\"939,-149.5 796,-149.5 796,-96.5 939,-96.5 939,-149.5\"/>\n",
       "<text text-anchor=\"middle\" x=\"867.5\" y=\"-134.3\" font-family=\"Times,serif\" font-size=\"14.00\" fill=\"#000000\">mse = 52850.401</text>\n",
       "<text text-anchor=\"middle\" x=\"867.5\" y=\"-119.3\" font-family=\"Times,serif\" font-size=\"14.00\" fill=\"#000000\">samples = 171</text>\n",
       "<text text-anchor=\"middle\" x=\"867.5\" y=\"-104.3\" font-family=\"Times,serif\" font-size=\"14.00\" fill=\"#000000\">value = 92.468</text>\n",
       "</g>\n",
       "<!-- 19&#45;&gt;20 -->\n",
       "<g id=\"edge20\" class=\"edge\">\n",
       "<title>19&#45;&gt;20</title>\n",
       "<path fill=\"none\" stroke=\"#000000\" d=\"M977.1277,-192.9465C957.9649,-180.72 936.4375,-166.9847 917.5657,-154.9437\"/>\n",
       "<polygon fill=\"#000000\" stroke=\"#000000\" points=\"919.4126,-151.9704 909.0997,-149.5422 915.6474,-157.8716 919.4126,-151.9704\"/>\n",
       "</g>\n",
       "<!-- 21 -->\n",
       "<g id=\"node22\" class=\"node\">\n",
       "<title>21</title>\n",
       "<polygon fill=\"none\" stroke=\"#000000\" points=\"1104,-157 957,-157 957,-89 1104,-89 1104,-157\"/>\n",
       "<text text-anchor=\"middle\" x=\"1030.5\" y=\"-141.8\" font-family=\"Times,serif\" font-size=\"14.00\" fill=\"#000000\">X[18] &lt;= 39730.5</text>\n",
       "<text text-anchor=\"middle\" x=\"1030.5\" y=\"-126.8\" font-family=\"Times,serif\" font-size=\"14.00\" fill=\"#000000\">mse = 9594.31</text>\n",
       "<text text-anchor=\"middle\" x=\"1030.5\" y=\"-111.8\" font-family=\"Times,serif\" font-size=\"14.00\" fill=\"#000000\">samples = 5463</text>\n",
       "<text text-anchor=\"middle\" x=\"1030.5\" y=\"-96.8\" font-family=\"Times,serif\" font-size=\"14.00\" fill=\"#000000\">value = 33.923</text>\n",
       "</g>\n",
       "<!-- 19&#45;&gt;21 -->\n",
       "<g id=\"edge21\" class=\"edge\">\n",
       "<title>19&#45;&gt;21</title>\n",
       "<path fill=\"none\" stroke=\"#000000\" d=\"M1030.5,-192.9465C1030.5,-184.776 1030.5,-175.9318 1030.5,-167.3697\"/>\n",
       "<polygon fill=\"#000000\" stroke=\"#000000\" points=\"1034.0001,-167.13 1030.5,-157.13 1027.0001,-167.13 1034.0001,-167.13\"/>\n",
       "</g>\n",
       "<!-- 22 -->\n",
       "<g id=\"node23\" class=\"node\">\n",
       "<title>22</title>\n",
       "<polygon fill=\"none\" stroke=\"#000000\" points=\"1087.5,-53 953.5,-53 953.5,0 1087.5,0 1087.5,-53\"/>\n",
       "<text text-anchor=\"middle\" x=\"1020.5\" y=\"-37.8\" font-family=\"Times,serif\" font-size=\"14.00\" fill=\"#000000\">mse = 3835.509</text>\n",
       "<text text-anchor=\"middle\" x=\"1020.5\" y=\"-22.8\" font-family=\"Times,serif\" font-size=\"14.00\" fill=\"#000000\">samples = 1188</text>\n",
       "<text text-anchor=\"middle\" x=\"1020.5\" y=\"-7.8\" font-family=\"Times,serif\" font-size=\"14.00\" fill=\"#000000\">value = 18.376</text>\n",
       "</g>\n",
       "<!-- 21&#45;&gt;22 -->\n",
       "<g id=\"edge22\" class=\"edge\">\n",
       "<title>21&#45;&gt;22</title>\n",
       "<path fill=\"none\" stroke=\"#000000\" d=\"M1026.9744,-88.9777C1026.1109,-80.6449 1025.1829,-71.6903 1024.3069,-63.2364\"/>\n",
       "<polygon fill=\"#000000\" stroke=\"#000000\" points=\"1027.7841,-62.8344 1023.2719,-53.2485 1020.8213,-63.556 1027.7841,-62.8344\"/>\n",
       "</g>\n",
       "<!-- 23 -->\n",
       "<g id=\"node24\" class=\"node\">\n",
       "<title>23</title>\n",
       "<polygon fill=\"none\" stroke=\"#000000\" points=\"1249,-53 1106,-53 1106,0 1249,0 1249,-53\"/>\n",
       "<text text-anchor=\"middle\" x=\"1177.5\" y=\"-37.8\" font-family=\"Times,serif\" font-size=\"14.00\" fill=\"#000000\">mse = 11108.822</text>\n",
       "<text text-anchor=\"middle\" x=\"1177.5\" y=\"-22.8\" font-family=\"Times,serif\" font-size=\"14.00\" fill=\"#000000\">samples = 4275</text>\n",
       "<text text-anchor=\"middle\" x=\"1177.5\" y=\"-7.8\" font-family=\"Times,serif\" font-size=\"14.00\" fill=\"#000000\">value = 38.243</text>\n",
       "</g>\n",
       "<!-- 21&#45;&gt;23 -->\n",
       "<g id=\"edge23\" class=\"edge\">\n",
       "<title>21&#45;&gt;23</title>\n",
       "<path fill=\"none\" stroke=\"#000000\" d=\"M1082.3267,-88.9777C1097.2521,-79.1798 1113.487,-68.5222 1128.2514,-58.8298\"/>\n",
       "<polygon fill=\"#000000\" stroke=\"#000000\" points=\"1130.3147,-61.6622 1136.7536,-53.2485 1126.4732,-55.8104 1130.3147,-61.6622\"/>\n",
       "</g>\n",
       "<!-- 25 -->\n",
       "<g id=\"node26\" class=\"node\">\n",
       "<title>25</title>\n",
       "<polygon fill=\"none\" stroke=\"#000000\" points=\"1265,-149.5 1122,-149.5 1122,-96.5 1265,-96.5 1265,-149.5\"/>\n",
       "<text text-anchor=\"middle\" x=\"1193.5\" y=\"-134.3\" font-family=\"Times,serif\" font-size=\"14.00\" fill=\"#000000\">mse = 59138.158</text>\n",
       "<text text-anchor=\"middle\" x=\"1193.5\" y=\"-119.3\" font-family=\"Times,serif\" font-size=\"14.00\" fill=\"#000000\">samples = 470</text>\n",
       "<text text-anchor=\"middle\" x=\"1193.5\" y=\"-104.3\" font-family=\"Times,serif\" font-size=\"14.00\" fill=\"#000000\">value = 173.06</text>\n",
       "</g>\n",
       "<!-- 24&#45;&gt;25 -->\n",
       "<g id=\"edge25\" class=\"edge\">\n",
       "<title>24&#45;&gt;25</title>\n",
       "<path fill=\"none\" stroke=\"#000000\" d=\"M1193.5,-192.9465C1193.5,-182.2621 1193.5,-170.4254 1193.5,-159.5742\"/>\n",
       "<polygon fill=\"#000000\" stroke=\"#000000\" points=\"1197.0001,-159.5421 1193.5,-149.5422 1190.0001,-159.5422 1197.0001,-159.5421\"/>\n",
       "</g>\n",
       "<!-- 26 -->\n",
       "<g id=\"node27\" class=\"node\">\n",
       "<title>26</title>\n",
       "<polygon fill=\"none\" stroke=\"#000000\" points=\"1426,-149.5 1283,-149.5 1283,-96.5 1426,-96.5 1426,-149.5\"/>\n",
       "<text text-anchor=\"middle\" x=\"1354.5\" y=\"-134.3\" font-family=\"Times,serif\" font-size=\"14.00\" fill=\"#000000\">mse = 16971.354</text>\n",
       "<text text-anchor=\"middle\" x=\"1354.5\" y=\"-119.3\" font-family=\"Times,serif\" font-size=\"14.00\" fill=\"#000000\">samples = 514</text>\n",
       "<text text-anchor=\"middle\" x=\"1354.5\" y=\"-104.3\" font-family=\"Times,serif\" font-size=\"14.00\" fill=\"#000000\">value = 52.533</text>\n",
       "</g>\n",
       "<!-- 24&#45;&gt;26 -->\n",
       "<g id=\"edge26\" class=\"edge\">\n",
       "<title>24&#45;&gt;26</title>\n",
       "<path fill=\"none\" stroke=\"#000000\" d=\"M1246.2174,-192.9465C1265.0598,-180.775 1286.2168,-167.1084 1304.7966,-155.1066\"/>\n",
       "<polygon fill=\"#000000\" stroke=\"#000000\" points=\"1306.9099,-157.9082 1313.4107,-149.5422 1303.1117,-152.0283 1306.9099,-157.9082\"/>\n",
       "</g>\n",
       "<!-- 29 -->\n",
       "<g id=\"node30\" class=\"node\">\n",
       "<title>29</title>\n",
       "<polygon fill=\"none\" stroke=\"#000000\" points=\"1746,-469 1603,-469 1603,-401 1746,-401 1746,-469\"/>\n",
       "<text text-anchor=\"middle\" x=\"1674.5\" y=\"-453.8\" font-family=\"Times,serif\" font-size=\"14.00\" fill=\"#000000\">X[21] &lt;= 0.5</text>\n",
       "<text text-anchor=\"middle\" x=\"1674.5\" y=\"-438.8\" font-family=\"Times,serif\" font-size=\"14.00\" fill=\"#000000\">mse = 42621.963</text>\n",
       "<text text-anchor=\"middle\" x=\"1674.5\" y=\"-423.8\" font-family=\"Times,serif\" font-size=\"14.00\" fill=\"#000000\">samples = 7509</text>\n",
       "<text text-anchor=\"middle\" x=\"1674.5\" y=\"-408.8\" font-family=\"Times,serif\" font-size=\"14.00\" fill=\"#000000\">value = 124.745</text>\n",
       "</g>\n",
       "<!-- 28&#45;&gt;29 -->\n",
       "<g id=\"edge29\" class=\"edge\">\n",
       "<title>28&#45;&gt;29</title>\n",
       "<path fill=\"none\" stroke=\"#000000\" d=\"M1674.5,-504.9465C1674.5,-496.776 1674.5,-487.9318 1674.5,-479.3697\"/>\n",
       "<polygon fill=\"#000000\" stroke=\"#000000\" points=\"1678.0001,-479.13 1674.5,-469.13 1671.0001,-479.13 1678.0001,-479.13\"/>\n",
       "</g>\n",
       "<!-- 44 -->\n",
       "<g id=\"node45\" class=\"node\">\n",
       "<title>44</title>\n",
       "<polygon fill=\"none\" stroke=\"#000000\" points=\"1991,-469 1844,-469 1844,-401 1991,-401 1991,-469\"/>\n",
       "<text text-anchor=\"middle\" x=\"1917.5\" y=\"-453.8\" font-family=\"Times,serif\" font-size=\"14.00\" fill=\"#000000\">X[1] &lt;= 255150.0</text>\n",
       "<text text-anchor=\"middle\" x=\"1917.5\" y=\"-438.8\" font-family=\"Times,serif\" font-size=\"14.00\" fill=\"#000000\">mse = 89494.329</text>\n",
       "<text text-anchor=\"middle\" x=\"1917.5\" y=\"-423.8\" font-family=\"Times,serif\" font-size=\"14.00\" fill=\"#000000\">samples = 682</text>\n",
       "<text text-anchor=\"middle\" x=\"1917.5\" y=\"-408.8\" font-family=\"Times,serif\" font-size=\"14.00\" fill=\"#000000\">value = 433.594</text>\n",
       "</g>\n",
       "<!-- 28&#45;&gt;44 -->\n",
       "<g id=\"edge44\" class=\"edge\">\n",
       "<title>28&#45;&gt;44</title>\n",
       "<path fill=\"none\" stroke=\"#000000\" d=\"M1746.0937,-508.3591C1773.8855,-496.4646 1805.8938,-482.7656 1834.671,-470.4494\"/>\n",
       "<polygon fill=\"#000000\" stroke=\"#000000\" points=\"1836.075,-473.6557 1843.8913,-466.5033 1833.3207,-467.2203 1836.075,-473.6557\"/>\n",
       "</g>\n",
       "<!-- 30 -->\n",
       "<g id=\"node31\" class=\"node\">\n",
       "<title>30</title>\n",
       "<polygon fill=\"none\" stroke=\"#000000\" points=\"1667,-365 1524,-365 1524,-297 1667,-297 1667,-365\"/>\n",
       "<text text-anchor=\"middle\" x=\"1595.5\" y=\"-349.8\" font-family=\"Times,serif\" font-size=\"14.00\" fill=\"#000000\">X[2] &lt;= 25.5</text>\n",
       "<text text-anchor=\"middle\" x=\"1595.5\" y=\"-334.8\" font-family=\"Times,serif\" font-size=\"14.00\" fill=\"#000000\">mse = 35931.887</text>\n",
       "<text text-anchor=\"middle\" x=\"1595.5\" y=\"-319.8\" font-family=\"Times,serif\" font-size=\"14.00\" fill=\"#000000\">samples = 7176</text>\n",
       "<text text-anchor=\"middle\" x=\"1595.5\" y=\"-304.8\" font-family=\"Times,serif\" font-size=\"14.00\" fill=\"#000000\">value = 109.552</text>\n",
       "</g>\n",
       "<!-- 29&#45;&gt;30 -->\n",
       "<g id=\"edge30\" class=\"edge\">\n",
       "<title>29&#45;&gt;30</title>\n",
       "<path fill=\"none\" stroke=\"#000000\" d=\"M1648.6324,-400.9465C1641.8804,-392.0578 1634.5226,-382.3716 1627.4941,-373.1188\"/>\n",
       "<polygon fill=\"#000000\" stroke=\"#000000\" points=\"1630.2617,-370.976 1621.4257,-365.13 1624.6875,-375.2102 1630.2617,-370.976\"/>\n",
       "</g>\n",
       "<!-- 43 -->\n",
       "<g id=\"node44\" class=\"node\">\n",
       "<title>43</title>\n",
       "<polygon fill=\"none\" stroke=\"#000000\" points=\"1828,-357.5 1685,-357.5 1685,-304.5 1828,-304.5 1828,-357.5\"/>\n",
       "<text text-anchor=\"middle\" x=\"1756.5\" y=\"-342.3\" font-family=\"Times,serif\" font-size=\"14.00\" fill=\"#000000\">mse = 74631.841</text>\n",
       "<text text-anchor=\"middle\" x=\"1756.5\" y=\"-327.3\" font-family=\"Times,serif\" font-size=\"14.00\" fill=\"#000000\">samples = 333</text>\n",
       "<text text-anchor=\"middle\" x=\"1756.5\" y=\"-312.3\" font-family=\"Times,serif\" font-size=\"14.00\" fill=\"#000000\">value = 452.135</text>\n",
       "</g>\n",
       "<!-- 29&#45;&gt;43 -->\n",
       "<g id=\"edge43\" class=\"edge\">\n",
       "<title>29&#45;&gt;43</title>\n",
       "<path fill=\"none\" stroke=\"#000000\" d=\"M1701.3499,-400.9465C1710.2952,-389.6012 1720.2649,-376.9567 1729.241,-365.5724\"/>\n",
       "<polygon fill=\"#000000\" stroke=\"#000000\" points=\"1732.1294,-367.5619 1735.5725,-357.5422 1726.6325,-363.2278 1732.1294,-367.5619\"/>\n",
       "</g>\n",
       "<!-- 31 -->\n",
       "<g id=\"node32\" class=\"node\">\n",
       "<title>31</title>\n",
       "<polygon fill=\"none\" stroke=\"#000000\" points=\"1669,-261 1522,-261 1522,-193 1669,-193 1669,-261\"/>\n",
       "<text text-anchor=\"middle\" x=\"1595.5\" y=\"-245.8\" font-family=\"Times,serif\" font-size=\"14.00\" fill=\"#000000\">X[1] &lt;= 213161.0</text>\n",
       "<text text-anchor=\"middle\" x=\"1595.5\" y=\"-230.8\" font-family=\"Times,serif\" font-size=\"14.00\" fill=\"#000000\">mse = 40996.862</text>\n",
       "<text text-anchor=\"middle\" x=\"1595.5\" y=\"-215.8\" font-family=\"Times,serif\" font-size=\"14.00\" fill=\"#000000\">samples = 5948</text>\n",
       "<text text-anchor=\"middle\" x=\"1595.5\" y=\"-200.8\" font-family=\"Times,serif\" font-size=\"14.00\" fill=\"#000000\">value = 124.758</text>\n",
       "</g>\n",
       "<!-- 30&#45;&gt;31 -->\n",
       "<g id=\"edge31\" class=\"edge\">\n",
       "<title>30&#45;&gt;31</title>\n",
       "<path fill=\"none\" stroke=\"#000000\" d=\"M1595.5,-296.9465C1595.5,-288.776 1595.5,-279.9318 1595.5,-271.3697\"/>\n",
       "<polygon fill=\"#000000\" stroke=\"#000000\" points=\"1599.0001,-271.13 1595.5,-261.13 1592.0001,-271.13 1599.0001,-271.13\"/>\n",
       "</g>\n",
       "<!-- 38 -->\n",
       "<g id=\"node39\" class=\"node\">\n",
       "<title>38</title>\n",
       "<polygon fill=\"none\" stroke=\"#000000\" points=\"2071.5,-261 1915.5,-261 1915.5,-193 2071.5,-193 2071.5,-261\"/>\n",
       "<text text-anchor=\"middle\" x=\"1993.5\" y=\"-245.8\" font-family=\"Times,serif\" font-size=\"14.00\" fill=\"#000000\">X[1] &lt;= 2183850.0</text>\n",
       "<text text-anchor=\"middle\" x=\"1993.5\" y=\"-230.8\" font-family=\"Times,serif\" font-size=\"14.00\" fill=\"#000000\">mse = 4854.991</text>\n",
       "<text text-anchor=\"middle\" x=\"1993.5\" y=\"-215.8\" font-family=\"Times,serif\" font-size=\"14.00\" fill=\"#000000\">samples = 1228</text>\n",
       "<text text-anchor=\"middle\" x=\"1993.5\" y=\"-200.8\" font-family=\"Times,serif\" font-size=\"14.00\" fill=\"#000000\">value = 35.904</text>\n",
       "</g>\n",
       "<!-- 30&#45;&gt;38 -->\n",
       "<g id=\"edge38\" class=\"edge\">\n",
       "<title>30&#45;&gt;38</title>\n",
       "<path fill=\"none\" stroke=\"#000000\" d=\"M1667.2207,-299.778C1670.0022,-298.8032 1672.7687,-297.8727 1675.5,-297 1751.6592,-272.6653 1840.729,-253.8533 1905.1979,-241.8892\"/>\n",
       "<polygon fill=\"#000000\" stroke=\"#000000\" points=\"1906.1249,-245.2776 1915.3278,-240.0281 1904.8599,-238.3928 1906.1249,-245.2776\"/>\n",
       "</g>\n",
       "<!-- 32 -->\n",
       "<g id=\"node33\" class=\"node\">\n",
       "<title>32</title>\n",
       "<polygon fill=\"none\" stroke=\"#000000\" points=\"1587,-157 1444,-157 1444,-89 1587,-89 1587,-157\"/>\n",
       "<text text-anchor=\"middle\" x=\"1515.5\" y=\"-141.8\" font-family=\"Times,serif\" font-size=\"14.00\" fill=\"#000000\">X[3] &lt;= 4.5</text>\n",
       "<text text-anchor=\"middle\" x=\"1515.5\" y=\"-126.8\" font-family=\"Times,serif\" font-size=\"14.00\" fill=\"#000000\">mse = 34983.306</text>\n",
       "<text text-anchor=\"middle\" x=\"1515.5\" y=\"-111.8\" font-family=\"Times,serif\" font-size=\"14.00\" fill=\"#000000\">samples = 4850</text>\n",
       "<text text-anchor=\"middle\" x=\"1515.5\" y=\"-96.8\" font-family=\"Times,serif\" font-size=\"14.00\" fill=\"#000000\">value = 105.467</text>\n",
       "</g>\n",
       "<!-- 31&#45;&gt;32 -->\n",
       "<g id=\"edge32\" class=\"edge\">\n",
       "<title>31&#45;&gt;32</title>\n",
       "<path fill=\"none\" stroke=\"#000000\" d=\"M1569.305,-192.9465C1562.4675,-184.0578 1555.0166,-174.3716 1547.899,-165.1188\"/>\n",
       "<polygon fill=\"#000000\" stroke=\"#000000\" points=\"1550.6252,-162.9223 1541.7538,-157.13 1545.0768,-167.1903 1550.6252,-162.9223\"/>\n",
       "</g>\n",
       "<!-- 35 -->\n",
       "<g id=\"node36\" class=\"node\">\n",
       "<title>35</title>\n",
       "<polygon fill=\"none\" stroke=\"#000000\" points=\"1744.5,-157 1606.5,-157 1606.5,-89 1744.5,-89 1744.5,-157\"/>\n",
       "<text text-anchor=\"middle\" x=\"1675.5\" y=\"-141.8\" font-family=\"Times,serif\" font-size=\"14.00\" fill=\"#000000\">X[11] &lt;= 2589.5</text>\n",
       "<text text-anchor=\"middle\" x=\"1675.5\" y=\"-126.8\" font-family=\"Times,serif\" font-size=\"14.00\" fill=\"#000000\">mse = 58655.22</text>\n",
       "<text text-anchor=\"middle\" x=\"1675.5\" y=\"-111.8\" font-family=\"Times,serif\" font-size=\"14.00\" fill=\"#000000\">samples = 1098</text>\n",
       "<text text-anchor=\"middle\" x=\"1675.5\" y=\"-96.8\" font-family=\"Times,serif\" font-size=\"14.00\" fill=\"#000000\">value = 209.966</text>\n",
       "</g>\n",
       "<!-- 31&#45;&gt;35 -->\n",
       "<g id=\"edge35\" class=\"edge\">\n",
       "<title>31&#45;&gt;35</title>\n",
       "<path fill=\"none\" stroke=\"#000000\" d=\"M1621.695,-192.9465C1628.5325,-184.0578 1635.9834,-174.3716 1643.101,-165.1188\"/>\n",
       "<polygon fill=\"#000000\" stroke=\"#000000\" points=\"1645.9232,-167.1903 1649.2462,-157.13 1640.3748,-162.9223 1645.9232,-167.1903\"/>\n",
       "</g>\n",
       "<!-- 33 -->\n",
       "<g id=\"node34\" class=\"node\">\n",
       "<title>33</title>\n",
       "<polygon fill=\"none\" stroke=\"#000000\" points=\"1424.5,-53 1290.5,-53 1290.5,0 1424.5,0 1424.5,-53\"/>\n",
       "<text text-anchor=\"middle\" x=\"1357.5\" y=\"-37.8\" font-family=\"Times,serif\" font-size=\"14.00\" fill=\"#000000\">mse = 25001.52</text>\n",
       "<text text-anchor=\"middle\" x=\"1357.5\" y=\"-22.8\" font-family=\"Times,serif\" font-size=\"14.00\" fill=\"#000000\">samples = 3904</text>\n",
       "<text text-anchor=\"middle\" x=\"1357.5\" y=\"-7.8\" font-family=\"Times,serif\" font-size=\"14.00\" fill=\"#000000\">value = 83.664</text>\n",
       "</g>\n",
       "<!-- 32&#45;&gt;33 -->\n",
       "<g id=\"edge33\" class=\"edge\">\n",
       "<title>32&#45;&gt;33</title>\n",
       "<path fill=\"none\" stroke=\"#000000\" d=\"M1459.7951,-88.9777C1443.528,-79.0424 1425.8136,-68.2232 1409.7674,-58.4228\"/>\n",
       "<polygon fill=\"#000000\" stroke=\"#000000\" points=\"1411.4027,-55.3204 1401.0442,-53.095 1407.754,-61.2943 1411.4027,-55.3204\"/>\n",
       "</g>\n",
       "<!-- 34 -->\n",
       "<g id=\"node35\" class=\"node\">\n",
       "<title>34</title>\n",
       "<polygon fill=\"none\" stroke=\"#000000\" points=\"1586,-53 1443,-53 1443,0 1586,0 1586,-53\"/>\n",
       "<text text-anchor=\"middle\" x=\"1514.5\" y=\"-37.8\" font-family=\"Times,serif\" font-size=\"14.00\" fill=\"#000000\">mse = 66118.558</text>\n",
       "<text text-anchor=\"middle\" x=\"1514.5\" y=\"-22.8\" font-family=\"Times,serif\" font-size=\"14.00\" fill=\"#000000\">samples = 946</text>\n",
       "<text text-anchor=\"middle\" x=\"1514.5\" y=\"-7.8\" font-family=\"Times,serif\" font-size=\"14.00\" fill=\"#000000\">value = 195.446</text>\n",
       "</g>\n",
       "<!-- 32&#45;&gt;34 -->\n",
       "<g id=\"edge34\" class=\"edge\">\n",
       "<title>32&#45;&gt;34</title>\n",
       "<path fill=\"none\" stroke=\"#000000\" d=\"M1515.1474,-88.9777C1515.062,-80.7364 1514.9703,-71.887 1514.8836,-63.5153\"/>\n",
       "<polygon fill=\"#000000\" stroke=\"#000000\" points=\"1518.3807,-63.2116 1514.7772,-53.2485 1511.3811,-63.2842 1518.3807,-63.2116\"/>\n",
       "</g>\n",
       "<!-- 36 -->\n",
       "<g id=\"node37\" class=\"node\">\n",
       "<title>36</title>\n",
       "<polygon fill=\"none\" stroke=\"#000000\" points=\"1747,-53 1604,-53 1604,0 1747,0 1747,-53\"/>\n",
       "<text text-anchor=\"middle\" x=\"1675.5\" y=\"-37.8\" font-family=\"Times,serif\" font-size=\"14.00\" fill=\"#000000\">mse = 63282.324</text>\n",
       "<text text-anchor=\"middle\" x=\"1675.5\" y=\"-22.8\" font-family=\"Times,serif\" font-size=\"14.00\" fill=\"#000000\">samples = 562</text>\n",
       "<text text-anchor=\"middle\" x=\"1675.5\" y=\"-7.8\" font-family=\"Times,serif\" font-size=\"14.00\" fill=\"#000000\">value = 247.681</text>\n",
       "</g>\n",
       "<!-- 35&#45;&gt;36 -->\n",
       "<g id=\"edge36\" class=\"edge\">\n",
       "<title>35&#45;&gt;36</title>\n",
       "<path fill=\"none\" stroke=\"#000000\" d=\"M1675.5,-88.9777C1675.5,-80.7364 1675.5,-71.887 1675.5,-63.5153\"/>\n",
       "<polygon fill=\"#000000\" stroke=\"#000000\" points=\"1679.0001,-63.2484 1675.5,-53.2485 1672.0001,-63.2485 1679.0001,-63.2484\"/>\n",
       "</g>\n",
       "<!-- 37 -->\n",
       "<g id=\"node38\" class=\"node\">\n",
       "<title>37</title>\n",
       "<polygon fill=\"none\" stroke=\"#000000\" points=\"1908,-53 1765,-53 1765,0 1908,0 1908,-53\"/>\n",
       "<text text-anchor=\"middle\" x=\"1836.5\" y=\"-37.8\" font-family=\"Times,serif\" font-size=\"14.00\" fill=\"#000000\">mse = 50748.453</text>\n",
       "<text text-anchor=\"middle\" x=\"1836.5\" y=\"-22.8\" font-family=\"Times,serif\" font-size=\"14.00\" fill=\"#000000\">samples = 536</text>\n",
       "<text text-anchor=\"middle\" x=\"1836.5\" y=\"-7.8\" font-family=\"Times,serif\" font-size=\"14.00\" fill=\"#000000\">value = 170.422</text>\n",
       "</g>\n",
       "<!-- 35&#45;&gt;37 -->\n",
       "<g id=\"edge37\" class=\"edge\">\n",
       "<title>35&#45;&gt;37</title>\n",
       "<path fill=\"none\" stroke=\"#000000\" d=\"M1732.2626,-88.9777C1748.8386,-79.0424 1766.8893,-68.2232 1783.2402,-58.4228\"/>\n",
       "<polygon fill=\"#000000\" stroke=\"#000000\" points=\"1785.3511,-61.2382 1792.129,-53.095 1781.7523,-55.2341 1785.3511,-61.2382\"/>\n",
       "</g>\n",
       "<!-- 39 -->\n",
       "<g id=\"node40\" class=\"node\">\n",
       "<title>39</title>\n",
       "<polygon fill=\"none\" stroke=\"#000000\" points=\"2060.5,-157 1926.5,-157 1926.5,-89 2060.5,-89 2060.5,-157\"/>\n",
       "<text text-anchor=\"middle\" x=\"1993.5\" y=\"-141.8\" font-family=\"Times,serif\" font-size=\"14.00\" fill=\"#000000\">X[2] &lt;= 299.0</text>\n",
       "<text text-anchor=\"middle\" x=\"1993.5\" y=\"-126.8\" font-family=\"Times,serif\" font-size=\"14.00\" fill=\"#000000\">mse = 4128.402</text>\n",
       "<text text-anchor=\"middle\" x=\"1993.5\" y=\"-111.8\" font-family=\"Times,serif\" font-size=\"14.00\" fill=\"#000000\">samples = 1105</text>\n",
       "<text text-anchor=\"middle\" x=\"1993.5\" y=\"-96.8\" font-family=\"Times,serif\" font-size=\"14.00\" fill=\"#000000\">value = 25.768</text>\n",
       "</g>\n",
       "<!-- 38&#45;&gt;39 -->\n",
       "<g id=\"edge39\" class=\"edge\">\n",
       "<title>38&#45;&gt;39</title>\n",
       "<path fill=\"none\" stroke=\"#000000\" d=\"M1993.5,-192.9465C1993.5,-184.776 1993.5,-175.9318 1993.5,-167.3697\"/>\n",
       "<polygon fill=\"#000000\" stroke=\"#000000\" points=\"1997.0001,-167.13 1993.5,-157.13 1990.0001,-167.13 1997.0001,-167.13\"/>\n",
       "</g>\n",
       "<!-- 42 -->\n",
       "<g id=\"node43\" class=\"node\">\n",
       "<title>42</title>\n",
       "<polygon fill=\"none\" stroke=\"#000000\" points=\"2212.5,-149.5 2078.5,-149.5 2078.5,-96.5 2212.5,-96.5 2212.5,-149.5\"/>\n",
       "<text text-anchor=\"middle\" x=\"2145.5\" y=\"-134.3\" font-family=\"Times,serif\" font-size=\"14.00\" fill=\"#000000\">mse = 2168.478</text>\n",
       "<text text-anchor=\"middle\" x=\"2145.5\" y=\"-119.3\" font-family=\"Times,serif\" font-size=\"14.00\" fill=\"#000000\">samples = 123</text>\n",
       "<text text-anchor=\"middle\" x=\"2145.5\" y=\"-104.3\" font-family=\"Times,serif\" font-size=\"14.00\" fill=\"#000000\">value = 126.959</text>\n",
       "</g>\n",
       "<!-- 38&#45;&gt;42 -->\n",
       "<g id=\"edge42\" class=\"edge\">\n",
       "<title>38&#45;&gt;42</title>\n",
       "<path fill=\"none\" stroke=\"#000000\" d=\"M2043.2705,-192.9465C2060.9791,-180.8301 2080.8532,-167.232 2098.3368,-155.2696\"/>\n",
       "<polygon fill=\"#000000\" stroke=\"#000000\" points=\"2100.4309,-158.0776 2106.7076,-149.5422 2096.4781,-152.3005 2100.4309,-158.0776\"/>\n",
       "</g>\n",
       "<!-- 40 -->\n",
       "<g id=\"node41\" class=\"node\">\n",
       "<title>40</title>\n",
       "<polygon fill=\"none\" stroke=\"#000000\" points=\"2060.5,-53 1926.5,-53 1926.5,0 2060.5,0 2060.5,-53\"/>\n",
       "<text text-anchor=\"middle\" x=\"1993.5\" y=\"-37.8\" font-family=\"Times,serif\" font-size=\"14.00\" fill=\"#000000\">mse = 9607.009</text>\n",
       "<text text-anchor=\"middle\" x=\"1993.5\" y=\"-22.8\" font-family=\"Times,serif\" font-size=\"14.00\" fill=\"#000000\">samples = 411</text>\n",
       "<text text-anchor=\"middle\" x=\"1993.5\" y=\"-7.8\" font-family=\"Times,serif\" font-size=\"14.00\" fill=\"#000000\">value = 47.316</text>\n",
       "</g>\n",
       "<!-- 39&#45;&gt;40 -->\n",
       "<g id=\"edge40\" class=\"edge\">\n",
       "<title>39&#45;&gt;40</title>\n",
       "<path fill=\"none\" stroke=\"#000000\" d=\"M1993.5,-88.9777C1993.5,-80.7364 1993.5,-71.887 1993.5,-63.5153\"/>\n",
       "<polygon fill=\"#000000\" stroke=\"#000000\" points=\"1997.0001,-63.2484 1993.5,-53.2485 1990.0001,-63.2485 1997.0001,-63.2484\"/>\n",
       "</g>\n",
       "<!-- 41 -->\n",
       "<g id=\"node42\" class=\"node\">\n",
       "<title>41</title>\n",
       "<polygon fill=\"none\" stroke=\"#000000\" points=\"2204,-53 2079,-53 2079,0 2204,0 2204,-53\"/>\n",
       "<text text-anchor=\"middle\" x=\"2141.5\" y=\"-37.8\" font-family=\"Times,serif\" font-size=\"14.00\" fill=\"#000000\">mse = 446.045</text>\n",
       "<text text-anchor=\"middle\" x=\"2141.5\" y=\"-22.8\" font-family=\"Times,serif\" font-size=\"14.00\" fill=\"#000000\">samples = 694</text>\n",
       "<text text-anchor=\"middle\" x=\"2141.5\" y=\"-7.8\" font-family=\"Times,serif\" font-size=\"14.00\" fill=\"#000000\">value = 13.007</text>\n",
       "</g>\n",
       "<!-- 39&#45;&gt;41 -->\n",
       "<g id=\"edge41\" class=\"edge\">\n",
       "<title>39&#45;&gt;41</title>\n",
       "<path fill=\"none\" stroke=\"#000000\" d=\"M2045.6793,-88.9777C2060.7062,-79.1798 2077.0515,-68.5222 2091.9164,-58.8298\"/>\n",
       "<polygon fill=\"#000000\" stroke=\"#000000\" points=\"2094.0114,-61.6422 2100.4764,-53.2485 2090.1881,-55.7785 2094.0114,-61.6422\"/>\n",
       "</g>\n",
       "<!-- 45 -->\n",
       "<g id=\"node46\" class=\"node\">\n",
       "<title>45</title>\n",
       "<polygon fill=\"none\" stroke=\"#000000\" points=\"1989,-357.5 1846,-357.5 1846,-304.5 1989,-304.5 1989,-357.5\"/>\n",
       "<text text-anchor=\"middle\" x=\"1917.5\" y=\"-342.3\" font-family=\"Times,serif\" font-size=\"14.00\" fill=\"#000000\">mse = 76893.602</text>\n",
       "<text text-anchor=\"middle\" x=\"1917.5\" y=\"-327.3\" font-family=\"Times,serif\" font-size=\"14.00\" fill=\"#000000\">samples = 251</text>\n",
       "<text text-anchor=\"middle\" x=\"1917.5\" y=\"-312.3\" font-family=\"Times,serif\" font-size=\"14.00\" fill=\"#000000\">value = 320.637</text>\n",
       "</g>\n",
       "<!-- 44&#45;&gt;45 -->\n",
       "<g id=\"edge45\" class=\"edge\">\n",
       "<title>44&#45;&gt;45</title>\n",
       "<path fill=\"none\" stroke=\"#000000\" d=\"M1917.5,-400.9465C1917.5,-390.2621 1917.5,-378.4254 1917.5,-367.5742\"/>\n",
       "<polygon fill=\"#000000\" stroke=\"#000000\" points=\"1921.0001,-367.5421 1917.5,-357.5422 1914.0001,-367.5422 1921.0001,-367.5421\"/>\n",
       "</g>\n",
       "<!-- 46 -->\n",
       "<g id=\"node47\" class=\"node\">\n",
       "<title>46</title>\n",
       "<polygon fill=\"none\" stroke=\"#000000\" points=\"2150,-357.5 2007,-357.5 2007,-304.5 2150,-304.5 2150,-357.5\"/>\n",
       "<text text-anchor=\"middle\" x=\"2078.5\" y=\"-342.3\" font-family=\"Times,serif\" font-size=\"14.00\" fill=\"#000000\">mse = 85074.796</text>\n",
       "<text text-anchor=\"middle\" x=\"2078.5\" y=\"-327.3\" font-family=\"Times,serif\" font-size=\"14.00\" fill=\"#000000\">samples = 431</text>\n",
       "<text text-anchor=\"middle\" x=\"2078.5\" y=\"-312.3\" font-family=\"Times,serif\" font-size=\"14.00\" fill=\"#000000\">value = 499.376</text>\n",
       "</g>\n",
       "<!-- 44&#45;&gt;46 -->\n",
       "<g id=\"edge46\" class=\"edge\">\n",
       "<title>44&#45;&gt;46</title>\n",
       "<path fill=\"none\" stroke=\"#000000\" d=\"M1970.2174,-400.9465C1989.0598,-388.775 2010.2168,-375.1084 2028.7966,-363.1066\"/>\n",
       "<polygon fill=\"#000000\" stroke=\"#000000\" points=\"2030.9099,-365.9082 2037.4107,-357.5422 2027.1117,-360.0283 2030.9099,-365.9082\"/>\n",
       "</g>\n",
       "</g>\n",
       "</svg>\n"
      ],
      "text/plain": [
       "<graphviz.files.Source at 0x7fe8576da850>"
      ]
     },
     "execution_count": 215,
     "metadata": {},
     "output_type": "execute_result"
    }
   ],
   "source": [
    "#generate plot of decision tree\n",
    "graphviz.Source(tree.export_graphviz(rf, out_file=None))"
   ]
  },
  {
   "cell_type": "markdown",
   "metadata": {},
   "source": [
    "### Need more features - Let's One Hot Encode the descriptions? or try something else\n"
   ]
  },
  {
   "cell_type": "code",
   "execution_count": 184,
   "metadata": {},
   "outputs": [
    {
     "data": {
      "text/html": [
       "<div>\n",
       "<style scoped>\n",
       "    .dataframe tbody tr th:only-of-type {\n",
       "        vertical-align: middle;\n",
       "    }\n",
       "\n",
       "    .dataframe tbody tr th {\n",
       "        vertical-align: top;\n",
       "    }\n",
       "\n",
       "    .dataframe thead th {\n",
       "        text-align: right;\n",
       "    }\n",
       "</style>\n",
       "<table border=\"1\" class=\"dataframe\">\n",
       "  <thead>\n",
       "    <tr style=\"text-align: right;\">\n",
       "      <th></th>\n",
       "      <th>Permit Number</th>\n",
       "      <th>Permit Type</th>\n",
       "      <th>Permit Type Definition</th>\n",
       "      <th>Description</th>\n",
       "      <th>Current Status</th>\n",
       "      <th>Current Status Date</th>\n",
       "      <th>Filed Date</th>\n",
       "      <th>Issued Date</th>\n",
       "      <th>Completed Date</th>\n",
       "      <th>Number of Existing Stories</th>\n",
       "      <th>Number of Proposed Stories</th>\n",
       "      <th>Permit Expiration Date</th>\n",
       "      <th>Existing Use</th>\n",
       "      <th>Proposed Use</th>\n",
       "      <th>Plansets</th>\n",
       "      <th>Existing Construction Type</th>\n",
       "      <th>Existing Construction Type Description</th>\n",
       "      <th>Proposed Construction Type</th>\n",
       "      <th>Proposed Construction Type Description</th>\n",
       "      <th>Supervisor District</th>\n",
       "      <th>Neighborhoods - Analysis Boundaries</th>\n",
       "      <th>Zipcode</th>\n",
       "      <th>Location</th>\n",
       "      <th>Record ID</th>\n",
       "      <th>SF Find Neighborhoods</th>\n",
       "      <th>Current Police Districts</th>\n",
       "      <th>Current Supervisor Districts</th>\n",
       "      <th>Analysis Neighborhoods</th>\n",
       "      <th>approval_in_days</th>\n",
       "      <th>Address</th>\n",
       "      <th>Year</th>\n",
       "      <th>assess_id</th>\n",
       "      <th>Volume Number</th>\n",
       "      <th>Use Code</th>\n",
       "      <th>Use Definition</th>\n",
       "      <th>Property Class Code</th>\n",
       "      <th>Property Class Code Definition</th>\n",
       "      <th>Zoning Code</th>\n",
       "      <th>Construction Type</th>\n",
       "      <th>Lot Area</th>\n",
       "      <th>Tax Rate Area Code</th>\n",
       "      <th>Assessor Neighborhood District</th>\n",
       "      <th>Assessor Neighborhood Code</th>\n",
       "      <th>Assessor Neighborhood</th>\n",
       "    </tr>\n",
       "  </thead>\n",
       "  <tbody>\n",
       "    <tr>\n",
       "      <th>3</th>\n",
       "      <td>201707242676</td>\n",
       "      <td>8</td>\n",
       "      <td>otc alterations permit</td>\n",
       "      <td>replace (11) windows not visible from street, ...</td>\n",
       "      <td>complete</td>\n",
       "      <td>08/28/2017</td>\n",
       "      <td>2017-07-24</td>\n",
       "      <td>2017-07-24</td>\n",
       "      <td>08/28/2017</td>\n",
       "      <td>2.0</td>\n",
       "      <td>2.0</td>\n",
       "      <td>07/19/2018</td>\n",
       "      <td>1 family dwelling</td>\n",
       "      <td>1 family dwelling</td>\n",
       "      <td>0.0</td>\n",
       "      <td>5.0</td>\n",
       "      <td>wood frame (5)</td>\n",
       "      <td>5</td>\n",
       "      <td>wood frame (5)</td>\n",
       "      <td>7.0</td>\n",
       "      <td>Oceanview/Merced/Ingleside</td>\n",
       "      <td>94112.0</td>\n",
       "      <td>(37.722633125765405, -122.46195088671291)</td>\n",
       "      <td>1471551214718</td>\n",
       "      <td>64.0</td>\n",
       "      <td>10.0</td>\n",
       "      <td>8.0</td>\n",
       "      <td>24.0</td>\n",
       "      <td>0 days 00:00:00</td>\n",
       "      <td>242 Ashton Av</td>\n",
       "      <td>2017</td>\n",
       "      <td>1803809</td>\n",
       "      <td>41</td>\n",
       "      <td>SRES</td>\n",
       "      <td>Single Family Residential</td>\n",
       "      <td>D</td>\n",
       "      <td>Dwelling</td>\n",
       "      <td>RH1</td>\n",
       "      <td>D</td>\n",
       "      <td>2809.0</td>\n",
       "      <td>1000.0</td>\n",
       "      <td>3.0</td>\n",
       "      <td>3H</td>\n",
       "      <td>Ingleside</td>\n",
       "    </tr>\n",
       "    <tr>\n",
       "      <th>4</th>\n",
       "      <td>201708084132</td>\n",
       "      <td>8</td>\n",
       "      <td>otc alterations permit</td>\n",
       "      <td>replace 6 windows visible from street; no stru...</td>\n",
       "      <td>complete</td>\n",
       "      <td>01/18/2018</td>\n",
       "      <td>2017-08-08</td>\n",
       "      <td>2017-08-08</td>\n",
       "      <td>01/18/2018</td>\n",
       "      <td>2.0</td>\n",
       "      <td>2.0</td>\n",
       "      <td>08/03/2018</td>\n",
       "      <td>1 family dwelling</td>\n",
       "      <td>1 family dwelling</td>\n",
       "      <td>0.0</td>\n",
       "      <td>5.0</td>\n",
       "      <td>wood frame (5)</td>\n",
       "      <td>5</td>\n",
       "      <td>wood frame (5)</td>\n",
       "      <td>7.0</td>\n",
       "      <td>Oceanview/Merced/Ingleside</td>\n",
       "      <td>94112.0</td>\n",
       "      <td>(37.722633125765405, -122.46195088671291)</td>\n",
       "      <td>1473665214718</td>\n",
       "      <td>64.0</td>\n",
       "      <td>10.0</td>\n",
       "      <td>8.0</td>\n",
       "      <td>24.0</td>\n",
       "      <td>0 days 00:00:00</td>\n",
       "      <td>242 Ashton Av</td>\n",
       "      <td>2017</td>\n",
       "      <td>1803809</td>\n",
       "      <td>41</td>\n",
       "      <td>SRES</td>\n",
       "      <td>Single Family Residential</td>\n",
       "      <td>D</td>\n",
       "      <td>Dwelling</td>\n",
       "      <td>RH1</td>\n",
       "      <td>D</td>\n",
       "      <td>2809.0</td>\n",
       "      <td>1000.0</td>\n",
       "      <td>3.0</td>\n",
       "      <td>3H</td>\n",
       "      <td>Ingleside</td>\n",
       "    </tr>\n",
       "    <tr>\n",
       "      <th>6</th>\n",
       "      <td>201608296300</td>\n",
       "      <td>3</td>\n",
       "      <td>additions alterations or repairs</td>\n",
       "      <td>comply with nov 201625382 permit for furnace/w...</td>\n",
       "      <td>issued</td>\n",
       "      <td>05/30/2019</td>\n",
       "      <td>2016-08-29</td>\n",
       "      <td>2019-05-30</td>\n",
       "      <td>NaN</td>\n",
       "      <td>2.0</td>\n",
       "      <td>2.0</td>\n",
       "      <td>05/24/2020</td>\n",
       "      <td>1 family dwelling</td>\n",
       "      <td>2 family dwelling</td>\n",
       "      <td>2.0</td>\n",
       "      <td>5.0</td>\n",
       "      <td>wood frame (5)</td>\n",
       "      <td>5</td>\n",
       "      <td>wood frame (5)</td>\n",
       "      <td>11.0</td>\n",
       "      <td>Oceanview/Merced/Ingleside</td>\n",
       "      <td>94132.0</td>\n",
       "      <td>(37.71566908950004, -122.46503924884911)</td>\n",
       "      <td>1554232514844</td>\n",
       "      <td>65.0</td>\n",
       "      <td>10.0</td>\n",
       "      <td>1.0</td>\n",
       "      <td>24.0</td>\n",
       "      <td>1004 days 00:00:00</td>\n",
       "      <td>274A Victoria St</td>\n",
       "      <td>2016</td>\n",
       "      <td>2018919</td>\n",
       "      <td>42</td>\n",
       "      <td>SRES</td>\n",
       "      <td>Single Family Residential</td>\n",
       "      <td>D</td>\n",
       "      <td>Dwelling</td>\n",
       "      <td>RH1</td>\n",
       "      <td>D</td>\n",
       "      <td>2495.0</td>\n",
       "      <td>1000.0</td>\n",
       "      <td>3.0</td>\n",
       "      <td>3G</td>\n",
       "      <td>Ingleside Heights</td>\n",
       "    </tr>\n",
       "    <tr>\n",
       "      <th>8</th>\n",
       "      <td>201609157815</td>\n",
       "      <td>8</td>\n",
       "      <td>otc alterations permit</td>\n",
       "      <td>replace (e) brick foundation in kind with conc...</td>\n",
       "      <td>complete</td>\n",
       "      <td>01/22/2018</td>\n",
       "      <td>2016-09-15</td>\n",
       "      <td>2016-10-06</td>\n",
       "      <td>01/22/2018</td>\n",
       "      <td>2.0</td>\n",
       "      <td>2.0</td>\n",
       "      <td>10/01/2017</td>\n",
       "      <td>1 family dwelling</td>\n",
       "      <td>1 family dwelling</td>\n",
       "      <td>2.0</td>\n",
       "      <td>5.0</td>\n",
       "      <td>wood frame (5)</td>\n",
       "      <td>5</td>\n",
       "      <td>wood frame (5)</td>\n",
       "      <td>3.0</td>\n",
       "      <td>Russian Hill</td>\n",
       "      <td>94109.0</td>\n",
       "      <td>(37.795767061509025, -122.41710075059225)</td>\n",
       "      <td>143753060927</td>\n",
       "      <td>16.0</td>\n",
       "      <td>6.0</td>\n",
       "      <td>3.0</td>\n",
       "      <td>32.0</td>\n",
       "      <td>21 days 00:00:00</td>\n",
       "      <td>1310 Pacific Av</td>\n",
       "      <td>2016</td>\n",
       "      <td>1831052</td>\n",
       "      <td>2</td>\n",
       "      <td>MRES</td>\n",
       "      <td>Multi-Family Residential</td>\n",
       "      <td>FS</td>\n",
       "      <td>Flat &amp; Store 4 units or less</td>\n",
       "      <td>NC2</td>\n",
       "      <td>D</td>\n",
       "      <td>1197.0</td>\n",
       "      <td>1000.0</td>\n",
       "      <td>8.0</td>\n",
       "      <td>8C</td>\n",
       "      <td>Nob Hill</td>\n",
       "    </tr>\n",
       "    <tr>\n",
       "      <th>10</th>\n",
       "      <td>201610210942</td>\n",
       "      <td>3</td>\n",
       "      <td>additions alterations or repairs</td>\n",
       "      <td>unit legalization ord #43-14. interior alterat...</td>\n",
       "      <td>issued</td>\n",
       "      <td>01/17/2019</td>\n",
       "      <td>2016-10-21</td>\n",
       "      <td>2019-01-17</td>\n",
       "      <td>NaN</td>\n",
       "      <td>2.0</td>\n",
       "      <td>2.0</td>\n",
       "      <td>01/01/2022</td>\n",
       "      <td>1 family dwelling</td>\n",
       "      <td>2 family dwelling</td>\n",
       "      <td>2.0</td>\n",
       "      <td>5.0</td>\n",
       "      <td>wood frame (5)</td>\n",
       "      <td>5</td>\n",
       "      <td>wood frame (5)</td>\n",
       "      <td>10.0</td>\n",
       "      <td>Bayview Hunters Point</td>\n",
       "      <td>94124.0</td>\n",
       "      <td>(37.73391776288098, -122.4032854512375)</td>\n",
       "      <td>1538268513959</td>\n",
       "      <td>87.0</td>\n",
       "      <td>2.0</td>\n",
       "      <td>9.0</td>\n",
       "      <td>1.0</td>\n",
       "      <td>818 days 00:00:00</td>\n",
       "      <td>1751A Silver Av</td>\n",
       "      <td>2016</td>\n",
       "      <td>1977365</td>\n",
       "      <td>32</td>\n",
       "      <td>SRES</td>\n",
       "      <td>Single Family Residential</td>\n",
       "      <td>D</td>\n",
       "      <td>Dwelling</td>\n",
       "      <td>RH1</td>\n",
       "      <td>D</td>\n",
       "      <td>2513.0</td>\n",
       "      <td>1000.0</td>\n",
       "      <td>10.0</td>\n",
       "      <td>10G</td>\n",
       "      <td>Silver Terrace</td>\n",
       "    </tr>\n",
       "  </tbody>\n",
       "</table>\n",
       "</div>"
      ],
      "text/plain": [
       "   Permit Number  Permit Type            Permit Type Definition  \\\n",
       "3   201707242676            8            otc alterations permit   \n",
       "4   201708084132            8            otc alterations permit   \n",
       "6   201608296300            3  additions alterations or repairs   \n",
       "8   201609157815            8            otc alterations permit   \n",
       "10  201610210942            3  additions alterations or repairs   \n",
       "\n",
       "                                          Description Current Status  \\\n",
       "3   replace (11) windows not visible from street, ...       complete   \n",
       "4   replace 6 windows visible from street; no stru...       complete   \n",
       "6   comply with nov 201625382 permit for furnace/w...         issued   \n",
       "8   replace (e) brick foundation in kind with conc...       complete   \n",
       "10  unit legalization ord #43-14. interior alterat...         issued   \n",
       "\n",
       "   Current Status Date Filed Date Issued Date Completed Date  \\\n",
       "3           08/28/2017 2017-07-24  2017-07-24     08/28/2017   \n",
       "4           01/18/2018 2017-08-08  2017-08-08     01/18/2018   \n",
       "6           05/30/2019 2016-08-29  2019-05-30            NaN   \n",
       "8           01/22/2018 2016-09-15  2016-10-06     01/22/2018   \n",
       "10          01/17/2019 2016-10-21  2019-01-17            NaN   \n",
       "\n",
       "    Number of Existing Stories  Number of Proposed Stories  \\\n",
       "3                          2.0                         2.0   \n",
       "4                          2.0                         2.0   \n",
       "6                          2.0                         2.0   \n",
       "8                          2.0                         2.0   \n",
       "10                         2.0                         2.0   \n",
       "\n",
       "   Permit Expiration Date       Existing Use       Proposed Use  Plansets  \\\n",
       "3              07/19/2018  1 family dwelling  1 family dwelling       0.0   \n",
       "4              08/03/2018  1 family dwelling  1 family dwelling       0.0   \n",
       "6              05/24/2020  1 family dwelling  2 family dwelling       2.0   \n",
       "8              10/01/2017  1 family dwelling  1 family dwelling       2.0   \n",
       "10             01/01/2022  1 family dwelling  2 family dwelling       2.0   \n",
       "\n",
       "    Existing Construction Type Existing Construction Type Description  \\\n",
       "3                          5.0                         wood frame (5)   \n",
       "4                          5.0                         wood frame (5)   \n",
       "6                          5.0                         wood frame (5)   \n",
       "8                          5.0                         wood frame (5)   \n",
       "10                         5.0                         wood frame (5)   \n",
       "\n",
       "   Proposed Construction Type Proposed Construction Type Description  \\\n",
       "3                           5                         wood frame (5)   \n",
       "4                           5                         wood frame (5)   \n",
       "6                           5                         wood frame (5)   \n",
       "8                           5                         wood frame (5)   \n",
       "10                          5                         wood frame (5)   \n",
       "\n",
       "    Supervisor District Neighborhoods - Analysis Boundaries  Zipcode  \\\n",
       "3                   7.0          Oceanview/Merced/Ingleside  94112.0   \n",
       "4                   7.0          Oceanview/Merced/Ingleside  94112.0   \n",
       "6                  11.0          Oceanview/Merced/Ingleside  94132.0   \n",
       "8                   3.0                        Russian Hill  94109.0   \n",
       "10                 10.0               Bayview Hunters Point  94124.0   \n",
       "\n",
       "                                     Location      Record ID  \\\n",
       "3   (37.722633125765405, -122.46195088671291)  1471551214718   \n",
       "4   (37.722633125765405, -122.46195088671291)  1473665214718   \n",
       "6    (37.71566908950004, -122.46503924884911)  1554232514844   \n",
       "8   (37.795767061509025, -122.41710075059225)   143753060927   \n",
       "10    (37.73391776288098, -122.4032854512375)  1538268513959   \n",
       "\n",
       "    SF Find Neighborhoods  Current Police Districts  \\\n",
       "3                    64.0                      10.0   \n",
       "4                    64.0                      10.0   \n",
       "6                    65.0                      10.0   \n",
       "8                    16.0                       6.0   \n",
       "10                   87.0                       2.0   \n",
       "\n",
       "    Current Supervisor Districts  Analysis Neighborhoods    approval_in_days  \\\n",
       "3                            8.0                    24.0     0 days 00:00:00   \n",
       "4                            8.0                    24.0     0 days 00:00:00   \n",
       "6                            1.0                    24.0  1004 days 00:00:00   \n",
       "8                            3.0                    32.0    21 days 00:00:00   \n",
       "10                           9.0                     1.0   818 days 00:00:00   \n",
       "\n",
       "             Address  Year  assess_id  Volume Number Use Code  \\\n",
       "3      242 Ashton Av  2017    1803809             41     SRES   \n",
       "4      242 Ashton Av  2017    1803809             41     SRES   \n",
       "6   274A Victoria St  2016    2018919             42     SRES   \n",
       "8    1310 Pacific Av  2016    1831052              2     MRES   \n",
       "10   1751A Silver Av  2016    1977365             32     SRES   \n",
       "\n",
       "               Use Definition Property Class Code  \\\n",
       "3   Single Family Residential                   D   \n",
       "4   Single Family Residential                   D   \n",
       "6   Single Family Residential                   D   \n",
       "8    Multi-Family Residential                  FS   \n",
       "10  Single Family Residential                   D   \n",
       "\n",
       "   Property Class Code Definition Zoning Code Construction Type  Lot Area  \\\n",
       "3                        Dwelling         RH1                 D    2809.0   \n",
       "4                        Dwelling         RH1                 D    2809.0   \n",
       "6                        Dwelling         RH1                 D    2495.0   \n",
       "8    Flat & Store 4 units or less         NC2                 D    1197.0   \n",
       "10                       Dwelling         RH1                 D    2513.0   \n",
       "\n",
       "    Tax Rate Area Code  Assessor Neighborhood District  \\\n",
       "3               1000.0                             3.0   \n",
       "4               1000.0                             3.0   \n",
       "6               1000.0                             3.0   \n",
       "8               1000.0                             8.0   \n",
       "10              1000.0                            10.0   \n",
       "\n",
       "   Assessor Neighborhood Code Assessor Neighborhood  \n",
       "3                          3H             Ingleside  \n",
       "4                          3H             Ingleside  \n",
       "6                          3G     Ingleside Heights  \n",
       "8                          8C              Nob Hill  \n",
       "10                        10G        Silver Terrace  "
      ]
     },
     "execution_count": 184,
     "metadata": {},
     "output_type": "execute_result"
    }
   ],
   "source": [
    "options = [c for c in ml_ready.columns if c not in numeric_cols]\n",
    "ml_ready[options].head()"
   ]
  },
  {
   "cell_type": "code",
   "execution_count": 258,
   "metadata": {},
   "outputs": [
    {
     "data": {
      "text/plain": [
       "wood frame (5)    110848\n",
       "constr type 1       6278\n",
       "constr type 3       1311\n",
       "constr type 2        488\n",
       "constr type 4        119\n",
       "Name: Existing Construction Type Description, dtype: int64"
      ]
     },
     "execution_count": 258,
     "metadata": {},
     "output_type": "execute_result"
    }
   ],
   "source": [
    "# Existing Construction Type, Neighborhoods, Property Class Code, Use code look reasonable\n",
    "oh_cols = ['Existing Construction Type Description', 'Neighborhoods - Analysis Boundaries',\n",
    "           'Use Code', 'Property Class Code', 'Zoning Code', 'approve_days']\n",
    "ml_ready['Existing Construction Type Description'].value_counts()"
   ]
  },
  {
   "cell_type": "code",
   "execution_count": 301,
   "metadata": {},
   "outputs": [
    {
     "data": {
      "text/plain": [
       "array([['replace (11) windows not visible from street, max u-factor 0.32, no structural changes, vinyl.',\n",
       "        0],\n",
       "       ['replace 6 windows visible from street; no structural changes, wood sash max u-factor .32',\n",
       "        0],\n",
       "       ['comply with nov 201625382 permit for furnace/water heater. legalize(e)unit (unit b) on grd floor with 1 bedroom, 1 full bath, kitchen & living room per plan. add deck at rear of building for unit a access to rear yard (open common space) per plan. unit legalization ord 43-14.',\n",
       "        1004],\n",
       "       ['replace (e) brick foundation in kind with conc. foundation.',\n",
       "        21],\n",
       "       ['unit legalization ord #43-14. interior alteration only, no facade changes,  no sq. ftge added, replace garage apt (bdrm, bath, kitchen) with new relocation of bdrm, bath, kitchen & living/rec rm on the (e) 1st flr.',\n",
       "        818]], dtype=object)"
      ]
     },
     "execution_count": 301,
     "metadata": {},
     "output_type": "execute_result"
    }
   ],
   "source": [
    "ml_ready.loc[:,['Description','approve_days']].head().values"
   ]
  },
  {
   "cell_type": "code",
   "execution_count": 259,
   "metadata": {},
   "outputs": [],
   "source": [
    "from sklearn.preprocessing import OneHotEncoder"
   ]
  },
  {
   "cell_type": "code",
   "execution_count": 260,
   "metadata": {},
   "outputs": [],
   "source": [
    "oh_features_labels = ml_ready[oh_cols].dropna()"
   ]
  },
  {
   "cell_type": "code",
   "execution_count": 263,
   "metadata": {},
   "outputs": [],
   "source": [
    "oh_features = oh_features_labels[oh_cols[:-1]]\n",
    "oh_labels = oh_features_labels[oh_cols[-1]]"
   ]
  },
  {
   "cell_type": "code",
   "execution_count": 372,
   "metadata": {},
   "outputs": [],
   "source": [
    "onehot_pipe = Pipeline([\n",
    "    ('oh', OneHotEncoder()),\n",
    "    ('dtree', DecisionTreeRegressor(max_depth=12))\n",
    "])"
   ]
  },
  {
   "cell_type": "code",
   "execution_count": 373,
   "metadata": {},
   "outputs": [
    {
     "data": {
      "text/plain": [
       "Pipeline(memory=None,\n",
       "         steps=[('oh',\n",
       "                 OneHotEncoder(categories='auto', drop=None,\n",
       "                               dtype=<class 'numpy.float64'>,\n",
       "                               handle_unknown='error', sparse=True)),\n",
       "                ('dtree',\n",
       "                 DecisionTreeRegressor(ccp_alpha=0.0, criterion='mse',\n",
       "                                       max_depth=12, max_features=None,\n",
       "                                       max_leaf_nodes=None,\n",
       "                                       min_impurity_decrease=0.0,\n",
       "                                       min_impurity_split=None,\n",
       "                                       min_samples_leaf=1, min_samples_split=2,\n",
       "                                       min_weight_fraction_leaf=0.0,\n",
       "                                       presort='deprecated', random_state=None,\n",
       "                                       splitter='best'))],\n",
       "         verbose=False)"
      ]
     },
     "execution_count": 373,
     "metadata": {},
     "output_type": "execute_result"
    }
   ],
   "source": [
    "onehot_pipe.fit(oh_features,oh_labels)"
   ]
  },
  {
   "cell_type": "code",
   "execution_count": 374,
   "metadata": {},
   "outputs": [
    {
     "data": {
      "text/plain": [
       "0.047094552941678414"
      ]
     },
     "execution_count": 374,
     "metadata": {},
     "output_type": "execute_result"
    }
   ],
   "source": [
    "onehot_pipe.score(oh_features, oh_labels)"
   ]
  },
  {
   "cell_type": "code",
   "execution_count": null,
   "metadata": {},
   "outputs": [],
   "source": [
    "# Permit Type Definition already gives the game away. Can be used as a label to train a classifier that'll subtract these things out, \n",
    "# but I'll check for other clues if possible"
   ]
  },
  {
   "cell_type": "code",
   "execution_count": null,
   "metadata": {},
   "outputs": [],
   "source": [
    "# And of course, the grand daddy, Description (NLP needed here)"
   ]
  },
  {
   "cell_type": "code",
   "execution_count": null,
   "metadata": {},
   "outputs": [],
   "source": []
  },
  {
   "cell_type": "code",
   "execution_count": null,
   "metadata": {},
   "outputs": [],
   "source": []
  },
  {
   "cell_type": "code",
   "execution_count": null,
   "metadata": {},
   "outputs": [],
   "source": []
  },
  {
   "cell_type": "markdown",
   "metadata": {},
   "source": [
    "### Next section"
   ]
  },
  {
   "cell_type": "code",
   "execution_count": null,
   "metadata": {},
   "outputs": [],
   "source": []
  }
 ],
 "metadata": {
  "kernelspec": {
   "display_name": "Python 3",
   "language": "python",
   "name": "python3"
  },
  "language_info": {
   "codemirror_mode": {
    "name": "ipython",
    "version": 3
   },
   "file_extension": ".py",
   "mimetype": "text/x-python",
   "name": "python",
   "nbconvert_exporter": "python",
   "pygments_lexer": "ipython3",
   "version": "3.7.5"
  }
 },
 "nbformat": 4,
 "nbformat_minor": 4
}
