{
 "cells": [
  {
   "cell_type": "markdown",
   "metadata": {
    "heading_collapsed": true
   },
   "source": [
    "# Setup"
   ]
  },
  {
   "cell_type": "code",
   "execution_count": 1,
   "metadata": {
    "hidden": true
   },
   "outputs": [],
   "source": [
    "import dill\n",
    "import numpy as np\n",
    "import pandas as pd\n",
    "\n",
    "from sklearn.compose import ColumnTransformer\n",
    "from sklearn.ensemble import RandomForestRegressor, GradientBoostingRegressor\n",
    "from sklearn.feature_extraction.text import TfidfVectorizer\n",
    "from sklearn.impute import SimpleImputer\n",
    "from sklearn.linear_model import LinearRegression, Ridge, TweedieRegressor, ElasticNet\n",
    "from sklearn.metrics import mean_squared_error\n",
    "from sklearn.preprocessing import StandardScaler, OneHotEncoder\n",
    "from sklearn.pipeline import Pipeline\n",
    "from sklearn.model_selection import train_test_split, GridSearchCV\n",
    "from sklearn.tree import DecisionTreeRegressor\n",
    "\n",
    "from spacy.lang.en.stop_words import STOP_WORDS # avoid and, a , on, etc?\n",
    "\n",
    "import matplotlib.pyplot as plt\n",
    "import seaborn as sns\n",
    "sns.set()"
   ]
  },
  {
   "cell_type": "code",
   "execution_count": 19,
   "metadata": {
    "hidden": true
   },
   "outputs": [],
   "source": [
    "# calculate rmse \n",
    "def rmse_predict(model, X, y):\n",
    "    return np.sqrt(mean_squared_error(model.predict(X), y))"
   ]
  },
  {
   "cell_type": "code",
   "execution_count": 2,
   "metadata": {
    "hidden": true
   },
   "outputs": [],
   "source": [
    "rdf = dill.load(open('./Pickled/reg_ready.dill','rb')) #regressor-ready entries are ones not classified as same day"
   ]
  },
  {
   "cell_type": "code",
   "execution_count": 3,
   "metadata": {
    "hidden": true
   },
   "outputs": [],
   "source": [
    "rdf['delta_units'].fillna(0, inplace=True)\n",
    "rdf['Description'] = rdf['Description'].apply(lambda x: '' if not isinstance(x,str) else x)"
   ]
  },
  {
   "cell_type": "code",
   "execution_count": 4,
   "metadata": {
    "hidden": true
   },
   "outputs": [
    {
     "data": {
      "text/plain": [
       "6         comply with nov  permit for furnace/water heat...\n",
       "10        unit legalization ord #-. interior alteration ...\n",
       "13        legalization of dwelling unit installed withou...\n",
       "17        addition of new unit on st floor. no exterior ...\n",
       "21        horizontal & vertical addition, interior remod...\n",
       "                                ...                        \n",
       "129451    renovation of kitchen, bathroom & bedroom @ al...\n",
       "129452    adu: (n) dwelling unit being added at ground l...\n",
       "129453    adu: (n) dwelling unit being added at ground l...\n",
       "129454    rear addition to (e) dwelling units. total  ne...\n",
       "129455    addition of dwelling unit per ordinance #-. gr...\n",
       "Name: Description, Length: 28353, dtype: object"
      ]
     },
     "execution_count": 4,
     "metadata": {},
     "output_type": "execute_result"
    }
   ],
   "source": [
    "rdf['Description'].str.lower()"
   ]
  },
  {
   "cell_type": "code",
   "execution_count": 5,
   "metadata": {
    "hidden": true
   },
   "outputs": [
    {
     "data": {
      "text/plain": [
       "Index(['Permit Number', 'Permit Type', 'Permit Type Definition', 'Description',\n",
       "       'Current Status', 'Current Status Date', 'Filed Date', 'Issued Date',\n",
       "       'Completed Date', 'Number of Existing Stories',\n",
       "       'Number of Proposed Stories', 'Permit Expiration Date',\n",
       "       'Estimated Cost', 'Revised Cost', 'Existing Use', 'Existing Units',\n",
       "       'Proposed Use', 'Proposed Units', 'Plansets',\n",
       "       'Existing Construction Type', 'Existing Construction Type Description',\n",
       "       'Proposed Construction Type', 'Proposed Construction Type Description',\n",
       "       'Supervisor District', 'Neighborhoods - Analysis Boundaries', 'Zipcode',\n",
       "       'Location', 'Record ID', 'SF Find Neighborhoods',\n",
       "       'Current Police Districts', 'Current Supervisor Districts',\n",
       "       'Analysis Neighborhoods', 'approval_in_days', 'Address', 'SingleLine',\n",
       "       'Year', 'assess_id', 'Volume Number', 'Use Code', 'Use Definition',\n",
       "       'Property Class Code', 'Property Class Code Definition',\n",
       "       'Number of Bathrooms', 'Number of Bedrooms', 'Number of Rooms',\n",
       "       'Number of Stories', 'Number of Units', 'Zoning Code',\n",
       "       'Construction Type', 'Lot Depth', 'Lot Frontage', 'Property Area',\n",
       "       'Basement Area', 'Lot Area', 'Tax Rate Area Code',\n",
       "       'Percent of Ownership', 'Misc Exemption Value',\n",
       "       'Homeowner Exemption Value', 'Assessed Fixtures Value',\n",
       "       'Assessed Improvement Value', 'Assessed Land Value',\n",
       "       'Assessed Personal Property Value', 'Assessor Neighborhood District',\n",
       "       'Assessor Neighborhood Code', 'Assessor Neighborhood', 'delta_stories',\n",
       "       'delta_units', 'approve_days', 'bin_class'],\n",
       "      dtype='object')"
      ]
     },
     "execution_count": 5,
     "metadata": {},
     "output_type": "execute_result"
    }
   ],
   "source": [
    "rdf.columns"
   ]
  },
  {
   "cell_type": "code",
   "execution_count": 6,
   "metadata": {
    "hidden": true
   },
   "outputs": [
    {
     "data": {
      "text/plain": [
       "132.4956395348837"
      ]
     },
     "execution_count": 6,
     "metadata": {},
     "output_type": "execute_result"
    }
   ],
   "source": [
    "rdf[rdf['approve_days']>0]['approve_days'].mean()"
   ]
  },
  {
   "cell_type": "code",
   "execution_count": 7,
   "metadata": {
    "hidden": true
   },
   "outputs": [],
   "source": [
    "# add data info from Assessor dataframe here\n",
    "# rdf = rdf[np.logical_and(rdf['approve_days']>=0,rdf['approve_days']<=180)]"
   ]
  },
  {
   "cell_type": "code",
   "execution_count": 8,
   "metadata": {
    "hidden": true
   },
   "outputs": [],
   "source": [
    "labels = rdf['approve_days']\n",
    "simple_cols = ['Description',\n",
    "              'Neighborhoods - Analysis Boundaries',\n",
    "              'Revised Cost','delta_units']\n",
    "assess_cols = ['Number of Rooms','Number of Stories',\n",
    "               'Lot Depth', 'Lot Frontage', 'Basement Area', \n",
    "              'Percent of Ownership', 'Misc Exemption Value', 'Homeowner Exemption Value',\n",
    "              'Assessed Fixtures Value', 'Assessed Improvement Value', 'Assessed Land Value',\n",
    "              ] # add in the numeric columns from assessor data\n",
    "features = rdf[simple_cols]\n"
   ]
  },
  {
   "cell_type": "code",
   "execution_count": 10,
   "metadata": {
    "hidden": true
   },
   "outputs": [
    {
     "data": {
      "text/plain": [
       "Description                             object\n",
       "Neighborhoods - Analysis Boundaries     object\n",
       "Revised Cost                           float64\n",
       "delta_units                            float64\n",
       "dtype: object"
      ]
     },
     "execution_count": 10,
     "metadata": {},
     "output_type": "execute_result"
    }
   ],
   "source": [
    "features.dtypes"
   ]
  },
  {
   "cell_type": "code",
   "execution_count": 11,
   "metadata": {
    "hidden": true,
    "scrolled": true
   },
   "outputs": [],
   "source": [
    "cols = sum(1 for i in features.columns)"
   ]
  },
  {
   "cell_type": "code",
   "execution_count": 12,
   "metadata": {
    "hidden": true
   },
   "outputs": [],
   "source": [
    "Xtrain, Xtest, ytrain, ytest = train_test_split(features, labels,test_size=0.2)"
   ]
  },
  {
   "cell_type": "markdown",
   "metadata": {},
   "source": [
    "# Model/Pipeline\n"
   ]
  },
  {
   "cell_type": "code",
   "execution_count": 9,
   "metadata": {
    "scrolled": true
   },
   "outputs": [
    {
     "data": {
      "text/plain": [
       "<AxesSubplot:>"
      ]
     },
     "execution_count": 9,
     "metadata": {},
     "output_type": "execute_result"
    },
    {
     "data": {
      "image/png": "[encoded data removed]",
      "text/plain": [
       "<Figure size 432x288 with 2 Axes>"
      ]
     },
     "metadata": {},
     "output_type": "display_data"
    }
   ],
   "source": [
    "corrmat = features.corr()\n",
    "sns.heatmap(corrmat)"
   ]
  },
  {
   "cell_type": "code",
   "execution_count": 837,
   "metadata": {},
   "outputs": [],
   "source": [
    "col_imputer = ColumnTransformer(\n",
    "    [\n",
    "        ('empty', SimpleImputer(strategy='constant', fill_value=''), \n",
    "         [0,1]),\n",
    "        ('mean', SimpleImputer(strategy='mean'),\n",
    "         slice(2,cols+1))\n",
    "    \n",
    "    ], remainder='passthrough'\n",
    ")\n",
    "\n",
    "tfidf_params = {'max_features':500,\n",
    "                'ngram_range':(1,2),\n",
    "#                 'min_df':31,\n",
    "                'stop_words':STOP_WORDS.union({'ll', 've', 'NaN', 'nan', 'replace','renovation','remodel'})\n",
    "               }\n",
    "\n",
    "#note for self: single column doesn't need to be in a list\n",
    "# tfidf scaling for descriptions\n",
    "# scaling for units added\n",
    "col_trans = ColumnTransformer(\n",
    "    [('tfidf', TfidfVectorizer(**tfidf_params),0), \n",
    "     ('onehot', OneHotEncoder(),[1]),\n",
    "     ('scale', StandardScaler(),slice(2,cols+1))\n",
    "    ],\n",
    "    remainder='passthrough', sparse_threshold=0.3\n",
    ")\n",
    "\n"
   ]
  },
  {
   "cell_type": "code",
   "execution_count": 838,
   "metadata": {},
   "outputs": [],
   "source": [
    "reg_pipe = Pipeline([\n",
    "    ('impute', col_imputer),\n",
    "    ('ct', col_trans),\n",
    "    ('linreg', Ridge(alpha=0.15))\n",
    "])"
   ]
  },
  {
   "cell_type": "code",
   "execution_count": 839,
   "metadata": {},
   "outputs": [],
   "source": [
    "_ = reg_pipe.fit(Xtrain,ytrain)"
   ]
  },
  {
   "cell_type": "code",
   "execution_count": 840,
   "metadata": {},
   "outputs": [
    {
     "data": {
      "text/plain": [
       "0.38246387074025523"
      ]
     },
     "execution_count": 840,
     "metadata": {},
     "output_type": "execute_result"
    }
   ],
   "source": [
    "reg_pipe.score(Xtrain,ytrain)"
   ]
  },
  {
   "cell_type": "code",
   "execution_count": 841,
   "metadata": {},
   "outputs": [
    {
     "data": {
      "text/plain": [
       "0.3746893924577245"
      ]
     },
     "execution_count": 841,
     "metadata": {},
     "output_type": "execute_result"
    }
   ],
   "source": [
    "reg_pipe.score(Xtest, ytest)"
   ]
  },
  {
   "cell_type": "code",
   "execution_count": 842,
   "metadata": {},
   "outputs": [],
   "source": [
    "# calculate rmse \n",
    "def rmse(model, X, y):\n",
    "    return np.sqrt(mean_squared_error(model.predict(X), y))"
   ]
  },
  {
   "cell_type": "code",
   "execution_count": 843,
   "metadata": {},
   "outputs": [
    {
     "data": {
      "text/plain": [
       "153.64535519263657"
      ]
     },
     "execution_count": 843,
     "metadata": {},
     "output_type": "execute_result"
    }
   ],
   "source": [
    "rmse(reg_pipe, Xtrain, ytrain)"
   ]
  },
  {
   "cell_type": "code",
   "execution_count": 844,
   "metadata": {},
   "outputs": [
    {
     "data": {
      "text/plain": [
       "150.3089700746045"
      ]
     },
     "execution_count": 844,
     "metadata": {},
     "output_type": "execute_result"
    }
   ],
   "source": [
    "rmse(reg_pipe, Xtest, ytest)"
   ]
  },
  {
   "cell_type": "code",
   "execution_count": 845,
   "metadata": {
    "scrolled": true
   },
   "outputs": [
    {
     "name": "stdout",
     "output_type": "stream",
     "text": [
      "Fitting 5 folds for each of 1 candidates, totalling 5 fits\n"
     ]
    },
    {
     "name": "stderr",
     "output_type": "stream",
     "text": [
      "[Parallel(n_jobs=4)]: Using backend LokyBackend with 4 concurrent workers.\n",
      "[Parallel(n_jobs=4)]: Done   2 out of   5 | elapsed:    3.3s remaining:    5.0s\n",
      "[Parallel(n_jobs=4)]: Done   5 out of   5 | elapsed:    5.7s finished\n"
     ]
    },
    {
     "name": "stdout",
     "output_type": "stream",
     "text": [
      "Gradient Boost Reg\n",
      "\n",
      "Train R^2: 0.41162873148938495 rmse: 173.89023206119285\n",
      "Test R^2:0.4071227136019617 rmse:160.7744758721871\n",
      "\n",
      "\n"
     ]
    }
   ],
   "source": [
    "# here, we should write a loop to systematically test types of models including linear reg, ridge, GLM/poisson/Gaussian\n",
    "# print out their rmse and R^2 scores to compare their performances\n",
    "models_ = [\n",
    "#            LinearRegression(), \n",
    "#             Ridge(alpha=1.3), \n",
    "#            TweedieRegressor(power=1, max_iter=500, alpha=0.025),\n",
    "               RandomForestRegressor(),\n",
    "#             GradientBoostingRegressor(learning_rate=0.08,\n",
    "#                                       n_estimators=300, max_depth=3,\n",
    "#                                       max_features='auto',\n",
    "#                                       subsample=0.3\n",
    "#                                      ) # not bad, but lotsmore tuning required\n",
    "    \n",
    "\n",
    "        ] # add more models here to get a baseline of performance\n",
    "\n",
    "\n",
    "pipe_reg = Pipeline([\n",
    "    ('impute', col_imputer),\n",
    "    ('ct', col_trans),\n",
    "#     ('rf', RandomForestRegressor(n_estimators=100,max_depth=5))\n",
    "    ('tweed', TweedieRegressor()) #power=1.1, max_iter=500, alpha=0.025 ~r^2 .44 with little overfit\n",
    "#     ('gboost', GradientBoostingRegressor(learning_rate=0.04,\n",
    "#                                       n_estimators=600, max_depth=3,\n",
    "#                                       max_features='auto',\n",
    "#                                       subsample=0.3))\n",
    "])\n",
    "params = {'tweed__power': [1.18], 'tweed__alpha':[0.05],'tweed__max_iter':[1000] }\n",
    "p = GridSearchCV(pipe_reg, params, n_jobs=4, verbose=4, return_train_score=True)\n",
    "p.fit(Xtrain,ytrain)\n",
    "print(f'Gradient Boost Reg\\n\\nTrain R^2: {p.score(Xtrain,ytrain)} rmse: {rmse(p,Xtrain,ytrain)}\\nTest R^2:{p.score(Xtest,ytest)} rmse:{rmse(p,Xtest,ytest)}\\n\\n')\n"
   ]
  },
  {
   "cell_type": "code",
   "execution_count": 846,
   "metadata": {},
   "outputs": [
    {
     "data": {
      "text/plain": [
       "{'mean_fit_time': array([2.05592093]),\n",
       " 'std_fit_time': array([0.17446551]),\n",
       " 'mean_score_time': array([0.12673187]),\n",
       " 'std_score_time': array([0.00199483]),\n",
       " 'param_tweed__alpha': masked_array(data=[0.05],\n",
       "              mask=[False],\n",
       "        fill_value='?',\n",
       "             dtype=object),\n",
       " 'param_tweed__max_iter': masked_array(data=[1000],\n",
       "              mask=[False],\n",
       "        fill_value='?',\n",
       "             dtype=object),\n",
       " 'param_tweed__power': masked_array(data=[1.18],\n",
       "              mask=[False],\n",
       "        fill_value='?',\n",
       "             dtype=object),\n",
       " 'params': [{'tweed__alpha': 0.05,\n",
       "   'tweed__max_iter': 1000,\n",
       "   'tweed__power': 1.18}],\n",
       " 'split0_test_score': array([0.38774789]),\n",
       " 'split1_test_score': array([0.37741511]),\n",
       " 'split2_test_score': array([0.37928968]),\n",
       " 'split3_test_score': array([0.39323909]),\n",
       " 'split4_test_score': array([0.32190197]),\n",
       " 'mean_test_score': array([0.37191875]),\n",
       " 'std_test_score': array([0.02565673]),\n",
       " 'rank_test_score': array([1], dtype=int32),\n",
       " 'split0_train_score': array([0.41450879]),\n",
       " 'split1_train_score': array([0.41651274]),\n",
       " 'split2_train_score': array([0.41865624]),\n",
       " 'split3_train_score': array([0.41354929]),\n",
       " 'split4_train_score': array([0.41537471]),\n",
       " 'mean_train_score': array([0.41572036]),\n",
       " 'std_train_score': array([0.00176342])}"
      ]
     },
     "execution_count": 846,
     "metadata": {},
     "output_type": "execute_result"
    }
   ],
   "source": [
    "p.cv_results_\n"
   ]
  },
  {
   "cell_type": "code",
   "execution_count": 848,
   "metadata": {},
   "outputs": [],
   "source": [
    "\n",
    "Xshort = features[rdf['approve_days']<=180][simple_cols]\n",
    "yshort = rdf[rdf['approve_days']<=180]['approve_days']"
   ]
  },
  {
   "cell_type": "code",
   "execution_count": 849,
   "metadata": {},
   "outputs": [
    {
     "data": {
      "text/plain": [
       "79.37578430580405"
      ]
     },
     "execution_count": 849,
     "metadata": {},
     "output_type": "execute_result"
    }
   ],
   "source": [
    "rmse(p,Xshort,yshort)"
   ]
  },
  {
   "cell_type": "code",
   "execution_count": 850,
   "metadata": {},
   "outputs": [
    {
     "data": {
      "text/plain": [
       "(array([2.3108e+04, 3.1000e+01, 2.0000e+00, 1.0000e+00, 0.0000e+00,\n",
       "        0.0000e+00, 0.0000e+00, 0.0000e+00, 0.0000e+00, 1.0000e+00]),\n",
       " array([   9.7403137 ,  475.85033743,  941.96036116, 1408.07038488,\n",
       "        1874.18040861, 2340.29043234, 2806.40045607, 3272.51047979,\n",
       "        3738.62050352, 4204.73052725, 4670.84055098]),\n",
       " <BarContainer object of 10 artists>)"
      ]
     },
     "execution_count": 850,
     "metadata": {},
     "output_type": "execute_result"
    },
    {
     "data": {
      "image/png": "[encoded data removed]",
      "text/plain": [
       "<Figure size 432x288 with 1 Axes>"
      ]
     },
     "metadata": {},
     "output_type": "display_data"
    }
   ],
   "source": [
    "plt.hist(p.predict(Xshort))"
   ]
  },
  {
   "cell_type": "code",
   "execution_count": 793,
   "metadata": {},
   "outputs": [
    {
     "data": {
      "text/plain": [
       "{'tweed__alpha': 0.05, 'tweed__max_iter': 1000, 'tweed__power': 1.18}"
      ]
     },
     "execution_count": 793,
     "metadata": {},
     "output_type": "execute_result"
    }
   ],
   "source": [
    "p.best_params_"
   ]
  },
  {
   "cell_type": "code",
   "execution_count": 794,
   "metadata": {},
   "outputs": [],
   "source": [
    "resids = p.predict(Xtest) - ytest"
   ]
  },
  {
   "cell_type": "code",
   "execution_count": 795,
   "metadata": {
    "scrolled": true
   },
   "outputs": [
    {
     "data": {
      "text/plain": [
       "(array([5.66e+03, 9.00e+00, 1.00e+00, 0.00e+00, 0.00e+00, 0.00e+00,\n",
       "        0.00e+00, 0.00e+00, 0.00e+00, 1.00e+00]),\n",
       " array([-1272.62150407,   552.51401031,  2377.64952468,  4202.78503906,\n",
       "         6027.92055344,  7853.05606782,  9678.1915822 , 11503.32709657,\n",
       "        13328.46261095, 15153.59812533, 16978.73363971]),\n",
       " <BarContainer object of 10 artists>)"
      ]
     },
     "execution_count": 795,
     "metadata": {},
     "output_type": "execute_result"
    },
    {
     "data": {
      "image/png": "[encoded data removed]",
      "text/plain": [
       "<Figure size 432x288 with 1 Axes>"
      ]
     },
     "metadata": {},
     "output_type": "display_data"
    }
   ],
   "source": [
    "plt.hist(resids) #opportunity to do some residual estimation?"
   ]
  },
  {
   "cell_type": "code",
   "execution_count": 851,
   "metadata": {},
   "outputs": [
    {
     "data": {
      "text/plain": [
       "(array([4200.,  830.,  300.,  197.,   67.,   29.,    9.,   10.,    8.,\n",
       "           5.]),\n",
       " array([   0,  100,  200,  300,  400,  500,  600,  700,  800,  900, 1000]),\n",
       " <BarContainer object of 10 artists>)"
      ]
     },
     "execution_count": 851,
     "metadata": {},
     "output_type": "execute_result"
    },
    {
     "data": {
      "image/png": "[encoded data removed]",
      "text/plain": [
       "<Figure size 864x360 with 2 Axes>"
      ]
     },
     "metadata": {},
     "output_type": "display_data"
    }
   ],
   "source": [
    "#poisson has a more similar distribution, even if the error is larger.\n",
    "plt.figure(figsize=(12,5))\n",
    "plt.subplot(1,2,1) #training data distribution\n",
    "plt.hist(labels,bins=[x*100 for x in range(11)])\n",
    "plt.subplot(1,2,2)\n",
    "plt.hist(p.predict(Xtest),bins=[x*100 for x in range(11)]) # test prediction distribution\n"
   ]
  },
  {
   "cell_type": "code",
   "execution_count": 887,
   "metadata": {
    "scrolled": true
   },
   "outputs": [
    {
     "name": "stdout",
     "output_type": "stream",
     "text": [
      "16989 [array(['revision to pa -- - remove  deck post and deepen joist; footing details @ exterior stair; interior stair post update',\n",
      "       'Noe Valley', 2000.0, 0.0], dtype=object)]\n"
     ]
    }
   ],
   "source": [
    "import random\n",
    "n=random.randint(0,features.shape[0])\n",
    "\n",
    "print(n, [features.iloc[n].values])"
   ]
  },
  {
   "cell_type": "code",
   "execution_count": 888,
   "metadata": {
    "scrolled": true
   },
   "outputs": [
    {
     "data": {
      "text/plain": [
       "array([24.50134581])"
      ]
     },
     "execution_count": 888,
     "metadata": {},
     "output_type": "execute_result"
    }
   ],
   "source": [
    "p.predict([features.iloc[n]])"
   ]
  },
  {
   "cell_type": "code",
   "execution_count": 889,
   "metadata": {},
   "outputs": [
    {
     "data": {
      "text/plain": [
       "36"
      ]
     },
     "execution_count": 889,
     "metadata": {},
     "output_type": "execute_result"
    }
   ],
   "source": [
    "labels.iloc[n]"
   ]
  },
  {
   "cell_type": "code",
   "execution_count": 73,
   "metadata": {},
   "outputs": [
    {
     "data": {
      "text/plain": [
       "6         comply with nov  permit for furnace/water heat...\n",
       "10        unit legalization ord #-. interior alteration ...\n",
       "13        legalization of dwelling unit installed withou...\n",
       "17        addition of new unit on st floor. no exterior ...\n",
       "21        horizontal & vertical addition, interior remod...\n",
       "                                ...                        \n",
       "129451    renovation of kitchen, bathroom & bedroom @ al...\n",
       "129452    adu: (n) dwelling unit being added at ground l...\n",
       "129453    adu: (n) dwelling unit being added at ground l...\n",
       "129454    rear addition to (e) dwelling units. total  ne...\n",
       "129455    addition of dwelling unit per ordinance #-. gr...\n",
       "Name: Description, Length: 28353, dtype: object"
      ]
     },
     "execution_count": 73,
     "metadata": {},
     "output_type": "execute_result"
    }
   ],
   "source": [
    "features['Description']"
   ]
  },
  {
   "cell_type": "code",
   "execution_count": 20,
   "metadata": {},
   "outputs": [
    {
     "data": {
      "text/plain": [
       "<matplotlib.axes._subplots.AxesSubplot at 0x7fce9361c110>"
      ]
     },
     "execution_count": 20,
     "metadata": {},
     "output_type": "execute_result"
    },
    {
     "data": {
      "image/png": "[encoded data removed]",
      "text/plain": [
       "<Figure size 432x288 with 1 Axes>"
      ]
     },
     "metadata": {},
     "output_type": "display_data"
    }
   ],
   "source": [
    "rdf[legal_cols].approve_days.hist()"
   ]
  },
  {
   "cell_type": "code",
   "execution_count": 42,
   "metadata": {},
   "outputs": [
    {
     "data": {
      "text/plain": [
       "305"
      ]
     },
     "execution_count": 42,
     "metadata": {},
     "output_type": "execute_result"
    }
   ],
   "source": [
    "targets.iloc[10]"
   ]
  },
  {
   "cell_type": "markdown",
   "metadata": {
    "heading_collapsed": true
   },
   "source": [
    "# Dump the model to Dill for Export"
   ]
  },
  {
   "cell_type": "code",
   "execution_count": 821,
   "metadata": {
    "hidden": true
   },
   "outputs": [
    {
     "data": {
      "text/plain": [
       "GridSearchCV(estimator=Pipeline(steps=[('impute',\n",
       "                                        ColumnTransformer(remainder='passthrough',\n",
       "                                                          transformers=[('empty',\n",
       "                                                                         SimpleImputer(fill_value='',\n",
       "                                                                                       strategy='constant'),\n",
       "                                                                         [0,\n",
       "                                                                          1]),\n",
       "                                                                        ('mean',\n",
       "                                                                         SimpleImputer(),\n",
       "                                                                         slice(2, 16, None))])),\n",
       "                                       ('ct',\n",
       "                                        ColumnTransformer(remainder='passthrough',\n",
       "                                                          transformers=[('tfidf',\n",
       "                                                                         TfidfVectorizer(max_features=500,\n",
       "                                                                                         ngram_range=(1,\n",
       "                                                                                                      2),\n",
       "                                                                                         stop_words={\"...\n",
       "                                                                                                     'almost',\n",
       "                                                                                                     'alone',\n",
       "                                                                                                     'along',\n",
       "                                                                                                     'already',\n",
       "                                                                                                     'also',\n",
       "                                                                                                     'although',\n",
       "                                                                                                     'always',\n",
       "                                                                                                     'am',\n",
       "                                                                                                     'among',\n",
       "                                                                                                     'amongst',\n",
       "                                                                                                     'amount',\n",
       "                                                                                                     'an',\n",
       "                                                                                                     'and',\n",
       "                                                                                                     'another', ...}),\n",
       "                                                                         0),\n",
       "                                                                        ('onehot',\n",
       "                                                                         OneHotEncoder(),\n",
       "                                                                         [1]),\n",
       "                                                                        ('scale',\n",
       "                                                                         StandardScaler(),\n",
       "                                                                         slice(2, 16, None))])),\n",
       "                                       ('tweed', TweedieRegressor())]),\n",
       "             n_jobs=4,\n",
       "             param_grid={'tweed__alpha': [0.05], 'tweed__max_iter': [1000],\n",
       "                         'tweed__power': [1.18]},\n",
       "             return_train_score=True, verbose=4)"
      ]
     },
     "execution_count": 821,
     "metadata": {},
     "output_type": "execute_result"
    }
   ],
   "source": [
    "p"
   ]
  },
  {
   "cell_type": "code",
   "execution_count": 852,
   "metadata": {
    "hidden": true
   },
   "outputs": [],
   "source": [
    "dill.dump(p.best_estimator_, open('./Pickled/not_OTC_regressor.dill', 'wb'))"
   ]
  },
  {
   "cell_type": "code",
   "execution_count": 853,
   "metadata": {
    "hidden": true
   },
   "outputs": [],
   "source": [
    "preg = dill.load(open('./Pickled/not_OTC_regressor.dill', 'rb'))"
   ]
  },
  {
   "cell_type": "code",
   "execution_count": 854,
   "metadata": {
    "hidden": true
   },
   "outputs": [
    {
     "data": {
      "text/plain": [
       "0.4071227136019617"
      ]
     },
     "execution_count": 854,
     "metadata": {},
     "output_type": "execute_result"
    }
   ],
   "source": [
    "preg.score(Xtest,ytest)"
   ]
  },
  {
   "cell_type": "code",
   "execution_count": 861,
   "metadata": {
    "hidden": true
   },
   "outputs": [
    {
     "data": {
      "text/plain": [
       "array([27.73543868])"
      ]
     },
     "execution_count": 861,
     "metadata": {},
     "output_type": "execute_result"
    }
   ],
   "source": [
    "preg.predict(Xtest[:1].values)"
   ]
  },
  {
   "cell_type": "code",
   "execution_count": 866,
   "metadata": {
    "hidden": true
   },
   "outputs": [],
   "source": [
    "arr = Xtest[:1].values\n",
    "arr = [i for i in arr]"
   ]
  },
  {
   "cell_type": "code",
   "execution_count": 870,
   "metadata": {
    "hidden": true
   },
   "outputs": [],
   "source": [
    "a = [['voluntary seismic upgrade at gr level consisting of grade beams, shear wall, and hardy panels, moment frame', 'Western Addition', 20000.0, 0.0]]"
   ]
  },
  {
   "cell_type": "code",
   "execution_count": 877,
   "metadata": {
    "hidden": true
   },
   "outputs": [
    {
     "data": {
      "text/plain": [
       "27.735438684845754"
      ]
     },
     "execution_count": 877,
     "metadata": {},
     "output_type": "execute_result"
    }
   ],
   "source": [
    "p.predict(a)[0]"
   ]
  },
  {
   "cell_type": "code",
   "execution_count": 876,
   "metadata": {
    "hidden": true
   },
   "outputs": [
    {
     "data": {
      "text/plain": [
       "94347    0\n",
       "Name: approve_days, dtype: int64"
      ]
     },
     "execution_count": 876,
     "metadata": {},
     "output_type": "execute_result"
    }
   ],
   "source": [
    "ytest[:1]"
   ]
  },
  {
   "cell_type": "markdown",
   "metadata": {},
   "source": [
    "# Create Visualization for model performance @ different date ranges"
   ]
  },
  {
   "cell_type": "code",
   "execution_count": 13,
   "metadata": {},
   "outputs": [],
   "source": [
    "# load up the model \n",
    "preg = dill.load(open('./Pickled/not_OTC_regressor.dill', 'rb'))"
   ]
  },
  {
   "cell_type": "code",
   "execution_count": 14,
   "metadata": {},
   "outputs": [
    {
     "data": {
      "text/plain": [
       "array([107.93972483, 540.74900647, 133.50315188,  74.46139485,\n",
       "        29.53563872,  67.71740829,  17.58075009,  42.59193889,\n",
       "       204.59914988,  36.53736664])"
      ]
     },
     "execution_count": 14,
     "metadata": {},
     "output_type": "execute_result"
    }
   ],
   "source": [
    "preg.predict(Xtest[:10].values)"
   ]
  },
  {
   "cell_type": "code",
   "execution_count": 20,
   "metadata": {},
   "outputs": [
    {
     "data": {
      "text/plain": [
       "142.87848153777637"
      ]
     },
     "execution_count": 20,
     "metadata": {},
     "output_type": "execute_result"
    }
   ],
   "source": [
    "rmse_predict(preg, Xtest[:10], ytest[:10])"
   ]
  },
  {
   "cell_type": "code",
   "execution_count": 23,
   "metadata": {},
   "outputs": [
    {
     "data": {
      "text/plain": [
       "True"
      ]
     },
     "execution_count": 23,
     "metadata": {},
     "output_type": "execute_result"
    }
   ],
   "source": [
    "ytest.shape[0] == Xtest.shape[0]"
   ]
  },
  {
   "cell_type": "code",
   "execution_count": 36,
   "metadata": {},
   "outputs": [
    {
     "data": {
      "text/plain": [
       "[<matplotlib.lines.Line2D at 0x7fdee9a3c710>]"
      ]
     },
     "execution_count": 36,
     "metadata": {},
     "output_type": "execute_result"
    },
    {
     "data": {
      "image/png": "[encoded data removed]",
      "text/plain": [
       "<Figure size 432x288 with 1 Axes>"
      ]
     },
     "metadata": {},
     "output_type": "display_data"
    }
   ],
   "source": [
    "# repeatedly filter by indices to get different approval ranges\n",
    "error_list = []\n",
    "days_list = [i for i in range(365)]\n",
    "for ndays in days_list: # cutoff for accuracy\n",
    "    filter_indices = ytest<=ndays\n",
    "    error = rmse_predict(preg, Xtest[filter_indices], ytest[filter_indices])\n",
    "    error_list.append( error)\n",
    "    \n",
    "    \n",
    "plt.plot(days_list, error_list)"
   ]
  },
  {
   "cell_type": "code",
   "execution_count": null,
   "metadata": {},
   "outputs": [],
   "source": []
  }
 ],
 "metadata": {
  "kernelspec": {
   "display_name": "Capstone Development",
   "language": "python",
   "name": "capstone-dev"
  },
  "language_info": {
   "codemirror_mode": {
    "name": "ipython",
    "version": 3
   },
   "file_extension": ".py",
   "mimetype": "text/x-python",
   "name": "python",
   "nbconvert_exporter": "python",
   "pygments_lexer": "ipython3",
   "version": "3.7.6"
  }
 },
 "nbformat": 4,
 "nbformat_minor": 4
}
