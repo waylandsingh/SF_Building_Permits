{
 "cells": [
  {
   "cell_type": "code",
   "execution_count": 1,
   "metadata": {},
   "outputs": [],
   "source": [
    "import dill\n",
    "import matplotlib.pyplot as plt\n",
    "import pandas as pd\n",
    "import seaborn as sns\n",
    "import numpy as np\n",
    "\n",
    "import re\n",
    "sns.set()"
   ]
  },
  {
   "cell_type": "code",
   "execution_count": 3,
   "metadata": {},
   "outputs": [],
   "source": [
    "import spacy\n",
    "nlp = spacy.load(\"en\")"
   ]
  },
  {
   "cell_type": "code",
   "execution_count": 4,
   "metadata": {},
   "outputs": [],
   "source": [
    "pickle_path = './Pickled/ml_ready.pkl'\n",
    "ml_ready = pd.read_pickle(pickle_path)"
   ]
  },
  {
   "cell_type": "markdown",
   "metadata": {},
   "source": [
    "## Setup"
   ]
  },
  {
   "cell_type": "code",
   "execution_count": 5,
   "metadata": {},
   "outputs": [
    {
     "data": {
      "text/plain": [
       "Index(['Permit Number', 'Permit Type', 'Permit Type Definition', 'Description',\n",
       "       'Current Status', 'Current Status Date', 'Filed Date', 'Issued Date',\n",
       "       'Completed Date', 'Number of Existing Stories',\n",
       "       'Number of Proposed Stories', 'Permit Expiration Date',\n",
       "       'Estimated Cost', 'Revised Cost', 'Existing Use', 'Existing Units',\n",
       "       'Proposed Use', 'Proposed Units', 'Plansets',\n",
       "       'Existing Construction Type', 'Existing Construction Type Description',\n",
       "       'Proposed Construction Type', 'Proposed Construction Type Description',\n",
       "       'Supervisor District', 'Neighborhoods - Analysis Boundaries', 'Zipcode',\n",
       "       'Location', 'Record ID', 'SF Find Neighborhoods',\n",
       "       'Current Police Districts', 'Current Supervisor Districts',\n",
       "       'Analysis Neighborhoods', 'approval_in_days', 'Address', 'SingleLine',\n",
       "       'Year', 'assess_id', 'Volume Number', 'Use Code', 'Use Definition',\n",
       "       'Property Class Code', 'Property Class Code Definition',\n",
       "       'Number of Bathrooms', 'Number of Bedrooms', 'Number of Rooms',\n",
       "       'Number of Stories', 'Number of Units', 'Zoning Code',\n",
       "       'Construction Type', 'Lot Depth', 'Lot Frontage', 'Property Area',\n",
       "       'Basement Area', 'Lot Area', 'Tax Rate Area Code',\n",
       "       'Percent of Ownership', 'Misc Exemption Value',\n",
       "       'Homeowner Exemption Value', 'Assessed Fixtures Value',\n",
       "       'Assessed Improvement Value', 'Assessed Land Value',\n",
       "       'Assessed Personal Property Value', 'Assessor Neighborhood District',\n",
       "       'Assessor Neighborhood Code', 'Assessor Neighborhood', 'delta_stories',\n",
       "       'delta_units', 'approve_days'],\n",
       "      dtype='object')"
      ]
     },
     "execution_count": 5,
     "metadata": {},
     "output_type": "execute_result"
    }
   ],
   "source": [
    "ml_ready.columns"
   ]
  },
  {
   "cell_type": "code",
   "execution_count": 6,
   "metadata": {},
   "outputs": [],
   "source": [
    "# 'feature engineering' aka removing extraneous numbers\n",
    "ml_ready['Description'] = ml_ready['Description'].astype('str').apply(lambda x: re.sub(r'\\d+','',x))"
   ]
  },
  {
   "cell_type": "code",
   "execution_count": 7,
   "metadata": {},
   "outputs": [],
   "source": [
    "ml_ready['Description'] = ml_ready['Description'].astype('str')"
   ]
  },
  {
   "cell_type": "code",
   "execution_count": 8,
   "metadata": {},
   "outputs": [
    {
     "data": {
      "text/plain": [
       "Permit Type\n",
       "3      7683\n",
       "4        40\n",
       "6       125\n",
       "8    116654\n",
       "dtype: int64"
      ]
     },
     "execution_count": 8,
     "metadata": {},
     "output_type": "execute_result"
    }
   ],
   "source": [
    "ml_ready.groupby('Permit Type').size()"
   ]
  },
  {
   "cell_type": "code",
   "execution_count": 9,
   "metadata": {},
   "outputs": [],
   "source": [
    "ml_ready['bin_class'] = ml_ready['Permit Type'].apply(lambda x: 0 if x == 8 else 1)"
   ]
  },
  {
   "cell_type": "code",
   "execution_count": 10,
   "metadata": {},
   "outputs": [
    {
     "data": {
      "text/plain": [
       "0    116654\n",
       "1      7848\n",
       "Name: bin_class, dtype: int64"
      ]
     },
     "execution_count": 10,
     "metadata": {},
     "output_type": "execute_result"
    }
   ],
   "source": [
    "ml_ready['bin_class'].value_counts()"
   ]
  },
  {
   "cell_type": "code",
   "execution_count": 11,
   "metadata": {},
   "outputs": [],
   "source": [
    "groups = ml_ready.groupby(['Permit Type','Permit Type Definition'])\n",
    "desc_by_ptype = {}\n",
    "ptypes = []"
   ]
  },
  {
   "cell_type": "code",
   "execution_count": 12,
   "metadata": {},
   "outputs": [],
   "source": [
    "\n",
    "for name, group in groups:\n",
    "    desc_by_ptype[name] = group['Description'].values\n",
    "    ptypes.append(name)"
   ]
  },
  {
   "cell_type": "code",
   "execution_count": 13,
   "metadata": {},
   "outputs": [
    {
     "data": {
      "text/plain": [
       "'comply with nov  permit for furnace/water heater. legalize(e)unit (unit b) on grd floor with  bedroom,  full bath, kitchen & living room per plan. add deck at rear of building for unit a access to rear yard (open common space) per plan. unit legalization ord -.'"
      ]
     },
     "execution_count": 13,
     "metadata": {},
     "output_type": "execute_result"
    }
   ],
   "source": [
    "desc_by_ptype[ptypes[0]][0]"
   ]
  },
  {
   "cell_type": "code",
   "execution_count": 14,
   "metadata": {
    "scrolled": true
   },
   "outputs": [
    {
     "data": {
      "text/plain": [
       "[(3, 'additions alterations or repairs'),\n",
       " (4, 'sign - erect'),\n",
       " (6, 'demolitions'),\n",
       " (8, 'otc alterations permit')]"
      ]
     },
     "execution_count": 14,
     "metadata": {},
     "output_type": "execute_result"
    }
   ],
   "source": [
    "ptypes"
   ]
  },
  {
   "cell_type": "code",
   "execution_count": 15,
   "metadata": {},
   "outputs": [
    {
     "ename": "NameError",
     "evalue": "name 'td_nb' is not defined",
     "output_type": "error",
     "traceback": [
      "\u001b[0;31m---------------------------------------------------------------------------\u001b[0m",
      "\u001b[0;31mNameError\u001b[0m                                 Traceback (most recent call last)",
      "\u001b[0;32m<ipython-input-15-f1023c4ee332>\u001b[0m in \u001b[0;36m<module>\u001b[0;34m\u001b[0m\n\u001b[0;32m----> 1\u001b[0;31m \u001b[0mt\u001b[0m \u001b[0;34m=\u001b[0m \u001b[0mtd_nb\u001b[0m\u001b[0;34m.\u001b[0m\u001b[0mnamed_steps\u001b[0m\u001b[0;34m[\u001b[0m\u001b[0;34m'tfidf'\u001b[0m\u001b[0;34m]\u001b[0m\u001b[0;34m\u001b[0m\u001b[0;34m\u001b[0m\u001b[0m\n\u001b[0m\u001b[1;32m      2\u001b[0m \u001b[0mresponse\u001b[0m \u001b[0;34m=\u001b[0m \u001b[0mt\u001b[0m\u001b[0;34m.\u001b[0m\u001b[0mfit_transform\u001b[0m\u001b[0;34m(\u001b[0m\u001b[0mml_ready\u001b[0m\u001b[0;34m[\u001b[0m\u001b[0;34m'Description'\u001b[0m\u001b[0;34m]\u001b[0m\u001b[0;34m)\u001b[0m\u001b[0;34m\u001b[0m\u001b[0;34m\u001b[0m\u001b[0m\n",
      "\u001b[0;31mNameError\u001b[0m: name 'td_nb' is not defined"
     ]
    }
   ],
   "source": [
    "t = td_nb.named_steps['tfidf']\n",
    "response = t.fit_transform(ml_ready['Description'])\n"
   ]
  },
  {
   "cell_type": "code",
   "execution_count": 16,
   "metadata": {},
   "outputs": [
    {
     "ename": "NameError",
     "evalue": "name 't' is not defined",
     "output_type": "error",
     "traceback": [
      "\u001b[0;31m---------------------------------------------------------------------------\u001b[0m",
      "\u001b[0;31mNameError\u001b[0m                                 Traceback (most recent call last)",
      "\u001b[0;32m<ipython-input-16-d765d19bc679>\u001b[0m in \u001b[0;36m<module>\u001b[0;34m\u001b[0m\n\u001b[0;32m----> 1\u001b[0;31m \u001b[0mfeature_array\u001b[0m \u001b[0;34m=\u001b[0m \u001b[0mnp\u001b[0m\u001b[0;34m.\u001b[0m\u001b[0marray\u001b[0m\u001b[0;34m(\u001b[0m\u001b[0mt\u001b[0m\u001b[0;34m.\u001b[0m\u001b[0mget_feature_names\u001b[0m\u001b[0;34m(\u001b[0m\u001b[0;34m)\u001b[0m\u001b[0;34m)\u001b[0m\u001b[0;34m\u001b[0m\u001b[0;34m\u001b[0m\u001b[0m\n\u001b[0m\u001b[1;32m      2\u001b[0m \u001b[0mtfidf_sorting\u001b[0m \u001b[0;34m=\u001b[0m \u001b[0mnp\u001b[0m\u001b[0;34m.\u001b[0m\u001b[0margsort\u001b[0m\u001b[0;34m(\u001b[0m\u001b[0mresponse\u001b[0m\u001b[0;34m.\u001b[0m\u001b[0mtoarray\u001b[0m\u001b[0;34m(\u001b[0m\u001b[0;34m)\u001b[0m\u001b[0;34m)\u001b[0m\u001b[0;34m.\u001b[0m\u001b[0mflatten\u001b[0m\u001b[0;34m(\u001b[0m\u001b[0;34m)\u001b[0m\u001b[0;34m[\u001b[0m\u001b[0;34m:\u001b[0m\u001b[0;34m:\u001b[0m\u001b[0;34m-\u001b[0m\u001b[0;36m1\u001b[0m\u001b[0;34m]\u001b[0m\u001b[0;34m\u001b[0m\u001b[0;34m\u001b[0m\u001b[0m\n\u001b[1;32m      3\u001b[0m \u001b[0;34m\u001b[0m\u001b[0m\n\u001b[1;32m      4\u001b[0m \u001b[0mn\u001b[0m \u001b[0;34m=\u001b[0m \u001b[0;36m3\u001b[0m\u001b[0;34m\u001b[0m\u001b[0;34m\u001b[0m\u001b[0m\n\u001b[1;32m      5\u001b[0m \u001b[0mtop_n\u001b[0m \u001b[0;34m=\u001b[0m \u001b[0mfeature_array\u001b[0m\u001b[0;34m[\u001b[0m\u001b[0mtfidf_sorting\u001b[0m\u001b[0;34m]\u001b[0m\u001b[0;34m[\u001b[0m\u001b[0;34m:\u001b[0m\u001b[0mn\u001b[0m\u001b[0;34m]\u001b[0m\u001b[0;34m\u001b[0m\u001b[0;34m\u001b[0m\u001b[0m\n",
      "\u001b[0;31mNameError\u001b[0m: name 't' is not defined"
     ]
    }
   ],
   "source": [
    "feature_array = np.array(t.get_feature_names())\n",
    "tfidf_sorting = np.argsort(response.toarray()).flatten()[::-1]\n",
    "\n",
    "n = 3\n",
    "top_n = feature_array[tfidf_sorting][:n]"
   ]
  },
  {
   "cell_type": "markdown",
   "metadata": {},
   "source": [
    "## ISSUE - numbers in the permits indicating street, floor are quite common and polluting the features, esp as ngram_range increases\n"
   ]
  },
  {
   "cell_type": "code",
   "execution_count": 17,
   "metadata": {},
   "outputs": [],
   "source": [
    "from sklearn.model_selection import train_test_split\n",
    "\n",
    "Xtrain, Xtest, ytrain, ytest = train_test_split(\n",
    "    ml_ready['Description'].values,\n",
    "    ml_ready['bin_class'],\n",
    "    test_size = 0.2\n",
    ")"
   ]
  },
  {
   "cell_type": "code",
   "execution_count": 18,
   "metadata": {
    "scrolled": true
   },
   "outputs": [],
   "source": [
    "# Use sklear.feature_extraction.text tfidfVectorizer to get tf-idf values\n",
    "# Tfidf Vectorizer  combines of count-vectorizing AND transforming count->tfidf vals\n",
    "from sklearn.feature_extraction.text import TfidfVectorizer\n",
    "from spacy.lang.en.stop_words import STOP_WORDS # avoid and, a , on, etc?\n",
    "from sklearn.pipeline import Pipeline\n",
    "from sklearn.naive_bayes import MultinomialNB, ComplementNB\n",
    "from sklearn.model_selection import GridSearchCV\n",
    "from sklearn.metrics import make_scorer, precision_score, recall_score, roc_auc_score, roc_curve\n",
    "from sklearn.tree import DecisionTreeClassifier\n",
    "from sklearn.ensemble import RandomForestClassifier\n",
    "from sklearn.linear_model import LogisticRegression\n",
    "\n"
   ]
  },
  {
   "cell_type": "code",
   "execution_count": 30,
   "metadata": {},
   "outputs": [
    {
     "name": "stdout",
     "output_type": "stream",
     "text": [
      "Fitting 5 folds for each of 6 candidates, totalling 30 fits\n"
     ]
    },
    {
     "name": "stderr",
     "output_type": "stream",
     "text": [
      "[Parallel(n_jobs=4)]: Using backend LokyBackend with 4 concurrent workers.\n",
      "[Parallel(n_jobs=4)]: Done  17 tasks      | elapsed:   13.1s\n",
      "[Parallel(n_jobs=4)]: Done  30 out of  30 | elapsed:   22.7s finished\n"
     ]
    },
    {
     "data": {
      "text/plain": [
       "{'logreg__C': 0.1,\n",
       " 'tfidf__max_df': 0.3,\n",
       " 'tfidf__max_features': 5000,\n",
       " 'tfidf__min_df': 31,\n",
       " 'tfidf__ngram_range': (1, 2)}"
      ]
     },
     "execution_count": 30,
     "metadata": {},
     "output_type": "execute_result"
    }
   ],
   "source": [
    "params_grid = {\n",
    "    'tfidf__max_features':[5000],\n",
    "    'tfidf__ngram_range':[(1,2)],\n",
    "    'tfidf__min_df':[31], #is 2 a reasonable best value here?\n",
    "    'tfidf__max_df':[0.0001,0.001, 0.01, 0.1, 0.3, 0.5,],\n",
    "#     'tfidf__stop_words':[STOP_WORDS.union({'ll', 've'})],\n",
    "#     'rf__max_depth':[17],\n",
    "#     'rf__n_estimators':[100],\n",
    "#     'rf__class_weight':['balanced'],\n",
    "#     'logreg__solver':['saga'], no significant difference found here\n",
    "#     'logreg__penalty':['l2'] #l2 penalty shown better\n",
    "    'logreg__C':[0.1]\n",
    "    \n",
    "    \n",
    "}\n",
    "td_nb = Pipeline([\n",
    "    # Column selector (remember the ML project?)\n",
    "#     ('ct', ColumnSelectTransformer(['text'])),\n",
    "    # TFIDF Vectorizer\n",
    "    ('tfidf', TfidfVectorizer(stop_words=STOP_WORDS.union({'ll', 've', 'NaN', 'nan',\n",
    "                                                          'replace','remodel'}))),\n",
    "    # Regressor\n",
    "    ('logreg', LogisticRegression(class_weight='balanced'))\n",
    "#     ('rf', RandomForestClassifier())\n",
    "#     ('nb', ComplementNB())\n",
    "])\n",
    "\n",
    "# Grid search scoring question: precision, accuracy or recall?\n",
    "# scorer = make_scorer(precision_score, average='weighted')\n",
    "gcv = GridSearchCV(td_nb, params_grid, scoring='recall', n_jobs=4, verbose=4)\n",
    "\n",
    "gcv.fit(Xtrain,ytrain)\n",
    "gcv.best_params_"
   ]
  },
  {
   "cell_type": "code",
   "execution_count": 31,
   "metadata": {},
   "outputs": [
    {
     "data": {
      "text/plain": [
       "Pipeline(steps=[('tfidf',\n",
       "                 TfidfVectorizer(max_df=0.3, max_features=5000, min_df=31,\n",
       "                                 ngram_range=(1, 2),\n",
       "                                 stop_words={\"'d\", \"'ll\", \"'m\", \"'re\", \"'s\",\n",
       "                                             \"'ve\", 'NaN', 'a', 'about',\n",
       "                                             'above', 'across', 'after',\n",
       "                                             'afterwards', 'again', 'against',\n",
       "                                             'all', 'almost', 'alone', 'along',\n",
       "                                             'already', 'also', 'although',\n",
       "                                             'always', 'am', 'among', 'amongst',\n",
       "                                             'amount', 'an', 'and', 'another', ...})),\n",
       "                ('logreg', LogisticRegression(C=0.1, class_weight='balanced'))])"
      ]
     },
     "execution_count": 31,
     "metadata": {},
     "output_type": "execute_result"
    }
   ],
   "source": [
    "gcv.best_estimator_"
   ]
  },
  {
   "cell_type": "code",
   "execution_count": 32,
   "metadata": {},
   "outputs": [
    {
     "data": {
      "text/html": [
       "<div>\n",
       "<style scoped>\n",
       "    .dataframe tbody tr th:only-of-type {\n",
       "        vertical-align: middle;\n",
       "    }\n",
       "\n",
       "    .dataframe tbody tr th {\n",
       "        vertical-align: top;\n",
       "    }\n",
       "\n",
       "    .dataframe thead th {\n",
       "        text-align: right;\n",
       "    }\n",
       "</style>\n",
       "<table border=\"1\" class=\"dataframe\">\n",
       "  <thead>\n",
       "    <tr style=\"text-align: right;\">\n",
       "      <th></th>\n",
       "      <th>mean_fit_time</th>\n",
       "      <th>std_fit_time</th>\n",
       "      <th>mean_score_time</th>\n",
       "      <th>std_score_time</th>\n",
       "      <th>param_logreg__C</th>\n",
       "      <th>param_tfidf__max_df</th>\n",
       "      <th>param_tfidf__max_features</th>\n",
       "      <th>param_tfidf__min_df</th>\n",
       "      <th>param_tfidf__ngram_range</th>\n",
       "      <th>params</th>\n",
       "      <th>split0_test_score</th>\n",
       "      <th>split1_test_score</th>\n",
       "      <th>split2_test_score</th>\n",
       "      <th>split3_test_score</th>\n",
       "      <th>split4_test_score</th>\n",
       "      <th>mean_test_score</th>\n",
       "      <th>std_test_score</th>\n",
       "      <th>rank_test_score</th>\n",
       "    </tr>\n",
       "  </thead>\n",
       "  <tbody>\n",
       "    <tr>\n",
       "      <th>0</th>\n",
       "      <td>1.821344</td>\n",
       "      <td>0.036214</td>\n",
       "      <td>0.000000</td>\n",
       "      <td>0.000000</td>\n",
       "      <td>0.1</td>\n",
       "      <td>0.0001</td>\n",
       "      <td>5000</td>\n",
       "      <td>31</td>\n",
       "      <td>(1, 2)</td>\n",
       "      <td>{'logreg__C': 0.1, 'tfidf__max_df': 0.0001, 't...</td>\n",
       "      <td>NaN</td>\n",
       "      <td>NaN</td>\n",
       "      <td>NaN</td>\n",
       "      <td>NaN</td>\n",
       "      <td>NaN</td>\n",
       "      <td>NaN</td>\n",
       "      <td>NaN</td>\n",
       "      <td>6</td>\n",
       "    </tr>\n",
       "    <tr>\n",
       "      <th>1</th>\n",
       "      <td>2.276238</td>\n",
       "      <td>0.051873</td>\n",
       "      <td>0.397901</td>\n",
       "      <td>0.028432</td>\n",
       "      <td>0.1</td>\n",
       "      <td>0.001</td>\n",
       "      <td>5000</td>\n",
       "      <td>31</td>\n",
       "      <td>(1, 2)</td>\n",
       "      <td>{'logreg__C': 0.1, 'tfidf__max_df': 0.001, 'tf...</td>\n",
       "      <td>0.628709</td>\n",
       "      <td>0.613162</td>\n",
       "      <td>0.621188</td>\n",
       "      <td>0.616680</td>\n",
       "      <td>0.647955</td>\n",
       "      <td>0.625539</td>\n",
       "      <td>0.012354</td>\n",
       "      <td>5</td>\n",
       "    </tr>\n",
       "    <tr>\n",
       "      <th>2</th>\n",
       "      <td>2.257142</td>\n",
       "      <td>0.115799</td>\n",
       "      <td>0.407603</td>\n",
       "      <td>0.009399</td>\n",
       "      <td>0.1</td>\n",
       "      <td>0.01</td>\n",
       "      <td>5000</td>\n",
       "      <td>31</td>\n",
       "      <td>(1, 2)</td>\n",
       "      <td>{'logreg__C': 0.1, 'tfidf__max_df': 0.01, 'tfi...</td>\n",
       "      <td>0.834002</td>\n",
       "      <td>0.841894</td>\n",
       "      <td>0.846709</td>\n",
       "      <td>0.842823</td>\n",
       "      <td>0.846832</td>\n",
       "      <td>0.842452</td>\n",
       "      <td>0.004673</td>\n",
       "      <td>4</td>\n",
       "    </tr>\n",
       "    <tr>\n",
       "      <th>3</th>\n",
       "      <td>2.417219</td>\n",
       "      <td>0.044534</td>\n",
       "      <td>0.425637</td>\n",
       "      <td>0.004538</td>\n",
       "      <td>0.1</td>\n",
       "      <td>0.1</td>\n",
       "      <td>5000</td>\n",
       "      <td>31</td>\n",
       "      <td>(1, 2)</td>\n",
       "      <td>{'logreg__C': 0.1, 'tfidf__max_df': 0.1, 'tfid...</td>\n",
       "      <td>0.858861</td>\n",
       "      <td>0.879615</td>\n",
       "      <td>0.870787</td>\n",
       "      <td>0.870890</td>\n",
       "      <td>0.879711</td>\n",
       "      <td>0.871973</td>\n",
       "      <td>0.007652</td>\n",
       "      <td>3</td>\n",
       "    </tr>\n",
       "    <tr>\n",
       "      <th>4</th>\n",
       "      <td>2.543198</td>\n",
       "      <td>0.136229</td>\n",
       "      <td>0.440512</td>\n",
       "      <td>0.017742</td>\n",
       "      <td>0.1</td>\n",
       "      <td>0.3</td>\n",
       "      <td>5000</td>\n",
       "      <td>31</td>\n",
       "      <td>(1, 2)</td>\n",
       "      <td>{'logreg__C': 0.1, 'tfidf__max_df': 0.3, 'tfid...</td>\n",
       "      <td>0.868484</td>\n",
       "      <td>0.897271</td>\n",
       "      <td>0.874799</td>\n",
       "      <td>0.885325</td>\n",
       "      <td>0.886929</td>\n",
       "      <td>0.882562</td>\n",
       "      <td>0.010015</td>\n",
       "      <td>1</td>\n",
       "    </tr>\n",
       "    <tr>\n",
       "      <th>5</th>\n",
       "      <td>2.456873</td>\n",
       "      <td>0.081374</td>\n",
       "      <td>0.430384</td>\n",
       "      <td>0.011173</td>\n",
       "      <td>0.1</td>\n",
       "      <td>0.5</td>\n",
       "      <td>5000</td>\n",
       "      <td>31</td>\n",
       "      <td>(1, 2)</td>\n",
       "      <td>{'logreg__C': 0.1, 'tfidf__max_df': 0.5, 'tfid...</td>\n",
       "      <td>0.868484</td>\n",
       "      <td>0.897271</td>\n",
       "      <td>0.874799</td>\n",
       "      <td>0.885325</td>\n",
       "      <td>0.886929</td>\n",
       "      <td>0.882562</td>\n",
       "      <td>0.010015</td>\n",
       "      <td>1</td>\n",
       "    </tr>\n",
       "  </tbody>\n",
       "</table>\n",
       "</div>"
      ],
      "text/plain": [
       "   mean_fit_time  std_fit_time  mean_score_time  std_score_time  \\\n",
       "0       1.821344      0.036214         0.000000        0.000000   \n",
       "1       2.276238      0.051873         0.397901        0.028432   \n",
       "2       2.257142      0.115799         0.407603        0.009399   \n",
       "3       2.417219      0.044534         0.425637        0.004538   \n",
       "4       2.543198      0.136229         0.440512        0.017742   \n",
       "5       2.456873      0.081374         0.430384        0.011173   \n",
       "\n",
       "  param_logreg__C param_tfidf__max_df param_tfidf__max_features  \\\n",
       "0             0.1              0.0001                      5000   \n",
       "1             0.1               0.001                      5000   \n",
       "2             0.1                0.01                      5000   \n",
       "3             0.1                 0.1                      5000   \n",
       "4             0.1                 0.3                      5000   \n",
       "5             0.1                 0.5                      5000   \n",
       "\n",
       "  param_tfidf__min_df param_tfidf__ngram_range  \\\n",
       "0                  31                   (1, 2)   \n",
       "1                  31                   (1, 2)   \n",
       "2                  31                   (1, 2)   \n",
       "3                  31                   (1, 2)   \n",
       "4                  31                   (1, 2)   \n",
       "5                  31                   (1, 2)   \n",
       "\n",
       "                                              params  split0_test_score  \\\n",
       "0  {'logreg__C': 0.1, 'tfidf__max_df': 0.0001, 't...                NaN   \n",
       "1  {'logreg__C': 0.1, 'tfidf__max_df': 0.001, 'tf...           0.628709   \n",
       "2  {'logreg__C': 0.1, 'tfidf__max_df': 0.01, 'tfi...           0.834002   \n",
       "3  {'logreg__C': 0.1, 'tfidf__max_df': 0.1, 'tfid...           0.858861   \n",
       "4  {'logreg__C': 0.1, 'tfidf__max_df': 0.3, 'tfid...           0.868484   \n",
       "5  {'logreg__C': 0.1, 'tfidf__max_df': 0.5, 'tfid...           0.868484   \n",
       "\n",
       "   split1_test_score  split2_test_score  split3_test_score  split4_test_score  \\\n",
       "0                NaN                NaN                NaN                NaN   \n",
       "1           0.613162           0.621188           0.616680           0.647955   \n",
       "2           0.841894           0.846709           0.842823           0.846832   \n",
       "3           0.879615           0.870787           0.870890           0.879711   \n",
       "4           0.897271           0.874799           0.885325           0.886929   \n",
       "5           0.897271           0.874799           0.885325           0.886929   \n",
       "\n",
       "   mean_test_score  std_test_score  rank_test_score  \n",
       "0              NaN             NaN                6  \n",
       "1         0.625539        0.012354                5  \n",
       "2         0.842452        0.004673                4  \n",
       "3         0.871973        0.007652                3  \n",
       "4         0.882562        0.010015                1  \n",
       "5         0.882562        0.010015                1  "
      ]
     },
     "execution_count": 32,
     "metadata": {},
     "output_type": "execute_result"
    }
   ],
   "source": [
    "pd.DataFrame(gcv.cv_results_)"
   ]
  },
  {
   "cell_type": "code",
   "execution_count": 33,
   "metadata": {},
   "outputs": [],
   "source": [
    "from sklearn.metrics import confusion_matrix, precision_score, classification_report\n",
    "\n",
    "ypred = gcv.predict(Xtest)"
   ]
  },
  {
   "cell_type": "code",
   "execution_count": 34,
   "metadata": {},
   "outputs": [
    {
     "data": {
      "text/plain": [
       "array([[21047,  2239],\n",
       "       [  192,  1423]])"
      ]
     },
     "execution_count": 34,
     "metadata": {},
     "output_type": "execute_result"
    }
   ],
   "source": [
    "confusion_matrix(ytest,ypred)"
   ]
  },
  {
   "cell_type": "code",
   "execution_count": 24,
   "metadata": {},
   "outputs": [
    {
     "data": {
      "text/plain": [
       "array([[21048,  2238],\n",
       "       [  198,  1417]])"
      ]
     },
     "execution_count": 24,
     "metadata": {},
     "output_type": "execute_result"
    }
   ],
   "source": [
    "confusion_matrix(ytest,ypred)"
   ]
  },
  {
   "cell_type": "code",
   "execution_count": 25,
   "metadata": {},
   "outputs": [
    {
     "data": {
      "image/png": "[encoded data removed]",
      "text/plain": [
       "<Figure size 432x288 with 1 Axes>"
      ]
     },
     "metadata": {},
     "output_type": "display_data"
    }
   ],
   "source": [
    "fpr, tpr,_ = roc_curve(ytest,ypred)\n",
    "plt.plot(fpr, tpr, marker='.', label='RForest Weighted')\n",
    "# axis labels\n",
    "plt.xlabel('False Positive Rate')\n",
    "plt.ylabel('True Positive Rate')\n",
    "# show the legend\n",
    "plt.legend()\n",
    "# show the plot\n",
    "plt.show()"
   ]
  },
  {
   "cell_type": "code",
   "execution_count": 26,
   "metadata": {
    "scrolled": true
   },
   "outputs": [
    {
     "data": {
      "text/plain": [
       "array([0.        , 0.09610925, 1.        ])"
      ]
     },
     "execution_count": 26,
     "metadata": {},
     "output_type": "execute_result"
    }
   ],
   "source": [
    "fpr"
   ]
  },
  {
   "cell_type": "code",
   "execution_count": 27,
   "metadata": {},
   "outputs": [
    {
     "name": "stdout",
     "output_type": "stream",
     "text": [
      "              precision    recall  f1-score   support\n",
      "\n",
      "           0       0.99      0.90      0.95     23286\n",
      "           1       0.39      0.88      0.54      1615\n",
      "\n",
      "    accuracy                           0.90     24901\n",
      "   macro avg       0.69      0.89      0.74     24901\n",
      "weighted avg       0.95      0.90      0.92     24901\n",
      "\n"
     ]
    }
   ],
   "source": [
    "# test performance metrics for recall metric, logistic\n",
    "print(classification_report(ytest,ypred))"
   ]
  },
  {
   "cell_type": "code",
   "execution_count": 264,
   "metadata": {},
   "outputs": [
    {
     "name": "stdout",
     "output_type": "stream",
     "text": [
      "              precision    recall  f1-score   support\n",
      "\n",
      "           0       0.99      0.82      0.89     93313\n",
      "           1       0.24      0.88      0.38      6288\n",
      "\n",
      "    accuracy                           0.82     99601\n",
      "   macro avg       0.62      0.85      0.64     99601\n",
      "weighted avg       0.94      0.82      0.86     99601\n",
      "\n"
     ]
    }
   ],
   "source": [
    "# train performance metrics for recall metric logistic\n",
    "ytrain_pred = gcv.predict(Xtrain)\n",
    "print(classification_report(ytrain,ytrain_pred))"
   ]
  },
  {
   "cell_type": "code",
   "execution_count": 221,
   "metadata": {},
   "outputs": [
    {
     "name": "stdout",
     "output_type": "stream",
     "text": [
      "              precision    recall  f1-score   support\n",
      "\n",
      "           0       0.99      0.90      0.94     23341\n",
      "           1       0.37      0.88      0.52      1560\n",
      "\n",
      "    accuracy                           0.90     24901\n",
      "   macro avg       0.68      0.89      0.73     24901\n",
      "weighted avg       0.95      0.90      0.92     24901\n",
      "\n"
     ]
    }
   ],
   "source": [
    "# test performance metrics for recall metric, logistic reg\n",
    "# print(classification_report(ytest,ypred))"
   ]
  },
  {
   "cell_type": "code",
   "execution_count": 226,
   "metadata": {},
   "outputs": [
    {
     "name": "stdout",
     "output_type": "stream",
     "text": [
      "              precision    recall  f1-score   support\n",
      "\n",
      "           0       1.00      0.92      0.96     93313\n",
      "           1       0.44      0.95      0.60      6288\n",
      "\n",
      "    accuracy                           0.92     99601\n",
      "   macro avg       0.72      0.93      0.78     99601\n",
      "weighted avg       0.96      0.92      0.93     99601\n",
      "\n"
     ]
    }
   ],
   "source": [
    "# train performance metrics for recall metric logistic\n",
    "# ytrain_pred = gcv.predict(Xtrain)\n",
    "# print(classification_report(ytrain,ytrain_pred))"
   ]
  },
  {
   "cell_type": "code",
   "execution_count": 180,
   "metadata": {},
   "outputs": [
    {
     "name": "stdout",
     "output_type": "stream",
     "text": [
      "              precision    recall  f1-score   support\n",
      "\n",
      "           0       0.98      0.97      0.97     23341\n",
      "           1       0.60      0.74      0.66      1560\n",
      "\n",
      "    accuracy                           0.95     24901\n",
      "   macro avg       0.79      0.85      0.82     24901\n",
      "weighted avg       0.96      0.95      0.95     24901\n",
      "\n"
     ]
    }
   ],
   "source": [
    "# test performance using auc-roc as metric for cross validation logistic\n",
    "# print(classification_report(ytest,ypred))"
   ]
  },
  {
   "cell_type": "code",
   "execution_count": 181,
   "metadata": {
    "scrolled": false
   },
   "outputs": [
    {
     "name": "stdout",
     "output_type": "stream",
     "text": [
      "              precision    recall  f1-score   support\n",
      "\n",
      "           0       0.98      0.97      0.98     93313\n",
      "           1       0.62      0.77      0.69      6288\n",
      "\n",
      "    accuracy                           0.96     99601\n",
      "   macro avg       0.80      0.87      0.83     99601\n",
      "weighted avg       0.96      0.96      0.96     99601\n",
      "\n"
     ]
    }
   ],
   "source": [
    "# baseline on the model using auc-roc as metric for cross validation logistic\n",
    "# ytrain_pred = gcv.predict(Xtrain)\n",
    "# print(classification_report(ytrain,ytrain_pred))"
   ]
  },
  {
   "cell_type": "markdown",
   "metadata": {},
   "source": [
    "### Save Best Estimator"
   ]
  },
  {
   "cell_type": "code",
   "execution_count": 28,
   "metadata": {},
   "outputs": [],
   "source": [
    "dill.dump(gcv.best_estimator_, open('./Pickled/classifierOTC.dill', 'wb'))"
   ]
  },
  {
   "cell_type": "code",
   "execution_count": 251,
   "metadata": {},
   "outputs": [],
   "source": [
    "classifier = dill.load(open('./Pickled/classifierOTC.dill','rb'))"
   ]
  },
  {
   "cell_type": "code",
   "execution_count": 252,
   "metadata": {},
   "outputs": [
    {
     "data": {
      "text/plain": [
       "24901"
      ]
     },
     "execution_count": 252,
     "metadata": {},
     "output_type": "execute_result"
    }
   ],
   "source": [
    "(classifier.predict(Xtest)==ypred).sum()"
   ]
  },
  {
   "cell_type": "code",
   "execution_count": 194,
   "metadata": {},
   "outputs": [
    {
     "name": "stdout",
     "output_type": "stream",
     "text": [
      "st floor - horiz. addition approx '\", remodel (e) living room.  nd floor horiz. addition approx '\", remodel (e) bedroom. rd floor horiz addition approx. '\" plus roof deck, remodel (e) bedroom. 1 [1]\n"
     ]
    }
   ],
   "source": [
    "n = 38\n",
    "print(Xtest[n], ytest.values[n], gcv.predict([Xtest[n]]))"
   ]
  },
  {
   "cell_type": "code",
   "execution_count": 214,
   "metadata": {
    "scrolled": true
   },
   "outputs": [
    {
     "data": {
      "text/plain": [
       "array([0])"
      ]
     },
     "execution_count": 214,
     "metadata": {},
     "output_type": "execute_result"
    }
   ],
   "source": [
    "def test_synthetic(st):\n",
    "    return gcv.predict([st])\n",
    "fakepermit = 'replace window addition horiz remodel bedroom'\n",
    "test_synthetic(fakepermit)"
   ]
  },
  {
   "cell_type": "markdown",
   "metadata": {},
   "source": [
    "## Extract the indices where non-zero is predicted for use in training the regressor\n"
   ]
  },
  {
   "cell_type": "code",
   "execution_count": 257,
   "metadata": {},
   "outputs": [],
   "source": [
    "nz_array = gcv.predict(ml_ready['Description'])==1"
   ]
  },
  {
   "cell_type": "code",
   "execution_count": 258,
   "metadata": {},
   "outputs": [
    {
     "data": {
      "text/plain": [
       "array([False, False,  True, ...,  True,  True,  True])"
      ]
     },
     "execution_count": 258,
     "metadata": {},
     "output_type": "execute_result"
    }
   ],
   "source": [
    "nz_array"
   ]
  },
  {
   "cell_type": "code",
   "execution_count": 268,
   "metadata": {},
   "outputs": [],
   "source": [
    "reg_ready = ml_ready.iloc[nz_array]"
   ]
  },
  {
   "cell_type": "code",
   "execution_count": 270,
   "metadata": {},
   "outputs": [],
   "source": [
    "dill.dump(reg_ready, open('./Pickled/reg_ready.dill','wb'))"
   ]
  },
  {
   "cell_type": "code",
   "execution_count": 271,
   "metadata": {},
   "outputs": [],
   "source": [
    "z = dill.load(open('./Pickled/reg_ready.dill', 'rb'))"
   ]
  },
  {
   "cell_type": "code",
   "execution_count": 274,
   "metadata": {},
   "outputs": [
    {
     "data": {
      "text/html": [
       "<div>\n",
       "<style scoped>\n",
       "    .dataframe tbody tr th:only-of-type {\n",
       "        vertical-align: middle;\n",
       "    }\n",
       "\n",
       "    .dataframe tbody tr th {\n",
       "        vertical-align: top;\n",
       "    }\n",
       "\n",
       "    .dataframe thead th {\n",
       "        text-align: right;\n",
       "    }\n",
       "</style>\n",
       "<table border=\"1\" class=\"dataframe\">\n",
       "  <thead>\n",
       "    <tr style=\"text-align: right;\">\n",
       "      <th></th>\n",
       "      <th>Permit Number</th>\n",
       "      <th>Permit Type</th>\n",
       "      <th>Permit Type Definition</th>\n",
       "      <th>Description</th>\n",
       "      <th>Current Status</th>\n",
       "      <th>Current Status Date</th>\n",
       "      <th>Filed Date</th>\n",
       "      <th>Issued Date</th>\n",
       "      <th>Completed Date</th>\n",
       "      <th>Number of Existing Stories</th>\n",
       "      <th>...</th>\n",
       "      <th>Assessed Improvement Value</th>\n",
       "      <th>Assessed Land Value</th>\n",
       "      <th>Assessed Personal Property Value</th>\n",
       "      <th>Assessor Neighborhood District</th>\n",
       "      <th>Assessor Neighborhood Code</th>\n",
       "      <th>Assessor Neighborhood</th>\n",
       "      <th>delta_stories</th>\n",
       "      <th>delta_units</th>\n",
       "      <th>approve_days</th>\n",
       "      <th>bin_class</th>\n",
       "    </tr>\n",
       "  </thead>\n",
       "  <tbody>\n",
       "    <tr>\n",
       "      <th>6</th>\n",
       "      <td>201608296300</td>\n",
       "      <td>3</td>\n",
       "      <td>additions alterations or repairs</td>\n",
       "      <td>comply with nov  permit for furnace/water heat...</td>\n",
       "      <td>issued</td>\n",
       "      <td>05/30/2019</td>\n",
       "      <td>2016-08-29</td>\n",
       "      <td>2019-05-30</td>\n",
       "      <td>NaN</td>\n",
       "      <td>2.0</td>\n",
       "      <td>...</td>\n",
       "      <td>180566</td>\n",
       "      <td>421328</td>\n",
       "      <td>0</td>\n",
       "      <td>3.0</td>\n",
       "      <td>3G</td>\n",
       "      <td>Ingleside Heights</td>\n",
       "      <td>0.0</td>\n",
       "      <td>1.0</td>\n",
       "      <td>1004</td>\n",
       "      <td>1</td>\n",
       "    </tr>\n",
       "    <tr>\n",
       "      <th>10</th>\n",
       "      <td>201610210942</td>\n",
       "      <td>3</td>\n",
       "      <td>additions alterations or repairs</td>\n",
       "      <td>unit legalization ord #-. interior alteration ...</td>\n",
       "      <td>issued</td>\n",
       "      <td>01/17/2019</td>\n",
       "      <td>2016-10-21</td>\n",
       "      <td>2019-01-17</td>\n",
       "      <td>NaN</td>\n",
       "      <td>2.0</td>\n",
       "      <td>...</td>\n",
       "      <td>171424</td>\n",
       "      <td>399997</td>\n",
       "      <td>0</td>\n",
       "      <td>10.0</td>\n",
       "      <td>10G</td>\n",
       "      <td>Silver Terrace</td>\n",
       "      <td>0.0</td>\n",
       "      <td>1.0</td>\n",
       "      <td>818</td>\n",
       "      <td>1</td>\n",
       "    </tr>\n",
       "    <tr>\n",
       "      <th>13</th>\n",
       "      <td>201410027943</td>\n",
       "      <td>3</td>\n",
       "      <td>additions alterations or repairs</td>\n",
       "      <td>legalization of dwelling unit installed withou...</td>\n",
       "      <td>issued</td>\n",
       "      <td>09/10/2018</td>\n",
       "      <td>2014-10-02</td>\n",
       "      <td>2018-09-10</td>\n",
       "      <td>NaN</td>\n",
       "      <td>2.0</td>\n",
       "      <td>...</td>\n",
       "      <td>106737</td>\n",
       "      <td>115393</td>\n",
       "      <td>0</td>\n",
       "      <td>10.0</td>\n",
       "      <td>10B</td>\n",
       "      <td>Croker Amazon</td>\n",
       "      <td>0.0</td>\n",
       "      <td>1.0</td>\n",
       "      <td>1439</td>\n",
       "      <td>1</td>\n",
       "    </tr>\n",
       "    <tr>\n",
       "      <th>17</th>\n",
       "      <td>201706270468</td>\n",
       "      <td>3</td>\n",
       "      <td>additions alterations or repairs</td>\n",
       "      <td>addition of new unit on st floor. no exterior ...</td>\n",
       "      <td>complete</td>\n",
       "      <td>09/18/2019</td>\n",
       "      <td>2017-06-27</td>\n",
       "      <td>2019-02-28</td>\n",
       "      <td>09/18/2019</td>\n",
       "      <td>3.0</td>\n",
       "      <td>...</td>\n",
       "      <td>450891</td>\n",
       "      <td>1029207</td>\n",
       "      <td>0</td>\n",
       "      <td>2.0</td>\n",
       "      <td>2F</td>\n",
       "      <td>Inner Sunset</td>\n",
       "      <td>0.0</td>\n",
       "      <td>1.0</td>\n",
       "      <td>611</td>\n",
       "      <td>1</td>\n",
       "    </tr>\n",
       "    <tr>\n",
       "      <th>21</th>\n",
       "      <td>201712015271</td>\n",
       "      <td>3</td>\n",
       "      <td>additions alterations or repairs</td>\n",
       "      <td>horizontal &amp; vertical addition, interior remod...</td>\n",
       "      <td>issued</td>\n",
       "      <td>01/16/2019</td>\n",
       "      <td>2017-12-01</td>\n",
       "      <td>2019-01-16</td>\n",
       "      <td>NaN</td>\n",
       "      <td>2.0</td>\n",
       "      <td>...</td>\n",
       "      <td>703800</td>\n",
       "      <td>1642200</td>\n",
       "      <td>0</td>\n",
       "      <td>9.0</td>\n",
       "      <td>9C</td>\n",
       "      <td>Inner Mission</td>\n",
       "      <td>1.0</td>\n",
       "      <td>2.0</td>\n",
       "      <td>411</td>\n",
       "      <td>1</td>\n",
       "    </tr>\n",
       "  </tbody>\n",
       "</table>\n",
       "<p>5 rows × 69 columns</p>\n",
       "</div>"
      ],
      "text/plain": [
       "   Permit Number  Permit Type            Permit Type Definition  \\\n",
       "6   201608296300            3  additions alterations or repairs   \n",
       "10  201610210942            3  additions alterations or repairs   \n",
       "13  201410027943            3  additions alterations or repairs   \n",
       "17  201706270468            3  additions alterations or repairs   \n",
       "21  201712015271            3  additions alterations or repairs   \n",
       "\n",
       "                                          Description Current Status  \\\n",
       "6   comply with nov  permit for furnace/water heat...         issued   \n",
       "10  unit legalization ord #-. interior alteration ...         issued   \n",
       "13  legalization of dwelling unit installed withou...         issued   \n",
       "17  addition of new unit on st floor. no exterior ...       complete   \n",
       "21  horizontal & vertical addition, interior remod...         issued   \n",
       "\n",
       "   Current Status Date Filed Date Issued Date Completed Date  \\\n",
       "6           05/30/2019 2016-08-29  2019-05-30            NaN   \n",
       "10          01/17/2019 2016-10-21  2019-01-17            NaN   \n",
       "13          09/10/2018 2014-10-02  2018-09-10            NaN   \n",
       "17          09/18/2019 2017-06-27  2019-02-28     09/18/2019   \n",
       "21          01/16/2019 2017-12-01  2019-01-16            NaN   \n",
       "\n",
       "    Number of Existing Stories  ...  Assessed Improvement Value  \\\n",
       "6                          2.0  ...                      180566   \n",
       "10                         2.0  ...                      171424   \n",
       "13                         2.0  ...                      106737   \n",
       "17                         3.0  ...                      450891   \n",
       "21                         2.0  ...                      703800   \n",
       "\n",
       "   Assessed Land Value  Assessed Personal Property Value  \\\n",
       "6               421328                                 0   \n",
       "10              399997                                 0   \n",
       "13              115393                                 0   \n",
       "17             1029207                                 0   \n",
       "21             1642200                                 0   \n",
       "\n",
       "    Assessor Neighborhood District Assessor Neighborhood Code  \\\n",
       "6                              3.0                         3G   \n",
       "10                            10.0                        10G   \n",
       "13                            10.0                        10B   \n",
       "17                             2.0                         2F   \n",
       "21                             9.0                         9C   \n",
       "\n",
       "    Assessor Neighborhood delta_stories  delta_units  approve_days  bin_class  \n",
       "6       Ingleside Heights           0.0          1.0          1004          1  \n",
       "10         Silver Terrace           0.0          1.0           818          1  \n",
       "13          Croker Amazon           0.0          1.0          1439          1  \n",
       "17           Inner Sunset           0.0          1.0           611          1  \n",
       "21          Inner Mission           1.0          2.0           411          1  \n",
       "\n",
       "[5 rows x 69 columns]"
      ]
     },
     "execution_count": 274,
     "metadata": {},
     "output_type": "execute_result"
    }
   ],
   "source": [
    "z.head()"
   ]
  },
  {
   "cell_type": "markdown",
   "metadata": {},
   "source": [
    "## Other"
   ]
  },
  {
   "cell_type": "code",
   "execution_count": null,
   "metadata": {},
   "outputs": [],
   "source": [
    "# spacy provides one way to tokenize words: this can be userful for smaller documents. \n",
    "doc = nlp(samples[1])"
   ]
  },
  {
   "cell_type": "code",
   "execution_count": null,
   "metadata": {},
   "outputs": [],
   "source": []
  },
  {
   "cell_type": "code",
   "execution_count": null,
   "metadata": {},
   "outputs": [],
   "source": [
    "doc"
   ]
  },
  {
   "cell_type": "code",
   "execution_count": null,
   "metadata": {},
   "outputs": [],
   "source": []
  }
 ],
 "metadata": {
  "kernelspec": {
   "display_name": "Capstone Development",
   "language": "python",
   "name": "capstone-dev"
  },
  "language_info": {
   "codemirror_mode": {
    "name": "ipython",
    "version": 3
   },
   "file_extension": ".py",
   "mimetype": "text/x-python",
   "name": "python",
   "nbconvert_exporter": "python",
   "pygments_lexer": "ipython3",
   "version": "3.7.6"
  }
 },
 "nbformat": 4,
 "nbformat_minor": 4
}
