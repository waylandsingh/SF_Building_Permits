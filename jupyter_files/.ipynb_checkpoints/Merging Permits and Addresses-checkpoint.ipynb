{
 "cells": [
  {
   "cell_type": "markdown",
   "metadata": {},
   "source": [
    "# Permits:\n",
    "Due to the difficulty of getting the geopandas module to work, this notebook will focus on cleaning up dates out of range, non-residential properties in the permits, and calculating approval time\n",
    "\n",
    "### would be good to turn these into functions which can be applied"
   ]
  },
  {
   "cell_type": "code",
   "execution_count": 2,
   "metadata": {},
   "outputs": [],
   "source": [
    "import pandas as pd\n",
    "import numpy as np\n",
    "import datetime\n",
    "import pandas_usaddress\n",
    "\n",
    "def trim_zeros(st):\n",
    "    if isinstance(st,str):\n",
    "        if st == '0000':\n",
    "            return ''\n",
    "        return st.lstrip('0')\n",
    "    else:\n",
    "        return None"
   ]
  },
  {
   "cell_type": "code",
   "execution_count": 16,
   "metadata": {},
   "outputs": [],
   "source": [
    "df = pd.read_csv('Building_Permits.csv', low_memory=False)"
   ]
  },
  {
   "cell_type": "code",
   "execution_count": 17,
   "metadata": {},
   "outputs": [
    {
     "data": {
      "text/plain": [
       "Index(['Permit Number', 'Permit Type', 'Permit Type Definition',\n",
       "       'Permit Creation Date', 'Block', 'Lot', 'Street Number',\n",
       "       'Street Number Suffix', 'Street Name', 'Street Suffix', 'Unit',\n",
       "       'Unit Suffix', 'Description', 'Current Status', 'Current Status Date',\n",
       "       'Filed Date', 'Issued Date', 'Completed Date',\n",
       "       'First Construction Document Date', 'Structural Notification',\n",
       "       'Number of Existing Stories', 'Number of Proposed Stories',\n",
       "       'Voluntary Soft-Story Retrofit', 'Fire Only Permit',\n",
       "       'Permit Expiration Date', 'Estimated Cost', 'Revised Cost',\n",
       "       'Existing Use', 'Existing Units', 'Proposed Use', 'Proposed Units',\n",
       "       'Plansets', 'TIDF Compliance', 'Existing Construction Type',\n",
       "       'Existing Construction Type Description', 'Proposed Construction Type',\n",
       "       'Proposed Construction Type Description', 'Site Permit',\n",
       "       'Supervisor District', 'Neighborhoods - Analysis Boundaries', 'Zipcode',\n",
       "       'Location', 'Record ID', 'SF Find Neighborhoods',\n",
       "       'Current Police Districts', 'Current Supervisor Districts',\n",
       "       'Analysis Neighborhoods', 'DELETE - Zip Codes',\n",
       "       'DELETE - Fire Prevention Districts', 'DELETE - Supervisor Districts',\n",
       "       'DELETE - Current Police Districts',\n",
       "       'DELETE - Supervisorial_Districts_Waterline_data_from_7pkg_wer3'],\n",
       "      dtype='object')"
      ]
     },
     "execution_count": 17,
     "metadata": {},
     "output_type": "execute_result"
    }
   ],
   "source": [
    "df.columns"
   ]
  },
  {
   "cell_type": "code",
   "execution_count": 18,
   "metadata": {},
   "outputs": [],
   "source": [
    "# drop useless columns\n",
    "del_cols = df.iloc[:,-5:].columns\n",
    "df.drop(del_cols, axis=1, inplace=True)"
   ]
  },
  {
   "cell_type": "markdown",
   "metadata": {
    "heading_collapsed": true
   },
   "source": [
    "### First, restrict the dataset to the last 30 years"
   ]
  },
  {
   "cell_type": "code",
   "execution_count": 5,
   "metadata": {
    "hidden": true
   },
   "outputs": [],
   "source": [
    "df['Permit Creation Date'] = pd.to_datetime(df['Filed Date'])\n",
    "df.set_index('Permit Creation Date', inplace = True)"
   ]
  },
  {
   "cell_type": "code",
   "execution_count": 6,
   "metadata": {
    "hidden": true
   },
   "outputs": [],
   "source": [
    "# July12007 to June302018\n",
    "# also need to restrict projects that aren't finished yet?\n",
    "# \n",
    "df_permits = df[(df.index >= datetime.datetime(2007,7,1)) & (df.index <= datetime.datetime(2018,6,30))] "
   ]
  },
  {
   "cell_type": "code",
   "execution_count": 7,
   "metadata": {
    "hidden": true
   },
   "outputs": [
    {
     "data": {
      "text/plain": [
       "1 family dwelling       97609\n",
       "apartments              77081\n",
       "office                  46791\n",
       "2 family dwelling       46108\n",
       "retail sales            14213\n",
       "food/beverage hndlng    10275\n",
       "tourist hotel/motel      3206\n",
       "vacant lot               2264\n",
       "warehouse,no frnitur     1612\n",
       "residential hotel        1588\n",
       "school                   1383\n",
       "lending institution      1205\n",
       "clinics-medic/dental     1066\n",
       "church                   1000\n",
       "artist live/work          804\n",
       "Name: Existing Use, dtype: int64"
      ]
     },
     "execution_count": 7,
     "metadata": {},
     "output_type": "execute_result"
    }
   ],
   "source": [
    "df_permits['Existing Use'].value_counts().head(15)"
   ]
  },
  {
   "cell_type": "markdown",
   "metadata": {
    "heading_collapsed": true
   },
   "source": [
    "### Restrict the dataset to only dwellings and apartments"
   ]
  },
  {
   "cell_type": "code",
   "execution_count": 8,
   "metadata": {
    "hidden": true
   },
   "outputs": [],
   "source": [
    "residences = ['1 family dwelling','apartments','2 family dwelling']\n",
    "df_res = pd.concat([df_permits.groupby('Existing Use').get_group(r) for r in residences])"
   ]
  },
  {
   "cell_type": "code",
   "execution_count": 9,
   "metadata": {
    "hidden": true
   },
   "outputs": [
    {
     "data": {
      "text/plain": [
       "1 family dwelling    97609\n",
       "apartments           77081\n",
       "2 family dwelling    46108\n",
       "Name: Existing Use, dtype: int64"
      ]
     },
     "execution_count": 9,
     "metadata": {},
     "output_type": "execute_result"
    }
   ],
   "source": [
    "df_res['Existing Use'].value_counts()"
   ]
  },
  {
   "cell_type": "code",
   "execution_count": 10,
   "metadata": {
    "hidden": true
   },
   "outputs": [
    {
     "data": {
      "text/plain": [
       "(220798, 46)"
      ]
     },
     "execution_count": 10,
     "metadata": {},
     "output_type": "execute_result"
    }
   ],
   "source": [
    "df_res.shape"
   ]
  },
  {
   "cell_type": "code",
   "execution_count": 11,
   "metadata": {
    "hidden": true
   },
   "outputs": [
    {
     "data": {
      "text/plain": [
       "0.9575403762715242"
      ]
     },
     "execution_count": 11,
     "metadata": {},
     "output_type": "execute_result"
    }
   ],
   "source": [
    "# percemtage of permits with a a valid issue date\n",
    "df_res['Issued Date'].notna().sum()/df_res['Issued Date'].shape[0]\n"
   ]
  },
  {
   "cell_type": "markdown",
   "metadata": {
    "heading_collapsed": true
   },
   "source": [
    "### approval time(days)\n"
   ]
  },
  {
   "cell_type": "code",
   "execution_count": 12,
   "metadata": {
    "hidden": true
   },
   "outputs": [],
   "source": [
    "df_res['Filed Date'] = df_res['Filed Date'].apply(pd.to_datetime)\n",
    "df_res['Issued Date'] = df_res['Issued Date'].apply(pd.to_datetime)\n"
   ]
  },
  {
   "cell_type": "code",
   "execution_count": 13,
   "metadata": {
    "hidden": true
   },
   "outputs": [],
   "source": [
    "df_res['approval_in_days'] = df_res['Issued Date'] - df_res['Filed Date']"
   ]
  },
  {
   "cell_type": "code",
   "execution_count": 14,
   "metadata": {
    "hidden": true
   },
   "outputs": [
    {
     "data": {
      "text/plain": [
       "count                      211423\n",
       "mean      32 days 17:25:28.403248\n",
       "std      126 days 01:23:19.318148\n",
       "min               0 days 00:00:00\n",
       "25%               0 days 00:00:00\n",
       "50%               0 days 00:00:00\n",
       "75%               4 days 00:00:00\n",
       "max            4472 days 00:00:00\n",
       "Name: approval_in_days, dtype: object"
      ]
     },
     "execution_count": 14,
     "metadata": {},
     "output_type": "execute_result"
    }
   ],
   "source": [
    "df_res['approval_in_days'].dropna().describe()"
   ]
  },
  {
   "cell_type": "markdown",
   "metadata": {
    "heading_collapsed": true
   },
   "source": [
    "### Clean Address in Series"
   ]
  },
  {
   "cell_type": "code",
   "execution_count": 16,
   "metadata": {
    "hidden": true
   },
   "outputs": [],
   "source": [
    "df_res['Street Number Suffix'] = df_res['Street Number Suffix'].replace(np.NaN,'')\n",
    "df_res['Street Suffix'] = df_res['Street Suffix'].replace(np.NaN,'')\n",
    "df_res['Unit'] = df_res['Unit'].fillna(0).apply(lambda x: str(int(x)) if (int(x)>0) else '')"
   ]
  },
  {
   "cell_type": "code",
   "execution_count": 31,
   "metadata": {
    "hidden": true
   },
   "outputs": [
    {
     "ename": "NameError",
     "evalue": "name 'df_res' is not defined",
     "output_type": "error",
     "traceback": [
      "\u001b[0;31m---------------------------------------------------------------------------\u001b[0m",
      "\u001b[0;31mNameError\u001b[0m                                 Traceback (most recent call last)",
      "\u001b[0;32m<ipython-input-31-e71e3b8b5d4b>\u001b[0m in \u001b[0;36m<module>\u001b[0;34m\u001b[0m\n\u001b[0;32m----> 1\u001b[0;31m \u001b[0mdf_res\u001b[0m\u001b[0;34m[\u001b[0m\u001b[0;34m'Unit'\u001b[0m\u001b[0;34m]\u001b[0m\u001b[0;34m\u001b[0m\u001b[0;34m\u001b[0m\u001b[0m\n\u001b[0m",
      "\u001b[0;31mNameError\u001b[0m: name 'df_res' is not defined"
     ]
    }
   ],
   "source": [
    "df_res['Unit']"
   ]
  },
  {
   "cell_type": "code",
   "execution_count": 17,
   "metadata": {
    "hidden": true
   },
   "outputs": [],
   "source": [
    "\n",
    "df_res['Address'] = (df_res['Street Number'].astype('str') + df_res['Street Number Suffix'].astype('str')\n",
    "                    + ' ' + df_res['Street Name'].astype('str')  + ' ' + df_res['Street Suffix'].astype('str')\n",
    "                    + ' ' + df_res['Unit'].astype('str') + ' ' + df_res['Unit Suffix'].astype('str')\n",
    "                    )\n",
    "                    \n",
    "df_res['Address'] = df_res['Address'].apply(lambda x: \" \".join(x.strip(' nan').strip(' nan').split()))"
   ]
  },
  {
   "cell_type": "code",
   "execution_count": 18,
   "metadata": {
    "hidden": true,
    "scrolled": true
   },
   "outputs": [
    {
     "data": {
      "text/plain": [
       "Permit Creation Date\n",
       "2007-07-17             1420 La Playa A\n",
       "2007-09-05            422 Vallejo St A\n",
       "2007-09-17           1344 Alabama St B\n",
       "2007-09-27              1575 22nd Av F\n",
       "2007-10-19          292 Arlington St F\n",
       "                        ...           \n",
       "2018-04-11      4503 18th St RES UPPER\n",
       "2018-04-13    1269 South Van Ness Av D\n",
       "2018-05-16          1619 48th Av UPPER\n",
       "2018-06-04           140 Arguello Bl A\n",
       "2018-06-06           222 Winfield St A\n",
       "Name: Address, Length: 3195, dtype: object"
      ]
     },
     "execution_count": 18,
     "metadata": {},
     "output_type": "execute_result"
    }
   ],
   "source": [
    "df_res['Address'][df_res['Unit Suffix'].notna()] #checking the appended number suffixes: there WILL BE SOME ISSUES ~1%"
   ]
  },
  {
   "cell_type": "code",
   "execution_count": 19,
   "metadata": {
    "hidden": true
   },
   "outputs": [
    {
     "data": {
      "text/plain": [
       "Index(['Permit Number', 'Permit Type', 'Permit Type Definition', 'Block',\n",
       "       'Lot', 'Street Number', 'Street Number Suffix', 'Street Name',\n",
       "       'Street Suffix', 'Unit', 'Unit Suffix', 'Description', 'Current Status',\n",
       "       'Current Status Date', 'Filed Date', 'Issued Date', 'Completed Date',\n",
       "       'First Construction Document Date', 'Structural Notification',\n",
       "       'Number of Existing Stories', 'Number of Proposed Stories',\n",
       "       'Voluntary Soft-Story Retrofit', 'Fire Only Permit',\n",
       "       'Permit Expiration Date', 'Estimated Cost', 'Revised Cost',\n",
       "       'Existing Use', 'Existing Units', 'Proposed Use', 'Proposed Units',\n",
       "       'Plansets', 'TIDF Compliance', 'Existing Construction Type',\n",
       "       'Existing Construction Type Description', 'Proposed Construction Type',\n",
       "       'Proposed Construction Type Description', 'Site Permit',\n",
       "       'Supervisor District', 'Neighborhoods - Analysis Boundaries', 'Zipcode',\n",
       "       'Location', 'Record ID', 'SF Find Neighborhoods',\n",
       "       'Current Police Districts', 'Current Supervisor Districts',\n",
       "       'Analysis Neighborhoods', 'approval_in_days', 'Address'],\n",
       "      dtype='object')"
      ]
     },
     "execution_count": 19,
     "metadata": {},
     "output_type": "execute_result"
    }
   ],
   "source": [
    "df_res.columns"
   ]
  },
  {
   "cell_type": "code",
   "execution_count": 20,
   "metadata": {
    "hidden": true
   },
   "outputs": [],
   "source": [
    "#pickle the dataframe for later\n",
    "# path_pickle = './Pickled/df_res_use_addr.pkl'\n",
    "# df_res.to_pickle(path_pickle)"
   ]
  },
  {
   "cell_type": "markdown",
   "metadata": {
    "heading_collapsed": true
   },
   "source": [
    "### Cleaned(ish) permits data"
   ]
  },
  {
   "cell_type": "code",
   "execution_count": 14,
   "metadata": {
    "hidden": true
   },
   "outputs": [],
   "source": [
    "path_pickle = './Pickled/df_res_use_addr.pkl'\n",
    "df_permits = pd.read_pickle(path_pickle)"
   ]
  },
  {
   "cell_type": "markdown",
   "metadata": {
    "heading_collapsed": true
   },
   "source": [
    "### Assessor Data\n",
    "Splitting the address and reassembling them in a way that (hopefully?) makes sense\n",
    "\n",
    "split the property location into : \n",
    "'Street Number', 'Street Number Suffix', 'Street Name',\n",
    "       'Street Suffix', 'Unit', 'Unit Suffix'"
   ]
  },
  {
   "cell_type": "code",
   "execution_count": 23,
   "metadata": {
    "hidden": true,
    "scrolled": true
   },
   "outputs": [
    {
     "name": "stderr",
     "output_type": "stream",
     "text": [
      "/home/jovyan/conda-envs/capstone-dev/lib/python3.7/site-packages/IPython/core/interactiveshell.py:3072: DtypeWarning: Columns (27) have mixed types.Specify dtype option on import or set low_memory=False.\n",
      "  interactivity=interactivity, compiler=compiler, result=result)\n"
     ]
    }
   ],
   "source": [
    "df_assess = pd.read_csv('./Assessor Notebooks/Residence Assessor.csv')"
   ]
  },
  {
   "cell_type": "code",
   "execution_count": 24,
   "metadata": {
    "hidden": true
   },
   "outputs": [
    {
     "data": {
      "text/plain": [
       "0      0000 0297 BALTIMORE           WY0000\n",
       "1      0000 0666 POST                ST1503\n",
       "2      0000 0650 CHESTNUT            ST0202\n",
       "3      0000 0611 WASHINGTON          ST2402\n",
       "4      0000 0000                       0000\n",
       "5      0000 1925 LEAVENWORTH         ST0012\n",
       "6      0000 0849 MASON               ST0001\n",
       "7     0000 0690 CHESTNUT            ST0202C\n",
       "8      0000 2001 GRANT               AV0000\n",
       "9     0000 0044 MACONDRAY           LN0006E\n",
       "10     0000 0006 SHARP               PL0000\n",
       "11     0000 0850 POWELL              ST0301\n",
       "12     0000 0240 LOMBARD             ST0289\n",
       "13     0000 1520 TAYLOR              ST0205\n",
       "14     0000 0850 POWELL              ST0903\n",
       "15     0156 0150 LOMBARD             ST0027\n",
       "16     0000 0999 GREEN               ST3101\n",
       "17     0000 1001 PINE                ST1412\n",
       "18    0000 0101 LOMBARD             ST0801W\n",
       "19     0000 0666 FILBERT             ST0000\n",
       "Name: Property Location, dtype: object"
      ]
     },
     "execution_count": 24,
     "metadata": {},
     "output_type": "execute_result"
    }
   ],
   "source": [
    "df_assess['Property Location'].head(20)"
   ]
  },
  {
   "cell_type": "code",
   "execution_count": 25,
   "metadata": {
    "hidden": true
   },
   "outputs": [],
   "source": [
    "def parse_assess_address(series):\n",
    "    series.apply(lambda x: x.split())\n",
    "    print(series.apply(lambda x: x.split()))"
   ]
  },
  {
   "cell_type": "code",
   "execution_count": 26,
   "metadata": {
    "hidden": true
   },
   "outputs": [
    {
     "name": "stdout",
     "output_type": "stream",
     "text": [
      "0     [0000, 0297, BALTIMORE, WY0000]\n",
      "1          [0000, 0666, POST, ST1503]\n",
      "2      [0000, 0650, CHESTNUT, ST0202]\n",
      "3    [0000, 0611, WASHINGTON, ST2402]\n",
      "4                  [0000, 0000, 0000]\n",
      "Name: Property Location, dtype: object\n"
     ]
    }
   ],
   "source": [
    "parse_assess_address(df_assess['Property Location'].head())"
   ]
  },
  {
   "cell_type": "markdown",
   "metadata": {
    "heading_collapsed": true
   },
   "source": [
    "### Address cleaned - Permits\n"
   ]
  },
  {
   "cell_type": "code",
   "execution_count": 27,
   "metadata": {
    "hidden": true
   },
   "outputs": [],
   "source": []
  },
  {
   "cell_type": "code",
   "execution_count": 15,
   "metadata": {
    "hidden": true
   },
   "outputs": [
    {
     "data": {
      "text/plain": [
       "(220798, 48)"
      ]
     },
     "execution_count": 15,
     "metadata": {},
     "output_type": "execute_result"
    }
   ],
   "source": [
    "df_permits.shape"
   ]
  },
  {
   "cell_type": "code",
   "execution_count": null,
   "metadata": {
    "hidden": true
   },
   "outputs": [],
   "source": []
  },
  {
   "cell_type": "code",
   "execution_count": 16,
   "metadata": {
    "hidden": true
   },
   "outputs": [],
   "source": [
    "# altneratively, can try to standardize to s asingle address\n",
    "addr_cols = ['Street Number', 'Street Name','Street Suffix', 'Unit']\n",
    "\n",
    "df_tagged_single = pandas_usaddress.tag(df_permits,addr_cols, granularity='single', standardize=True)"
   ]
  },
  {
   "cell_type": "code",
   "execution_count": 47,
   "metadata": {
    "hidden": true
   },
   "outputs": [
    {
     "data": {
      "text/html": [
       "<div>\n",
       "<style scoped>\n",
       "    .dataframe tbody tr th:only-of-type {\n",
       "        vertical-align: middle;\n",
       "    }\n",
       "\n",
       "    .dataframe tbody tr th {\n",
       "        vertical-align: top;\n",
       "    }\n",
       "\n",
       "    .dataframe thead th {\n",
       "        text-align: right;\n",
       "    }\n",
       "</style>\n",
       "<table border=\"1\" class=\"dataframe\">\n",
       "  <thead>\n",
       "    <tr style=\"text-align: right;\">\n",
       "      <th></th>\n",
       "      <th>Permit Number</th>\n",
       "      <th>Permit Type</th>\n",
       "      <th>Permit Type Definition</th>\n",
       "      <th>Block</th>\n",
       "      <th>Lot</th>\n",
       "      <th>Street Number</th>\n",
       "      <th>Street Number Suffix</th>\n",
       "      <th>Street Name</th>\n",
       "      <th>Street Suffix</th>\n",
       "      <th>Unit</th>\n",
       "      <th>...</th>\n",
       "      <th>Zipcode</th>\n",
       "      <th>Location</th>\n",
       "      <th>Record ID</th>\n",
       "      <th>SF Find Neighborhoods</th>\n",
       "      <th>Current Police Districts</th>\n",
       "      <th>Current Supervisor Districts</th>\n",
       "      <th>Analysis Neighborhoods</th>\n",
       "      <th>approval_in_days</th>\n",
       "      <th>Address</th>\n",
       "      <th>SingleLine</th>\n",
       "    </tr>\n",
       "    <tr>\n",
       "      <th>Permit Creation Date</th>\n",
       "      <th></th>\n",
       "      <th></th>\n",
       "      <th></th>\n",
       "      <th></th>\n",
       "      <th></th>\n",
       "      <th></th>\n",
       "      <th></th>\n",
       "      <th></th>\n",
       "      <th></th>\n",
       "      <th></th>\n",
       "      <th></th>\n",
       "      <th></th>\n",
       "      <th></th>\n",
       "      <th></th>\n",
       "      <th></th>\n",
       "      <th></th>\n",
       "      <th></th>\n",
       "      <th></th>\n",
       "      <th></th>\n",
       "      <th></th>\n",
       "      <th></th>\n",
       "    </tr>\n",
       "  </thead>\n",
       "  <tbody>\n",
       "    <tr>\n",
       "      <th>2014-02-03</th>\n",
       "      <td>201402037639</td>\n",
       "      <td>8</td>\n",
       "      <td>otc alterations permit</td>\n",
       "      <td>4219</td>\n",
       "      <td>043</td>\n",
       "      <td>1123</td>\n",
       "      <td>NaN</td>\n",
       "      <td>Carolina</td>\n",
       "      <td>St</td>\n",
       "      <td>NaN</td>\n",
       "      <td>...</td>\n",
       "      <td>94107.0</td>\n",
       "      <td>(37.754306947688534, -122.39931683984678)</td>\n",
       "      <td>1331529172376</td>\n",
       "      <td>54.0</td>\n",
       "      <td>2.0</td>\n",
       "      <td>9.0</td>\n",
       "      <td>26.0</td>\n",
       "      <td>NaN</td>\n",
       "      <td>1123 Carolina St</td>\n",
       "      <td>1123 carolina st</td>\n",
       "    </tr>\n",
       "    <tr>\n",
       "      <th>2017-12-18</th>\n",
       "      <td>201712186766</td>\n",
       "      <td>3</td>\n",
       "      <td>additions alterations or repairs</td>\n",
       "      <td>6940</td>\n",
       "      <td>031</td>\n",
       "      <td>242</td>\n",
       "      <td>NaN</td>\n",
       "      <td>Ashton</td>\n",
       "      <td>Av</td>\n",
       "      <td>NaN</td>\n",
       "      <td>...</td>\n",
       "      <td>94112.0</td>\n",
       "      <td>(37.7226331255751, -122.46195088679892)</td>\n",
       "      <td>1491022214718</td>\n",
       "      <td>64.0</td>\n",
       "      <td>10.0</td>\n",
       "      <td>8.0</td>\n",
       "      <td>24.0</td>\n",
       "      <td>NaN</td>\n",
       "      <td>242 Ashton Av</td>\n",
       "      <td>242 ashton ave</td>\n",
       "    </tr>\n",
       "    <tr>\n",
       "      <th>2016-08-29</th>\n",
       "      <td>201608296300</td>\n",
       "      <td>3</td>\n",
       "      <td>additions alterations or repairs</td>\n",
       "      <td>7089</td>\n",
       "      <td>040</td>\n",
       "      <td>274</td>\n",
       "      <td>NaN</td>\n",
       "      <td>Victoria</td>\n",
       "      <td>St</td>\n",
       "      <td>NaN</td>\n",
       "      <td>...</td>\n",
       "      <td>94132.0</td>\n",
       "      <td>(37.71566908934369, -122.46503924892617)</td>\n",
       "      <td>1435480220959</td>\n",
       "      <td>65.0</td>\n",
       "      <td>10.0</td>\n",
       "      <td>1.0</td>\n",
       "      <td>24.0</td>\n",
       "      <td>NaN</td>\n",
       "      <td>274 Victoria St</td>\n",
       "      <td>274 victoria st</td>\n",
       "    </tr>\n",
       "    <tr>\n",
       "      <th>2015-06-02</th>\n",
       "      <td>201506027829</td>\n",
       "      <td>3</td>\n",
       "      <td>additions alterations or repairs</td>\n",
       "      <td>5841</td>\n",
       "      <td>005</td>\n",
       "      <td>423</td>\n",
       "      <td>NaN</td>\n",
       "      <td>Justin</td>\n",
       "      <td>Dr</td>\n",
       "      <td>NaN</td>\n",
       "      <td>...</td>\n",
       "      <td>94110.0</td>\n",
       "      <td>(37.73195576909413, -122.42389453610747)</td>\n",
       "      <td>1383635189245</td>\n",
       "      <td>93.0</td>\n",
       "      <td>9.0</td>\n",
       "      <td>2.0</td>\n",
       "      <td>2.0</td>\n",
       "      <td>NaN</td>\n",
       "      <td>423 Justin Dr</td>\n",
       "      <td>423 justin dr</td>\n",
       "    </tr>\n",
       "    <tr>\n",
       "      <th>2016-12-21</th>\n",
       "      <td>201612215583</td>\n",
       "      <td>3</td>\n",
       "      <td>additions alterations or repairs</td>\n",
       "      <td>0155</td>\n",
       "      <td>013</td>\n",
       "      <td>1310</td>\n",
       "      <td>NaN</td>\n",
       "      <td>Pacific</td>\n",
       "      <td>Av</td>\n",
       "      <td>NaN</td>\n",
       "      <td>...</td>\n",
       "      <td>94109.0</td>\n",
       "      <td>(37.79576706146776, -122.41710075064503)</td>\n",
       "      <td>144822060927</td>\n",
       "      <td>16.0</td>\n",
       "      <td>6.0</td>\n",
       "      <td>3.0</td>\n",
       "      <td>32.0</td>\n",
       "      <td>NaN</td>\n",
       "      <td>1310 Pacific Av</td>\n",
       "      <td>1310 pacific ave</td>\n",
       "    </tr>\n",
       "  </tbody>\n",
       "</table>\n",
       "<p>5 rows × 49 columns</p>\n",
       "</div>"
      ],
      "text/plain": [
       "                     Permit Number  Permit Type  \\\n",
       "Permit Creation Date                              \n",
       "2014-02-03            201402037639            8   \n",
       "2017-12-18            201712186766            3   \n",
       "2016-08-29            201608296300            3   \n",
       "2015-06-02            201506027829            3   \n",
       "2016-12-21            201612215583            3   \n",
       "\n",
       "                                Permit Type Definition Block  Lot  \\\n",
       "Permit Creation Date                                                \n",
       "2014-02-03                      otc alterations permit  4219  043   \n",
       "2017-12-18            additions alterations or repairs  6940  031   \n",
       "2016-08-29            additions alterations or repairs  7089  040   \n",
       "2015-06-02            additions alterations or repairs  5841  005   \n",
       "2016-12-21            additions alterations or repairs  0155  013   \n",
       "\n",
       "                      Street Number Street Number Suffix Street Name  \\\n",
       "Permit Creation Date                                                   \n",
       "2014-02-03                     1123                  NaN    Carolina   \n",
       "2017-12-18                      242                  NaN      Ashton   \n",
       "2016-08-29                      274                  NaN    Victoria   \n",
       "2015-06-02                      423                  NaN      Justin   \n",
       "2016-12-21                     1310                  NaN     Pacific   \n",
       "\n",
       "                     Street Suffix  Unit  ...  Zipcode  \\\n",
       "Permit Creation Date                      ...            \n",
       "2014-02-03                      St   NaN  ...  94107.0   \n",
       "2017-12-18                      Av   NaN  ...  94112.0   \n",
       "2016-08-29                      St   NaN  ...  94132.0   \n",
       "2015-06-02                      Dr   NaN  ...  94110.0   \n",
       "2016-12-21                      Av   NaN  ...  94109.0   \n",
       "\n",
       "                                                       Location  \\\n",
       "Permit Creation Date                                              \n",
       "2014-02-03            (37.754306947688534, -122.39931683984678)   \n",
       "2017-12-18              (37.7226331255751, -122.46195088679892)   \n",
       "2016-08-29             (37.71566908934369, -122.46503924892617)   \n",
       "2015-06-02             (37.73195576909413, -122.42389453610747)   \n",
       "2016-12-21             (37.79576706146776, -122.41710075064503)   \n",
       "\n",
       "                          Record ID SF Find Neighborhoods  \\\n",
       "Permit Creation Date                                        \n",
       "2014-02-03            1331529172376                  54.0   \n",
       "2017-12-18            1491022214718                  64.0   \n",
       "2016-08-29            1435480220959                  65.0   \n",
       "2015-06-02            1383635189245                  93.0   \n",
       "2016-12-21             144822060927                  16.0   \n",
       "\n",
       "                     Current Police Districts Current Supervisor Districts  \\\n",
       "Permit Creation Date                                                         \n",
       "2014-02-03                                2.0                          9.0   \n",
       "2017-12-18                               10.0                          8.0   \n",
       "2016-08-29                               10.0                          1.0   \n",
       "2015-06-02                                9.0                          2.0   \n",
       "2016-12-21                                6.0                          3.0   \n",
       "\n",
       "                     Analysis Neighborhoods approval_in_days  \\\n",
       "Permit Creation Date                                           \n",
       "2014-02-03                             26.0              NaN   \n",
       "2017-12-18                             24.0              NaN   \n",
       "2016-08-29                             24.0              NaN   \n",
       "2015-06-02                              2.0              NaN   \n",
       "2016-12-21                             32.0              NaN   \n",
       "\n",
       "                               Address        SingleLine  \n",
       "Permit Creation Date                                      \n",
       "2014-02-03            1123 Carolina St  1123 carolina st  \n",
       "2017-12-18               242 Ashton Av    242 ashton ave  \n",
       "2016-08-29             274 Victoria St   274 victoria st  \n",
       "2015-06-02               423 Justin Dr     423 justin dr  \n",
       "2016-12-21             1310 Pacific Av  1310 pacific ave  \n",
       "\n",
       "[5 rows x 49 columns]"
      ]
     },
     "execution_count": 47,
     "metadata": {},
     "output_type": "execute_result"
    }
   ],
   "source": [
    "df_tagged_single.head()"
   ]
  },
  {
   "cell_type": "code",
   "execution_count": 48,
   "metadata": {
    "hidden": true,
    "scrolled": true
   },
   "outputs": [
    {
     "data": {
      "text/plain": [
       "Permit Creation Date\n",
       "2014-02-03       1123 carolina st\n",
       "2017-12-18         242 ashton ave\n",
       "2016-08-29        274 victoria st\n",
       "2015-06-02          423 justin dr\n",
       "2016-12-21       1310 pacific ave\n",
       "                     ...         \n",
       "2016-05-27           4971 17th st\n",
       "2015-12-15    1270 fitzgerald ave\n",
       "2018-02-22    1272 fitzgerald ave\n",
       "2018-03-22         3533 market st\n",
       "2009-02-20         684 sanchez st\n",
       "Name: SingleLine, Length: 220798, dtype: object"
      ]
     },
     "execution_count": 48,
     "metadata": {},
     "output_type": "execute_result"
    }
   ],
   "source": [
    "df_tagged_single['SingleLine']"
   ]
  },
  {
   "cell_type": "markdown",
   "metadata": {},
   "source": [
    "### Load Clean Permits"
   ]
  },
  {
   "cell_type": "code",
   "execution_count": 3,
   "metadata": {},
   "outputs": [],
   "source": [
    "path_pickle = './Pickled/df_addr_clean.pkl'\n",
    "# df_tagged_single.to_pickle(path_pickle)\n",
    "df_permits_clean = pd.read_pickle(path_pickle)"
   ]
  },
  {
   "cell_type": "code",
   "execution_count": 4,
   "metadata": {},
   "outputs": [
    {
     "data": {
      "text/plain": [
       "Permit Creation Date\n",
       "2014-02-03    1123 carolina st\n",
       "2017-12-18      242 ashton ave\n",
       "2016-08-29     274 victoria st\n",
       "2015-06-02       423 justin dr\n",
       "2016-12-21    1310 pacific ave\n",
       "Name: SingleLine, dtype: object"
      ]
     },
     "execution_count": 4,
     "metadata": {},
     "output_type": "execute_result"
    }
   ],
   "source": [
    "df_permits_clean.SingleLine.head(5)"
   ]
  },
  {
   "cell_type": "markdown",
   "metadata": {
    "heading_collapsed": true
   },
   "source": [
    "### Fixing Assessors and merging with pandas usaaddress\n",
    "`granularity='single', standardize=True)`"
   ]
  },
  {
   "cell_type": "code",
   "execution_count": 2,
   "metadata": {
    "hidden": true,
    "scrolled": true
   },
   "outputs": [
    {
     "name": "stderr",
     "output_type": "stream",
     "text": [
      "/home/jovyan/conda-envs/capstone-dev/lib/python3.7/site-packages/IPython/core/interactiveshell.py:3072: DtypeWarning: Columns (27) have mixed types.Specify dtype option on import or set low_memory=False.\n",
      "  interactivity=interactivity, compiler=compiler, result=result)\n"
     ]
    }
   ],
   "source": [
    "df_assessor = pd.read_csv('Assessor_Notebooks/Residence_Assessor.csv')"
   ]
  },
  {
   "cell_type": "code",
   "execution_count": 3,
   "metadata": {
    "hidden": true,
    "scrolled": true
   },
   "outputs": [],
   "source": [
    "df_assessor.rename(columns={'Unnamed: 0':'assess_id'}, inplace=True)"
   ]
  },
  {
   "cell_type": "code",
   "execution_count": 4,
   "metadata": {
    "hidden": true
   },
   "outputs": [
    {
     "data": {
      "text/plain": [
       "Index(['assess_id', 'Closed Roll Year', 'Property Location', 'Parcel Number',\n",
       "       'Block', 'Lot', 'Volume Number', 'Use Code', 'Use Definition',\n",
       "       'Property Class Code', 'Property Class Code Definition',\n",
       "       'Year Property Built', 'Number of Bathrooms', 'Number of Bedrooms',\n",
       "       'Number of Rooms', 'Number of Stories', 'Number of Units',\n",
       "       'Zoning Code', 'Construction Type', 'Lot Depth', 'Lot Frontage',\n",
       "       'Property Area', 'Basement Area', 'Lot Area', 'Lot Code',\n",
       "       'Tax Rate Area Code', 'Percent of Ownership', 'Exemption Code',\n",
       "       'Exemption Code Definition', 'Status Code', 'Misc Exemption Value',\n",
       "       'Homeowner Exemption Value', 'Current Sales Date',\n",
       "       'Assessed Fixtures Value', 'Assessed Improvement Value',\n",
       "       'Assessed Land Value', 'Assessed Personal Property Value',\n",
       "       'Assessor Neighborhood District', 'Assessor Neighborhood Code',\n",
       "       'Assessor Neighborhood'],\n",
       "      dtype='object')"
      ]
     },
     "execution_count": 4,
     "metadata": {},
     "output_type": "execute_result"
    }
   ],
   "source": [
    "dropcols = ['Supervisor District', 'Analysis Neighborhood',\n",
    "       'the_geom', 'Row ID', 'SF Find Neighborhoods',\n",
    "       'Current Police Districts', 'Current Supervisor Districts',\n",
    "       'Analysis Neighborhoods',]\n",
    "df_assessor.drop(dropcols, axis=1, inplace=True)\n",
    "df_assessor.columns"
   ]
  },
  {
   "cell_type": "code",
   "execution_count": 5,
   "metadata": {
    "hidden": true
   },
   "outputs": [],
   "source": [
    "# 'Lot', 'Street Number', 'Street Number Suffix', 'Street Name',\n",
    "#        'Street Suffix', 'Unit', 'Unit Suffix'"
   ]
  },
  {
   "cell_type": "code",
   "execution_count": 37,
   "metadata": {
    "hidden": true
   },
   "outputs": [
    {
     "data": {
      "text/html": [
       "<div>\n",
       "<style scoped>\n",
       "    .dataframe tbody tr th:only-of-type {\n",
       "        vertical-align: middle;\n",
       "    }\n",
       "\n",
       "    .dataframe tbody tr th {\n",
       "        vertical-align: top;\n",
       "    }\n",
       "\n",
       "    .dataframe thead th {\n",
       "        text-align: right;\n",
       "    }\n",
       "</style>\n",
       "<table border=\"1\" class=\"dataframe\">\n",
       "  <thead>\n",
       "    <tr style=\"text-align: right;\">\n",
       "      <th></th>\n",
       "      <th>assess_id</th>\n",
       "      <th>Closed Roll Year</th>\n",
       "      <th>Property Location</th>\n",
       "      <th>Parcel Number</th>\n",
       "      <th>Block</th>\n",
       "      <th>Lot</th>\n",
       "      <th>Volume Number</th>\n",
       "      <th>Use Code</th>\n",
       "      <th>Use Definition</th>\n",
       "      <th>Property Class Code</th>\n",
       "      <th>...</th>\n",
       "      <th>Assessed Improvement Value</th>\n",
       "      <th>Assessed Land Value</th>\n",
       "      <th>Assessed Personal Property Value</th>\n",
       "      <th>Assessor Neighborhood District</th>\n",
       "      <th>Assessor Neighborhood Code</th>\n",
       "      <th>Assessor Neighborhood</th>\n",
       "      <th>Street Number</th>\n",
       "      <th>Street Name</th>\n",
       "      <th>Street Suffix</th>\n",
       "      <th>Unit</th>\n",
       "    </tr>\n",
       "  </thead>\n",
       "  <tbody>\n",
       "    <tr>\n",
       "      <th>0</th>\n",
       "      <td>3</td>\n",
       "      <td>2009.0</td>\n",
       "      <td>0000 0297 BALTIMORE           WY0000</td>\n",
       "      <td>6499040</td>\n",
       "      <td>6499</td>\n",
       "      <td>0000</td>\n",
       "      <td>38</td>\n",
       "      <td>SRES</td>\n",
       "      <td>Single Family Residential</td>\n",
       "      <td>D</td>\n",
       "      <td>...</td>\n",
       "      <td>45734</td>\n",
       "      <td>22044</td>\n",
       "      <td>0</td>\n",
       "      <td>10.0</td>\n",
       "      <td>10B</td>\n",
       "      <td>Croker Amazon</td>\n",
       "      <td>297</td>\n",
       "      <td>BALTIMORE</td>\n",
       "      <td>WY</td>\n",
       "      <td></td>\n",
       "    </tr>\n",
       "    <tr>\n",
       "      <th>1</th>\n",
       "      <td>8</td>\n",
       "      <td>2007.0</td>\n",
       "      <td>0000 0666 POST                ST1503</td>\n",
       "      <td>0298C050</td>\n",
       "      <td>0298C</td>\n",
       "      <td>0000</td>\n",
       "      <td>3</td>\n",
       "      <td>SRES</td>\n",
       "      <td>Single Family Residential</td>\n",
       "      <td>COS</td>\n",
       "      <td>...</td>\n",
       "      <td>143223</td>\n",
       "      <td>35803</td>\n",
       "      <td>0</td>\n",
       "      <td>8.0</td>\n",
       "      <td>8A</td>\n",
       "      <td>Downtown</td>\n",
       "      <td>666</td>\n",
       "      <td>POST</td>\n",
       "      <td>ST</td>\n",
       "      <td>1503</td>\n",
       "    </tr>\n",
       "    <tr>\n",
       "      <th>2</th>\n",
       "      <td>9</td>\n",
       "      <td>2007.0</td>\n",
       "      <td>0000 0650 CHESTNUT            ST0202</td>\n",
       "      <td>0051091</td>\n",
       "      <td>0051</td>\n",
       "      <td>0000</td>\n",
       "      <td>1</td>\n",
       "      <td>SRES</td>\n",
       "      <td>Single Family Residential</td>\n",
       "      <td>Z</td>\n",
       "      <td>...</td>\n",
       "      <td>284690</td>\n",
       "      <td>122009</td>\n",
       "      <td>0</td>\n",
       "      <td>8.0</td>\n",
       "      <td>8D</td>\n",
       "      <td>North Beach</td>\n",
       "      <td>650</td>\n",
       "      <td>CHESTNUT</td>\n",
       "      <td>ST</td>\n",
       "      <td>202</td>\n",
       "    </tr>\n",
       "  </tbody>\n",
       "</table>\n",
       "<p>3 rows × 44 columns</p>\n",
       "</div>"
      ],
      "text/plain": [
       "   assess_id  Closed Roll Year                     Property Location  \\\n",
       "0          3            2009.0  0000 0297 BALTIMORE           WY0000   \n",
       "1          8            2007.0  0000 0666 POST                ST1503   \n",
       "2          9            2007.0  0000 0650 CHESTNUT            ST0202   \n",
       "\n",
       "  Parcel Number  Block    Lot  Volume Number Use Code  \\\n",
       "0       6499040   6499  0000              38     SRES   \n",
       "1      0298C050  0298C  0000               3     SRES   \n",
       "2       0051091   0051  0000               1     SRES   \n",
       "\n",
       "              Use Definition Property Class Code  ...  \\\n",
       "0  Single Family Residential                   D  ...   \n",
       "1  Single Family Residential                 COS  ...   \n",
       "2  Single Family Residential                   Z  ...   \n",
       "\n",
       "  Assessed Improvement Value  Assessed Land Value  \\\n",
       "0                      45734                22044   \n",
       "1                     143223                35803   \n",
       "2                     284690               122009   \n",
       "\n",
       "   Assessed Personal Property Value  Assessor Neighborhood District  \\\n",
       "0                                 0                            10.0   \n",
       "1                                 0                             8.0   \n",
       "2                                 0                             8.0   \n",
       "\n",
       "   Assessor Neighborhood Code  Assessor Neighborhood  Street Number  \\\n",
       "0                         10B          Croker Amazon           297    \n",
       "1                          8A               Downtown           666    \n",
       "2                          8D            North Beach           650    \n",
       "\n",
       "           Street Name Street Suffix  Unit  \n",
       "0  BALTIMORE                      WY        \n",
       "1  POST                           ST  1503  \n",
       "2  CHESTNUT                       ST   202  \n",
       "\n",
       "[3 rows x 44 columns]"
      ]
     },
     "execution_count": 37,
     "metadata": {},
     "output_type": "execute_result"
    }
   ],
   "source": [
    "df_assessor['Lot'] = df_assessor['Property Location'].str.extract(r'(\\d\\d\\d\\d\\s)', expand=True)\n",
    "df_assessor['Street Number'] = df_assessor['Property Location'].str.extract(r'(?:\\d\\d\\d\\d\\s)(\\d\\d\\d\\d\\s)', expand=True)\n",
    "df_assessor['Street Number'] = df_assessor['Street Number'].apply(trim_zeros)\n",
    "df_assessor['Street Name'] = df_assessor['Property Location'].str.extract(r'(?:\\d\\d\\d\\d\\s)(?:\\d\\d\\d\\d\\s+)(.*)(?:\\s+\\w\\w\\d\\d\\d\\d)', expand=True)\n",
    "df_assessor['Street Suffix'] = df_assessor['Property Location'].str.extract(r'(?:\\d\\d\\d\\d\\s)(?:\\d\\d\\d\\d\\s+)(?:.*)(?:\\s+)(\\w\\w)(?:\\d\\d\\d\\d)', expand=True)\n",
    "df_assessor['Unit'] = df_assessor['Property Location'].str.extract(r'(?:\\d\\d\\d\\d\\s)(?:\\d\\d\\d\\d\\s+)(?:.*)(?:\\s+)(?:\\w\\w)(\\d\\d\\d\\d)', expand=True)\n",
    "df_assessor['Unit'] = df_assessor['Unit'].apply(trim_zeros)\n",
    "df_assessor.head(3)"
   ]
  },
  {
   "cell_type": "code",
   "execution_count": 38,
   "metadata": {
    "hidden": true
   },
   "outputs": [
    {
     "data": {
      "text/html": [
       "<div>\n",
       "<style scoped>\n",
       "    .dataframe tbody tr th:only-of-type {\n",
       "        vertical-align: middle;\n",
       "    }\n",
       "\n",
       "    .dataframe tbody tr th {\n",
       "        vertical-align: top;\n",
       "    }\n",
       "\n",
       "    .dataframe thead th {\n",
       "        text-align: right;\n",
       "    }\n",
       "</style>\n",
       "<table border=\"1\" class=\"dataframe\">\n",
       "  <thead>\n",
       "    <tr style=\"text-align: right;\">\n",
       "      <th></th>\n",
       "      <th>Street Number</th>\n",
       "      <th>Street Name</th>\n",
       "      <th>Street Suffix</th>\n",
       "      <th>Unit</th>\n",
       "    </tr>\n",
       "  </thead>\n",
       "  <tbody>\n",
       "    <tr>\n",
       "      <th>0</th>\n",
       "      <td>297</td>\n",
       "      <td>BALTIMORE</td>\n",
       "      <td>WY</td>\n",
       "      <td></td>\n",
       "    </tr>\n",
       "    <tr>\n",
       "      <th>1</th>\n",
       "      <td>666</td>\n",
       "      <td>POST</td>\n",
       "      <td>ST</td>\n",
       "      <td>1503</td>\n",
       "    </tr>\n",
       "    <tr>\n",
       "      <th>2</th>\n",
       "      <td>650</td>\n",
       "      <td>CHESTNUT</td>\n",
       "      <td>ST</td>\n",
       "      <td>202</td>\n",
       "    </tr>\n",
       "    <tr>\n",
       "      <th>3</th>\n",
       "      <td>611</td>\n",
       "      <td>WASHINGTON</td>\n",
       "      <td>ST</td>\n",
       "      <td>2402</td>\n",
       "    </tr>\n",
       "    <tr>\n",
       "      <th>4</th>\n",
       "      <td></td>\n",
       "      <td>NaN</td>\n",
       "      <td>NaN</td>\n",
       "      <td>None</td>\n",
       "    </tr>\n",
       "  </tbody>\n",
       "</table>\n",
       "</div>"
      ],
      "text/plain": [
       "  Street Number          Street Name Street Suffix  Unit\n",
       "0          297   BALTIMORE                      WY      \n",
       "1          666   POST                           ST  1503\n",
       "2          650   CHESTNUT                       ST   202\n",
       "3          611   WASHINGTON                     ST  2402\n",
       "4                                NaN           NaN  None"
      ]
     },
     "execution_count": 38,
     "metadata": {},
     "output_type": "execute_result"
    }
   ],
   "source": [
    "# data set is too large: separate the ID, address columns, them add the standardized address to the original\n",
    "addr_cols = ['Street Number', 'Street Name','Street Suffix', 'Unit']\n",
    "addr_only = df_assessor[addr_cols]\n",
    "addr_only.head()"
   ]
  },
  {
   "cell_type": "code",
   "execution_count": 39,
   "metadata": {
    "hidden": true,
    "scrolled": true
   },
   "outputs": [
    {
     "data": {
      "text/html": [
       "<div>\n",
       "<style scoped>\n",
       "    .dataframe tbody tr th:only-of-type {\n",
       "        vertical-align: middle;\n",
       "    }\n",
       "\n",
       "    .dataframe tbody tr th {\n",
       "        vertical-align: top;\n",
       "    }\n",
       "\n",
       "    .dataframe thead th {\n",
       "        text-align: right;\n",
       "    }\n",
       "</style>\n",
       "<table border=\"1\" class=\"dataframe\">\n",
       "  <thead>\n",
       "    <tr style=\"text-align: right;\">\n",
       "      <th></th>\n",
       "      <th>Street Number</th>\n",
       "      <th>Street Name</th>\n",
       "      <th>Street Suffix</th>\n",
       "      <th>Unit</th>\n",
       "      <th>SingleLine</th>\n",
       "    </tr>\n",
       "  </thead>\n",
       "  <tbody>\n",
       "    <tr>\n",
       "      <th>0</th>\n",
       "      <td>297</td>\n",
       "      <td>BALTIMORE</td>\n",
       "      <td>WY</td>\n",
       "      <td>NaN</td>\n",
       "      <td>297 baltimore way</td>\n",
       "    </tr>\n",
       "    <tr>\n",
       "      <th>1</th>\n",
       "      <td>666</td>\n",
       "      <td>POST</td>\n",
       "      <td>ST</td>\n",
       "      <td>1503</td>\n",
       "      <td>666 post st 1503</td>\n",
       "    </tr>\n",
       "    <tr>\n",
       "      <th>2</th>\n",
       "      <td>650</td>\n",
       "      <td>CHESTNUT</td>\n",
       "      <td>ST</td>\n",
       "      <td>202</td>\n",
       "      <td>650 chestnut st 202</td>\n",
       "    </tr>\n",
       "    <tr>\n",
       "      <th>3</th>\n",
       "      <td>611</td>\n",
       "      <td>WASHINGTON</td>\n",
       "      <td>ST</td>\n",
       "      <td>2402</td>\n",
       "      <td>611 washington st 2402</td>\n",
       "    </tr>\n",
       "    <tr>\n",
       "      <th>4</th>\n",
       "      <td></td>\n",
       "      <td>NaN</td>\n",
       "      <td>NaN</td>\n",
       "      <td>NaN</td>\n",
       "      <td>NaN</td>\n",
       "    </tr>\n",
       "  </tbody>\n",
       "</table>\n",
       "</div>"
      ],
      "text/plain": [
       "  Street Number          Street Name Street Suffix  Unit  \\\n",
       "0          297   BALTIMORE                      WY   NaN   \n",
       "1          666   POST                           ST  1503   \n",
       "2          650   CHESTNUT                       ST   202   \n",
       "3          611   WASHINGTON                     ST  2402   \n",
       "4                                NaN           NaN   NaN   \n",
       "\n",
       "               SingleLine  \n",
       "0       297 baltimore way  \n",
       "1        666 post st 1503  \n",
       "2     650 chestnut st 202  \n",
       "3  611 washington st 2402  \n",
       "4                     NaN  "
      ]
     },
     "execution_count": 39,
     "metadata": {},
     "output_type": "execute_result"
    }
   ],
   "source": [
    "addr_cols = ['Street Number', 'Street Name','Street Suffix', 'Unit']\n",
    "std_addresses = pandas_usaddress.tag(addr_only, addr_cols, granularity='single', standardize=True)\n",
    "std_addresses.head()"
   ]
  },
  {
   "cell_type": "code",
   "execution_count": 40,
   "metadata": {
    "collapsed": true,
    "hidden": true
   },
   "outputs": [
    {
     "data": {
      "text/html": [
       "<div>\n",
       "<style scoped>\n",
       "    .dataframe tbody tr th:only-of-type {\n",
       "        vertical-align: middle;\n",
       "    }\n",
       "\n",
       "    .dataframe tbody tr th {\n",
       "        vertical-align: top;\n",
       "    }\n",
       "\n",
       "    .dataframe thead th {\n",
       "        text-align: right;\n",
       "    }\n",
       "</style>\n",
       "<table border=\"1\" class=\"dataframe\">\n",
       "  <thead>\n",
       "    <tr style=\"text-align: right;\">\n",
       "      <th></th>\n",
       "      <th>assess_id</th>\n",
       "      <th>Closed Roll Year</th>\n",
       "      <th>Property Location</th>\n",
       "      <th>Parcel Number</th>\n",
       "      <th>Block</th>\n",
       "      <th>Lot</th>\n",
       "      <th>Volume Number</th>\n",
       "      <th>Use Code</th>\n",
       "      <th>Use Definition</th>\n",
       "      <th>Property Class Code</th>\n",
       "      <th>...</th>\n",
       "      <th>Assessed Land Value</th>\n",
       "      <th>Assessed Personal Property Value</th>\n",
       "      <th>Assessor Neighborhood District</th>\n",
       "      <th>Assessor Neighborhood Code</th>\n",
       "      <th>Assessor Neighborhood</th>\n",
       "      <th>Street Number</th>\n",
       "      <th>Street Name</th>\n",
       "      <th>Street Suffix</th>\n",
       "      <th>Unit</th>\n",
       "      <th>SingleLine</th>\n",
       "    </tr>\n",
       "  </thead>\n",
       "  <tbody>\n",
       "    <tr>\n",
       "      <th>0</th>\n",
       "      <td>3</td>\n",
       "      <td>2009.0</td>\n",
       "      <td>0000 0297 BALTIMORE           WY0000</td>\n",
       "      <td>6499040</td>\n",
       "      <td>6499</td>\n",
       "      <td>0000</td>\n",
       "      <td>38</td>\n",
       "      <td>SRES</td>\n",
       "      <td>Single Family Residential</td>\n",
       "      <td>D</td>\n",
       "      <td>...</td>\n",
       "      <td>22044</td>\n",
       "      <td>0</td>\n",
       "      <td>10.0</td>\n",
       "      <td>10B</td>\n",
       "      <td>Croker Amazon</td>\n",
       "      <td>297</td>\n",
       "      <td>BALTIMORE</td>\n",
       "      <td>WY</td>\n",
       "      <td></td>\n",
       "      <td>297 baltimore way</td>\n",
       "    </tr>\n",
       "    <tr>\n",
       "      <th>1</th>\n",
       "      <td>8</td>\n",
       "      <td>2007.0</td>\n",
       "      <td>0000 0666 POST                ST1503</td>\n",
       "      <td>0298C050</td>\n",
       "      <td>0298C</td>\n",
       "      <td>0000</td>\n",
       "      <td>3</td>\n",
       "      <td>SRES</td>\n",
       "      <td>Single Family Residential</td>\n",
       "      <td>COS</td>\n",
       "      <td>...</td>\n",
       "      <td>35803</td>\n",
       "      <td>0</td>\n",
       "      <td>8.0</td>\n",
       "      <td>8A</td>\n",
       "      <td>Downtown</td>\n",
       "      <td>666</td>\n",
       "      <td>POST</td>\n",
       "      <td>ST</td>\n",
       "      <td>1503</td>\n",
       "      <td>666 post st 1503</td>\n",
       "    </tr>\n",
       "  </tbody>\n",
       "</table>\n",
       "<p>2 rows × 45 columns</p>\n",
       "</div>"
      ],
      "text/plain": [
       "   assess_id  Closed Roll Year                     Property Location  \\\n",
       "0          3            2009.0  0000 0297 BALTIMORE           WY0000   \n",
       "1          8            2007.0  0000 0666 POST                ST1503   \n",
       "\n",
       "  Parcel Number  Block    Lot  Volume Number Use Code  \\\n",
       "0       6499040   6499  0000              38     SRES   \n",
       "1      0298C050  0298C  0000               3     SRES   \n",
       "\n",
       "              Use Definition Property Class Code  ... Assessed Land Value  \\\n",
       "0  Single Family Residential                   D  ...               22044   \n",
       "1  Single Family Residential                 COS  ...               35803   \n",
       "\n",
       "   Assessed Personal Property Value  Assessor Neighborhood District  \\\n",
       "0                                 0                            10.0   \n",
       "1                                 0                             8.0   \n",
       "\n",
       "   Assessor Neighborhood Code  Assessor Neighborhood  Street Number  \\\n",
       "0                         10B          Croker Amazon           297    \n",
       "1                          8A               Downtown           666    \n",
       "\n",
       "           Street Name Street Suffix  Unit         SingleLine  \n",
       "0  BALTIMORE                      WY        297 baltimore way  \n",
       "1  POST                           ST  1503   666 post st 1503  \n",
       "\n",
       "[2 rows x 45 columns]"
      ]
     },
     "execution_count": 40,
     "metadata": {},
     "output_type": "execute_result"
    }
   ],
   "source": [
    "#JOIN the addresses by the index to make df_assessor_tagged\n",
    "df_assessor['SingleLine'] = std_addresses['SingleLine']\n",
    "df_assessor.head(2)"
   ]
  },
  {
   "cell_type": "markdown",
   "metadata": {},
   "source": [
    "### Load Clean Assessments"
   ]
  },
  {
   "cell_type": "code",
   "execution_count": 7,
   "metadata": {},
   "outputs": [],
   "source": [
    "path_pickle = './Pickled/df_assess_clean.pkl'\n",
    "# df_assessor.to_pickle(path_pickle)\n",
    "df_assess_clean = pd.read_pickle(path_pickle)"
   ]
  },
  {
   "cell_type": "code",
   "execution_count": 8,
   "metadata": {},
   "outputs": [
    {
     "data": {
      "text/html": [
       "<div>\n",
       "<style scoped>\n",
       "    .dataframe tbody tr th:only-of-type {\n",
       "        vertical-align: middle;\n",
       "    }\n",
       "\n",
       "    .dataframe tbody tr th {\n",
       "        vertical-align: top;\n",
       "    }\n",
       "\n",
       "    .dataframe thead th {\n",
       "        text-align: right;\n",
       "    }\n",
       "</style>\n",
       "<table border=\"1\" class=\"dataframe\">\n",
       "  <thead>\n",
       "    <tr style=\"text-align: right;\">\n",
       "      <th></th>\n",
       "      <th>assess_id</th>\n",
       "      <th>Closed Roll Year</th>\n",
       "      <th>Property Location</th>\n",
       "      <th>Parcel Number</th>\n",
       "      <th>Block</th>\n",
       "      <th>Lot</th>\n",
       "      <th>Volume Number</th>\n",
       "      <th>Use Code</th>\n",
       "      <th>Use Definition</th>\n",
       "      <th>Property Class Code</th>\n",
       "      <th>...</th>\n",
       "      <th>Assessed Land Value</th>\n",
       "      <th>Assessed Personal Property Value</th>\n",
       "      <th>Assessor Neighborhood District</th>\n",
       "      <th>Assessor Neighborhood Code</th>\n",
       "      <th>Assessor Neighborhood</th>\n",
       "      <th>Street Number</th>\n",
       "      <th>Street Name</th>\n",
       "      <th>Street Suffix</th>\n",
       "      <th>Unit</th>\n",
       "      <th>SingleLine</th>\n",
       "    </tr>\n",
       "  </thead>\n",
       "  <tbody>\n",
       "    <tr>\n",
       "      <th>0</th>\n",
       "      <td>3</td>\n",
       "      <td>2009.0</td>\n",
       "      <td>0000 0297 BALTIMORE           WY0000</td>\n",
       "      <td>6499040</td>\n",
       "      <td>6499</td>\n",
       "      <td>0000</td>\n",
       "      <td>38</td>\n",
       "      <td>SRES</td>\n",
       "      <td>Single Family Residential</td>\n",
       "      <td>D</td>\n",
       "      <td>...</td>\n",
       "      <td>22044</td>\n",
       "      <td>0</td>\n",
       "      <td>10.0</td>\n",
       "      <td>10B</td>\n",
       "      <td>Croker Amazon</td>\n",
       "      <td>297</td>\n",
       "      <td>BALTIMORE</td>\n",
       "      <td>WY</td>\n",
       "      <td></td>\n",
       "      <td>297 baltimore way</td>\n",
       "    </tr>\n",
       "  </tbody>\n",
       "</table>\n",
       "<p>1 rows × 45 columns</p>\n",
       "</div>"
      ],
      "text/plain": [
       "   assess_id  Closed Roll Year                     Property Location  \\\n",
       "0          3            2009.0  0000 0297 BALTIMORE           WY0000   \n",
       "\n",
       "  Parcel Number Block    Lot  Volume Number Use Code  \\\n",
       "0       6499040  6499  0000              38     SRES   \n",
       "\n",
       "              Use Definition Property Class Code  ... Assessed Land Value  \\\n",
       "0  Single Family Residential                   D  ...               22044   \n",
       "\n",
       "   Assessed Personal Property Value  Assessor Neighborhood District  \\\n",
       "0                                 0                            10.0   \n",
       "\n",
       "   Assessor Neighborhood Code  Assessor Neighborhood  Street Number  \\\n",
       "0                         10B          Croker Amazon           297    \n",
       "\n",
       "           Street Name Street Suffix Unit         SingleLine  \n",
       "0  BALTIMORE                      WY       297 baltimore way  \n",
       "\n",
       "[1 rows x 45 columns]"
      ]
     },
     "execution_count": 8,
     "metadata": {},
     "output_type": "execute_result"
    }
   ],
   "source": [
    "df_assess_clean.head(1)"
   ]
  },
  {
   "cell_type": "markdown",
   "metadata": {},
   "source": [
    "### To merge, fix year to datetime (assessments)"
   ]
  },
  {
   "cell_type": "code",
   "execution_count": 9,
   "metadata": {},
   "outputs": [],
   "source": [
    "df_assess_clean.rename(columns={'Closed Roll Year':'Year'},inplace=True)"
   ]
  },
  {
   "cell_type": "code",
   "execution_count": 22,
   "metadata": {},
   "outputs": [],
   "source": [
    "df_assess_clean['Year'] = pd.to_datetime(df_assess_clean['Year'], format='%Y').dt.year\n",
    "df_assess_clean['Year']= df_assess_clean['Year'].fillna(-1).astype(int)"
   ]
  },
  {
   "cell_type": "code",
   "execution_count": 23,
   "metadata": {},
   "outputs": [
    {
     "data": {
      "text/html": [
       "<div>\n",
       "<style scoped>\n",
       "    .dataframe tbody tr th:only-of-type {\n",
       "        vertical-align: middle;\n",
       "    }\n",
       "\n",
       "    .dataframe tbody tr th {\n",
       "        vertical-align: top;\n",
       "    }\n",
       "\n",
       "    .dataframe thead th {\n",
       "        text-align: right;\n",
       "    }\n",
       "</style>\n",
       "<table border=\"1\" class=\"dataframe\">\n",
       "  <thead>\n",
       "    <tr style=\"text-align: right;\">\n",
       "      <th></th>\n",
       "      <th>Year</th>\n",
       "      <th>SingleLine</th>\n",
       "    </tr>\n",
       "  </thead>\n",
       "  <tbody>\n",
       "    <tr>\n",
       "      <th>0</th>\n",
       "      <td>2009</td>\n",
       "      <td>297 baltimore way</td>\n",
       "    </tr>\n",
       "    <tr>\n",
       "      <th>1</th>\n",
       "      <td>2007</td>\n",
       "      <td>666 post st 1503</td>\n",
       "    </tr>\n",
       "    <tr>\n",
       "      <th>2</th>\n",
       "      <td>2007</td>\n",
       "      <td>650 chestnut st 202</td>\n",
       "    </tr>\n",
       "    <tr>\n",
       "      <th>3</th>\n",
       "      <td>2007</td>\n",
       "      <td>611 washington st 2402</td>\n",
       "    </tr>\n",
       "    <tr>\n",
       "      <th>4</th>\n",
       "      <td>2007</td>\n",
       "      <td>NaN</td>\n",
       "    </tr>\n",
       "    <tr>\n",
       "      <th>...</th>\n",
       "      <td>...</td>\n",
       "      <td>...</td>\n",
       "    </tr>\n",
       "    <tr>\n",
       "      <th>1783686</th>\n",
       "      <td>2016</td>\n",
       "      <td>588 mission bay north bl</td>\n",
       "    </tr>\n",
       "    <tr>\n",
       "      <th>1783687</th>\n",
       "      <td>2016</td>\n",
       "      <td>1180 4th st</td>\n",
       "    </tr>\n",
       "    <tr>\n",
       "      <th>1783688</th>\n",
       "      <td>2016</td>\n",
       "      <td>1180 4th st</td>\n",
       "    </tr>\n",
       "    <tr>\n",
       "      <th>1783689</th>\n",
       "      <td>2016</td>\n",
       "      <td>1000 3rd st</td>\n",
       "    </tr>\n",
       "    <tr>\n",
       "      <th>1783690</th>\n",
       "      <td>2016</td>\n",
       "      <td>110 channel st</td>\n",
       "    </tr>\n",
       "  </tbody>\n",
       "</table>\n",
       "<p>1783691 rows × 2 columns</p>\n",
       "</div>"
      ],
      "text/plain": [
       "         Year                SingleLine\n",
       "0        2009         297 baltimore way\n",
       "1        2007          666 post st 1503\n",
       "2        2007       650 chestnut st 202\n",
       "3        2007    611 washington st 2402\n",
       "4        2007                       NaN\n",
       "...       ...                       ...\n",
       "1783686  2016  588 mission bay north bl\n",
       "1783687  2016               1180 4th st\n",
       "1783688  2016               1180 4th st\n",
       "1783689  2016               1000 3rd st\n",
       "1783690  2016            110 channel st\n",
       "\n",
       "[1783691 rows x 2 columns]"
      ]
     },
     "execution_count": 23,
     "metadata": {},
     "output_type": "execute_result"
    }
   ],
   "source": [
    "df_assess_clean.loc[:,['Year', 'SingleLine']]"
   ]
  },
  {
   "cell_type": "markdown",
   "metadata": {},
   "source": [
    "### To merge, split year off from datetime"
   ]
  },
  {
   "cell_type": "code",
   "execution_count": 24,
   "metadata": {},
   "outputs": [],
   "source": [
    "df_permits_clean['Year'] = df_permits_clean.index.year"
   ]
  },
  {
   "cell_type": "code",
   "execution_count": 25,
   "metadata": {},
   "outputs": [
    {
     "data": {
      "text/html": [
       "<div>\n",
       "<style scoped>\n",
       "    .dataframe tbody tr th:only-of-type {\n",
       "        vertical-align: middle;\n",
       "    }\n",
       "\n",
       "    .dataframe tbody tr th {\n",
       "        vertical-align: top;\n",
       "    }\n",
       "\n",
       "    .dataframe thead th {\n",
       "        text-align: right;\n",
       "    }\n",
       "</style>\n",
       "<table border=\"1\" class=\"dataframe\">\n",
       "  <thead>\n",
       "    <tr style=\"text-align: right;\">\n",
       "      <th></th>\n",
       "      <th>Permit Number</th>\n",
       "      <th>Permit Type</th>\n",
       "      <th>Permit Type Definition</th>\n",
       "      <th>Block</th>\n",
       "      <th>Lot</th>\n",
       "      <th>Street Number</th>\n",
       "      <th>Street Number Suffix</th>\n",
       "      <th>Street Name</th>\n",
       "      <th>Street Suffix</th>\n",
       "      <th>Unit</th>\n",
       "      <th>...</th>\n",
       "      <th>Location</th>\n",
       "      <th>Record ID</th>\n",
       "      <th>SF Find Neighborhoods</th>\n",
       "      <th>Current Police Districts</th>\n",
       "      <th>Current Supervisor Districts</th>\n",
       "      <th>Analysis Neighborhoods</th>\n",
       "      <th>approval_in_days</th>\n",
       "      <th>Address</th>\n",
       "      <th>SingleLine</th>\n",
       "      <th>Year</th>\n",
       "    </tr>\n",
       "    <tr>\n",
       "      <th>Permit Creation Date</th>\n",
       "      <th></th>\n",
       "      <th></th>\n",
       "      <th></th>\n",
       "      <th></th>\n",
       "      <th></th>\n",
       "      <th></th>\n",
       "      <th></th>\n",
       "      <th></th>\n",
       "      <th></th>\n",
       "      <th></th>\n",
       "      <th></th>\n",
       "      <th></th>\n",
       "      <th></th>\n",
       "      <th></th>\n",
       "      <th></th>\n",
       "      <th></th>\n",
       "      <th></th>\n",
       "      <th></th>\n",
       "      <th></th>\n",
       "      <th></th>\n",
       "      <th></th>\n",
       "    </tr>\n",
       "  </thead>\n",
       "  <tbody>\n",
       "    <tr>\n",
       "      <th>2014-02-03</th>\n",
       "      <td>201402037639</td>\n",
       "      <td>8</td>\n",
       "      <td>otc alterations permit</td>\n",
       "      <td>4219</td>\n",
       "      <td>043</td>\n",
       "      <td>1123</td>\n",
       "      <td>NaN</td>\n",
       "      <td>Carolina</td>\n",
       "      <td>St</td>\n",
       "      <td>NaN</td>\n",
       "      <td>...</td>\n",
       "      <td>(37.754306947688534, -122.39931683984678)</td>\n",
       "      <td>1331529172376</td>\n",
       "      <td>54.0</td>\n",
       "      <td>2.0</td>\n",
       "      <td>9.0</td>\n",
       "      <td>26.0</td>\n",
       "      <td>NaN</td>\n",
       "      <td>1123 Carolina St</td>\n",
       "      <td>1123 carolina st</td>\n",
       "      <td>2014</td>\n",
       "    </tr>\n",
       "    <tr>\n",
       "      <th>2017-12-18</th>\n",
       "      <td>201712186766</td>\n",
       "      <td>3</td>\n",
       "      <td>additions alterations or repairs</td>\n",
       "      <td>6940</td>\n",
       "      <td>031</td>\n",
       "      <td>242</td>\n",
       "      <td>NaN</td>\n",
       "      <td>Ashton</td>\n",
       "      <td>Av</td>\n",
       "      <td>NaN</td>\n",
       "      <td>...</td>\n",
       "      <td>(37.7226331255751, -122.46195088679892)</td>\n",
       "      <td>1491022214718</td>\n",
       "      <td>64.0</td>\n",
       "      <td>10.0</td>\n",
       "      <td>8.0</td>\n",
       "      <td>24.0</td>\n",
       "      <td>NaN</td>\n",
       "      <td>242 Ashton Av</td>\n",
       "      <td>242 ashton ave</td>\n",
       "      <td>2017</td>\n",
       "    </tr>\n",
       "    <tr>\n",
       "      <th>2016-08-29</th>\n",
       "      <td>201608296300</td>\n",
       "      <td>3</td>\n",
       "      <td>additions alterations or repairs</td>\n",
       "      <td>7089</td>\n",
       "      <td>040</td>\n",
       "      <td>274</td>\n",
       "      <td>NaN</td>\n",
       "      <td>Victoria</td>\n",
       "      <td>St</td>\n",
       "      <td>NaN</td>\n",
       "      <td>...</td>\n",
       "      <td>(37.71566908934369, -122.46503924892617)</td>\n",
       "      <td>1435480220959</td>\n",
       "      <td>65.0</td>\n",
       "      <td>10.0</td>\n",
       "      <td>1.0</td>\n",
       "      <td>24.0</td>\n",
       "      <td>NaN</td>\n",
       "      <td>274 Victoria St</td>\n",
       "      <td>274 victoria st</td>\n",
       "      <td>2016</td>\n",
       "    </tr>\n",
       "    <tr>\n",
       "      <th>2015-06-02</th>\n",
       "      <td>201506027829</td>\n",
       "      <td>3</td>\n",
       "      <td>additions alterations or repairs</td>\n",
       "      <td>5841</td>\n",
       "      <td>005</td>\n",
       "      <td>423</td>\n",
       "      <td>NaN</td>\n",
       "      <td>Justin</td>\n",
       "      <td>Dr</td>\n",
       "      <td>NaN</td>\n",
       "      <td>...</td>\n",
       "      <td>(37.73195576909413, -122.42389453610747)</td>\n",
       "      <td>1383635189245</td>\n",
       "      <td>93.0</td>\n",
       "      <td>9.0</td>\n",
       "      <td>2.0</td>\n",
       "      <td>2.0</td>\n",
       "      <td>NaN</td>\n",
       "      <td>423 Justin Dr</td>\n",
       "      <td>423 justin dr</td>\n",
       "      <td>2015</td>\n",
       "    </tr>\n",
       "    <tr>\n",
       "      <th>2016-12-21</th>\n",
       "      <td>201612215583</td>\n",
       "      <td>3</td>\n",
       "      <td>additions alterations or repairs</td>\n",
       "      <td>0155</td>\n",
       "      <td>013</td>\n",
       "      <td>1310</td>\n",
       "      <td>NaN</td>\n",
       "      <td>Pacific</td>\n",
       "      <td>Av</td>\n",
       "      <td>NaN</td>\n",
       "      <td>...</td>\n",
       "      <td>(37.79576706146776, -122.41710075064503)</td>\n",
       "      <td>144822060927</td>\n",
       "      <td>16.0</td>\n",
       "      <td>6.0</td>\n",
       "      <td>3.0</td>\n",
       "      <td>32.0</td>\n",
       "      <td>NaN</td>\n",
       "      <td>1310 Pacific Av</td>\n",
       "      <td>1310 pacific ave</td>\n",
       "      <td>2016</td>\n",
       "    </tr>\n",
       "  </tbody>\n",
       "</table>\n",
       "<p>5 rows × 50 columns</p>\n",
       "</div>"
      ],
      "text/plain": [
       "                     Permit Number  Permit Type  \\\n",
       "Permit Creation Date                              \n",
       "2014-02-03            201402037639            8   \n",
       "2017-12-18            201712186766            3   \n",
       "2016-08-29            201608296300            3   \n",
       "2015-06-02            201506027829            3   \n",
       "2016-12-21            201612215583            3   \n",
       "\n",
       "                                Permit Type Definition Block  Lot  \\\n",
       "Permit Creation Date                                                \n",
       "2014-02-03                      otc alterations permit  4219  043   \n",
       "2017-12-18            additions alterations or repairs  6940  031   \n",
       "2016-08-29            additions alterations or repairs  7089  040   \n",
       "2015-06-02            additions alterations or repairs  5841  005   \n",
       "2016-12-21            additions alterations or repairs  0155  013   \n",
       "\n",
       "                      Street Number Street Number Suffix Street Name  \\\n",
       "Permit Creation Date                                                   \n",
       "2014-02-03                     1123                  NaN    Carolina   \n",
       "2017-12-18                      242                  NaN      Ashton   \n",
       "2016-08-29                      274                  NaN    Victoria   \n",
       "2015-06-02                      423                  NaN      Justin   \n",
       "2016-12-21                     1310                  NaN     Pacific   \n",
       "\n",
       "                     Street Suffix  Unit  ...  \\\n",
       "Permit Creation Date                      ...   \n",
       "2014-02-03                      St   NaN  ...   \n",
       "2017-12-18                      Av   NaN  ...   \n",
       "2016-08-29                      St   NaN  ...   \n",
       "2015-06-02                      Dr   NaN  ...   \n",
       "2016-12-21                      Av   NaN  ...   \n",
       "\n",
       "                                                       Location  \\\n",
       "Permit Creation Date                                              \n",
       "2014-02-03            (37.754306947688534, -122.39931683984678)   \n",
       "2017-12-18              (37.7226331255751, -122.46195088679892)   \n",
       "2016-08-29             (37.71566908934369, -122.46503924892617)   \n",
       "2015-06-02             (37.73195576909413, -122.42389453610747)   \n",
       "2016-12-21             (37.79576706146776, -122.41710075064503)   \n",
       "\n",
       "                          Record ID SF Find Neighborhoods  \\\n",
       "Permit Creation Date                                        \n",
       "2014-02-03            1331529172376                  54.0   \n",
       "2017-12-18            1491022214718                  64.0   \n",
       "2016-08-29            1435480220959                  65.0   \n",
       "2015-06-02            1383635189245                  93.0   \n",
       "2016-12-21             144822060927                  16.0   \n",
       "\n",
       "                     Current Police Districts Current Supervisor Districts  \\\n",
       "Permit Creation Date                                                         \n",
       "2014-02-03                                2.0                          9.0   \n",
       "2017-12-18                               10.0                          8.0   \n",
       "2016-08-29                               10.0                          1.0   \n",
       "2015-06-02                                9.0                          2.0   \n",
       "2016-12-21                                6.0                          3.0   \n",
       "\n",
       "                     Analysis Neighborhoods approval_in_days  \\\n",
       "Permit Creation Date                                           \n",
       "2014-02-03                             26.0              NaN   \n",
       "2017-12-18                             24.0              NaN   \n",
       "2016-08-29                             24.0              NaN   \n",
       "2015-06-02                              2.0              NaN   \n",
       "2016-12-21                             32.0              NaN   \n",
       "\n",
       "                               Address        SingleLine  Year  \n",
       "Permit Creation Date                                            \n",
       "2014-02-03            1123 Carolina St  1123 carolina st  2014  \n",
       "2017-12-18               242 Ashton Av    242 ashton ave  2017  \n",
       "2016-08-29             274 Victoria St   274 victoria st  2016  \n",
       "2015-06-02               423 Justin Dr     423 justin dr  2015  \n",
       "2016-12-21             1310 Pacific Av  1310 pacific ave  2016  \n",
       "\n",
       "[5 rows x 50 columns]"
      ]
     },
     "execution_count": 25,
     "metadata": {},
     "output_type": "execute_result"
    }
   ],
   "source": [
    "df_permits_clean.head()"
   ]
  },
  {
   "cell_type": "markdown",
   "metadata": {},
   "source": [
    "### Merge on address, year, using .join"
   ]
  },
  {
   "cell_type": "code",
   "execution_count": 34,
   "metadata": {},
   "outputs": [
    {
     "data": {
      "text/plain": [
       "Index(['Year', 'Block', 'Lot', 'Street Number', 'Street Name', 'Street Suffix',\n",
       "       'Unit', 'SingleLine'],\n",
       "      dtype='object')"
      ]
     },
     "execution_count": 34,
     "metadata": {},
     "output_type": "execute_result"
    }
   ],
   "source": [
    "pc = df_permits_clean.columns\n",
    "ac = df_assess_clean.columns\n",
    "common_cols = [item in pc for item in ac]\n",
    "ac[common_cols]"
   ]
  },
  {
   "cell_type": "code",
   "execution_count": 33,
   "metadata": {},
   "outputs": [
    {
     "data": {
      "text/plain": [
       "Index(['Year', 'Block', 'Lot', 'Street Number', 'Street Name', 'Street Suffix',\n",
       "       'Unit', 'SingleLine'],\n",
       "      dtype='object')"
      ]
     },
     "execution_count": 33,
     "metadata": {},
     "output_type": "execute_result"
    }
   ],
   "source": []
  },
  {
   "cell_type": "code",
   "execution_count": 35,
   "metadata": {},
   "outputs": [],
   "source": [
    "small_permit = df_permits_clean.iloc[1:1000]\n",
    "small_assess = df_assess_clean.iloc[1:1000]\n",
    "small_merge = pd.merge(left = small_permit,right=small_assess, on=['Year','SingleLine'], how='inner').head()"
   ]
  },
  {
   "cell_type": "code",
   "execution_count": null,
   "metadata": {},
   "outputs": [],
   "source": []
  },
  {
   "cell_type": "code",
   "execution_count": null,
   "metadata": {},
   "outputs": [],
   "source": [
    "pd.concat"
   ]
  }
 ],
 "metadata": {
  "kernelspec": {
   "display_name": "Capstone Development",
   "language": "python",
   "name": "capstone-dev"
  },
  "language_info": {
   "codemirror_mode": {
    "name": "ipython",
    "version": 3
   },
   "file_extension": ".py",
   "mimetype": "text/x-python",
   "name": "python",
   "nbconvert_exporter": "python",
   "pygments_lexer": "ipython3",
   "version": "3.7.6"
  }
 },
 "nbformat": 4,
 "nbformat_minor": 2
}
