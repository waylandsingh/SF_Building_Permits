{
 "cells": [
  {
   "cell_type": "code",
   "execution_count": 96,
   "metadata": {},
   "outputs": [],
   "source": [
    "import texthero\n",
    "import pandas as pd\n",
    "import numpy as np\n",
    "import re\n",
    "import random"
   ]
  },
  {
   "cell_type": "code",
   "execution_count": 83,
   "metadata": {},
   "outputs": [
    {
     "name": "stderr",
     "output_type": "stream",
     "text": [
      "C:\\Users\\way\\Dropbox\\MOOCself\\Workspace\\Python_venv_practice\\practice_env\\lib\\site-packages\\IPython\\core\\interactiveshell.py:3071: DtypeWarning: Columns (18,22,23,32,35) have mixed types.Specify dtype option on import or set low_memory=False.\n",
      "  has_raised = await self.run_ast_nodes(code_ast.body, cell_name,\n"
     ]
    }
   ],
   "source": [
    "df = pd.read_csv('Building_Permits.csv')"
   ]
  },
  {
   "cell_type": "code",
   "execution_count": 84,
   "metadata": {},
   "outputs": [
    {
     "data": {
      "text/html": [
       "<div>\n",
       "<style scoped>\n",
       "    .dataframe tbody tr th:only-of-type {\n",
       "        vertical-align: middle;\n",
       "    }\n",
       "\n",
       "    .dataframe tbody tr th {\n",
       "        vertical-align: top;\n",
       "    }\n",
       "\n",
       "    .dataframe thead th {\n",
       "        text-align: right;\n",
       "    }\n",
       "</style>\n",
       "<table border=\"1\" class=\"dataframe\">\n",
       "  <thead>\n",
       "    <tr style=\"text-align: right;\">\n",
       "      <th></th>\n",
       "      <th>Permit Number</th>\n",
       "      <th>Permit Type</th>\n",
       "      <th>Permit Type Definition</th>\n",
       "      <th>Permit Creation Date</th>\n",
       "      <th>Block</th>\n",
       "      <th>Lot</th>\n",
       "      <th>Street Number</th>\n",
       "      <th>Street Number Suffix</th>\n",
       "      <th>Street Name</th>\n",
       "      <th>Street Suffix</th>\n",
       "      <th>...</th>\n",
       "      <th>Record ID</th>\n",
       "      <th>SF Find Neighborhoods</th>\n",
       "      <th>Current Police Districts</th>\n",
       "      <th>Current Supervisor Districts</th>\n",
       "      <th>Analysis Neighborhoods</th>\n",
       "      <th>DELETE - Zip Codes</th>\n",
       "      <th>DELETE - Fire Prevention Districts</th>\n",
       "      <th>DELETE - Supervisor Districts</th>\n",
       "      <th>DELETE - Current Police Districts</th>\n",
       "      <th>DELETE - Supervisorial_Districts_Waterline_data_from_7pkg_wer3</th>\n",
       "    </tr>\n",
       "  </thead>\n",
       "  <tbody>\n",
       "    <tr>\n",
       "      <th>0</th>\n",
       "      <td>M276234</td>\n",
       "      <td>8</td>\n",
       "      <td>otc alterations permit</td>\n",
       "      <td>08/25/2011</td>\n",
       "      <td>0293</td>\n",
       "      <td>001</td>\n",
       "      <td>211</td>\n",
       "      <td>NaN</td>\n",
       "      <td>Sutter</td>\n",
       "      <td>St</td>\n",
       "      <td>...</td>\n",
       "      <td>124774567115</td>\n",
       "      <td>19.0</td>\n",
       "      <td>6.0</td>\n",
       "      <td>3.0</td>\n",
       "      <td>8.0</td>\n",
       "      <td>28857.0</td>\n",
       "      <td>5.0</td>\n",
       "      <td>10.0</td>\n",
       "      <td>1.0</td>\n",
       "      <td>2.0</td>\n",
       "    </tr>\n",
       "    <tr>\n",
       "      <th>1</th>\n",
       "      <td>M244529</td>\n",
       "      <td>8</td>\n",
       "      <td>otc alterations permit</td>\n",
       "      <td>03/02/2011</td>\n",
       "      <td>3647</td>\n",
       "      <td>011</td>\n",
       "      <td>1170</td>\n",
       "      <td>NaN</td>\n",
       "      <td>Guerrero</td>\n",
       "      <td>St</td>\n",
       "      <td>...</td>\n",
       "      <td>1231714163863</td>\n",
       "      <td>52.0</td>\n",
       "      <td>3.0</td>\n",
       "      <td>5.0</td>\n",
       "      <td>20.0</td>\n",
       "      <td>28859.0</td>\n",
       "      <td>2.0</td>\n",
       "      <td>5.0</td>\n",
       "      <td>7.0</td>\n",
       "      <td>1.0</td>\n",
       "    </tr>\n",
       "    <tr>\n",
       "      <th>2</th>\n",
       "      <td>200505021369</td>\n",
       "      <td>8</td>\n",
       "      <td>otc alterations permit</td>\n",
       "      <td>05/02/2005</td>\n",
       "      <td>5956</td>\n",
       "      <td>014</td>\n",
       "      <td>154</td>\n",
       "      <td>NaN</td>\n",
       "      <td>Edinburg</td>\n",
       "      <td>St</td>\n",
       "      <td>...</td>\n",
       "      <td>1014316192360</td>\n",
       "      <td>90.0</td>\n",
       "      <td>9.0</td>\n",
       "      <td>1.0</td>\n",
       "      <td>7.0</td>\n",
       "      <td>28861.0</td>\n",
       "      <td>9.0</td>\n",
       "      <td>6.0</td>\n",
       "      <td>4.0</td>\n",
       "      <td>8.0</td>\n",
       "    </tr>\n",
       "    <tr>\n",
       "      <th>3</th>\n",
       "      <td>201111179152</td>\n",
       "      <td>8</td>\n",
       "      <td>otc alterations permit</td>\n",
       "      <td>11/17/2011</td>\n",
       "      <td>3744</td>\n",
       "      <td>002</td>\n",
       "      <td>345</td>\n",
       "      <td>NaN</td>\n",
       "      <td>Spear</td>\n",
       "      <td>St</td>\n",
       "      <td>...</td>\n",
       "      <td>1255727436922</td>\n",
       "      <td>30.0</td>\n",
       "      <td>1.0</td>\n",
       "      <td>10.0</td>\n",
       "      <td>8.0</td>\n",
       "      <td>28855.0</td>\n",
       "      <td>6.0</td>\n",
       "      <td>9.0</td>\n",
       "      <td>2.0</td>\n",
       "      <td>3.0</td>\n",
       "    </tr>\n",
       "    <tr>\n",
       "      <th>4</th>\n",
       "      <td>M360647</td>\n",
       "      <td>8</td>\n",
       "      <td>otc alterations permit</td>\n",
       "      <td>12/03/2012</td>\n",
       "      <td>6506</td>\n",
       "      <td>034</td>\n",
       "      <td>4159</td>\n",
       "      <td>NaN</td>\n",
       "      <td>24th</td>\n",
       "      <td>St</td>\n",
       "      <td>...</td>\n",
       "      <td>1289953398975</td>\n",
       "      <td>84.0</td>\n",
       "      <td>3.0</td>\n",
       "      <td>5.0</td>\n",
       "      <td>22.0</td>\n",
       "      <td>28862.0</td>\n",
       "      <td>2.0</td>\n",
       "      <td>5.0</td>\n",
       "      <td>7.0</td>\n",
       "      <td>1.0</td>\n",
       "    </tr>\n",
       "  </tbody>\n",
       "</table>\n",
       "<p>5 rows × 52 columns</p>\n",
       "</div>"
      ],
      "text/plain": [
       "  Permit Number  Permit Type  Permit Type Definition Permit Creation Date  \\\n",
       "0       M276234            8  otc alterations permit           08/25/2011   \n",
       "1       M244529            8  otc alterations permit           03/02/2011   \n",
       "2  200505021369            8  otc alterations permit           05/02/2005   \n",
       "3  201111179152            8  otc alterations permit           11/17/2011   \n",
       "4       M360647            8  otc alterations permit           12/03/2012   \n",
       "\n",
       "  Block  Lot  Street Number Street Number Suffix Street Name Street Suffix  \\\n",
       "0  0293  001            211                  NaN      Sutter            St   \n",
       "1  3647  011           1170                  NaN    Guerrero            St   \n",
       "2  5956  014            154                  NaN    Edinburg            St   \n",
       "3  3744  002            345                  NaN       Spear            St   \n",
       "4  6506  034           4159                  NaN        24th            St   \n",
       "\n",
       "   ...      Record ID SF Find Neighborhoods Current Police Districts  \\\n",
       "0  ...   124774567115                  19.0                      6.0   \n",
       "1  ...  1231714163863                  52.0                      3.0   \n",
       "2  ...  1014316192360                  90.0                      9.0   \n",
       "3  ...  1255727436922                  30.0                      1.0   \n",
       "4  ...  1289953398975                  84.0                      3.0   \n",
       "\n",
       "  Current Supervisor Districts Analysis Neighborhoods DELETE - Zip Codes  \\\n",
       "0                          3.0                    8.0            28857.0   \n",
       "1                          5.0                   20.0            28859.0   \n",
       "2                          1.0                    7.0            28861.0   \n",
       "3                         10.0                    8.0            28855.0   \n",
       "4                          5.0                   22.0            28862.0   \n",
       "\n",
       "  DELETE - Fire Prevention Districts DELETE - Supervisor Districts  \\\n",
       "0                                5.0                          10.0   \n",
       "1                                2.0                           5.0   \n",
       "2                                9.0                           6.0   \n",
       "3                                6.0                           9.0   \n",
       "4                                2.0                           5.0   \n",
       "\n",
       "  DELETE - Current Police Districts  \\\n",
       "0                               1.0   \n",
       "1                               7.0   \n",
       "2                               4.0   \n",
       "3                               2.0   \n",
       "4                               7.0   \n",
       "\n",
       "  DELETE - Supervisorial_Districts_Waterline_data_from_7pkg_wer3  \n",
       "0                                                2.0              \n",
       "1                                                1.0              \n",
       "2                                                8.0              \n",
       "3                                                3.0              \n",
       "4                                                1.0              \n",
       "\n",
       "[5 rows x 52 columns]"
      ]
     },
     "execution_count": 84,
     "metadata": {},
     "output_type": "execute_result"
    }
   ],
   "source": [
    "df.head()"
   ]
  },
  {
   "cell_type": "code",
   "execution_count": null,
   "metadata": {},
   "outputs": [],
   "source": []
  },
  {
   "cell_type": "code",
   "execution_count": 85,
   "metadata": {},
   "outputs": [
    {
     "data": {
      "text/plain": [
       "A    6405\n",
       "V    1731\n",
       "B    1261\n",
       "C     281\n",
       "D     127\n",
       "E      70\n",
       "F      54\n",
       "P      28\n",
       "K      24\n",
       "0      19\n",
       "H      19\n",
       "R      17\n",
       "G      16\n",
       "L      12\n",
       "J      10\n",
       "I       8\n",
       "4       6\n",
       "S       5\n",
       "N       2\n",
       "1       2\n",
       "½       1\n",
       "7       1\n",
       "6       1\n",
       "3       1\n",
       "2       1\n",
       "U       1\n",
       "Name: Street Number Suffix, dtype: int64"
      ]
     },
     "execution_count": 85,
     "metadata": {},
     "output_type": "execute_result"
    }
   ],
   "source": [
    "df['Street Number Suffix'].value_counts()"
   ]
  },
  {
   "cell_type": "markdown",
   "metadata": {},
   "source": [
    "Form the addresses in their own Series"
   ]
  },
  {
   "cell_type": "code",
   "execution_count": 119,
   "metadata": {},
   "outputs": [
    {
     "data": {
      "text/plain": [
       "0               211 Sutter St\n",
       "1            1170 Guerrero St\n",
       "2             154 Edinburg St\n",
       "3                345 Spear St\n",
       "4                4159 24th St\n",
       "                  ...        \n",
       "1137687          999 Green St\n",
       "1137688       364 Ofarrell St\n",
       "1137689    1323 Palou Avenuev\n",
       "1137690          16 Toland St\n",
       "1137691         2470 Great Hy\n",
       "Name: Address, Length: 1137692, dtype: object"
      ]
     },
     "execution_count": 119,
     "metadata": {},
     "output_type": "execute_result"
    }
   ],
   "source": [
    "\n",
    "df['Address'] = (df['Street Number'].astype('str') + df['Street Number Suffix'].apply(lambda v: str(v)+' ' if str(v) != 'nan' else '')\n",
    "                    + ' ' + df['Street Name'].astype('str')  + ' ' + df['Street Suffix'].astype('str'))\n",
    "df['Address'].apply(lambda x: re.sub(' A',' Avenue',x))"
   ]
  },
  {
   "cell_type": "code",
   "execution_count": 120,
   "metadata": {},
   "outputs": [
    {
     "data": {
      "text/plain": [
       "12                280V  06th Av\n",
       "39              70A  Sanchez St\n",
       "76              980V  Folsom St\n",
       "132        98V  Pennsylvania Av\n",
       "165            111A  Cypress St\n",
       "                   ...         \n",
       "1136839       1540L  Lombard St\n",
       "1137201       1209A  Vicente St\n",
       "1137298           312A  25th Av\n",
       "1137530        53A  Prospect Av\n",
       "1137584      131A  Belvedere St\n",
       "Name: Address, Length: 10103, dtype: object"
      ]
     },
     "execution_count": 120,
     "metadata": {},
     "output_type": "execute_result"
    }
   ],
   "source": [
    "df['Address'][df['Street Number Suffix'].notna()] #checking the appended number suffixes"
   ]
  },
  {
   "cell_type": "markdown",
   "metadata": {},
   "source": [
    "Next, we'll want to verify that the addresses are valid ones. Here is where we'll use the OSM API outlined in JSON and APIs"
   ]
  },
  {
   "cell_type": "code",
   "execution_count": 121,
   "metadata": {},
   "outputs": [],
   "source": [
    "import requests\n",
    "def geocode(address):\n",
    "    params = { 'format'        :'json', \n",
    "               'addressdetails': 1, \n",
    "               'q'             : address}\n",
    "    headers = { 'user-agent'   : 'TDI' }   #  Need to supply a user agent other than the default provided \n",
    "                                           #  by requests for the API to accept the query.\n",
    "    return requests.get('http://nominatim.openstreetmap.org/search', params=params, headers=headers)\n"
   ]
  },
  {
   "cell_type": "code",
   "execution_count": 128,
   "metadata": {},
   "outputs": [
    {
     "data": {
      "text/plain": [
       "(456490, '301 Howard St')"
      ]
     },
     "execution_count": 128,
     "metadata": {},
     "output_type": "execute_result"
    }
   ],
   "source": [
    "r_address = random.randint(0,len(df))\n",
    "r_address, df.loc[r_address, 'Address']"
   ]
  },
  {
   "cell_type": "code",
   "execution_count": 129,
   "metadata": {},
   "outputs": [
    {
     "data": {
      "text/plain": [
       "'301 Howard St San Francisco'"
      ]
     },
     "execution_count": 129,
     "metadata": {},
     "output_type": "execute_result"
    }
   ],
   "source": [
    "df.loc[r_address,'Address']+' San Francisco'"
   ]
  },
  {
   "cell_type": "code",
   "execution_count": 134,
   "metadata": {},
   "outputs": [],
   "source": [
    "addr_dict = geocode(df.loc[r_address,'Address']+' street San Francisco').json()[0]['address']"
   ]
  },
  {
   "cell_type": "code",
   "execution_count": 135,
   "metadata": {},
   "outputs": [
    {
     "data": {
      "text/plain": [
       "{'house_number': '301',\n",
       " 'road': 'Howard Street',\n",
       " 'neighbourhood': 'Financial District',\n",
       " 'city': 'San Francisco',\n",
       " 'county': 'San Francisco City and County',\n",
       " 'state': 'California',\n",
       " 'postcode': '94105',\n",
       " 'country': 'United States of America',\n",
       " 'country_code': 'us'}"
      ]
     },
     "execution_count": 135,
     "metadata": {},
     "output_type": "execute_result"
    }
   ],
   "source": [
    "addr_dict"
   ]
  },
  {
   "cell_type": "code",
   "execution_count": 131,
   "metadata": {},
   "outputs": [
    {
     "data": {
      "text/plain": [
       "'301 Howard Street Financial District San Francisco San Francisco City and County California 94105 United States of America us'"
      ]
     },
     "execution_count": 131,
     "metadata": {},
     "output_type": "execute_result"
    }
   ],
   "source": [
    "' '.join(response.json()[0]['address'].values())"
   ]
  },
  {
   "cell_type": "markdown",
   "metadata": {},
   "source": [
    "Next, you'll want to maybe setup asynchronous requests with requests futures ..."
   ]
  },
  {
   "cell_type": "code",
   "execution_count": null,
   "metadata": {},
   "outputs": [],
   "source": []
  },
  {
   "cell_type": "markdown",
   "metadata": {},
   "source": [
    "...as well as caching the results maybe by decorating the function call to the API for an address"
   ]
  },
  {
   "cell_type": "code",
   "execution_count": 66,
   "metadata": {},
   "outputs": [
    {
     "data": {
      "text/plain": [
       "'70 SanchezAvenue'"
      ]
     },
     "execution_count": 66,
     "metadata": {},
     "output_type": "execute_result"
    }
   ],
   "source": []
  },
  {
   "cell_type": "code",
   "execution_count": null,
   "metadata": {},
   "outputs": [],
   "source": []
  }
 ],
 "metadata": {
  "kernelspec": {
   "display_name": "Python 3",
   "language": "python",
   "name": "python3"
  },
  "language_info": {
   "codemirror_mode": {
    "name": "ipython",
    "version": 3
   },
   "file_extension": ".py",
   "mimetype": "text/x-python",
   "name": "python",
   "nbconvert_exporter": "python",
   "pygments_lexer": "ipython3",
   "version": "3.7.0"
  }
 },
 "nbformat": 4,
 "nbformat_minor": 4
}
