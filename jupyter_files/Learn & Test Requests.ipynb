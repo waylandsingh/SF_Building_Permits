{
 "cells": [
  {
   "cell_type": "markdown",
   "metadata": {},
   "source": [
    "The nominatim API specifies that only single-threads allow. \n",
    "This means that requests-futures is no good?"
   ]
  },
  {
   "cell_type": "code",
   "execution_count": 7,
   "metadata": {},
   "outputs": [],
   "source": [
    "import requests\n"
   ]
  },
  {
   "cell_type": "code",
   "execution_count": null,
   "metadata": {},
   "outputs": [],
   "source": [
    "resp = requests.get('http://nominatim.openstreetmap.org/search')"
   ]
  },
  {
   "cell_type": "code",
   "execution_count": 2,
   "metadata": {},
   "outputs": [],
   "source": [
    "from requests_futures.sessions import FuturesSession"
   ]
  },
  {
   "cell_type": "code",
   "execution_count": 3,
   "metadata": {},
   "outputs": [],
   "source": [
    "session = FuturesSession()"
   ]
  },
  {
   "cell_type": "code",
   "execution_count": 4,
   "metadata": {},
   "outputs": [],
   "source": [
    "address = '6 Lenox Way San Francisco'\n",
    "params = { 'format'        :'json', \n",
    "               'addressdetails': 1, \n",
    "               'q'             : address}\n",
    "headers = { 'user-agent'   : 'TDI' } "
   ]
  },
  {
   "cell_type": "code",
   "execution_count": 5,
   "metadata": {},
   "outputs": [],
   "source": [
    "future1 = session.get('http://nominatim.openstreetmap.org/search', params=params, headers=headers)"
   ]
  },
  {
   "cell_type": "code",
   "execution_count": 6,
   "metadata": {},
   "outputs": [
    {
     "name": "stdout",
     "output_type": "stream",
     "text": [
      "b'[{\"place_id\":243120344,\"licence\":\"Data \\xc2\\xa9 OpenStreetMap contributors, ODbL 1.0. https://osm.org/copyright\",\"osm_type\":\"way\",\"osm_id\":8918149,\"boundingbox\":[\"37.743433309266\",\"37.743533309266\",\"-122.46491211603\",\"-122.46481211603\"],\"lat\":\"37.74348330926645\",\"lon\":\"-122.46486211602941\",\"display_name\":\"6, Lenox Way, West Portal, San Francisco, San Francisco City and County, California, 94127, United States of America\",\"class\":\"place\",\"type\":\"house\",\"importance\":0.511,\"address\":{\"house_number\":\"6\",\"road\":\"Lenox Way\",\"neighbourhood\":\"West Portal\",\"city\":\"San Francisco\",\"county\":\"San Francisco City and County\",\"state\":\"California\",\"postcode\":\"94127\",\"country\":\"United States of America\",\"country_code\":\"us\"}}]'\n"
     ]
    }
   ],
   "source": [
    "resp1 = future1.result()\n",
    "print(resp1.content)"
   ]
  },
  {
   "cell_type": "code",
   "execution_count": null,
   "metadata": {},
   "outputs": [],
   "source": []
  }
 ],
 "metadata": {
  "kernelspec": {
   "display_name": "Python 3",
   "language": "python",
   "name": "python3"
  },
  "language_info": {
   "codemirror_mode": {
    "name": "ipython",
    "version": 3
   },
   "file_extension": ".py",
   "mimetype": "text/x-python",
   "name": "python",
   "nbconvert_exporter": "python",
   "pygments_lexer": "ipython3",
   "version": "3.7.5"
  }
 },
 "nbformat": 4,
 "nbformat_minor": 4
}
