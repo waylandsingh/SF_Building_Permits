{
 "cells": [
  {
   "cell_type": "markdown",
   "metadata": {},
   "source": [
    "# Can We Build It?"
   ]
  },
  {
   "cell_type": "markdown",
   "metadata": {},
   "source": [
    "Building permits provide a valuable source of information on construction and housing development in San Francisco. By examining the record of building permits, we will identify key features of a projects that make permit approval faster and cheaper for property owners. In doing so, we hope to gain insight into a smaller, but important subgroup of building permits in San Francisco: the addition of units by owners of smaller properties. The SF municipality is suffering from a shortage of housing units, in part due to onerous regulatory and permit challenges. By clarifying aspects of the permitting process, we can provide owners the data they need to confidently increase the supply of housing in our city."
   ]
  },
  {
   "cell_type": "markdown",
   "metadata": {},
   "source": [
    "*Note*: Since this is historic data, it is likely that some properties have been counted multiple times, for different purposes, and totalling the units or permits does NOT equal the number of housing units in the city. Instead, a quick search indicates that SF has ~390k housing units total(from Census & city data), and some adjustment may be needed to uniquely identify permits where units were added. The following analysis instead examines the characteristics of all housing permit applications including geographic location, construction costs, and length of permit approval process."
   ]
  },
  {
   "cell_type": "code",
   "execution_count": 2,
   "metadata": {},
   "outputs": [],
   "source": [
    "import pandas as pd\n",
    "import numpy as np\n",
    "import seaborn as sns\n",
    "import matplotlib.pyplot as plt\n",
    "\n"
   ]
  },
  {
   "cell_type": "markdown",
   "metadata": {},
   "source": [
    "Not Working on different machine ("
   ]
  },
  {
   "cell_type": "code",
   "execution_count": 25,
   "metadata": {},
   "outputs": [
    {
     "ename": "ModuleNotFoundError",
     "evalue": "No module named 'geoplot'",
     "output_type": "error",
     "traceback": [
      "\u001b[0;31m---------------------------------------------------------------------------\u001b[0m",
      "\u001b[0;31mModuleNotFoundError\u001b[0m                       Traceback (most recent call last)",
      "\u001b[0;32m<ipython-input-25-fb1eba9e9b05>\u001b[0m in \u001b[0;36m<module>\u001b[0;34m\u001b[0m\n\u001b[1;32m     12\u001b[0m \u001b[0;32mfrom\u001b[0m \u001b[0mshapely\u001b[0m\u001b[0;34m.\u001b[0m\u001b[0mgeometry\u001b[0m \u001b[0;32mimport\u001b[0m \u001b[0mPoint\u001b[0m\u001b[0;34m\u001b[0m\u001b[0;34m\u001b[0m\u001b[0m\n\u001b[1;32m     13\u001b[0m \u001b[0;31m# map plotting\u001b[0m\u001b[0;34m\u001b[0m\u001b[0;34m\u001b[0m\u001b[0;34m\u001b[0m\u001b[0m\n\u001b[0;32m---> 14\u001b[0;31m \u001b[0;32mimport\u001b[0m \u001b[0mgeoplot\u001b[0m \u001b[0;32mas\u001b[0m \u001b[0mgplt\u001b[0m\u001b[0;34m\u001b[0m\u001b[0;34m\u001b[0m\u001b[0m\n\u001b[0m\u001b[1;32m     15\u001b[0m \u001b[0;32mimport\u001b[0m \u001b[0mgeoplot\u001b[0m\u001b[0;34m.\u001b[0m\u001b[0mcrs\u001b[0m \u001b[0;32mas\u001b[0m \u001b[0mgcrs\u001b[0m\u001b[0;34m\u001b[0m\u001b[0;34m\u001b[0m\u001b[0m\n\u001b[1;32m     16\u001b[0m \u001b[0;31m# # geoplot is based on cartopy\u001b[0m\u001b[0;34m\u001b[0m\u001b[0;34m\u001b[0m\u001b[0;34m\u001b[0m\u001b[0m\n",
      "\u001b[0;31mModuleNotFoundError\u001b[0m: No module named 'geoplot'"
     ]
    }
   ],
   "source": [
    "import warnings\n",
    "warnings.filterwarnings('ignore')\n",
    "\n",
    "import pandas as pd\n",
    "import numpy as np\n",
    "import matplotlib\n",
    "import matplotlib.pyplot as plt\n",
    "\n",
    "# handles geodata\n",
    "import geopandas as gp\n",
    "# converts coordinate pairs into points that can be interpreted by geopandas\n",
    "from shapely.geometry import Point\n",
    "# map plotting\n",
    "import geoplot as gplt\n",
    "import geoplot.crs as gcrs\n",
    "# # geoplot is based on cartopy\n",
    "# import cartopy\n",
    "# import cartopy.crs as ccrs"
   ]
  },
  {
   "cell_type": "code",
   "execution_count": 4,
   "metadata": {},
   "outputs": [],
   "source": [
    "# Convert the location information for geopandas\n",
    "def parse_point(record):\n",
    "    try:\n",
    "        pieces = record.split() # splits each record into a list of 3\n",
    "        x = float(pieces[0].lstrip('(').rstrip(',')) # latitude\n",
    "        y = float(pieces[1].rstrip(')')) # longitude \n",
    "        point = Point(x,y) # convert to Shapely Point\n",
    "    except:\n",
    "        print(record)\n",
    "    return point\n",
    "\n"
   ]
  },
  {
   "cell_type": "code",
   "execution_count": 5,
   "metadata": {},
   "outputs": [
    {
     "data": {
      "text/plain": [
       "Index(['Permit Number', 'Permit Type', 'Permit Type Definition',\n",
       "       'Permit Creation Date', 'Block', 'Lot', 'Street Number',\n",
       "       'Street Number Suffix', 'Street Name', 'Street Suffix', 'Unit',\n",
       "       'Unit Suffix', 'Description', 'Current Status', 'Current Status Date',\n",
       "       'Filed Date', 'Issued Date', 'Completed Date',\n",
       "       'First Construction Document Date', 'Structural Notification',\n",
       "       'Number of Existing Stories', 'Number of Proposed Stories',\n",
       "       'Voluntary Soft-Story Retrofit', 'Fire Only Permit',\n",
       "       'Permit Expiration Date', 'Estimated Cost', 'Revised Cost',\n",
       "       'Existing Use', 'Existing Units', 'Proposed Use', 'Proposed Units',\n",
       "       'Plansets', 'TIDF Compliance', 'Existing Construction Type',\n",
       "       'Existing Construction Type Description', 'Proposed Construction Type',\n",
       "       'Proposed Construction Type Description', 'Site Permit',\n",
       "       'Supervisor District', 'Neighborhoods - Analysis Boundaries', 'Zipcode',\n",
       "       'Location', 'Record ID', 'SF Find Neighborhoods',\n",
       "       'Current Police Districts', 'Current Supervisor Districts',\n",
       "       'Analysis Neighborhoods', 'DELETE - Zip Codes',\n",
       "       'DELETE - Fire Prevention Districts', 'DELETE - Supervisor Districts',\n",
       "       'DELETE - Current Police Districts',\n",
       "       'DELETE - Supervisorial_Districts_Waterline_data_from_7pkg_wer3',\n",
       "       'PID'],\n",
       "      dtype='object')"
      ]
     },
     "execution_count": 5,
     "metadata": {},
     "output_type": "execute_result"
    }
   ],
   "source": [
    "df = pd.read_csv('Building_Permits.csv')\n",
    "df['PID'] = df['Location'].dropna().map(lambda x: parse_point(x))\n",
    "df.columns"
   ]
  },
  {
   "cell_type": "code",
   "execution_count": 6,
   "metadata": {
    "scrolled": true
   },
   "outputs": [
    {
     "data": {
      "text/plain": [
       "True"
      ]
     },
     "execution_count": 6,
     "metadata": {},
     "output_type": "execute_result"
    }
   ],
   "source": [
    "# Quick check to see that the ID#s are unique\n",
    "len(df['Record ID'].unique()) == len(df.index)"
   ]
  },
  {
   "cell_type": "code",
   "execution_count": 7,
   "metadata": {
    "scrolled": true
   },
   "outputs": [
    {
     "data": {
      "text/plain": [
       "reroofing                    98979\n",
       "street space                 57276\n",
       "street space permit          17604\n",
       "reroofing.                    7131\n",
       "horizontal addition           6803\n",
       "sidewalk repair               4527\n",
       "street space permit only.     4523\n",
       "install aluminum windows      4104\n",
       "streetspace                   3950\n",
       "reroof                        3862\n",
       "Name: Description, dtype: int64"
      ]
     },
     "execution_count": 7,
     "metadata": {},
     "output_type": "execute_result"
    }
   ],
   "source": [
    "# Top 10  most popular reasons for permits\n",
    "df['Description'].value_counts().head(10)\n"
   ]
  },
  {
   "cell_type": "code",
   "execution_count": 8,
   "metadata": {
    "scrolled": false
   },
   "outputs": [
    {
     "data": {
      "text/plain": [
       "complete       620026\n",
       "issued         230482\n",
       "expired        225790\n",
       "cancelled       26690\n",
       "filed           21279\n",
       "withdrawn        7894\n",
       "approved         1610\n",
       "reinstated       1292\n",
       "filing           1196\n",
       "disapproved       584\n",
       "suspend           472\n",
       "revoked           232\n",
       "plancheck          60\n",
       "appeal             28\n",
       "issuing            23\n",
       "denied             10\n",
       "inspection          5\n",
       "incomplete          3\n",
       "unknown             2\n",
       "granted             1\n",
       "upheld              1\n",
       "Name: Current Status, dtype: int64"
      ]
     },
     "execution_count": 8,
     "metadata": {},
     "output_type": "execute_result"
    }
   ],
   "source": [
    "# Statuses of the permits in the dataset. Note the large number of expired permits. Perhaps there is more to dig into there?\n",
    "df['Current Status'].value_counts()"
   ]
  },
  {
   "cell_type": "code",
   "execution_count": 9,
   "metadata": {},
   "outputs": [
    {
     "data": {
      "text/plain": [
       "Text(0.5, 1.0, 'Breakdown of Permit Types')"
      ]
     },
     "execution_count": 9,
     "metadata": {},
     "output_type": "execute_result"
    },
    {
     "data": {
      "image/png": "[encoded data removed]",
      "text/plain": [
       "<Figure size 1296x360 with 1 Axes>"
      ]
     },
     "metadata": {
      "needs_background": "light"
     },
     "output_type": "display_data"
    }
   ],
   "source": [
    "# Permit categories. Note: OTC permits are same-day permits for more minor projects\n",
    "df['Permit Type Definition'].replace('grade or quarry or fill or excavate','fill/excavate', inplace=True)\n",
    "df['Permit Type Definition'].replace('new construction wood frame','new const wood', inplace=True)\n",
    "plt.figure(figsize=(18,5))\n",
    "sns.countplot(df['Permit Type Definition'])\n",
    "plt.title('Breakdown of Permit Types')"
   ]
  },
  {
   "cell_type": "code",
   "execution_count": 10,
   "metadata": {},
   "outputs": [
    {
     "data": {
      "text/html": [
       "<div>\n",
       "<style scoped>\n",
       "    .dataframe tbody tr th:only-of-type {\n",
       "        vertical-align: middle;\n",
       "    }\n",
       "\n",
       "    .dataframe tbody tr th {\n",
       "        vertical-align: top;\n",
       "    }\n",
       "\n",
       "    .dataframe thead th {\n",
       "        text-align: right;\n",
       "    }\n",
       "</style>\n",
       "<table border=\"1\" class=\"dataframe\">\n",
       "  <thead>\n",
       "    <tr style=\"text-align: right;\">\n",
       "      <th></th>\n",
       "      <th>Existing Units</th>\n",
       "      <th>Proposed Units</th>\n",
       "      <th>Estimated Cost</th>\n",
       "      <th>Revised Cost</th>\n",
       "      <th>Units Added</th>\n",
       "      <th>Units Added Pct</th>\n",
       "    </tr>\n",
       "    <tr>\n",
       "      <th>Neighborhoods - Analysis Boundaries</th>\n",
       "      <th></th>\n",
       "      <th></th>\n",
       "      <th></th>\n",
       "      <th></th>\n",
       "      <th></th>\n",
       "      <th></th>\n",
       "    </tr>\n",
       "  </thead>\n",
       "  <tbody>\n",
       "    <tr>\n",
       "      <th>Bayview Hunters Point</th>\n",
       "      <td>15427.0</td>\n",
       "      <td>15617.0</td>\n",
       "      <td>7.446502e+08</td>\n",
       "      <td>8.101556e+08</td>\n",
       "      <td>190.0</td>\n",
       "      <td>1.231607</td>\n",
       "    </tr>\n",
       "    <tr>\n",
       "      <th>Bernal Heights</th>\n",
       "      <td>3374.0</td>\n",
       "      <td>3398.0</td>\n",
       "      <td>2.981813e+08</td>\n",
       "      <td>3.127250e+08</td>\n",
       "      <td>24.0</td>\n",
       "      <td>0.711322</td>\n",
       "    </tr>\n",
       "    <tr>\n",
       "      <th>Castro/Upper Market</th>\n",
       "      <td>5394.0</td>\n",
       "      <td>5467.0</td>\n",
       "      <td>1.760215e+08</td>\n",
       "      <td>2.138790e+08</td>\n",
       "      <td>73.0</td>\n",
       "      <td>1.353356</td>\n",
       "    </tr>\n",
       "    <tr>\n",
       "      <th>Chinatown</th>\n",
       "      <td>34050.0</td>\n",
       "      <td>22193.0</td>\n",
       "      <td>2.808126e+08</td>\n",
       "      <td>3.279735e+08</td>\n",
       "      <td>-11857.0</td>\n",
       "      <td>-34.822320</td>\n",
       "    </tr>\n",
       "    <tr>\n",
       "      <th>Excelsior</th>\n",
       "      <td>1159.0</td>\n",
       "      <td>1294.0</td>\n",
       "      <td>3.570529e+07</td>\n",
       "      <td>5.160364e+07</td>\n",
       "      <td>135.0</td>\n",
       "      <td>11.647972</td>\n",
       "    </tr>\n",
       "    <tr>\n",
       "      <th>Financial District/South Beach</th>\n",
       "      <td>134454.0</td>\n",
       "      <td>137054.0</td>\n",
       "      <td>2.089523e+09</td>\n",
       "      <td>2.525455e+09</td>\n",
       "      <td>2600.0</td>\n",
       "      <td>1.933747</td>\n",
       "    </tr>\n",
       "    <tr>\n",
       "      <th>Glen Park</th>\n",
       "      <td>1674.0</td>\n",
       "      <td>1688.0</td>\n",
       "      <td>5.045746e+07</td>\n",
       "      <td>6.029435e+07</td>\n",
       "      <td>14.0</td>\n",
       "      <td>0.836320</td>\n",
       "    </tr>\n",
       "    <tr>\n",
       "      <th>Golden Gate Park</th>\n",
       "      <td>417.0</td>\n",
       "      <td>417.0</td>\n",
       "      <td>1.430713e+08</td>\n",
       "      <td>1.449263e+08</td>\n",
       "      <td>0.0</td>\n",
       "      <td>0.000000</td>\n",
       "    </tr>\n",
       "    <tr>\n",
       "      <th>Haight Ashbury</th>\n",
       "      <td>3875.0</td>\n",
       "      <td>3862.0</td>\n",
       "      <td>7.567901e+07</td>\n",
       "      <td>9.075011e+07</td>\n",
       "      <td>-13.0</td>\n",
       "      <td>-0.335484</td>\n",
       "    </tr>\n",
       "    <tr>\n",
       "      <th>Hayes Valley</th>\n",
       "      <td>9069.0</td>\n",
       "      <td>9617.0</td>\n",
       "      <td>1.024093e+08</td>\n",
       "      <td>1.265261e+08</td>\n",
       "      <td>548.0</td>\n",
       "      <td>6.042563</td>\n",
       "    </tr>\n",
       "    <tr>\n",
       "      <th>Inner Richmond</th>\n",
       "      <td>9250.0</td>\n",
       "      <td>2345.0</td>\n",
       "      <td>7.744505e+07</td>\n",
       "      <td>1.015976e+08</td>\n",
       "      <td>-6905.0</td>\n",
       "      <td>-74.648649</td>\n",
       "    </tr>\n",
       "    <tr>\n",
       "      <th>Inner Sunset</th>\n",
       "      <td>3807.0</td>\n",
       "      <td>3854.0</td>\n",
       "      <td>7.275505e+07</td>\n",
       "      <td>9.653653e+07</td>\n",
       "      <td>47.0</td>\n",
       "      <td>1.234568</td>\n",
       "    </tr>\n",
       "    <tr>\n",
       "      <th>Japantown</th>\n",
       "      <td>6791.0</td>\n",
       "      <td>6813.0</td>\n",
       "      <td>1.688356e+08</td>\n",
       "      <td>1.792333e+08</td>\n",
       "      <td>22.0</td>\n",
       "      <td>0.323958</td>\n",
       "    </tr>\n",
       "    <tr>\n",
       "      <th>Lakeshore</th>\n",
       "      <td>5497.0</td>\n",
       "      <td>5500.0</td>\n",
       "      <td>3.076036e+07</td>\n",
       "      <td>3.357830e+07</td>\n",
       "      <td>3.0</td>\n",
       "      <td>0.054575</td>\n",
       "    </tr>\n",
       "    <tr>\n",
       "      <th>Lincoln Park</th>\n",
       "      <td>13.0</td>\n",
       "      <td>13.0</td>\n",
       "      <td>2.695925e+06</td>\n",
       "      <td>2.850840e+06</td>\n",
       "      <td>0.0</td>\n",
       "      <td>0.000000</td>\n",
       "    </tr>\n",
       "    <tr>\n",
       "      <th>Lone Mountain/USF</th>\n",
       "      <td>3899.0</td>\n",
       "      <td>3849.0</td>\n",
       "      <td>9.108095e+07</td>\n",
       "      <td>1.105327e+08</td>\n",
       "      <td>-50.0</td>\n",
       "      <td>-1.282380</td>\n",
       "    </tr>\n",
       "    <tr>\n",
       "      <th>Marina</th>\n",
       "      <td>8114.0</td>\n",
       "      <td>8167.0</td>\n",
       "      <td>1.537180e+08</td>\n",
       "      <td>1.964466e+08</td>\n",
       "      <td>53.0</td>\n",
       "      <td>0.653192</td>\n",
       "    </tr>\n",
       "    <tr>\n",
       "      <th>McLaren Park</th>\n",
       "      <td>643.0</td>\n",
       "      <td>643.0</td>\n",
       "      <td>1.345501e+06</td>\n",
       "      <td>1.406501e+06</td>\n",
       "      <td>0.0</td>\n",
       "      <td>0.000000</td>\n",
       "    </tr>\n",
       "    <tr>\n",
       "      <th>Mission</th>\n",
       "      <td>15407.0</td>\n",
       "      <td>16071.0</td>\n",
       "      <td>3.322414e+08</td>\n",
       "      <td>4.491707e+08</td>\n",
       "      <td>664.0</td>\n",
       "      <td>4.309729</td>\n",
       "    </tr>\n",
       "    <tr>\n",
       "      <th>Mission Bay</th>\n",
       "      <td>23137.0</td>\n",
       "      <td>24439.0</td>\n",
       "      <td>2.592266e+08</td>\n",
       "      <td>3.179690e+08</td>\n",
       "      <td>1302.0</td>\n",
       "      <td>5.627350</td>\n",
       "    </tr>\n",
       "    <tr>\n",
       "      <th>Nob Hill</th>\n",
       "      <td>49831.0</td>\n",
       "      <td>49725.0</td>\n",
       "      <td>2.185149e+08</td>\n",
       "      <td>2.822532e+08</td>\n",
       "      <td>-106.0</td>\n",
       "      <td>-0.212719</td>\n",
       "    </tr>\n",
       "    <tr>\n",
       "      <th>Noe Valley</th>\n",
       "      <td>4341.0</td>\n",
       "      <td>4423.0</td>\n",
       "      <td>1.848796e+08</td>\n",
       "      <td>2.328518e+08</td>\n",
       "      <td>82.0</td>\n",
       "      <td>1.888966</td>\n",
       "    </tr>\n",
       "    <tr>\n",
       "      <th>North Beach</th>\n",
       "      <td>17273.0</td>\n",
       "      <td>17418.0</td>\n",
       "      <td>1.232529e+08</td>\n",
       "      <td>1.490230e+08</td>\n",
       "      <td>145.0</td>\n",
       "      <td>0.839460</td>\n",
       "    </tr>\n",
       "    <tr>\n",
       "      <th>Oceanview/Merced/Ingleside</th>\n",
       "      <td>1929.0</td>\n",
       "      <td>2486.0</td>\n",
       "      <td>4.964013e+07</td>\n",
       "      <td>1.188750e+08</td>\n",
       "      <td>557.0</td>\n",
       "      <td>28.875065</td>\n",
       "    </tr>\n",
       "    <tr>\n",
       "      <th>Outer Mission</th>\n",
       "      <td>1275.0</td>\n",
       "      <td>1286.0</td>\n",
       "      <td>2.152472e+07</td>\n",
       "      <td>3.123148e+07</td>\n",
       "      <td>11.0</td>\n",
       "      <td>0.862745</td>\n",
       "    </tr>\n",
       "    <tr>\n",
       "      <th>Outer Richmond</th>\n",
       "      <td>3672.0</td>\n",
       "      <td>3863.0</td>\n",
       "      <td>9.476950e+07</td>\n",
       "      <td>1.385149e+08</td>\n",
       "      <td>191.0</td>\n",
       "      <td>5.201525</td>\n",
       "    </tr>\n",
       "    <tr>\n",
       "      <th>Pacific Heights</th>\n",
       "      <td>8324.0</td>\n",
       "      <td>8394.0</td>\n",
       "      <td>3.205387e+08</td>\n",
       "      <td>3.774784e+08</td>\n",
       "      <td>70.0</td>\n",
       "      <td>0.840942</td>\n",
       "    </tr>\n",
       "    <tr>\n",
       "      <th>Portola</th>\n",
       "      <td>489.0</td>\n",
       "      <td>509.0</td>\n",
       "      <td>2.848672e+07</td>\n",
       "      <td>3.571730e+07</td>\n",
       "      <td>20.0</td>\n",
       "      <td>4.089980</td>\n",
       "    </tr>\n",
       "    <tr>\n",
       "      <th>Potrero Hill</th>\n",
       "      <td>5789.0</td>\n",
       "      <td>6857.0</td>\n",
       "      <td>1.641463e+08</td>\n",
       "      <td>2.916742e+08</td>\n",
       "      <td>1068.0</td>\n",
       "      <td>18.448782</td>\n",
       "    </tr>\n",
       "    <tr>\n",
       "      <th>Presidio</th>\n",
       "      <td>22.0</td>\n",
       "      <td>22.0</td>\n",
       "      <td>2.759488e+06</td>\n",
       "      <td>4.074128e+06</td>\n",
       "      <td>0.0</td>\n",
       "      <td>0.000000</td>\n",
       "    </tr>\n",
       "    <tr>\n",
       "      <th>Presidio Heights</th>\n",
       "      <td>2738.0</td>\n",
       "      <td>2836.0</td>\n",
       "      <td>2.049584e+08</td>\n",
       "      <td>1.341149e+08</td>\n",
       "      <td>98.0</td>\n",
       "      <td>3.579255</td>\n",
       "    </tr>\n",
       "    <tr>\n",
       "      <th>Russian Hill</th>\n",
       "      <td>8515.0</td>\n",
       "      <td>8716.0</td>\n",
       "      <td>1.102486e+08</td>\n",
       "      <td>1.398282e+08</td>\n",
       "      <td>201.0</td>\n",
       "      <td>2.360540</td>\n",
       "    </tr>\n",
       "    <tr>\n",
       "      <th>Seacliff</th>\n",
       "      <td>275.0</td>\n",
       "      <td>274.0</td>\n",
       "      <td>3.020159e+07</td>\n",
       "      <td>3.573938e+07</td>\n",
       "      <td>-1.0</td>\n",
       "      <td>-0.363636</td>\n",
       "    </tr>\n",
       "    <tr>\n",
       "      <th>South of Market</th>\n",
       "      <td>43062.0</td>\n",
       "      <td>45310.0</td>\n",
       "      <td>7.419085e+08</td>\n",
       "      <td>1.057400e+09</td>\n",
       "      <td>2248.0</td>\n",
       "      <td>5.220380</td>\n",
       "    </tr>\n",
       "    <tr>\n",
       "      <th>Sunset/Parkside</th>\n",
       "      <td>3486.0</td>\n",
       "      <td>3646.0</td>\n",
       "      <td>1.114420e+08</td>\n",
       "      <td>1.617101e+08</td>\n",
       "      <td>160.0</td>\n",
       "      <td>4.589788</td>\n",
       "    </tr>\n",
       "    <tr>\n",
       "      <th>Tenderloin</th>\n",
       "      <td>145301.0</td>\n",
       "      <td>147323.0</td>\n",
       "      <td>5.063415e+08</td>\n",
       "      <td>6.047977e+08</td>\n",
       "      <td>2022.0</td>\n",
       "      <td>1.391594</td>\n",
       "    </tr>\n",
       "    <tr>\n",
       "      <th>Treasure Island</th>\n",
       "      <td>0.0</td>\n",
       "      <td>0.0</td>\n",
       "      <td>9.500000e+04</td>\n",
       "      <td>2.040000e+05</td>\n",
       "      <td>0.0</td>\n",
       "      <td>NaN</td>\n",
       "    </tr>\n",
       "    <tr>\n",
       "      <th>Twin Peaks</th>\n",
       "      <td>1045.0</td>\n",
       "      <td>1054.0</td>\n",
       "      <td>2.323922e+07</td>\n",
       "      <td>2.899107e+07</td>\n",
       "      <td>9.0</td>\n",
       "      <td>0.861244</td>\n",
       "    </tr>\n",
       "    <tr>\n",
       "      <th>Visitacion Valley</th>\n",
       "      <td>283.0</td>\n",
       "      <td>562.0</td>\n",
       "      <td>7.134756e+06</td>\n",
       "      <td>9.930181e+06</td>\n",
       "      <td>279.0</td>\n",
       "      <td>98.586572</td>\n",
       "    </tr>\n",
       "    <tr>\n",
       "      <th>West of Twin Peaks</th>\n",
       "      <td>3193.0</td>\n",
       "      <td>3248.0</td>\n",
       "      <td>1.212825e+08</td>\n",
       "      <td>1.538081e+08</td>\n",
       "      <td>55.0</td>\n",
       "      <td>1.722518</td>\n",
       "    </tr>\n",
       "    <tr>\n",
       "      <th>Western Addition</th>\n",
       "      <td>23572.0</td>\n",
       "      <td>24527.0</td>\n",
       "      <td>5.552309e+08</td>\n",
       "      <td>5.785848e+08</td>\n",
       "      <td>955.0</td>\n",
       "      <td>4.051417</td>\n",
       "    </tr>\n",
       "  </tbody>\n",
       "</table>\n",
       "</div>"
      ],
      "text/plain": [
       "                                     Existing Units  Proposed Units  \\\n",
       "Neighborhoods - Analysis Boundaries                                   \n",
       "Bayview Hunters Point                       15427.0         15617.0   \n",
       "Bernal Heights                               3374.0          3398.0   \n",
       "Castro/Upper Market                          5394.0          5467.0   \n",
       "Chinatown                                   34050.0         22193.0   \n",
       "Excelsior                                    1159.0          1294.0   \n",
       "Financial District/South Beach             134454.0        137054.0   \n",
       "Glen Park                                    1674.0          1688.0   \n",
       "Golden Gate Park                              417.0           417.0   \n",
       "Haight Ashbury                               3875.0          3862.0   \n",
       "Hayes Valley                                 9069.0          9617.0   \n",
       "Inner Richmond                               9250.0          2345.0   \n",
       "Inner Sunset                                 3807.0          3854.0   \n",
       "Japantown                                    6791.0          6813.0   \n",
       "Lakeshore                                    5497.0          5500.0   \n",
       "Lincoln Park                                   13.0            13.0   \n",
       "Lone Mountain/USF                            3899.0          3849.0   \n",
       "Marina                                       8114.0          8167.0   \n",
       "McLaren Park                                  643.0           643.0   \n",
       "Mission                                     15407.0         16071.0   \n",
       "Mission Bay                                 23137.0         24439.0   \n",
       "Nob Hill                                    49831.0         49725.0   \n",
       "Noe Valley                                   4341.0          4423.0   \n",
       "North Beach                                 17273.0         17418.0   \n",
       "Oceanview/Merced/Ingleside                   1929.0          2486.0   \n",
       "Outer Mission                                1275.0          1286.0   \n",
       "Outer Richmond                               3672.0          3863.0   \n",
       "Pacific Heights                              8324.0          8394.0   \n",
       "Portola                                       489.0           509.0   \n",
       "Potrero Hill                                 5789.0          6857.0   \n",
       "Presidio                                       22.0            22.0   \n",
       "Presidio Heights                             2738.0          2836.0   \n",
       "Russian Hill                                 8515.0          8716.0   \n",
       "Seacliff                                      275.0           274.0   \n",
       "South of Market                             43062.0         45310.0   \n",
       "Sunset/Parkside                              3486.0          3646.0   \n",
       "Tenderloin                                 145301.0        147323.0   \n",
       "Treasure Island                                 0.0             0.0   \n",
       "Twin Peaks                                   1045.0          1054.0   \n",
       "Visitacion Valley                             283.0           562.0   \n",
       "West of Twin Peaks                           3193.0          3248.0   \n",
       "Western Addition                            23572.0         24527.0   \n",
       "\n",
       "                                     Estimated Cost  Revised Cost  \\\n",
       "Neighborhoods - Analysis Boundaries                                 \n",
       "Bayview Hunters Point                  7.446502e+08  8.101556e+08   \n",
       "Bernal Heights                         2.981813e+08  3.127250e+08   \n",
       "Castro/Upper Market                    1.760215e+08  2.138790e+08   \n",
       "Chinatown                              2.808126e+08  3.279735e+08   \n",
       "Excelsior                              3.570529e+07  5.160364e+07   \n",
       "Financial District/South Beach         2.089523e+09  2.525455e+09   \n",
       "Glen Park                              5.045746e+07  6.029435e+07   \n",
       "Golden Gate Park                       1.430713e+08  1.449263e+08   \n",
       "Haight Ashbury                         7.567901e+07  9.075011e+07   \n",
       "Hayes Valley                           1.024093e+08  1.265261e+08   \n",
       "Inner Richmond                         7.744505e+07  1.015976e+08   \n",
       "Inner Sunset                           7.275505e+07  9.653653e+07   \n",
       "Japantown                              1.688356e+08  1.792333e+08   \n",
       "Lakeshore                              3.076036e+07  3.357830e+07   \n",
       "Lincoln Park                           2.695925e+06  2.850840e+06   \n",
       "Lone Mountain/USF                      9.108095e+07  1.105327e+08   \n",
       "Marina                                 1.537180e+08  1.964466e+08   \n",
       "McLaren Park                           1.345501e+06  1.406501e+06   \n",
       "Mission                                3.322414e+08  4.491707e+08   \n",
       "Mission Bay                            2.592266e+08  3.179690e+08   \n",
       "Nob Hill                               2.185149e+08  2.822532e+08   \n",
       "Noe Valley                             1.848796e+08  2.328518e+08   \n",
       "North Beach                            1.232529e+08  1.490230e+08   \n",
       "Oceanview/Merced/Ingleside             4.964013e+07  1.188750e+08   \n",
       "Outer Mission                          2.152472e+07  3.123148e+07   \n",
       "Outer Richmond                         9.476950e+07  1.385149e+08   \n",
       "Pacific Heights                        3.205387e+08  3.774784e+08   \n",
       "Portola                                2.848672e+07  3.571730e+07   \n",
       "Potrero Hill                           1.641463e+08  2.916742e+08   \n",
       "Presidio                               2.759488e+06  4.074128e+06   \n",
       "Presidio Heights                       2.049584e+08  1.341149e+08   \n",
       "Russian Hill                           1.102486e+08  1.398282e+08   \n",
       "Seacliff                               3.020159e+07  3.573938e+07   \n",
       "South of Market                        7.419085e+08  1.057400e+09   \n",
       "Sunset/Parkside                        1.114420e+08  1.617101e+08   \n",
       "Tenderloin                             5.063415e+08  6.047977e+08   \n",
       "Treasure Island                        9.500000e+04  2.040000e+05   \n",
       "Twin Peaks                             2.323922e+07  2.899107e+07   \n",
       "Visitacion Valley                      7.134756e+06  9.930181e+06   \n",
       "West of Twin Peaks                     1.212825e+08  1.538081e+08   \n",
       "Western Addition                       5.552309e+08  5.785848e+08   \n",
       "\n",
       "                                     Units Added  Units Added Pct  \n",
       "Neighborhoods - Analysis Boundaries                                \n",
       "Bayview Hunters Point                      190.0         1.231607  \n",
       "Bernal Heights                              24.0         0.711322  \n",
       "Castro/Upper Market                         73.0         1.353356  \n",
       "Chinatown                               -11857.0       -34.822320  \n",
       "Excelsior                                  135.0        11.647972  \n",
       "Financial District/South Beach            2600.0         1.933747  \n",
       "Glen Park                                   14.0         0.836320  \n",
       "Golden Gate Park                             0.0         0.000000  \n",
       "Haight Ashbury                             -13.0        -0.335484  \n",
       "Hayes Valley                               548.0         6.042563  \n",
       "Inner Richmond                           -6905.0       -74.648649  \n",
       "Inner Sunset                                47.0         1.234568  \n",
       "Japantown                                   22.0         0.323958  \n",
       "Lakeshore                                    3.0         0.054575  \n",
       "Lincoln Park                                 0.0         0.000000  \n",
       "Lone Mountain/USF                          -50.0        -1.282380  \n",
       "Marina                                      53.0         0.653192  \n",
       "McLaren Park                                 0.0         0.000000  \n",
       "Mission                                    664.0         4.309729  \n",
       "Mission Bay                               1302.0         5.627350  \n",
       "Nob Hill                                  -106.0        -0.212719  \n",
       "Noe Valley                                  82.0         1.888966  \n",
       "North Beach                                145.0         0.839460  \n",
       "Oceanview/Merced/Ingleside                 557.0        28.875065  \n",
       "Outer Mission                               11.0         0.862745  \n",
       "Outer Richmond                             191.0         5.201525  \n",
       "Pacific Heights                             70.0         0.840942  \n",
       "Portola                                     20.0         4.089980  \n",
       "Potrero Hill                              1068.0        18.448782  \n",
       "Presidio                                     0.0         0.000000  \n",
       "Presidio Heights                            98.0         3.579255  \n",
       "Russian Hill                               201.0         2.360540  \n",
       "Seacliff                                    -1.0        -0.363636  \n",
       "South of Market                           2248.0         5.220380  \n",
       "Sunset/Parkside                            160.0         4.589788  \n",
       "Tenderloin                                2022.0         1.391594  \n",
       "Treasure Island                              0.0              NaN  \n",
       "Twin Peaks                                   9.0         0.861244  \n",
       "Visitacion Valley                          279.0        98.586572  \n",
       "West of Twin Peaks                          55.0         1.722518  \n",
       "Western Addition                           955.0         4.051417  "
      ]
     },
     "execution_count": 10,
     "metadata": {},
     "output_type": "execute_result"
    }
   ],
   "source": [
    "# Show neighborhood information\n",
    "nb_df = df.groupby('Permit Type Definition').get_group('additions alterations or repairs').loc[:,['Current Status','Existing Units','Proposed Units','Estimated Cost', 'Revised Cost','Neighborhoods - Analysis Boundaries','PID']]\n",
    "nb_df = nb_df.dropna().groupby(['Current Status']).get_group(('complete'))\n",
    "nb_df['Units Added'] = (nb_df['Proposed Units'] - nb_df['Existing Units'])\n",
    "nb_sums = nb_df.groupby(['Neighborhoods - Analysis Boundaries']).sum()\n",
    "\n",
    "# Compare proposed to existing units to see how many have been included in a building permit\n",
    "nb_sums['Units Added Pct'] = 100 * (nb_sums['Proposed Units'] - nb_sums['Existing Units'])/nb_sums['Existing Units']\n",
    "nb_sums"
   ]
  },
  {
   "cell_type": "markdown",
   "metadata": {},
   "source": [
    "There are a few neighborhoods(Chinatown, Inner Richmond) where a significant portion of units appear to be removed. Perhaps it would do to look into this further, but as noted above, the counts for 'Existing Units' reflect the total number of units referenced in all permits in each neighborhood, NOT the total units physically present in each neighborhood."
   ]
  },
  {
   "cell_type": "code",
   "execution_count": 11,
   "metadata": {},
   "outputs": [
    {
     "data": {
      "text/html": [
       "<div>\n",
       "<style scoped>\n",
       "    .dataframe tbody tr th:only-of-type {\n",
       "        vertical-align: middle;\n",
       "    }\n",
       "\n",
       "    .dataframe tbody tr th {\n",
       "        vertical-align: top;\n",
       "    }\n",
       "\n",
       "    .dataframe thead th {\n",
       "        text-align: right;\n",
       "    }\n",
       "</style>\n",
       "<table border=\"1\" class=\"dataframe\">\n",
       "  <thead>\n",
       "    <tr style=\"text-align: right;\">\n",
       "      <th></th>\n",
       "      <th>Existing Units</th>\n",
       "      <th>Proposed Units</th>\n",
       "      <th>Estimated Cost</th>\n",
       "      <th>Revised Cost</th>\n",
       "      <th>Units Added</th>\n",
       "    </tr>\n",
       "    <tr>\n",
       "      <th>Neighborhoods - Analysis Boundaries</th>\n",
       "      <th></th>\n",
       "      <th></th>\n",
       "      <th></th>\n",
       "      <th></th>\n",
       "      <th></th>\n",
       "    </tr>\n",
       "  </thead>\n",
       "  <tbody>\n",
       "    <tr>\n",
       "      <th>Bayview Hunters Point</th>\n",
       "      <td>420.0</td>\n",
       "      <td>610.0</td>\n",
       "      <td>31184956.0</td>\n",
       "      <td>41553236.00</td>\n",
       "      <td>190.0</td>\n",
       "    </tr>\n",
       "    <tr>\n",
       "      <th>Bernal Heights</th>\n",
       "      <td>176.0</td>\n",
       "      <td>200.0</td>\n",
       "      <td>4820807.0</td>\n",
       "      <td>6581703.99</td>\n",
       "      <td>24.0</td>\n",
       "    </tr>\n",
       "    <tr>\n",
       "      <th>Castro/Upper Market</th>\n",
       "      <td>477.0</td>\n",
       "      <td>550.0</td>\n",
       "      <td>15633706.0</td>\n",
       "      <td>21510889.00</td>\n",
       "      <td>73.0</td>\n",
       "    </tr>\n",
       "    <tr>\n",
       "      <th>Chinatown</th>\n",
       "      <td>12461.0</td>\n",
       "      <td>604.0</td>\n",
       "      <td>20901916.0</td>\n",
       "      <td>28893153.00</td>\n",
       "      <td>-11857.0</td>\n",
       "    </tr>\n",
       "    <tr>\n",
       "      <th>Excelsior</th>\n",
       "      <td>97.0</td>\n",
       "      <td>232.0</td>\n",
       "      <td>9265301.0</td>\n",
       "      <td>13637398.33</td>\n",
       "      <td>135.0</td>\n",
       "    </tr>\n",
       "  </tbody>\n",
       "</table>\n",
       "</div>"
      ],
      "text/plain": [
       "                                     Existing Units  Proposed Units  \\\n",
       "Neighborhoods - Analysis Boundaries                                   \n",
       "Bayview Hunters Point                         420.0           610.0   \n",
       "Bernal Heights                                176.0           200.0   \n",
       "Castro/Upper Market                           477.0           550.0   \n",
       "Chinatown                                   12461.0           604.0   \n",
       "Excelsior                                      97.0           232.0   \n",
       "\n",
       "                                     Estimated Cost  Revised Cost  Units Added  \n",
       "Neighborhoods - Analysis Boundaries                                             \n",
       "Bayview Hunters Point                    31184956.0   41553236.00        190.0  \n",
       "Bernal Heights                            4820807.0    6581703.99         24.0  \n",
       "Castro/Upper Market                      15633706.0   21510889.00         73.0  \n",
       "Chinatown                                20901916.0   28893153.00     -11857.0  \n",
       "Excelsior                                 9265301.0   13637398.33        135.0  "
      ]
     },
     "execution_count": 11,
     "metadata": {},
     "output_type": "execute_result"
    }
   ],
   "source": [
    "# Filter to only entries where the unit count changes\n",
    "nb_unit_changes_only = nb_df[nb_df['Units Added'] != 0]\n",
    "nb_unit_changes_only.groupby(['Neighborhoods - Analysis Boundaries']).sum().head()"
   ]
  },
  {
   "cell_type": "markdown",
   "metadata": {},
   "source": [
    "Examining the percentages above, it doesn't really appear that there were a lot of units added tracked in the permit information given here. This might make it difficult to conduct more advanced analysis on the variables affecting new unit construction, so perhaps more data is required, e.g widening the geographic range or getting additional information on the properties where additional units were added. \n",
    "\n",
    "\n",
    "\n",
    "Additional neighborhood analysis is conducted below.\n",
    "\n"
   ]
  },
  {
   "cell_type": "markdown",
   "metadata": {},
   "source": [
    "## Examining the Number of Days Required for Permit Approval\n",
    "Calculate the number of days for approval of permits not qualifying for 'OTC' or same day approval, excluding permit entries without valid date information\n"
   ]
  },
  {
   "cell_type": "code",
   "execution_count": 12,
   "metadata": {},
   "outputs": [],
   "source": [
    "dates_df = df.groupby('Permit Type Definition').get_group('additions alterations or repairs').loc[:, 'Filed Date':'Issued Date'].dropna().apply(pd.to_datetime)\n",
    "dates_df['Approval Time'] = dates_df['Issued Date'] - dates_df['Filed Date']\n",
    "dates_df['Approval Time'] = dates_df['Approval Time'].apply(lambda x: x.days)\n"
   ]
  },
  {
   "cell_type": "code",
   "execution_count": 13,
   "metadata": {},
   "outputs": [
    {
     "data": {
      "text/plain": [
       "Timestamp('1919-03-03 00:00:00')"
      ]
     },
     "execution_count": 13,
     "metadata": {},
     "output_type": "execute_result"
    }
   ],
   "source": [
    "# The first date in the permits dataset\n",
    "dates_df['Issued Date'].min()"
   ]
  },
  {
   "cell_type": "code",
   "execution_count": 14,
   "metadata": {},
   "outputs": [
    {
     "data": {
      "text/plain": [
       "6966       -2\n",
       "148280     -7\n",
       "148291     -7\n",
       "178869     -1\n",
       "183727     -6\n",
       "           ..\n",
       "926772    -46\n",
       "939455     -9\n",
       "994915    -27\n",
       "997210    -69\n",
       "1006260    -6\n",
       "Name: Approval Time, Length: 71, dtype: int64"
      ]
     },
     "execution_count": 14,
     "metadata": {},
     "output_type": "execute_result"
    }
   ],
   "source": [
    "# Looks like there are some entries that have errors in entering the approval dates. ~.2% seems okay to drop\n",
    "dates_df['Approval Time'][dates_df['Approval Time']<0]"
   ]
  },
  {
   "cell_type": "code",
   "execution_count": 15,
   "metadata": {},
   "outputs": [],
   "source": [
    "# Drop negative values by excluding them from the interval (no)\n",
    "approval_bins = pd.IntervalIndex.from_tuples([(-0.1,0),(0,30),(30,365),(365,700), (700,29608)],closed='right')\n",
    "dates_df['Grouped Approval'] = pd.cut(dates_df['Approval Time'], approval_bins).dropna().astype('str')\n",
    "dates_df['Grouped Approval'].replace({'(-0.1, 0.0]':'Same Day', '(0.0, 30.0]':'Same Month', '(30.0, 365.0]':'Same Year', '(365.0, 700.0]':'Next Year',\n",
    "       '(700.0, 29608.0]':'2 Years+'}, inplace=True)"
   ]
  },
  {
   "cell_type": "code",
   "execution_count": 16,
   "metadata": {},
   "outputs": [
    {
     "data": {
      "text/plain": [
       "Text(0, 0.5, 'Number of Permits')"
      ]
     },
     "execution_count": 16,
     "metadata": {},
     "output_type": "execute_result"
    },
    {
     "data": {
      "image/png": "[encoded data removed]",
      "text/plain": [
       "<Figure size 720x360 with 1 Axes>"
      ]
     },
     "metadata": {
      "needs_background": "light"
     },
     "output_type": "display_data"
    }
   ],
   "source": [
    "plt.figure(figsize=(10,5))\n",
    "sns.countplot(dates_df['Grouped Approval'].dropna(), order = ['Same Day', 'Same Month', 'Same Year', 'Next Year', '2 Years+'])\n",
    "plt.title('Time Period For Approval of a Completed Permit')\n",
    "plt.xlabel('Time Period')\n",
    "plt.ylabel('Number of Permits')"
   ]
  },
  {
   "cell_type": "code",
   "execution_count": 17,
   "metadata": {},
   "outputs": [
    {
     "data": {
      "text/plain": [
       "29608"
      ]
     },
     "execution_count": 17,
     "metadata": {},
     "output_type": "execute_result"
    }
   ],
   "source": [
    "dates_df['Approval Time'].max()\n",
    "# find and drop wait times with negative values\n",
    "# find and examine wait times >10000 days (see how many there are?)"
   ]
  },
  {
   "cell_type": "code",
   "execution_count": 18,
   "metadata": {},
   "outputs": [
    {
     "data": {
      "text/html": [
       "<div>\n",
       "<style scoped>\n",
       "    .dataframe tbody tr th:only-of-type {\n",
       "        vertical-align: middle;\n",
       "    }\n",
       "\n",
       "    .dataframe tbody tr th {\n",
       "        vertical-align: top;\n",
       "    }\n",
       "\n",
       "    .dataframe thead th {\n",
       "        text-align: right;\n",
       "    }\n",
       "</style>\n",
       "<table border=\"1\" class=\"dataframe\">\n",
       "  <thead>\n",
       "    <tr style=\"text-align: right;\">\n",
       "      <th></th>\n",
       "      <th>Filed Date</th>\n",
       "      <th>Issued Date</th>\n",
       "      <th>Approval Time</th>\n",
       "      <th>Grouped Approval</th>\n",
       "    </tr>\n",
       "  </thead>\n",
       "  <tbody>\n",
       "    <tr>\n",
       "      <th>1082547</th>\n",
       "      <td>1901-03-10</td>\n",
       "      <td>1982-04-02</td>\n",
       "      <td>29608</td>\n",
       "      <td>2 Years+</td>\n",
       "    </tr>\n",
       "  </tbody>\n",
       "</table>\n",
       "</div>"
      ],
      "text/plain": [
       "        Filed Date Issued Date  Approval Time Grouped Approval\n",
       "1082547 1901-03-10  1982-04-02          29608         2 Years+"
      ]
     },
     "execution_count": 18,
     "metadata": {},
     "output_type": "execute_result"
    }
   ],
   "source": [
    "dates_df.iloc[np.where(dates_df['Approval Time'] == 29608)[0]]"
   ]
  },
  {
   "cell_type": "code",
   "execution_count": 19,
   "metadata": {},
   "outputs": [
    {
     "data": {
      "text/plain": [
       "3560"
      ]
     },
     "execution_count": 19,
     "metadata": {},
     "output_type": "execute_result"
    }
   ],
   "source": [
    "# There are a few thousand entries with extremely long wait times (>2 years) for approval. Are these mostly larger developments?\n",
    "len(dates_df['Approval Time'][(dates_df['Approval Time']>=700)])"
   ]
  },
  {
   "cell_type": "markdown",
   "metadata": {},
   "source": [
    "## Map of Completed Permits & More Neighborhood Considerations\n",
    "Next, we'll show the projects completed in each neighborhood. We'll use the 'completed' 'additions...' type permits, as these are the permits proposing, and completing projects in each neighborhood."
   ]
  },
  {
   "cell_type": "code",
   "execution_count": 20,
   "metadata": {},
   "outputs": [
    {
     "data": {
      "text/plain": [
       "Index(['Current Status', 'Number of Existing Stories',\n",
       "       'Number of Proposed Stories', 'Existing Units', 'Proposed Units',\n",
       "       'Estimated Cost', 'Revised Cost', 'Neighborhoods - Analysis Boundaries',\n",
       "       'geometry'],\n",
       "      dtype='object')"
      ]
     },
     "execution_count": 20,
     "metadata": {},
     "output_type": "execute_result"
    }
   ],
   "source": [
    "# Create dataframe with the completed alterations/repairs\n",
    "nb_df = df.groupby('Permit Type Definition').get_group('additions alterations or repairs').loc[:,['Current Status','Number of Existing Stories','Number of Proposed Stories','Existing Units','Proposed Units','Estimated Cost', 'Revised Cost','Neighborhoods - Analysis Boundaries','PID']]\n",
    "nb_df = nb_df.dropna().groupby(['Current Status']).get_group(('complete'))\n",
    "nb_df.rename(columns={'PID':'geometry'},inplace=True)\n",
    "nb_df.columns"
   ]
  },
  {
   "cell_type": "code",
   "execution_count": null,
   "metadata": {},
   "outputs": [],
   "source": [
    "\n"
   ]
  },
  {
   "cell_type": "code",
   "execution_count": 21,
   "metadata": {},
   "outputs": [
    {
     "ename": "NameError",
     "evalue": "name 'gcrs' is not defined",
     "output_type": "error",
     "traceback": [
      "\u001b[0;31m---------------------------------------------------------------------------\u001b[0m",
      "\u001b[0;31mNameError\u001b[0m                                 Traceback (most recent call last)",
      "\u001b[0;32m<ipython-input-21-5eca1aeb31c8>\u001b[0m in \u001b[0;36m<module>\u001b[0;34m\u001b[0m\n\u001b[1;32m      1\u001b[0m \u001b[0;31m# Convert the neighborhood information to geopandas\u001b[0m\u001b[0;34m\u001b[0m\u001b[0;34m\u001b[0m\u001b[0;34m\u001b[0m\u001b[0m\n\u001b[1;32m      2\u001b[0m \u001b[0mnbgeo\u001b[0m \u001b[0;34m=\u001b[0m \u001b[0mgp\u001b[0m\u001b[0;34m.\u001b[0m\u001b[0mGeoDataFrame\u001b[0m\u001b[0;34m(\u001b[0m\u001b[0mnb_df\u001b[0m\u001b[0;34m,\u001b[0m \u001b[0mgeometry\u001b[0m\u001b[0;34m=\u001b[0m\u001b[0;34m'geometry'\u001b[0m\u001b[0;34m)\u001b[0m\u001b[0;31m#.set_index('Neighborhoods - Analysis Boundaries')\u001b[0m\u001b[0;34m\u001b[0m\u001b[0;34m\u001b[0m\u001b[0m\n\u001b[0;32m----> 3\u001b[0;31m \u001b[0mnbgeo\u001b[0m\u001b[0;34m.\u001b[0m\u001b[0mcrs\u001b[0m \u001b[0;34m=\u001b[0m \u001b[0;34m{\u001b[0m\u001b[0;34m'init'\u001b[0m\u001b[0;34m:\u001b[0m\u001b[0mgcrs\u001b[0m\u001b[0;34m.\u001b[0m\u001b[0mLambertConformal\u001b[0m\u001b[0;34m(\u001b[0m\u001b[0;34m)\u001b[0m\u001b[0;34m}\u001b[0m\u001b[0;34m\u001b[0m\u001b[0;34m\u001b[0m\u001b[0m\n\u001b[0m\u001b[1;32m      4\u001b[0m \u001b[0mnbgeo\u001b[0m\u001b[0;34m[\u001b[0m\u001b[0;34m'Units Added'\u001b[0m\u001b[0;34m]\u001b[0m \u001b[0;34m=\u001b[0m \u001b[0mnbgeo\u001b[0m\u001b[0;34m[\u001b[0m\u001b[0;34m'Proposed Units'\u001b[0m\u001b[0;34m]\u001b[0m \u001b[0;34m-\u001b[0m \u001b[0mnbgeo\u001b[0m\u001b[0;34m[\u001b[0m\u001b[0;34m'Existing Units'\u001b[0m\u001b[0;34m]\u001b[0m\u001b[0;34m\u001b[0m\u001b[0;34m\u001b[0m\u001b[0m\n\u001b[1;32m      5\u001b[0m \u001b[0mnbgeo\u001b[0m\u001b[0;34m.\u001b[0m\u001b[0mhead\u001b[0m\u001b[0;34m(\u001b[0m\u001b[0;34m)\u001b[0m\u001b[0;34m\u001b[0m\u001b[0;34m\u001b[0m\u001b[0m\n",
      "\u001b[0;31mNameError\u001b[0m: name 'gcrs' is not defined"
     ]
    }
   ],
   "source": [
    "# Convert the neighborhood information to geopandas\n",
    "nbgeo = gp.GeoDataFrame(nb_df, geometry='geometry')#.set_index('Neighborhoods - Analysis Boundaries')\n",
    "nbgeo.crs = {'init':gcrs.LambertConformal()}\n",
    "nbgeo['Units Added'] = nbgeo['Proposed Units'] - nbgeo['Existing Units']\n",
    "nbgeo.head()"
   ]
  },
  {
   "cell_type": "code",
   "execution_count": 22,
   "metadata": {},
   "outputs": [
    {
     "ename": "NameError",
     "evalue": "name 'sfneigh' is not defined",
     "output_type": "error",
     "traceback": [
      "\u001b[0;31m---------------------------------------------------------------------------\u001b[0m",
      "\u001b[0;31mNameError\u001b[0m                                 Traceback (most recent call last)",
      "\u001b[0;32m<ipython-input-22-dbe99c2ff96f>\u001b[0m in \u001b[0;36m<module>\u001b[0;34m\u001b[0m\n\u001b[1;32m      1\u001b[0m \u001b[0mnb_perms\u001b[0m \u001b[0;34m=\u001b[0m \u001b[0mnbgeo\u001b[0m\u001b[0;34m[\u001b[0m\u001b[0;34m'Neighborhoods - Analysis Boundaries'\u001b[0m\u001b[0;34m]\u001b[0m\u001b[0;34m.\u001b[0m\u001b[0mvalue_counts\u001b[0m\u001b[0;34m(\u001b[0m\u001b[0;34m)\u001b[0m\u001b[0;34m.\u001b[0m\u001b[0mto_frame\u001b[0m\u001b[0;34m(\u001b[0m\u001b[0;34m)\u001b[0m\u001b[0;34m\u001b[0m\u001b[0;34m\u001b[0m\u001b[0m\n\u001b[0;32m----> 2\u001b[0;31m \u001b[0mnb_perms_by_neigh\u001b[0m \u001b[0;34m=\u001b[0m \u001b[0mgp\u001b[0m\u001b[0;34m.\u001b[0m\u001b[0mGeoDataFrame\u001b[0m\u001b[0;34m(\u001b[0m\u001b[0mnb_perms\u001b[0m\u001b[0;34m.\u001b[0m\u001b[0mmerge\u001b[0m\u001b[0;34m(\u001b[0m\u001b[0msfneigh\u001b[0m\u001b[0;34m.\u001b[0m\u001b[0mgeometry\u001b[0m\u001b[0;34m.\u001b[0m\u001b[0mto_frame\u001b[0m\u001b[0;34m(\u001b[0m\u001b[0;34m)\u001b[0m\u001b[0;34m,\u001b[0m \u001b[0mleft_index\u001b[0m \u001b[0;34m=\u001b[0m \u001b[0;32mTrue\u001b[0m\u001b[0;34m,\u001b[0m \u001b[0mright_index\u001b[0m \u001b[0;34m=\u001b[0m \u001b[0;32mTrue\u001b[0m\u001b[0;34m)\u001b[0m\u001b[0;34m)\u001b[0m\u001b[0;34m\u001b[0m\u001b[0;34m\u001b[0m\u001b[0m\n\u001b[0m\u001b[1;32m      3\u001b[0m \u001b[0mnb_perms_by_neigh\u001b[0m\u001b[0;34m.\u001b[0m\u001b[0mrename\u001b[0m\u001b[0;34m(\u001b[0m\u001b[0mcolumns\u001b[0m\u001b[0;34m=\u001b[0m\u001b[0;34m{\u001b[0m\u001b[0;34m'Neighborhoods - Analysis Boundaries'\u001b[0m\u001b[0;34m:\u001b[0m\u001b[0;34m'permits'\u001b[0m\u001b[0;34m}\u001b[0m\u001b[0;34m,\u001b[0m\u001b[0minplace\u001b[0m\u001b[0;34m=\u001b[0m\u001b[0;32mTrue\u001b[0m\u001b[0;34m)\u001b[0m\u001b[0;34m\u001b[0m\u001b[0;34m\u001b[0m\u001b[0m\n\u001b[1;32m      4\u001b[0m \u001b[0mnb_perms_by_neigh\u001b[0m\u001b[0;34m.\u001b[0m\u001b[0mhead\u001b[0m\u001b[0;34m(\u001b[0m\u001b[0;34m)\u001b[0m\u001b[0;34m\u001b[0m\u001b[0;34m\u001b[0m\u001b[0m\n",
      "\u001b[0;31mNameError\u001b[0m: name 'sfneigh' is not defined"
     ]
    }
   ],
   "source": [
    "nb_perms = nbgeo['Neighborhoods - Analysis Boundaries'].value_counts().to_frame()\n",
    "nb_perms_by_neigh = gp.GeoDataFrame(nb_perms.merge(sfneigh.geometry.to_frame(), left_index = True, right_index = True))\n",
    "nb_perms_by_neigh.rename(columns={'Neighborhoods - Analysis Boundaries':'permits'},inplace=True)\n",
    "nb_perms_by_neigh.head()"
   ]
  },
  {
   "cell_type": "code",
   "execution_count": 23,
   "metadata": {
    "scrolled": true
   },
   "outputs": [
    {
     "ename": "NameError",
     "evalue": "name 'gplt' is not defined",
     "output_type": "error",
     "traceback": [
      "\u001b[0;31m---------------------------------------------------------------------------\u001b[0m",
      "\u001b[0;31mNameError\u001b[0m                                 Traceback (most recent call last)",
      "\u001b[0;32m<ipython-input-23-337d128c6ead>\u001b[0m in \u001b[0;36m<module>\u001b[0;34m\u001b[0m\n\u001b[0;32m----> 1\u001b[0;31m \u001b[0max\u001b[0m \u001b[0;34m=\u001b[0m \u001b[0mgplt\u001b[0m\u001b[0;34m.\u001b[0m\u001b[0mpolyplot\u001b[0m\u001b[0;34m(\u001b[0m\u001b[0msfneigh\u001b[0m\u001b[0;34m,\u001b[0m \u001b[0mprojection\u001b[0m \u001b[0;34m=\u001b[0m \u001b[0mgcrs\u001b[0m\u001b[0;34m.\u001b[0m\u001b[0mLambertConformal\u001b[0m\u001b[0;34m(\u001b[0m\u001b[0;34m)\u001b[0m\u001b[0;34m,\u001b[0m \u001b[0mfigsize\u001b[0m\u001b[0;34m=\u001b[0m\u001b[0;34m(\u001b[0m\u001b[0;36m12\u001b[0m\u001b[0;34m,\u001b[0m\u001b[0;36m8\u001b[0m\u001b[0;34m)\u001b[0m\u001b[0;34m,\u001b[0m \u001b[0medgecolor\u001b[0m\u001b[0;34m=\u001b[0m\u001b[0;34m\"k\"\u001b[0m\u001b[0;34m)\u001b[0m\u001b[0;34m\u001b[0m\u001b[0;34m\u001b[0m\u001b[0m\n\u001b[0m\u001b[1;32m      2\u001b[0m \u001b[0mgplt\u001b[0m\u001b[0;34m.\u001b[0m\u001b[0mchoropleth\u001b[0m\u001b[0;34m(\u001b[0m\u001b[0mnb_perms_by_neigh\u001b[0m\u001b[0;34m,\u001b[0m \u001b[0mprojection\u001b[0m\u001b[0;34m=\u001b[0m\u001b[0mgcrs\u001b[0m\u001b[0;34m.\u001b[0m\u001b[0mLambertConformal\u001b[0m\u001b[0;34m(\u001b[0m\u001b[0;34m)\u001b[0m\u001b[0;34m,\u001b[0m \u001b[0mhue\u001b[0m\u001b[0;34m=\u001b[0m\u001b[0;34m'permits'\u001b[0m\u001b[0;34m,\u001b[0m\u001b[0max\u001b[0m\u001b[0;34m=\u001b[0m\u001b[0max\u001b[0m\u001b[0;34m,\u001b[0m \u001b[0mcmap\u001b[0m\u001b[0;34m=\u001b[0m\u001b[0;34m\"Greens\"\u001b[0m\u001b[0;34m,\u001b[0m\u001b[0mlegend\u001b[0m\u001b[0;34m=\u001b[0m\u001b[0;32mTrue\u001b[0m\u001b[0;34m)\u001b[0m\u001b[0;34m\u001b[0m\u001b[0;34m\u001b[0m\u001b[0m\n\u001b[1;32m      3\u001b[0m \u001b[0mplt\u001b[0m\u001b[0;34m.\u001b[0m\u001b[0mtitle\u001b[0m\u001b[0;34m(\u001b[0m\u001b[0;34m'Completed Permits by Neighborhood'\u001b[0m\u001b[0;34m)\u001b[0m\u001b[0;34m\u001b[0m\u001b[0;34m\u001b[0m\u001b[0m\n",
      "\u001b[0;31mNameError\u001b[0m: name 'gplt' is not defined"
     ]
    }
   ],
   "source": [
    "ax = gplt.polyplot(sfneigh, projection = gcrs.LambertConformal(), figsize=(12,8), edgecolor=\"k\")\n",
    "gplt.choropleth(nb_perms_by_neigh, projection=gcrs.LambertConformal(), hue='permits',ax=ax, cmap=\"Greens\",legend=True)\n",
    "plt.title('Completed Permits by Neighborhood')"
   ]
  },
  {
   "cell_type": "markdown",
   "metadata": {},
   "source": [
    "## Project Costs\n",
    "In addition to the locations of construction projects, the costs referenced in an application are important to a property owner in that the fee for filing a permit is based on the cost of the project. Being able to identify factors that will increase the price of a project will also help owners make decisions about the utility of the options available."
   ]
  },
  {
   "cell_type": "code",
   "execution_count": 24,
   "metadata": {},
   "outputs": [
    {
     "data": {
      "text/plain": [
       "Text(0.5, 1.0, 'Revised Cost Distribution')"
      ]
     },
     "execution_count": 24,
     "metadata": {},
     "output_type": "execute_result"
    },
    {
     "data": {
      "image/png": "[encoded data removed]",
      "text/plain": [
       "<Figure size 1080x360 with 2 Axes>"
      ]
     },
     "metadata": {
      "needs_background": "light"
     },
     "output_type": "display_data"
    }
   ],
   "source": [
    "plt.figure(figsize=(15,5))\n",
    "\n",
    "ax = plt.subplot(1,2,1)\n",
    "plt.ylabel('Cost, Dollars for All Permits')\n",
    "ax.set_ylim(-0.5 * 10**9, 3.0 * 10**9)\n",
    "sns.violinplot(y=nb_sums['Estimated Cost'].to_frame())\n",
    "plt.title('Estimated Cost Distribution')\n",
    "\n",
    "plt.subplot(1,2,2)\n",
    "sns.violinplot(y=nb_sums['Revised Cost'].to_frame(), color='orange')\n",
    "plt.title('Revised Cost Distribution')"
   ]
  },
  {
   "cell_type": "code",
   "execution_count": 25,
   "metadata": {},
   "outputs": [
    {
     "name": "stdout",
     "output_type": "stream",
     "text": [
      "count:\t41.0\t41.0\n",
      "mean:\t214810044.7012195\t261473480.48195124\n",
      "std:\t351982743.0532875\t426258059.5775854\n",
      "min:\t95000.0\t204000.0\n",
      "25%:\t35705291.0\t51603639.150000006\n",
      "50%:\t111441967.28000002\t139828199.85\n",
      "75%:\t218514942.0\t291674242.78999996\n",
      "max:\t2089523494.6799998\t2525454694.4399996\n"
     ]
    }
   ],
   "source": [
    "# Could improve formatting of table (PrettyPrint?)\n",
    "for i1,i2,i3 in zip(nb_sums[\"Estimated Cost\"].describe().index,nb_sums[\"Estimated Cost\"].describe(),nb_sums[\"Revised Cost\"].describe()):\n",
    "    print(f'{i1}:\\t{i2}\\t{i3}')"
   ]
  },
  {
   "cell_type": "markdown",
   "metadata": {},
   "source": [
    "It appears that the the average revised cost for a permit is higher than the estimated. Perhaps there is some insight to draw here about what might indicate that a project will be significantly more expensive than an initial estimate. There is also an indication that some projects have negative costs. **Some data munging will be required to either fix, or eliminate these projects from consideration.**"
   ]
  },
  {
   "cell_type": "markdown",
   "metadata": {},
   "source": [
    "## WIP\n",
    "The following is an exploration of the units added in each neighborhood. While the permit completions on the figure above seem reasonable, there appear to be a net loss of units in several neighborhoods, even though the overall housing stock in the city has grown modestly in the past few years (~9% in the last decade). Perhaps this is due to the timespan of the dataset, and examining a narrower time interval will show more relevant results."
   ]
  },
  {
   "cell_type": "code",
   "execution_count": 26,
   "metadata": {},
   "outputs": [],
   "source": [
    "# nb_units_by_neigh = nbgeo.groupby('Neighborhoods - Analysis Boundaries')['Proposed Units'].sum()\n",
    "nb_units_by_neigh = gp.GeoDataFrame(nbgeo.groupby('Neighborhoods - Analysis Boundaries')['Units Added'].sum().to_frame().merge(sfneigh.geometry.to_frame(), left_index = True, right_index = True))"
   ]
  },
  {
   "cell_type": "code",
   "execution_count": 27,
   "metadata": {
    "scrolled": true
   },
   "outputs": [
    {
     "data": {
      "text/plain": [
       "<cartopy.mpl.geoaxes.GeoAxesSubplot at 0xf2b4e80>"
      ]
     },
     "execution_count": 27,
     "metadata": {},
     "output_type": "execute_result"
    },
    {
     "data": {
      "image/png": "[encoded data removed]",
      "text/plain": [
       "<Figure size 864x576 with 2 Axes>"
      ]
     },
     "metadata": {
      "needs_background": "light"
     },
     "output_type": "display_data"
    }
   ],
   "source": [
    "ax = gplt.polyplot(sfneigh, projection = gcrs.LambertConformal(), figsize=(12,8), edgecolor=\"k\")\n",
    "gplt.choropleth(nb_units_by_neigh, hue='Units Added', ax=ax, cmap='Greens', legend=True) #works fine\n"
   ]
  }
 ],
 "metadata": {
  "kernelspec": {
   "display_name": "Capstone Development",
   "language": "python",
   "name": "capstone-dev"
  },
  "language_info": {
   "codemirror_mode": {
    "name": "ipython",
    "version": 3
   },
   "file_extension": ".py",
   "mimetype": "text/x-python",
   "name": "python",
   "nbconvert_exporter": "python",
   "pygments_lexer": "ipython3",
   "version": "3.7.6"
  }
 },
 "nbformat": 4,
 "nbformat_minor": 2
}
