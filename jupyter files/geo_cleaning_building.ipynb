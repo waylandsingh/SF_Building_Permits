{
 "cells": [
  {
   "cell_type": "code",
   "execution_count": 1,
   "metadata": {},
   "outputs": [],
   "source": [
    "#import texthero\n",
    "import pandas as pd\n",
    "import numpy as np\n",
    "import re\n",
    "import random"
   ]
  },
  {
   "cell_type": "markdown",
   "metadata": {
    "heading_collapsed": true
   },
   "source": [
    "### Overview of descriptions, uses(filtered in time/use filter notebook)"
   ]
  },
  {
   "cell_type": "code",
   "execution_count": 2,
   "metadata": {
    "hidden": true
   },
   "outputs": [
    {
     "name": "stderr",
     "output_type": "stream",
     "text": [
      "/opt/conda/envs/data3/lib/python3.7/site-packages/IPython/core/interactiveshell.py:3063: DtypeWarning: Columns (18,22,23,32,35) have mixed types.Specify dtype option on import or set low_memory=False.\n",
      "  interactivity=interactivity, compiler=compiler, result=result)\n"
     ]
    }
   ],
   "source": [
    "df = pd.read_csv('Building_Permits.csv')"
   ]
  },
  {
   "cell_type": "code",
   "execution_count": 3,
   "metadata": {
    "collapsed": true,
    "hidden": true
   },
   "outputs": [
    {
     "data": {
      "text/plain": [
       "Index(['Permit Number', 'Permit Type', 'Permit Type Definition',\n",
       "       'Permit Creation Date', 'Block', 'Lot', 'Street Number',\n",
       "       'Street Number Suffix', 'Street Name', 'Street Suffix', 'Unit',\n",
       "       'Unit Suffix', 'Description', 'Current Status', 'Current Status Date',\n",
       "       'Filed Date', 'Issued Date', 'Completed Date',\n",
       "       'First Construction Document Date', 'Structural Notification',\n",
       "       'Number of Existing Stories', 'Number of Proposed Stories',\n",
       "       'Voluntary Soft-Story Retrofit', 'Fire Only Permit',\n",
       "       'Permit Expiration Date', 'Estimated Cost', 'Revised Cost',\n",
       "       'Existing Use', 'Existing Units', 'Proposed Use', 'Proposed Units',\n",
       "       'Plansets', 'TIDF Compliance', 'Existing Construction Type',\n",
       "       'Existing Construction Type Description', 'Proposed Construction Type',\n",
       "       'Proposed Construction Type Description', 'Site Permit',\n",
       "       'Supervisor District', 'Neighborhoods - Analysis Boundaries', 'Zipcode',\n",
       "       'Location', 'Record ID', 'SF Find Neighborhoods',\n",
       "       'Current Police Districts', 'Current Supervisor Districts',\n",
       "       'Analysis Neighborhoods', 'DELETE - Zip Codes',\n",
       "       'DELETE - Fire Prevention Districts', 'DELETE - Supervisor Districts',\n",
       "       'DELETE - Current Police Districts',\n",
       "       'DELETE - Supervisorial_Districts_Waterline_data_from_7pkg_wer3'],\n",
       "      dtype='object')"
      ]
     },
     "execution_count": 3,
     "metadata": {},
     "output_type": "execute_result"
    }
   ],
   "source": [
    "df.columns"
   ]
  },
  {
   "cell_type": "code",
   "execution_count": 16,
   "metadata": {
    "collapsed": true,
    "hidden": true
   },
   "outputs": [
    {
     "data": {
      "text/plain": [
       "0                                        street space permit\n",
       "1                                    street space & sidewalk\n",
       "2                                                        NaN\n",
       "3                                                        NaN\n",
       "4                                               street space\n",
       "                                 ...                        \n",
       "1137687           bath & kitchen remodel, all interior work.\n",
       "1137688             oti-1 ground floor & basement -  el, me.\n",
       "1137689    add rooms at ground floor/bdrm and full bath r...\n",
       "1137690    emergency order #110837-e.  demolish 1-story i...\n",
       "1137691        replace wall cabinets/replace sink and faucet\n",
       "Name: Description, Length: 1137692, dtype: object"
      ]
     },
     "execution_count": 16,
     "metadata": {},
     "output_type": "execute_result"
    }
   ],
   "source": [
    "df['Description']"
   ]
  },
  {
   "cell_type": "code",
   "execution_count": 4,
   "metadata": {
    "hidden": true
   },
   "outputs": [
    {
     "data": {
      "text/plain": [
       "1 family dwelling    350320\n",
       "apartments           205595\n",
       "office               146329\n",
       "2 family dwelling    132633\n",
       "retail sales          43010\n",
       "Name: Existing Use, dtype: int64"
      ]
     },
     "execution_count": 4,
     "metadata": {},
     "output_type": "execute_result"
    }
   ],
   "source": [
    "df['Existing Use'].value_counts().head(5)"
   ]
  },
  {
   "cell_type": "code",
   "execution_count": 15,
   "metadata": {
    "hidden": true
   },
   "outputs": [],
   "source": [
    "#df['Street Number Suffix'].value_counts()"
   ]
  },
  {
   "cell_type": "markdown",
   "metadata": {},
   "source": [
    "### Form the addresses in their own Series"
   ]
  },
  {
   "cell_type": "code",
   "execution_count": 6,
   "metadata": {},
   "outputs": [],
   "source": [
    "df['Street Number Suffix'] = df['Street Number Suffix'].replace(np.NaN,'')\n",
    "df['Street Suffix'] = df['Street Suffix'].replace(np.NaN,'')"
   ]
  },
  {
   "cell_type": "code",
   "execution_count": 7,
   "metadata": {},
   "outputs": [],
   "source": [
    "\n",
    "df['Address'] = (df['Street Number'].astype('str') + df['Street Number Suffix'].astype('str')\n",
    "                    + ' ' + df['Street Name'].astype('str')  + ' ' + df['Street Suffix'].astype('str'))\n",
    "df['Address'] = df['Address'].apply(lambda x: \" \".join(x.split()))"
   ]
  },
  {
   "cell_type": "code",
   "execution_count": 8,
   "metadata": {},
   "outputs": [
    {
     "data": {
      "text/plain": [
       "0             211 Sutter St\n",
       "1          1170 Guerrero St\n",
       "2           154 Edinburg St\n",
       "3              345 Spear St\n",
       "4              4159 24th St\n",
       "                 ...       \n",
       "1137687        999 Green St\n",
       "1137688     364 Ofarrell St\n",
       "1137689       1323 Palou Av\n",
       "1137690        16 Toland St\n",
       "1137691       2470 Great Hy\n",
       "Name: Address, Length: 1137692, dtype: object"
      ]
     },
     "execution_count": 8,
     "metadata": {},
     "output_type": "execute_result"
    }
   ],
   "source": [
    "df['Address'][df['Street Number Suffix'].notna()] #checking the appended number suffixes"
   ]
  },
  {
   "cell_type": "markdown",
   "metadata": {},
   "source": [
    "### Valid Addresses & Standardizing format for Assessor Join\n",
    "Next, we'll want to verify that the addresses are valid ones. Here is where we'll use the OSM API outlined in JSON and APIs"
   ]
  },
  {
   "cell_type": "code",
   "execution_count": 9,
   "metadata": {},
   "outputs": [],
   "source": [
    "import requests\n",
    "def geocode(address):\n",
    "    params = { 'format'        :'json', \n",
    "               'addressdetails': 1, \n",
    "               'q'             : address}\n",
    "    headers = { 'user-agent'   : 'TDI' }   #  Need to supply a user agent other than the default provided \n",
    "                                           #  by requests for the API to accept the query.\n",
    "    return requests.get('http://nominatim.openstreetmap.org/search', params=params, headers=headers)\n"
   ]
  },
  {
   "cell_type": "code",
   "execution_count": 18,
   "metadata": {},
   "outputs": [
    {
     "data": {
      "text/plain": [
       "(956335, '2737 Divisadero St')"
      ]
     },
     "execution_count": 18,
     "metadata": {},
     "output_type": "execute_result"
    }
   ],
   "source": [
    "r_address = random.randint(0,len(df))\n",
    "r_address, df.loc[r_address, 'Address']"
   ]
  },
  {
   "cell_type": "code",
   "execution_count": 21,
   "metadata": {},
   "outputs": [
    {
     "data": {
      "text/plain": [
       "'2737 Divisadero St San Francisco'"
      ]
     },
     "execution_count": 21,
     "metadata": {},
     "output_type": "execute_result"
    }
   ],
   "source": [
    "df.loc[r_address,'Address']+' San Francisco'"
   ]
  },
  {
   "cell_type": "code",
   "execution_count": 22,
   "metadata": {},
   "outputs": [],
   "source": [
    "addr_dict = geocode(df.loc[r_address,'Address']+' street San Francisco').json()[0]['address']"
   ]
  },
  {
   "cell_type": "code",
   "execution_count": 27,
   "metadata": {},
   "outputs": [
    {
     "data": {
      "text/plain": [
       "'2737 Divisadero Street Pacific Heights San Francisco San Francisco City and County California 94115 United States of America us'"
      ]
     },
     "execution_count": 27,
     "metadata": {},
     "output_type": "execute_result"
    }
   ],
   "source": [
    "' '.join(addr_dict.values())"
   ]
  },
  {
   "cell_type": "markdown",
   "metadata": {},
   "source": [
    "# Uh oh, limited OSM API calls \n",
    "Next, you'll want to maybe setup asynchronous requests with requests futures ...\n",
    "Though the API for nominatim says no threads. This might shut down this approach.\n",
    "\n",
    "Instead, there are a number of alternative hosts for the 'nominatim' API, with free limits up to ~10k per day"
   ]
  },
  {
   "cell_type": "code",
   "execution_count": null,
   "metadata": {},
   "outputs": [],
   "source": [
    "# non-threaded requests... how to do intelligently?\n",
    "# need to cache by address, so calling the function on an address seems reasonable"
   ]
  },
  {
   "cell_type": "markdown",
   "metadata": {},
   "source": [
    "...as well as caching the results maybe by decorating the function call to the API for an address"
   ]
  },
  {
   "cell_type": "markdown",
   "metadata": {},
   "source": [
    "### Try to \n",
    "1. clean up and join, then \n",
    "2. see what the results are? \n",
    "3. make OSM calls for the remaining values/conflicts and join those?"
   ]
  },
  {
   "cell_type": "code",
   "execution_count": null,
   "metadata": {},
   "outputs": [],
   "source": []
  }
 ],
 "metadata": {
  "kernelspec": {
   "display_name": "Python 3",
   "language": "python",
   "name": "python3"
  },
  "language_info": {
   "codemirror_mode": {
    "name": "ipython",
    "version": 3
   },
   "file_extension": ".py",
   "mimetype": "text/x-python",
   "name": "python",
   "nbconvert_exporter": "python",
   "pygments_lexer": "ipython3",
   "version": "3.7.5"
  }
 },
 "nbformat": 4,
 "nbformat_minor": 4
}
